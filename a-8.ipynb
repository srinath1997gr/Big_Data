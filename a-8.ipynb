{
 "cells": [
  {
   "cell_type": "markdown",
   "metadata": {},
   "source": [
    "# <span style=\"color:#3665af\">SECTION 1: Big Graph Processing with GraphX </span>\n",
    "<hr>\n",
    "\n",
    "###### Goal\n",
    "In this section, we will learn how to work with a graph-based distributed computation framework on Spark to read graph data and calculate graph properties including connected components. The datasets include metro.csv, country.csv and metro_country.csv. We want to create a graph that has metro and country as its vertices, where each edge connects a metro to the corresponding country. \n",
    "###### Prerequisites\n",
    "This section has the following dependencies:\n",
    "- Set up a small cluster loaded with Spark\n",
    "\n"
   ]
  },
  {
   "cell_type": "markdown",
   "metadata": {},
   "source": [
    "To create your Dataproc Cluster, do the following:\n",
    "1. We are assuming you still have a project in Google Cloud.\n",
    "2. Go to Google Platform Dataproc and create a cluster with a master node (4vCPUs and 100 GB disk size). Two workers (2vCPUs and 100 GB disk size)\n",
    "3. Go to storage and in Browser, create a bucket. Note: you have to choose a unique name for bucket. mybucket_graph as an example for bucket's name and you have to change it to your bucket's name in the instructions below.\n",
    "4. Upload Data_files folder to this bucket \n",
    "5. Connect via SSH to the master node of the cluster"
   ]
  },
  {
   "cell_type": "markdown",
   "metadata": {},
   "source": [
    "Copy the folder from storage bucket to the instance root:\n",
    "    "
   ]
  },
  {
   "cell_type": "markdown",
   "metadata": {},
   "source": [
    "<pre style=\"background-color: #ebece4;padding: 10px;border-left: solid 4px orange;\">\n",
    "gsutil cp -r gs://mybucket_graph/Data_files .\n",
    "</pre>    "
   ]
  },
  {
   "cell_type": "markdown",
   "metadata": {},
   "source": [
    "then if you use \"ls\", you will see this folder in the vm instance root"
   ]
  },
  {
   "cell_type": "markdown",
   "metadata": {},
   "source": [
    "Now Upload the folder to the HDFS Hadoop:\n"
   ]
  },
  {
   "cell_type": "markdown",
   "metadata": {},
   "source": [
    "<pre style=\"background-color: #ebece4;padding: 10px;border-left: solid 4px orange;\">\n",
    "hdfs dfs -mkdir .\n",
    "hdfs dfs -put ./Data_files\n",
    "<pre>"
   ]
  },
  {
   "cell_type": "markdown",
   "metadata": {},
   "source": [
    "Start the Spark Shell:"
   ]
  },
  {
   "cell_type": "markdown",
   "metadata": {},
   "source": [
    "<pre style=\"background-color: #ebece4;padding: 10px;border-left: solid 4px orange;\">\n",
    "spark-shell\n",
    "</pre>"
   ]
  },
  {
   "cell_type": "markdown",
   "metadata": {},
   "source": [
    "Start the Spark Shell with external library such as GraphStream: You should load all library with .jar in Data_files folder"
   ]
  },
  {
   "cell_type": "markdown",
   "metadata": {},
   "source": [
    "<pre style=\"background-color: #ebece4;padding: 10px;border-left: solid 4px orange;\">\n",
    "spark-shell --jars Data_files/jcommon-1.0.16.jar,Data_files/gs-ui-1.2.jar,Data_files/breeze_2.10-0.9.jar,Data_files/pherd-1.0.jar,Data_files/breeze-viz_2.10-0.9.jar,Data_files/jfreechart-1.0.13.jar,Data_files/gs-core-1.2.jar\n",
    "</pre>"
   ]
  },
  {
   "cell_type": "markdown",
   "metadata": {},
   "source": [
    "###### Import the GraphX library\n",
    "Set log level to error, suppress info and warn messages:"
   ]
  },
  {
   "cell_type": "markdown",
   "metadata": {},
   "source": [
    "<pre style=\"background-color: #ebece4;padding: 10px;border-left: solid 4px orange;\">\n",
    "import org.apache.log4j.Logger\n",
    "import org.apache.log4j.Level\n",
    "Logger.getLogger(\"org\").setLevel(Level.ERROR)\n",
    "Logger.getLogger(\"akka\").setLevel(Level.ERROR)\n",
    "</pre>"
   ]
  },
  {
   "cell_type": "markdown",
   "metadata": {},
   "source": [
    "Import the Spark's GraphX and RDD libraries along with Scala's source library:"
   ]
  },
  {
   "cell_type": "markdown",
   "metadata": {},
   "source": [
    "<pre style=\"background-color: #ebece4;padding: 10px;border-left: solid 4px orange;\">\n",
    "import org.apache.spark.graphx._\n",
    "import org.apache.spark.rdd._\n",
    "import scala.io.Source\n",
    "</pre>"
   ]
  },
  {
   "cell_type": "markdown",
   "metadata": {},
   "source": [
    "First print first 5 lines of each file to check the input data:"
   ]
  },
  {
   "cell_type": "markdown",
   "metadata": {},
   "source": [
    "<pre style=\"background-color: #ebece4;padding: 10px;border-left: solid 4px orange;\">\n",
    "Source.fromFile(\"./Data_files/metro.csv\").getLines().take(5).foreach(println)\n",
    "</pre>"
   ]
  },
  {
   "cell_type": "markdown",
   "metadata": {},
   "source": [
    "Output:\n",
    "\n",
    "#metro_id,name,population\n",
    "\n",
    "1,Tokyo,36923000\n",
    "2,Seoul,25620000\n",
    "3,Shanghai,24750000\n",
    "4,Guangzhou,23900000"
   ]
  },
  {
   "cell_type": "markdown",
   "metadata": {},
   "source": [
    "<pre style=\"background-color: #ebece4;padding: 10px;border-left: solid 4px orange;\">\n",
    "Source.fromFile(\"./Data_files/country.csv\").getLines().take(5).foreach(println)\n",
    "</pre>"
   ]
  },
  {
   "cell_type": "markdown",
   "metadata": {},
   "source": [
    "Output:\n",
    "#country_id,name\n",
    "\n",
    "1,Japan\n",
    "2,South Korea\n",
    "3,China\n",
    "4,India"
   ]
  },
  {
   "cell_type": "markdown",
   "metadata": {},
   "source": [
    "<pre style=\"background-color: #ebece4;padding: 10px;border-left: solid 4px orange;\">\n",
    "Source.fromFile(\"./Data_files/metro_country.csv\").getLines().take(5).foreach(println)\n",
    "</pre>"
   ]
  },
  {
   "cell_type": "markdown",
   "metadata": {},
   "source": [
    "Output:\n",
    "\n",
    "#metro_id,country_id\n",
    "\n",
    "1,1\n",
    "2,2\n",
    "3,3\n",
    "4,3"
   ]
  },
  {
   "cell_type": "markdown",
   "metadata": {},
   "source": [
    "Create case classes for the places (metros and countries):"
   ]
  },
  {
   "cell_type": "markdown",
   "metadata": {},
   "source": [
    "<pre style=\"background-color: #ebece4;padding: 10px;border-left: solid 4px orange;\">\n",
    "class PlaceNode(val name: String) extends Serializable\n",
    "<pre>"
   ]
  },
  {
   "cell_type": "markdown",
   "metadata": {},
   "source": [
    "output: defined class PlaceNode"
   ]
  },
  {
   "cell_type": "markdown",
   "metadata": {},
   "source": [
    "<pre style=\"background-color: #ebece4;padding: 10px;border-left: solid 4px orange;\">\n",
    "case class Metro(override val name: String, population: Int) extends PlaceNode(name)\n",
    "</pre>"
   ]
  },
  {
   "cell_type": "markdown",
   "metadata": {},
   "source": [
    "<pre style=\"background-color: #ebece4;padding: 10px;border-left: solid 4px orange;\">\n",
    "case class Country(override val name: String) extends PlaceNode(name)\n",
    "</pre>"
   ]
  },
  {
   "cell_type": "markdown",
   "metadata": {},
   "source": [
    "Read the comma delimited text file metros.csv into an RDD of Metro vertices:"
   ]
  },
  {
   "cell_type": "markdown",
   "metadata": {},
   "source": [
    "<pre style=\"background-color: #ebece4;padding: 10px;border-left: solid 4px orange;\">\n",
    "val metros: RDD[(VertexId, PlaceNode)] =\n",
    "sc.textFile(\"./Data_files/metro.csv\").\n",
    "filter(! _.startsWith(\"#\")).\n",
    "map {line =>\n",
    "val row = line split ','\n",
    "(0L + row(0).toInt, Metro(row(1), row(2).toInt))\n",
    "}\n",
    "</pre>"
   ]
  },
  {
   "cell_type": "markdown",
   "metadata": {},
   "source": [
    "output: metros: org.apache.spark.rdd.RDD[(org.apache.spark.graphx.VertexId, PlaceNode)] = MapPartitionsRDD[3] at map at <console>:39"
   ]
  },
  {
   "cell_type": "markdown",
   "metadata": {},
   "source": [
    "Read the comma delimited text file country.csv into an RDD of Country vertices; ignore\n",
    "lines that start with # and map the columns to: id, Country(name). Add 100 to the\n",
    "country indexes so they are distinguished from the metro indexes."
   ]
  },
  {
   "cell_type": "markdown",
   "metadata": {},
   "source": [
    "<pre style=\"background-color: #ebece4;padding: 10px;border-left: solid 4px orange;\">\n",
    "val countries: RDD[(VertexId, PlaceNode)] =\n",
    "sc.textFile(\"./Data_files/country.csv\").\n",
    "filter(! _.startsWith(\"#\")).\n",
    "map {line =>\n",
    "val row = line split ','\n",
    "(100L + row(0).toInt, Country(row(1)))\n",
    "}\n",
    "</pre>"
   ]
  },
  {
   "cell_type": "markdown",
   "metadata": {},
   "source": [
    "###### Import the edges \n",
    "\n",
    "Read the comma delimited text file metro_country.tsv into an RDD[Edge[Int]] collection.\n",
    "Remember to add 100 to the countries' vertex id"
   ]
  },
  {
   "cell_type": "markdown",
   "metadata": {},
   "source": [
    "<pre style=\"background-color: #ebece4;padding: 10px;border-left: solid 4px orange;\">\n",
    "val mclinks: RDD[Edge[Int]] =\n",
    "sc.textFile(\"./Data_files/metro_country.csv\").\n",
    "filter(! _.startsWith(\"#\")).\n",
    "map {line =>\n",
    "val row = line split ','\n",
    "Edge(0L + row(0).toInt, 100L + row(1).toInt, 1)\n",
    "}\n",
    "</pre>"
   ]
  },
  {
   "cell_type": "markdown",
   "metadata": {},
   "source": [
    "###### Create the Graph\n",
    "\n",
    "Concatenate the two sets of nodes into a single RDD."
   ]
  },
  {
   "cell_type": "markdown",
   "metadata": {},
   "source": [
    "<pre style=\"background-color: #ebece4;padding: 10px;border-left: solid 4px orange;\">\n",
    "val nodes = metros ++ countries\n",
    "</pre>\n",
    "<pre style=\"background-color: #ebece4;padding: 10px;border-left: solid 4px orange;\">\n",
    "val metrosGraph = Graph(nodes, mclinks)\n",
    "</pre>\n"
   ]
  },
  {
   "cell_type": "markdown",
   "metadata": {},
   "source": [
    "<div style=\"width:100%;\">\n",
    "    <div style=\"width:15%;float:left;font-size:20px;background-color:#557aba;color:#eff3f9;padding:6px;font-wight:bold;text-align:center;\">\n",
    "    Question 1\n",
    "    </div>\n",
    "    <div style=\"width:85%;float:right;font-size:16px;background-color:#dce4f2;font-wight:normal;color:black;padding:6px;\">\n",
    "   \n",
    "   Print the first 5 vertices.\n",
    "Hint:  metrosGraph.vertices.take(5)\n",
    "    </div>\n",
    "</div>"
   ]
  },
  {
   "cell_type": "raw",
   "metadata": {},
   "source": [
    "## Place your code here\n",
    "metrosGraph.vertices.take(5).foreach(println)"
   ]
  },
  {
   "cell_type": "raw",
   "metadata": {},
   "source": [
    "## Place your answer here\n",
    "\n",
    "(52,Metro(Ankara,5150072))                                                      \n",
    "(56,Metro(Boston,4732161))\n",
    "(4,Metro(Guangzhou,23900000))\n",
    "(112,Country(United Kingdom))\n",
    "(120,Country(Colombia))"
   ]
  },
  {
   "cell_type": "markdown",
   "metadata": {},
   "source": [
    "<div style=\"width:100%;\">\n",
    "    <div style=\"width:15%;float:left;font-size:20px;background-color:#557aba;color:#eff3f9;padding:6px;font-wight:bold;text-align:center;\">\n",
    "    Question 2\n",
    "    </div>\n",
    "    <div style=\"width:85%;float:right;font-size:16px;background-color:#dce4f2;font-wight:normal;color:black;padding:6px;\">\n",
    "   \n",
    "   Print the first 5 edges.\n",
    "\n",
    "   </div>\n",
    "</div>"
   ]
  },
  {
   "cell_type": "raw",
   "metadata": {},
   "source": [
    "## Place your code here\n",
    "\n",
    "metrosGraph.edges.take(5).foreach(println)\n"
   ]
  },
  {
   "cell_type": "raw",
   "metadata": {},
   "source": [
    "## Place your answer Here\n",
    "Edge(1,101,1)\n",
    "Edge(2,102,1)\n",
    "Edge(3,103,1)\n",
    "Edge(4,103,1)\n",
    "Edge(5,104,1)"
   ]
  },
  {
   "cell_type": "markdown",
   "metadata": {},
   "source": [
    "<div style=\"width:100%;\">\n",
    "    <div style=\"width:15%;float:left;font-size:20px;background-color:#557aba;color:#eff3f9;padding:6px;font-wight:bold;text-align:center;\">\n",
    "    Question 3\n",
    "    </div>\n",
    "    <div style=\"width:85%;float:right;font-size:16px;background-color:#dce4f2;font-wight:normal;color:black;padding:6px;\">\n",
    "   \n",
    "   Count the number of vertices and edges \n",
    "   \n",
    "   Hint: metrosGraph.numEdges\n",
    "\n",
    "   </div>\n",
    "</div>"
   ]
  },
  {
   "cell_type": "raw",
   "metadata": {},
   "source": [
    "## Place your code here\n",
    "val numVertices = metrosGraph.numVertices\n",
    "val numEdges = metrosGraph.numEdges\n",
    "\n",
    "println(s\"Number of vertices: $numVertices\")\n",
    "println(s\"Number of edges: $numEdges\")\n"
   ]
  },
  {
   "cell_type": "raw",
   "metadata": {},
   "source": [
    "## Place your answer Here\n",
    "\n",
    "Number of vertices: 93\n",
    "Number of edges: 65"
   ]
  },
  {
   "cell_type": "markdown",
   "metadata": {},
   "source": [
    "<div style=\"width:100%;\">\n",
    "    <div style=\"width:15%;float:left;font-size:20px;background-color:#557aba;color:#eff3f9;padding:6px;font-wight:bold;text-align:center;\">\n",
    "    Question 4\n",
    "    </div>\n",
    "    <div style=\"width:85%;float:right;font-size:16px;background-color:#dce4f2;font-wight:normal;color:black;padding:6px;\">\n",
    "   \n",
    "   Create a new graph and add the continents. Concatenate the three sets of nodes into a single RDD. Concatenate the two sets of edges: Report the number of edges and vertices for the new graph\n",
    "    </div>\n",
    "</div> "
   ]
  },
  {
   "cell_type": "raw",
   "metadata": {},
   "source": [
    "## Place your code here\n",
    "\n",
    "case class Continent(override val name: String) extends PlaceNode(name)\n",
    "\n",
    "val continents: RDD[(VertexId, PlaceNode)] =\n",
    "  sc.textFile(\"./Data_files/continent.csv\").\n",
    "  filter(! _.startsWith(\"#\")).\n",
    "  map {line =>\n",
    "    val row = line split ','\n",
    "    (200L + row(0).toInt, Continent(row(1)))\n",
    "  }\n",
    "\n",
    "val cclinks: RDD[Edge[Int]] =\n",
    "  sc.textFile(\"./Data_files/country_continent.csv\").\n",
    "  filter(! _.startsWith(\"#\")).\n",
    "  map {line =>\n",
    "    val row = line split ','\n",
    "    Edge(100L + row(0).toInt, 200L + row(1).toInt, 1)\n",
    "  }\n",
    "\n",
    "val allNodes = metros ++ countries ++ continents\n",
    "\n",
    "val allEdges = mclinks ++ cclinks\n",
    "\n",
    "val fullGraph = Graph(allNodes, allEdges)\n",
    "\n",
    "val numVerticesFull = fullGraph.numVertices\n",
    "val numEdgesFull = fullGraph.numEdges\n",
    "\n",
    "println(s\"Number of vertices in the new graph: $numVerticesFull\")\n",
    "println(s\"Number of edges in the new graph: $numEdgesFull\")\n"
   ]
  },
  {
   "cell_type": "raw",
   "metadata": {},
   "source": [
    "## Place your answer Here\n",
    "\n",
    "Number of vertices in the new graph: 100\n",
    "Number of edges in the new graph: 93"
   ]
  },
  {
   "cell_type": "markdown",
   "metadata": {},
   "source": [
    "---\n",
    "Import the graph stream library: "
   ]
  },
  {
   "cell_type": "markdown",
   "metadata": {},
   "source": [
    "<pre style=\"background-color: #ebece4;padding: 10px;border-left: solid 4px orange;\">\n",
    "import org.graphstream.graph.implementations._\n",
    "</pre>"
   ]
  },
  {
   "cell_type": "markdown",
   "metadata": {},
   "source": [
    "Create a new instance of SingleGraph:"
   ]
  },
  {
   "cell_type": "markdown",
   "metadata": {},
   "source": [
    "<pre style=\"background-color: #ebece4;padding: 10px;border-left: solid 4px orange;\">\n",
    "val countriesGraph = Graph(nodes, mclinks)\n",
    "</pre>\n",
    "\n",
    "<pre style=\"background-color: #ebece4;padding: 10px;border-left: solid 4px orange;\">\n",
    "val graph: SingleGraph = new SingleGraph(\"countriesGraph\")\n",
    "</pre>"
   ]
  },
  {
   "cell_type": "markdown",
   "metadata": {},
   "source": [
    "Setup the visual Attributes:"
   ]
  },
  {
   "cell_type": "markdown",
   "metadata": {},
   "source": [
    "<pre style=\"background-color: #ebece4;padding: 10px;border-left: solid 4px orange;\">\n",
    "val stylesheet = \"\"\"\n",
    "graph {\n",
    "    fill-color: white;\n",
    "}\n",
    "\n",
    "node {\n",
    "    size: 20px, 20px;\n",
    "    shape: box;    \n",
    "    fill-color: black;\n",
    "    stroke-mode: plain;\n",
    "    stroke-color: red;\n",
    "    text-visibility-mode:hidden;\n",
    "}\n",
    "\n",
    "edge {\n",
    "    shape:line;\n",
    "    fill-color:red;\n",
    "    stroke-color:red;\n",
    "}\n",
    "\"\"\"\n",
    "\n",
    "graph.addAttribute(\"ui.stylesheet\", stylesheet)\n",
    "graph.addAttribute(\"ui.quality\")\n",
    "graph.addAttribute(\"ui.antialias\")</pre>"
   ]
  },
  {
   "cell_type": "markdown",
   "metadata": {},
   "source": [
    "Load the GraphX vertices into GraphStream nodes:"
   ]
  },
  {
   "cell_type": "markdown",
   "metadata": {},
   "source": [
    "<pre style=\"background-color: #ebece4;padding: 10px;border-left: solid 4px orange;\">\n",
    "for ((id:VertexId, place:PlaceNode) &lt;- countriesGraph.vertices.collect())\n",
    "{\n",
    "val node = graph.addNode(id.toString).asInstanceOf[SingleNode]\n",
    "node.addAttribute(\"name\", place.name)\n",
    "node.addAttribute(\"ui.label\", place.name)\n",
    "if (place.isInstanceOf[Metro])\n",
    "node.addAttribute(\"ui.class\", \"metro\")\n",
    "else if(place.isInstanceOf[Country])\n",
    "node.addAttribute(\"ui.class\", \"country\")\n",
    "else if(place.isInstanceOf[Continent])\n",
    "node.addAttribute(\"ui.class\", \"continent\")\n",
    "}</pre>"
   ]
  },
  {
   "cell_type": "markdown",
   "metadata": {},
   "source": [
    "Load GraphX edges: "
   ]
  },
  {
   "cell_type": "markdown",
   "metadata": {},
   "source": [
    "<pre style=\"background-color: #ebece4;padding: 10px;border-left: solid 4px orange;\">\n",
    "for (Edge(x,y,_) &lt;- countriesGraph.edges.collect()) {\n",
    "graph.addEdge(x.toString ++ y.toString, x.toString, y.toString,\n",
    "true).asInstanceOf[AbstractEdge]\n",
    "}</pre>"
   ]
  },
  {
   "cell_type": "markdown",
   "metadata": {},
   "source": [
    "<div style=\"width:100%;\">\n",
    "    <div style=\"width:15%;float:left;font-size:20px;background-color:#557aba;color:#eff3f9;padding:6px;font-wight:bold;text-align:center;\">\n",
    "    Question 5\n",
    "    </div>\n",
    "    <div style=\"width:85%;float:right;font-size:16px;background-color:#dce4f2;font-wight:normal;color:black;padding:6px;\">\n",
    "   \n",
    "   Visualize the graph and report the num of connected components.\n",
    "\n",
    "   Save your graph as an image:\n",
    "\n",
    "\n",
    "   <pre style=\"background-color: #ebece4;padding: 10px;border-left: solid 4px orange;\">\n",
    "import org.graphstream.stream.file._\n",
    "\n",
    "val out = new FileSinkImages(FileSinkImages.OutputType.PNG, FileSinkImages.Resolutions.HD720)\n",
    "\n",
    "out.setLayoutPolicy(FileSinkImages.LayoutPolicy.COMPUTED_FULLY_AT_NEW_IMAGE);\n",
    "\n",
    "out.writeAll(graph, \"image.png\")\n",
    "    </pre>\n",
    "\n",
    "   </div>\n",
    "    <div style=\"width:85%;float:right;font-size:16px;background-color:#dce4f2;font-wight:normal;color:black;padding:6px;\">\n",
    "        This will save your graph at /home/[username]/image.png. Use the \"Download File\" button to download this image. \n",
    "    </div>\n",
    "\n",
    "</div>\n"
   ]
  },
  {
   "cell_type": "code",
   "execution_count": 1,
   "metadata": {},
   "outputs": [
    {
     "data": {
      "image/png": "[encoded data removed]",
      "text/plain": [
       "<IPython.core.display.Image object>"
      ]
     },
     "execution_count": 1,
     "metadata": {},
     "output_type": "execute_result"
    }
   ],
   "source": [
    "from IPython.display import Image\n",
    "Image(filename='image.png')"
   ]
  },
  {
   "cell_type": "raw",
   "metadata": {},
   "source": [
    "## Place your answer Here\n",
    "\n",
    "Number of connected components: 28 this can be obtained by seeing the graph."
   ]
  },
  {
   "cell_type": "markdown",
   "metadata": {},
   "source": [
    "<hr style=\"border-top: 5px solid purple; margin-top: 1px; margin-bottom: 1px\"></hr>"
   ]
  },
  {
   "cell_type": "markdown",
   "metadata": {},
   "source": [
    "***\n",
    "\n",
    "# <span style=\"color:#3665af\">SECTION 2: Graph Database: Neo4j </span>\n",
    "\n",
    "***\n",
    "\n",
    "\n",
    "###### Goal\n",
    "In this section, we will learn how to work with a graph database.\n",
    "###### Prerequisites\n",
    "Install Neo4j:\n",
    "\n",
    "Downloading, Installing, and Running Neo4j at:\n",
    "\n",
    "https://neo4j.com/download-center/#desktop\n"
   ]
  },
  {
   "cell_type": "markdown",
   "metadata": {},
   "source": [
    "Create a sample Graph (as an example): Attribute of node is toyNode and Attribute of relationship is ToyRelationship \n",
    "\n",
    "N1 - e1 -> N2\n",
    "\n",
    "N2 - e2 -> N3\n",
    "\n",
    "N2 - e3 -> N4\n",
    "\n",
    "N1 - e4 -> N5\n",
    "\n",
    "N4 - e5 -> N5"
   ]
  },
  {
   "cell_type": "markdown",
   "metadata": {},
   "source": [
    "<pre style=\"background-color: #ebece4;padding: 10px;border-left: solid 4px orange;\">\n",
    "create (N1:ToyNode {name: 'Tom'}) - [:ToyRelation {relationship: 'knows'}] -&gt; (N2:ToyNode {name: 'Harry'}),\n",
    "(N2) - [:ToyRelation {relationship: 'co-worker'}] -&gt; (N3:ToyNode {name: 'Julian', job: 'plumber'}),\n",
    "(N2) - [:ToyRelation {relationship: 'wife'}] -&gt; (N4:ToyNode {name: 'Michele', job: 'accountant'}),\n",
    "(N1) - [:ToyRelation {relationship: 'wife'}] -&gt; (N5:ToyNode {name: 'Josephine', job: 'manager'}),\n",
    "(N4) - [:ToyRelation {relationship: 'friend'}] -&gt; (N5)\n",
    ";</pre>"
   ]
  },
  {
   "cell_type": "markdown",
   "metadata": {},
   "source": [
    "Display the graph:"
   ]
  },
  {
   "cell_type": "markdown",
   "metadata": {},
   "source": [
    "<pre style=\"background-color: #ebece4;padding: 10px;border-left: solid 4px orange;\">\n",
    "match (n:ToyNode)-[r]-(m) return n, r, m"
   ]
  },
  {
   "cell_type": "markdown",
   "metadata": {},
   "source": [
    "This is how we select an existing single ToyNode node:"
   ]
  },
  {
   "cell_type": "markdown",
   "metadata": {},
   "source": [
    "<pre style=\"background-color: #ebece4;padding: 10px;border-left: solid 4px orange;\">\n",
    "match (n:ToyNode {name:'Julian'}) return n"
   ]
  },
  {
   "cell_type": "markdown",
   "metadata": {},
   "source": [
    "Delete only ToyNode nodes which have no edges:"
   ]
  },
  {
   "cell_type": "markdown",
   "metadata": {},
   "source": [
    "<pre style=\"background-color: #ebece4;padding: 10px;border-left: solid 4px orange;\">\n",
    "match (n:ToyNode) delete n"
   ]
  },
  {
   "cell_type": "markdown",
   "metadata": {},
   "source": [
    "Modify information of a Node:"
   ]
  },
  {
   "cell_type": "markdown",
   "metadata": {},
   "source": [
    "<pre style=\"background-color: #ebece4;padding: 10px;border-left: solid 4px orange;\">\n",
    "match (n:ToyNode) where n.name = 'Harry' set n.job = 'drummer'\n",
    "\n",
    "match (n:ToyNode) where n.name = 'Harry' set n.job = n.job + ['lead guitarist'] </pre>"
   ]
  },
  {
   "cell_type": "markdown",
   "metadata": {},
   "source": [
    "In the Neo4j Desktop active DBMS, click on three dot and hit Open folder -> import, then copy and paste the test.csv file there.\n",
    "Load data from csv file test (source, target, distance):"
   ]
  },
  {
   "cell_type": "markdown",
   "metadata": {},
   "source": [
    "<pre style=\"background-color: #ebece4;padding: 10px;border-left: solid 4px orange;\">\n",
    "LOAD CSV WITH HEADERS FROM \"file:///test.csv\" AS line\n",
    "\n",
    "MERGE (n:MyNode {Name:line.Source})\n",
    "\n",
    "MERGE (m:MyNode {Name:line.Target})\n",
    "\n",
    "MERGE (n) -[:TO {dist:line.distance}]-&gt; (m)"
   ]
  },
  {
   "cell_type": "markdown",
   "metadata": {},
   "source": [
    "<div style=\"width:100%;\">\n",
    "    <div style=\"width:15%;float:left;font-size:20px;background-color:#557aba;color:#eff3f9;padding:6px;font-wight:bold;text-align:center;\">\n",
    "    Question 1\n",
    "    </div>\n",
    "    <div style=\"width:85%;float:right;font-size:16px;background-color:#dce4f2;font-wight:normal;color:black;padding:6px;\">\n",
    "   Count the number of vertices\n",
    "\n",
    "   </div>\n",
    "</div>\n"
   ]
  },
  {
   "cell_type": "raw",
   "metadata": {},
   "source": [
    "## Place your code here\n",
    "\n",
    "MATCH (n:MyNode)\n",
    "RETURN count(n)\n"
   ]
  },
  {
   "cell_type": "raw",
   "metadata": {},
   "source": [
    "## Place your answer Here\n",
    "\n",
    "11"
   ]
  },
  {
   "cell_type": "markdown",
   "metadata": {},
   "source": [
    "Finding triangles:"
   ]
  },
  {
   "cell_type": "markdown",
   "metadata": {},
   "source": [
    "<pre style=\"background-color: #ebece4;padding: 10px;border-left: solid 4px orange;\">\n",
    "match (a)-[:TO]-&gt;(b)-[:TO]-&gt;(c)-[:TO]-&gt;(a)\n",
    "return distinct a, b, c\n",
    "</pre>"
   ]
  },
  {
   "cell_type": "markdown",
   "metadata": {},
   "source": [
    "Finding paths between some selcted nodes:"
   ]
  },
  {
   "cell_type": "markdown",
   "metadata": {},
   "source": [
    "<pre style=\"background-color: #ebece4;padding: 10px;border-left: solid 4px orange;\">\n",
    "match p=(a)-[:TO*]-(c)\n",
    "where a.Name='H' and c.Name='P'\n",
    "return p limit 1</pre>"
   ]
  },
  {
   "cell_type": "markdown",
   "metadata": {},
   "source": [
    "Find the shortest path between selected nodes:"
   ]
  },
  {
   "cell_type": "markdown",
   "metadata": {},
   "source": [
    "<pre style=\"background-color: #ebece4;padding: 10px;border-left: solid 4px orange;\">\n",
    "match p=shortestPath((a)-[:TO*]-(c))\n",
    "where a.Name='A' and c.Name='P'\n",
    "return p, length(p) limit 1</pre>"
   ]
  },
  {
   "cell_type": "markdown",
   "metadata": {},
   "source": [
    "Find all Shortest Paths with Path Conditions:"
   ]
  },
  {
   "cell_type": "markdown",
   "metadata": {},
   "source": [
    "<pre style=\"background-color: #ebece4;padding: 10px;border-left: solid 4px orange;\">\n",
    "MATCH p = allShortestPaths((source)-[:TO*]->(destination))\n",
    "WHERE source.Name='A' AND destination.Name = 'P' AND LENGTH(p) > 5\n",
    "RETURN [n IN NODES(p) | n.Name] AS Paths, LENGTH(p) AS PathLength\n",
    "</pre>"
   ]
  },
  {
   "cell_type": "markdown",
   "metadata": {},
   "source": [
    "Find degree histogram of the graph"
   ]
  },
  {
   "cell_type": "markdown",
   "metadata": {},
   "source": [
    "<pre style=\"background-color: #ebece4;padding: 10px;border-left: solid 4px orange;\">\n",
    "match (n:MyNode)-[r]-()\n",
    "with n as nodes, count(distinct r) as degree\n",
    "return degree, count(nodes) order by degree asc\n",
    "</pre>"
   ]
  },
  {
   "cell_type": "markdown",
   "metadata": {},
   "source": [
    "***\n",
    "\n",
    "<div style=\"font-size:20px;background-color:#0B6713;color:#F1E6E7;padding:10px;\">\n",
    "    TO-DO 1:\n",
    "</div>\n",
    "   \n",
    " #### Load assignment.csv file and follow these instructions in prepration for answering the following questions:\n",
    "\n",
    "   "
   ]
  },
  {
   "cell_type": "markdown",
   "metadata": {},
   "source": [
    "1. Define the node type to be TrialGene;\n",
    "2. Add a Name property to the source node and assign the OFFICIAL_SYMBOL_A column values to it;\n",
    "3. Add a Name property to the target node and assign the OFFICIAL_SYMBOL_B column values to it;\n",
    "4. Define the edge type to be AssociationType;\n",
    "5. Give each edge a property named AssociatedWith and assign the content of the column in the dataset with the heading EXPERIMENTAL_SYSTEM"
   ]
  },
  {
   "cell_type": "markdown",
   "metadata": {},
   "source": [
    "<div style=\"width:100%;\">\n",
    "    <div style=\"width:15%;float:left;font-size:20px;background-color:#557aba;color:#eff3f9;padding:6px;font-wight:bold;text-align:center;\">\n",
    "    Question 2\n",
    "    </div>\n",
    "    <div style=\"width:85%;float:right;font-size:16px;background-color:#dce4f2;font-wight:normal;color:black;padding:6px;\">\n",
    "  Count the number of vertices and edges:\n",
    "\n",
    "   </div>\n",
    "</div>"
   ]
  },
  {
   "cell_type": "raw",
   "metadata": {},
   "source": [
    "## Place your code here\n",
    "\n",
    "LOAD CSV WITH HEADERS FROM \"file:///assignment.csv\" AS row\n",
    "MERGE (source:TrialGene {Name: row.OFFICIAL_SYMBOL_A})\n",
    "MERGE (target:TrialGene {Name: row.OFFICIAL_SYMBOL_B})\n",
    "MERGE (source)-[assoc:AssociationType {AssociatedWith: row.EXPERIMENTAL_SYSTEM}]->(target)\n",
    "\n",
    "\n",
    "MATCH (n:TrialGene)\n",
    "RETURN count(n)\n",
    "\n",
    "MATCH ()-[e:AssociationType]->()\n",
    "RETURN count(e)\n"
   ]
  },
  {
   "cell_type": "raw",
   "metadata": {},
   "source": [
    "## Place your answer Here\n",
    "\n",
    "The number of vertices = 9656\n",
    "The number of edges = 46621"
   ]
  },
  {
   "cell_type": "markdown",
   "metadata": {},
   "source": [
    "<div style=\"width:100%;\">\n",
    "    <div style=\"width:15%;float:left;font-size:20px;background-color:#557aba;color:#eff3f9;padding:6px;font-wight:bold;text-align:center;\">\n",
    "    Question 3\n",
    "    </div>\n",
    "    <div style=\"width:85%;float:right;font-size:16px;background-color:#dce4f2;font-wight:normal;color:black;padding:6px;\">\n",
    "  Count how many shortest paths there are between the node named ‘BRCA1’ and the node named ‘NBR1’\n",
    "\n",
    "   </div>\n",
    "</div>"
   ]
  },
  {
   "cell_type": "raw",
   "metadata": {},
   "source": [
    "## Place your code here\n",
    "MATCH p=allShortestPaths((a:TrialGene {Name: 'BRCA1'})-[*]-(b:TrialGene {Name: 'NBR1'}))\n",
    "RETURN count(p)"
   ]
  },
  {
   "cell_type": "raw",
   "metadata": {},
   "source": [
    "## Place your answer Here\n",
    "\n",
    "9"
   ]
  },
  {
   "cell_type": "markdown",
   "metadata": {},
   "source": [
    "<hr style=\"border-top: 5px solid purple; margin-top: 1px; margin-bottom: 1px\"></hr>"
   ]
  }
 ],
 "metadata": {
  "kernelspec": {
   "display_name": "Python 3 (ipykernel)",
   "language": "python",
   "name": "python3"
  },
  "language_info": {
   "codemirror_mode": {
    "name": "ipython",
    "version": 3
   },
   "file_extension": ".py",
   "mimetype": "text/x-python",
   "name": "python",
   "nbconvert_exporter": "python",
   "pygments_lexer": "ipython3",
   "version": "3.11.7"
  }
 },
 "nbformat": 4,
 "nbformat_minor": 4
}
