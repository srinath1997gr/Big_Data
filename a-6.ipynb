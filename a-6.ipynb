{
 "cells": [
  {
   "cell_type": "markdown",
   "metadata": {},
   "source": [
    "<div style=\"font-size:26px;color:#F1F8FC;background-color:#0095EA;padding:10px;\">Exersice 1 - Tweet analysis </div><br>\n"
   ]
  },
  {
   "cell_type": "markdown",
   "metadata": {},
   "source": [
    "Before we start with this part of the assignment, we will need to run the python program *tootread.py* that reads the tweets and streams those to a local port.\n",
    "\n",
    "On a text editor open the file *tootread.py*. We need to configure the following parameters. You should obtain the value for each parameter from your Mastodon configuration (review the guide).\n",
    "\n",
    "<pre style=\"background-color: #ebece4;padding: 10px;border-left: solid 4px orange;\">\n",
    "# Set up your credentials\n",
    "# add your credentials between ''\n",
    "consumer_key=''\n",
    "consumer_secret=''\n",
    "access_token =''\n",
    "access_secret=''\n",
    "</pre>\n",
    "\n",
    "\n",
    "Also, you might need to change this port in case you receive a *'port xxxx is already in use'* error.\n",
    "<pre style=\"background-color: #ebece4;padding: 10px;border-left: solid 4px orange;\">\n",
    "port = 5555\n",
    "</pre>\n",
    "\n",
    "\n",
    "**Open a new shell terminal** and execute the following commands.<br>\n",
    "*We assume you have your downloaded files for this assignment at **~/assignment**, if you are using another path, replace it below.*\n",
    "<pre style=\"background-color: #ebece4;padding: 10px;border-left: solid 4px orange;\">\n",
    "cd ~/assignment <br>\n",
    "python3 tootread.py\n",
    "</pre>\n",
    "\n",
    "Once you have this running, return to the notebook and keep going. \n"
   ]
  },
  {
   "cell_type": "code",
   "execution_count": 1,
   "metadata": {},
   "outputs": [],
   "source": [
    "import findspark"
   ]
  },
  {
   "cell_type": "markdown",
   "metadata": {},
   "source": [
    "Update the spark path in the folloiwng cell"
   ]
  },
  {
   "cell_type": "code",
   "execution_count": 2,
   "metadata": {},
   "outputs": [],
   "source": [
    "findspark.init('/home/srinath/Downloads/spark')"
   ]
  },
  {
   "cell_type": "code",
   "execution_count": 3,
   "metadata": {},
   "outputs": [],
   "source": [
    "# May cause deprecation warnings, safe to ignore, they aren't errors\n",
    "from pyspark import SparkContext\n",
    "from pyspark.streaming import StreamingContext"
   ]
  },
  {
   "cell_type": "code",
   "execution_count": 17,
   "metadata": {},
   "outputs": [],
   "source": [
    "totalTweetCount = 0 #stores the number of tweets\n",
    "totalCharacters = 0 #stores the total length of all tweets"
   ]
  },
  {
   "cell_type": "code",
   "execution_count": 32,
   "metadata": {},
   "outputs": [],
   "source": [
    "# Can only run this once. restart your kernel for any errors.\n",
    "#to do so click on Kernel, Resrart & Clear Output\n",
    "sc = SparkContext()"
   ]
  },
  {
   "cell_type": "code",
   "execution_count": 19,
   "metadata": {},
   "outputs": [],
   "source": [
    "ssc = StreamingContext(sc, 5 )"
   ]
  },
  {
   "cell_type": "markdown",
   "metadata": {},
   "source": [
    "- **Notes**: \n",
    "    - If you change the port number on tootread.py, you need to update it here too.<br>\n",
    "    - Both port numbers (here and tootread.py) should match. <br>\n",
    "    - You might need to restart the Kernel before continuing.<br>\n",
    "    - **Make sure your *tootread.py* app is running before continue.**"
   ]
  },
  {
   "cell_type": "code",
   "execution_count": 20,
   "metadata": {},
   "outputs": [],
   "source": [
    "tweets = ssc.socketTextStream(\"127.0.0.1\", 5558)"
   ]
  },
  {
   "cell_type": "code",
   "execution_count": 21,
   "metadata": {},
   "outputs": [],
   "source": [
    "lengths = tweets.map(lambda tweet: len(tweet)) #get the length of tweets"
   ]
  },
  {
   "cell_type": "code",
   "execution_count": 22,
   "metadata": {},
   "outputs": [],
   "source": [
    "def updateCounts(rdd):\n",
    "    try:\n",
    "        count = rdd.count()\n",
    "        if(count>0):\n",
    "            global totalTweetCount\n",
    "            global totalCharacters\n",
    "            \n",
    "            totalTweetCount += count\n",
    "            totalCharacters += rdd.reduce(lambda len1,len2: len1+len2)\n",
    "            \n",
    "        if (totalTweetCount>0):\n",
    "            print('Total Tweets: ' + str(totalTweetCount) + '\\n' +\n",
    "                  'Total characters: ' + str(totalCharacters) + '\\n'\n",
    "                  'Average Length: ' + str(totalCharacters/totalTweetCount)+\n",
    "                 '\\n------------------------------\\n')\n",
    "        else:\n",
    "            print('nothing yet')\n",
    "        \n",
    "    except Exception as ex:\n",
    "        print(ex)"
   ]
  },
  {
   "cell_type": "code",
   "execution_count": 23,
   "metadata": {},
   "outputs": [],
   "source": [
    "lengths.foreachRDD(lambda rdd: updateCounts(rdd))"
   ]
  },
  {
   "cell_type": "markdown",
   "metadata": {},
   "source": [
    "**Now start the spark streaming context by running the next cell.**\n",
    "- You should see an updated output every 5 seconds\n",
    "\n",
    "*Once you are done, execute the stop command in the cell after.*"
   ]
  },
  {
   "cell_type": "code",
   "execution_count": 24,
   "metadata": {},
   "outputs": [
    {
     "name": "stdout",
     "output_type": "stream",
     "text": [
      "nothing yet\n"
     ]
    },
    {
     "name": "stderr",
     "output_type": "stream",
     "text": [
      "[Stage 0:>                                                          (0 + 1) / 1]\r"
     ]
    },
    {
     "name": "stdout",
     "output_type": "stream",
     "text": [
      "23/04/18 13:33:06 WARN RandomBlockReplicationPolicy: Expecting 1 replicas with only 0 peer/s.\n",
      "23/04/18 13:33:06 WARN BlockManager: Block input-0-1681846386600 replicated to only 0 peer(s) instead of 1 peers\n",
      "23/04/18 13:33:07 WARN RandomBlockReplicationPolicy: Expecting 1 replicas with only 0 peer/s.\n",
      "23/04/18 13:33:07 WARN BlockManager: Block input-0-1681846386800 replicated to only 0 peer(s) instead of 1 peers\n",
      "23/04/18 13:33:07 WARN RandomBlockReplicationPolicy: Expecting 1 replicas with only 0 peer/s.\n",
      "23/04/18 13:33:07 WARN BlockManager: Block input-0-1681846387000 replicated to only 0 peer(s) instead of 1 peers\n",
      "23/04/18 13:33:08 WARN RandomBlockReplicationPolicy: Expecting 1 replicas with only 0 peer/s.\n",
      "23/04/18 13:33:08 WARN BlockManager: Block input-0-1681846388000 replicated to only 0 peer(s) instead of 1 peers\n",
      "23/04/18 13:33:08 WARN RandomBlockReplicationPolicy: Expecting 1 replicas with only 0 peer/s.\n",
      "23/04/18 13:33:08 WARN BlockManager: Block input-0-1681846388400 replicated to only 0 peer(s) instead of 1 peers\n",
      "23/04/18 13:33:09 WARN RandomBlockReplicationPolicy: Expecting 1 replicas with only 0 peer/s.\n",
      "23/04/18 13:33:09 WARN BlockManager: Block input-0-1681846388800 replicated to only 0 peer(s) instead of 1 peers\n",
      "23/04/18 13:33:09 WARN RandomBlockReplicationPolicy: Expecting 1 replicas with only 0 peer/s.\n",
      "23/04/18 13:33:09 WARN BlockManager: Block input-0-1681846389000 replicated to only 0 peer(s) instead of 1 peers\n",
      "23/04/18 13:33:09 WARN RandomBlockReplicationPolicy: Expecting 1 replicas with only 0 peer/s.\n",
      "23/04/18 13:33:09 WARN BlockManager: Block input-0-1681846389400 replicated to only 0 peer(s) instead of 1 peers\n",
      "23/04/18 13:33:10 WARN RandomBlockReplicationPolicy: Expecting 1 replicas with only 0 peer/s.\n",
      "23/04/18 13:33:10 WARN BlockManager: Block input-0-1681846390200 replicated to only 0 peer(s) instead of 1 peers\n"
     ]
    },
    {
     "name": "stderr",
     "output_type": "stream",
     "text": [
      "                                                                                \r"
     ]
    },
    {
     "name": "stdout",
     "output_type": "stream",
     "text": [
      "23/04/18 13:33:11 WARN RandomBlockReplicationPolicy: Expecting 1 replicas with only 0 peer/s.\n",
      "23/04/18 13:33:11 WARN BlockManager: Block input-0-1681846390800 replicated to only 0 peer(s) instead of 1 peers\n"
     ]
    },
    {
     "name": "stderr",
     "output_type": "stream",
     "text": [
      "                                                                                \r"
     ]
    },
    {
     "name": "stdout",
     "output_type": "stream",
     "text": [
      "Total Tweets: 9\n",
      "Total characters: 2868\n",
      "Average Length: 318.6666666666667\n",
      "------------------------------\n",
      "\n"
     ]
    },
    {
     "name": "stderr",
     "output_type": "stream",
     "text": [
      "[Stage 0:>                                                          (0 + 1) / 1]\r"
     ]
    },
    {
     "name": "stdout",
     "output_type": "stream",
     "text": [
      "23/04/18 13:33:12 WARN RandomBlockReplicationPolicy: Expecting 1 replicas with only 0 peer/s.\n",
      "23/04/18 13:33:12 WARN BlockManager: Block input-0-1681846392600 replicated to only 0 peer(s) instead of 1 peers\n",
      "23/04/18 13:33:13 WARN RandomBlockReplicationPolicy: Expecting 1 replicas with only 0 peer/s.\n",
      "23/04/18 13:33:13 WARN BlockManager: Block input-0-1681846392800 replicated to only 0 peer(s) instead of 1 peers\n",
      "23/04/18 13:33:13 WARN RandomBlockReplicationPolicy: Expecting 1 replicas with only 0 peer/s.\n",
      "23/04/18 13:33:13 WARN BlockManager: Block input-0-1681846393000 replicated to only 0 peer(s) instead of 1 peers\n",
      "23/04/18 13:33:13 WARN RandomBlockReplicationPolicy: Expecting 1 replicas with only 0 peer/s.\n",
      "23/04/18 13:33:13 WARN BlockManager: Block input-0-1681846393400 replicated to only 0 peer(s) instead of 1 peers\n",
      "23/04/18 13:33:14 WARN RandomBlockReplicationPolicy: Expecting 1 replicas with only 0 peer/s.\n",
      "23/04/18 13:33:14 WARN BlockManager: Block input-0-1681846394200 replicated to only 0 peer(s) instead of 1 peers\n",
      "23/04/18 13:33:15 WARN RandomBlockReplicationPolicy: Expecting 1 replicas with only 0 peer/s.\n",
      "23/04/18 13:33:15 WARN BlockManager: Block input-0-1681846394800 replicated to only 0 peer(s) instead of 1 peers\n",
      "23/04/18 13:33:15 WARN RandomBlockReplicationPolicy: Expecting 1 replicas with only 0 peer/s.\n",
      "23/04/18 13:33:15 WARN BlockManager: Block input-0-1681846395000 replicated to only 0 peer(s) instead of 1 peers\n",
      "23/04/18 13:33:15 WARN RandomBlockReplicationPolicy: Expecting 1 replicas with only 0 peer/s.\n",
      "23/04/18 13:33:15 WARN BlockManager: Block input-0-1681846395200 replicated to only 0 peer(s) instead of 1 peers\n"
     ]
    },
    {
     "name": "stderr",
     "output_type": "stream",
     "text": [
      "                                                                                \r"
     ]
    },
    {
     "name": "stdout",
     "output_type": "stream",
     "text": [
      "23/04/18 13:33:15 WARN RandomBlockReplicationPolicy: Expecting 1 replicas with only 0 peer/s.\n",
      "23/04/18 13:33:15 WARN BlockManager: Block input-0-1681846395400 replicated to only 0 peer(s) instead of 1 peers\n",
      "Total Tweets: 19\n",
      "Total characters: 6095\n",
      "Average Length: 320.7894736842105\n",
      "------------------------------\n",
      "\n",
      "23/04/18 13:33:16 WARN RandomBlockReplicationPolicy: Expecting 1 replicas with only 0 peer/s.\n",
      "23/04/18 13:33:16 WARN BlockManager: Block input-0-1681846395800 replicated to only 0 peer(s) instead of 1 peers\n",
      "23/04/18 13:33:16 WARN RandomBlockReplicationPolicy: Expecting 1 replicas with only 0 peer/s.\n",
      "23/04/18 13:33:16 WARN BlockManager: Block input-0-1681846396000 replicated to only 0 peer(s) instead of 1 peers\n"
     ]
    },
    {
     "name": "stderr",
     "output_type": "stream",
     "text": [
      "[Stage 0:>                                                          (0 + 1) / 1]\r"
     ]
    },
    {
     "name": "stdout",
     "output_type": "stream",
     "text": [
      "23/04/18 13:33:18 WARN RandomBlockReplicationPolicy: Expecting 1 replicas with only 0 peer/s.\n",
      "23/04/18 13:33:18 WARN BlockManager: Block input-0-1681846398400 replicated to only 0 peer(s) instead of 1 peers\n",
      "23/04/18 13:33:18 WARN RandomBlockReplicationPolicy: Expecting 1 replicas with only 0 peer/s.\n",
      "23/04/18 13:33:18 WARN BlockManager: Block input-0-1681846398600 replicated to only 0 peer(s) instead of 1 peers\n",
      "23/04/18 13:33:19 WARN RandomBlockReplicationPolicy: Expecting 1 replicas with only 0 peer/s.\n",
      "23/04/18 13:33:19 WARN BlockManager: Block input-0-1681846399600 replicated to only 0 peer(s) instead of 1 peers\n"
     ]
    },
    {
     "name": "stderr",
     "output_type": "stream",
     "text": [
      "                                                                                \r"
     ]
    },
    {
     "name": "stdout",
     "output_type": "stream",
     "text": [
      "23/04/18 13:33:20 WARN RandomBlockReplicationPolicy: Expecting 1 replicas with only 0 peer/s.\n",
      "23/04/18 13:33:20 WARN BlockManager: Block input-0-1681846400400 replicated to only 0 peer(s) instead of 1 peers\n",
      "Total Tweets: 33\n",
      "Total characters: 11318\n",
      "Average Length: 342.969696969697\n",
      "------------------------------\n",
      "\n",
      "23/04/18 13:33:21 WARN RandomBlockReplicationPolicy: Expecting 1 replicas with only 0 peer/s.\n",
      "23/04/18 13:33:21 WARN BlockManager: Block input-0-1681846400800 replicated to only 0 peer(s) instead of 1 peers\n"
     ]
    },
    {
     "name": "stderr",
     "output_type": "stream",
     "text": [
      "[Stage 0:>                                                          (0 + 1) / 1]\r"
     ]
    },
    {
     "name": "stdout",
     "output_type": "stream",
     "text": [
      "23/04/18 13:33:22 WARN RandomBlockReplicationPolicy: Expecting 1 replicas with only 0 peer/s.\n",
      "23/04/18 13:33:22 WARN BlockManager: Block input-0-1681846402400 replicated to only 0 peer(s) instead of 1 peers\n",
      "23/04/18 13:33:23 WARN RandomBlockReplicationPolicy: Expecting 1 replicas with only 0 peer/s.\n",
      "23/04/18 13:33:23 WARN BlockManager: Block input-0-1681846403200 replicated to only 0 peer(s) instead of 1 peers\n",
      "23/04/18 13:33:23 WARN RandomBlockReplicationPolicy: Expecting 1 replicas with only 0 peer/s.\n",
      "23/04/18 13:33:23 WARN BlockManager: Block input-0-1681846403600 replicated to only 0 peer(s) instead of 1 peers\n",
      "23/04/18 13:33:24 WARN RandomBlockReplicationPolicy: Expecting 1 replicas with only 0 peer/s.\n",
      "23/04/18 13:33:24 WARN BlockManager: Block input-0-1681846404000 replicated to only 0 peer(s) instead of 1 peers\n",
      "23/04/18 13:33:24 WARN RandomBlockReplicationPolicy: Expecting 1 replicas with only 0 peer/s.\n",
      "23/04/18 13:33:24 WARN BlockManager: Block input-0-1681846404200 replicated to only 0 peer(s) instead of 1 peers\n",
      "23/04/18 13:33:24 WARN RandomBlockReplicationPolicy: Expecting 1 replicas with only 0 peer/s.\n",
      "23/04/18 13:33:24 WARN BlockManager: Block input-0-1681846404400 replicated to only 0 peer(s) instead of 1 peers\n",
      "23/04/18 13:33:24 WARN RandomBlockReplicationPolicy: Expecting 1 replicas with only 0 peer/s.\n",
      "23/04/18 13:33:24 WARN BlockManager: Block input-0-1681846404600 replicated to only 0 peer(s) instead of 1 peers\n"
     ]
    },
    {
     "name": "stderr",
     "output_type": "stream",
     "text": [
      "                                                                                \r"
     ]
    },
    {
     "name": "stdout",
     "output_type": "stream",
     "text": [
      "Total Tweets: 42\n",
      "Total characters: 14964\n",
      "Average Length: 356.2857142857143\n",
      "------------------------------\n",
      "\n",
      "23/04/18 13:33:25 WARN RandomBlockReplicationPolicy: Expecting 1 replicas with only 0 peer/s.\n",
      "23/04/18 13:33:25 WARN BlockManager: Block input-0-1681846405400 replicated to only 0 peer(s) instead of 1 peers\n",
      "23/04/18 13:33:25 WARN RandomBlockReplicationPolicy: Expecting 1 replicas with only 0 peer/s.\n",
      "23/04/18 13:33:25 WARN BlockManager: Block input-0-1681846405600 replicated to only 0 peer(s) instead of 1 peers\n",
      "23/04/18 13:33:26 WARN RandomBlockReplicationPolicy: Expecting 1 replicas with only 0 peer/s.\n",
      "23/04/18 13:33:26 WARN BlockManager: Block input-0-1681846405800 replicated to only 0 peer(s) instead of 1 peers\n"
     ]
    },
    {
     "name": "stderr",
     "output_type": "stream",
     "text": [
      "[Stage 0:>                                                          (0 + 1) / 1]\r"
     ]
    },
    {
     "name": "stdout",
     "output_type": "stream",
     "text": [
      "23/04/18 13:33:26 WARN RandomBlockReplicationPolicy: Expecting 1 replicas with only 0 peer/s.\n",
      "23/04/18 13:33:26 WARN BlockManager: Block input-0-1681846406200 replicated to only 0 peer(s) instead of 1 peers\n",
      "23/04/18 13:33:26 WARN RandomBlockReplicationPolicy: Expecting 1 replicas with only 0 peer/s.\n",
      "23/04/18 13:33:26 WARN BlockManager: Block input-0-1681846406400 replicated to only 0 peer(s) instead of 1 peers\n",
      "23/04/18 13:33:26 WARN RandomBlockReplicationPolicy: Expecting 1 replicas with only 0 peer/s.\n",
      "23/04/18 13:33:26 WARN BlockManager: Block input-0-1681846406600 replicated to only 0 peer(s) instead of 1 peers\n",
      "23/04/18 13:33:27 WARN RandomBlockReplicationPolicy: Expecting 1 replicas with only 0 peer/s.\n",
      "23/04/18 13:33:27 WARN BlockManager: Block input-0-1681846407000 replicated to only 0 peer(s) instead of 1 peers\n",
      "23/04/18 13:33:28 WARN RandomBlockReplicationPolicy: Expecting 1 replicas with only 0 peer/s.\n",
      "23/04/18 13:33:28 WARN BlockManager: Block input-0-1681846407800 replicated to only 0 peer(s) instead of 1 peers\n",
      "23/04/18 13:33:29 WARN RandomBlockReplicationPolicy: Expecting 1 replicas with only 0 peer/s.\n",
      "23/04/18 13:33:29 WARN BlockManager: Block input-0-1681846409400 replicated to only 0 peer(s) instead of 1 peers\n",
      "23/04/18 13:33:29 WARN RandomBlockReplicationPolicy: Expecting 1 replicas with only 0 peer/s.\n",
      "23/04/18 13:33:29 WARN BlockManager: Block input-0-1681846409600 replicated to only 0 peer(s) instead of 1 peers\n",
      "23/04/18 13:33:30 WARN RandomBlockReplicationPolicy: Expecting 1 replicas with only 0 peer/s.\n",
      "23/04/18 13:33:30 WARN BlockManager: Block input-0-1681846410000 replicated to only 0 peer(s) instead of 1 peers\n"
     ]
    },
    {
     "name": "stderr",
     "output_type": "stream",
     "text": [
      "                                                                                \r"
     ]
    },
    {
     "name": "stdout",
     "output_type": "stream",
     "text": [
      "23/04/18 13:33:30 WARN RandomBlockReplicationPolicy: Expecting 1 replicas with only 0 peer/s.\n",
      "23/04/18 13:33:30 WARN BlockManager: Block input-0-1681846410600 replicated to only 0 peer(s) instead of 1 peers\n",
      "Total Tweets: 56\n",
      "Total characters: 20536\n",
      "Average Length: 366.7142857142857\n",
      "------------------------------\n",
      "\n",
      "23/04/18 13:33:31 WARN RandomBlockReplicationPolicy: Expecting 1 replicas with only 0 peer/s.\n",
      "23/04/18 13:33:31 WARN BlockManager: Block input-0-1681846410800 replicated to only 0 peer(s) instead of 1 peers\n"
     ]
    },
    {
     "name": "stderr",
     "output_type": "stream",
     "text": [
      "[Stage 0:>                                                          (0 + 1) / 1]\r"
     ]
    },
    {
     "name": "stdout",
     "output_type": "stream",
     "text": [
      "23/04/18 13:33:31 WARN RandomBlockReplicationPolicy: Expecting 1 replicas with only 0 peer/s.\n",
      "23/04/18 13:33:31 WARN BlockManager: Block input-0-1681846411400 replicated to only 0 peer(s) instead of 1 peers\n",
      "23/04/18 13:33:33 WARN RandomBlockReplicationPolicy: Expecting 1 replicas with only 0 peer/s.\n",
      "23/04/18 13:33:33 WARN BlockManager: Block input-0-1681846413200 replicated to only 0 peer(s) instead of 1 peers\n",
      "23/04/18 13:33:33 WARN RandomBlockReplicationPolicy: Expecting 1 replicas with only 0 peer/s.\n",
      "23/04/18 13:33:33 WARN BlockManager: Block input-0-1681846413400 replicated to only 0 peer(s) instead of 1 peers\n",
      "23/04/18 13:33:34 WARN RandomBlockReplicationPolicy: Expecting 1 replicas with only 0 peer/s.\n",
      "23/04/18 13:33:34 WARN BlockManager: Block input-0-1681846413800 replicated to only 0 peer(s) instead of 1 peers\n",
      "23/04/18 13:33:34 WARN RandomBlockReplicationPolicy: Expecting 1 replicas with only 0 peer/s.\n",
      "23/04/18 13:33:34 WARN BlockManager: Block input-0-1681846414200 replicated to only 0 peer(s) instead of 1 peers\n"
     ]
    },
    {
     "name": "stderr",
     "output_type": "stream",
     "text": [
      "                                                                                \r"
     ]
    },
    {
     "name": "stdout",
     "output_type": "stream",
     "text": [
      "Total Tweets: 67\n",
      "Total characters: 25782\n",
      "Average Length: 384.8059701492537\n",
      "------------------------------\n",
      "\n"
     ]
    }
   ],
   "source": [
    "ssc.start()"
   ]
  },
  {
   "cell_type": "code",
   "execution_count": 25,
   "metadata": {
    "scrolled": true
   },
   "outputs": [
    {
     "name": "stdout",
     "output_type": "stream",
     "text": [
      "23/04/18 13:33:35 ERROR ReceiverTracker: Deregistered receiver for stream 0: Stopped by driver\n",
      "23/04/18 13:33:35 WARN SocketReceiver: Error receiving data\n",
      "java.net.SocketException: Socket closed\n",
      "\tat java.base/java.net.SocketInputStream.socketRead0(Native Method)\n",
      "\tat java.base/java.net.SocketInputStream.socketRead(SocketInputStream.java:115)\n",
      "\tat java.base/java.net.SocketInputStream.read(SocketInputStream.java:168)\n",
      "\tat java.base/java.net.SocketInputStream.read(SocketInputStream.java:140)\n",
      "\tat java.base/sun.nio.cs.StreamDecoder.readBytes(StreamDecoder.java:284)\n",
      "\tat java.base/sun.nio.cs.StreamDecoder.implRead(StreamDecoder.java:326)\n",
      "\tat java.base/sun.nio.cs.StreamDecoder.read(StreamDecoder.java:178)\n",
      "\tat java.base/java.io.InputStreamReader.read(InputStreamReader.java:181)\n",
      "\tat java.base/java.io.BufferedReader.fill(BufferedReader.java:161)\n",
      "\tat java.base/java.io.BufferedReader.readLine(BufferedReader.java:326)\n",
      "\tat java.base/java.io.BufferedReader.readLine(BufferedReader.java:392)\n",
      "\tat org.apache.spark.streaming.dstream.SocketReceiver$$anon$2.getNext(SocketInputDStream.scala:121)\n",
      "\tat org.apache.spark.streaming.dstream.SocketReceiver$$anon$2.getNext(SocketInputDStream.scala:119)\n",
      "\tat org.apache.spark.util.NextIterator.hasNext(NextIterator.scala:73)\n",
      "\tat org.apache.spark.streaming.dstream.SocketReceiver.receive(SocketInputDStream.scala:91)\n",
      "\tat org.apache.spark.streaming.dstream.SocketReceiver$$anon$1.run(SocketInputDStream.scala:72)\n",
      "23/04/18 13:33:35 WARN RandomBlockReplicationPolicy: Expecting 1 replicas with only 0 peer/s.\n",
      "23/04/18 13:33:35 WARN BlockManager: Block input-0-1681846415600 replicated to only 0 peer(s) instead of 1 peers\n",
      "23/04/18 13:33:35 WARN ReceiverSupervisorImpl: Restarting receiver with delay 2000 ms: Error receiving data\n",
      "java.net.SocketException: Socket closed\n",
      "\tat java.base/java.net.SocketInputStream.socketRead0(Native Method)\n",
      "\tat java.base/java.net.SocketInputStream.socketRead(SocketInputStream.java:115)\n",
      "\tat java.base/java.net.SocketInputStream.read(SocketInputStream.java:168)\n",
      "\tat java.base/java.net.SocketInputStream.read(SocketInputStream.java:140)\n",
      "\tat java.base/sun.nio.cs.StreamDecoder.readBytes(StreamDecoder.java:284)\n",
      "\tat java.base/sun.nio.cs.StreamDecoder.implRead(StreamDecoder.java:326)\n",
      "\tat java.base/sun.nio.cs.StreamDecoder.read(StreamDecoder.java:178)\n",
      "\tat java.base/java.io.InputStreamReader.read(InputStreamReader.java:181)\n",
      "\tat java.base/java.io.BufferedReader.fill(BufferedReader.java:161)\n",
      "\tat java.base/java.io.BufferedReader.readLine(BufferedReader.java:326)\n",
      "\tat java.base/java.io.BufferedReader.readLine(BufferedReader.java:392)\n",
      "\tat org.apache.spark.streaming.dstream.SocketReceiver$$anon$2.getNext(SocketInputDStream.scala:121)\n",
      "\tat org.apache.spark.streaming.dstream.SocketReceiver$$anon$2.getNext(SocketInputDStream.scala:119)\n",
      "\tat org.apache.spark.util.NextIterator.hasNext(NextIterator.scala:73)\n",
      "\tat org.apache.spark.streaming.dstream.SocketReceiver.receive(SocketInputDStream.scala:91)\n",
      "\tat org.apache.spark.streaming.dstream.SocketReceiver$$anon$1.run(SocketInputDStream.scala:72)\n",
      "23/04/18 13:33:35 WARN ReceiverSupervisorImpl: Receiver has been stopped\n"
     ]
    },
    {
     "name": "stderr",
     "output_type": "stream",
     "text": [
      "Exception in thread \"receiver-supervisor-future-0\" java.lang.InterruptedException: sleep interrupted\n",
      "\tat java.base/java.lang.Thread.sleep(Native Method)\n",
      "\tat org.apache.spark.streaming.receiver.ReceiverSupervisor.$anonfun$restartReceiver$1(ReceiverSupervisor.scala:196)\n",
      "\tat scala.runtime.java8.JFunction0$mcV$sp.apply(JFunction0$mcV$sp.java:23)\n",
      "\tat scala.concurrent.Future$.$anonfun$apply$1(Future.scala:659)\n",
      "\tat scala.util.Success.$anonfun$map$1(Try.scala:255)\n",
      "\tat scala.util.Success.map(Try.scala:213)\n",
      "\tat scala.concurrent.Future.$anonfun$map$1(Future.scala:292)\n",
      "\tat scala.concurrent.impl.Promise.liftedTree1$1(Promise.scala:33)\n",
      "\tat scala.concurrent.impl.Promise.$anonfun$transform$1(Promise.scala:33)\n",
      "\tat scala.concurrent.impl.CallbackRunnable.run(Promise.scala:64)\n",
      "\tat java.base/java.util.concurrent.ThreadPoolExecutor.runWorker(ThreadPoolExecutor.java:1128)\n",
      "\tat java.base/java.util.concurrent.ThreadPoolExecutor$Worker.run(ThreadPoolExecutor.java:628)\n",
      "\tat java.base/java.lang.Thread.run(Thread.java:829)\n"
     ]
    }
   ],
   "source": [
    "ssc.stop()"
   ]
  },
  {
   "cell_type": "markdown",
   "metadata": {},
   "source": [
    "<div style=\"font-size:26px;color:#F1F8FC;background-color:#0095EA;padding:10px;\">Exersice 2 - Tweet hashtags analysis </div><br>\n",
    "In the following cells (add more cells need be), write code that outputs the 10 most popular hashtags.\n",
    "\n",
    "### Use the following configuration for this part of the assignment:\n",
    "- **Batch size:** 5 seconds\n",
    "- **Window interval:** 300 seconds (5 minutes)\n",
    "- **Slide interval:** 10 seconds \n"
   ]
  },
  {
   "cell_type": "code",
   "execution_count": 4,
   "metadata": {},
   "outputs": [
    {
     "name": "stdout",
     "output_type": "stream",
     "text": [
      "23/04/18 18:12:21 WARN Utils: Your hostname, srinath-VirtualBox resolves to a loopback address: 127.0.1.1; using 10.0.2.15 instead (on interface enp0s3)\n",
      "23/04/18 18:12:21 WARN Utils: Set SPARK_LOCAL_IP if you need to bind to another address\n"
     ]
    },
    {
     "name": "stderr",
     "output_type": "stream",
     "text": [
      "Setting default log level to \"WARN\".\n",
      "To adjust logging level use sc.setLogLevel(newLevel). For SparkR, use setLogLevel(newLevel).\n"
     ]
    },
    {
     "name": "stdout",
     "output_type": "stream",
     "text": [
      "23/04/18 18:12:22 WARN NativeCodeLoader: Unable to load native-hadoop library for your platform... using builtin-java classes where applicable\n"
     ]
    }
   ],
   "source": [
    "import re\n",
    "\n",
    "sc = SparkContext()\n",
    "\n",
    "ssc = StreamingContext(sc, 5 )\n",
    "ssc.checkpoint(\"checkpoint\")\n",
    "\n",
    "tweets = ssc.socketTextStream(\"127.0.0.1\", 5558)\n",
    "\n",
    "hashtags = tweets.flatMap(lambda tweet: re.findall(r\"#(\\w+)\", tweet))\n",
    "\n",
    "counts = hashtags.window(300, 10).countByValue()\n",
    "\n",
    "def printTopHashtags(rdd):\n",
    "    top10 = rdd.takeOrdered(10, key=lambda x: -x[1])\n",
    "    print('\\nTop 10 Hashtags:')\n",
    "    for hashtag, count in top10:\n",
    "        print('{} ({})'.format(hashtag, count))\n",
    "\n",
    "counts.foreachRDD(printTopHashtags)"
   ]
  },
  {
   "cell_type": "code",
   "execution_count": 5,
   "metadata": {},
   "outputs": [
    {
     "name": "stderr",
     "output_type": "stream",
     "text": [
      "[Stage 0:>                                                          (0 + 1) / 1]\r"
     ]
    },
    {
     "name": "stdout",
     "output_type": "stream",
     "text": [
      "23/04/18 18:12:29 WARN RandomBlockReplicationPolicy: Expecting 1 replicas with only 0 peer/s.\n",
      "23/04/18 18:12:29 WARN BlockManager: Block input-0-1681863149200 replicated to only 0 peer(s) instead of 1 peers\n",
      "23/04/18 18:12:29 WARN RandomBlockReplicationPolicy: Expecting 1 replicas with only 0 peer/s.\n",
      "23/04/18 18:12:29 WARN BlockManager: Block input-0-1681863149600 replicated to only 0 peer(s) instead of 1 peers\n",
      "23/04/18 18:12:30 WARN RandomBlockReplicationPolicy: Expecting 1 replicas with only 0 peer/s.\n",
      "23/04/18 18:12:30 WARN BlockManager: Block input-0-1681863149800 replicated to only 0 peer(s) instead of 1 peers\n",
      "23/04/18 18:12:30 WARN RandomBlockReplicationPolicy: Expecting 1 replicas with only 0 peer/s.\n",
      "23/04/18 18:12:30 WARN BlockManager: Block input-0-1681863150000 replicated to only 0 peer(s) instead of 1 peers\n",
      "23/04/18 18:12:30 WARN RandomBlockReplicationPolicy: Expecting 1 replicas with only 0 peer/s.\n",
      "23/04/18 18:12:30 WARN BlockManager: Block input-0-1681863150600 replicated to only 0 peer(s) instead of 1 peers\n",
      "23/04/18 18:12:31 WARN RandomBlockReplicationPolicy: Expecting 1 replicas with only 0 peer/s.\n",
      "23/04/18 18:12:31 WARN BlockManager: Block input-0-1681863150800 replicated to only 0 peer(s) instead of 1 peers\n",
      "23/04/18 18:12:31 WARN RandomBlockReplicationPolicy: Expecting 1 replicas with only 0 peer/s.\n",
      "23/04/18 18:12:31 WARN BlockManager: Block input-0-1681863151000 replicated to only 0 peer(s) instead of 1 peers\n",
      "23/04/18 18:12:33 WARN RandomBlockReplicationPolicy: Expecting 1 replicas with only 0 peer/s.\n",
      "23/04/18 18:12:33 WARN BlockManager: Block input-0-1681863152800 replicated to only 0 peer(s) instead of 1 peers\n",
      "23/04/18 18:12:33 WARN RandomBlockReplicationPolicy: Expecting 1 replicas with only 0 peer/s.\n",
      "23/04/18 18:12:33 WARN BlockManager: Block input-0-1681863153200 replicated to only 0 peer(s) instead of 1 peers\n",
      "23/04/18 18:12:33 WARN RandomBlockReplicationPolicy: Expecting 1 replicas with only 0 peer/s.\n",
      "23/04/18 18:12:33 WARN BlockManager: Block input-0-1681863153600 replicated to only 0 peer(s) instead of 1 peers\n",
      "23/04/18 18:12:34 WARN RandomBlockReplicationPolicy: Expecting 1 replicas with only 0 peer/s.\n",
      "23/04/18 18:12:34 WARN BlockManager: Block input-0-1681863153800 replicated to only 0 peer(s) instead of 1 peers\n",
      "23/04/18 18:12:34 WARN RandomBlockReplicationPolicy: Expecting 1 replicas with only 0 peer/s.\n",
      "23/04/18 18:12:34 WARN BlockManager: Block input-0-1681863154000 replicated to only 0 peer(s) instead of 1 peers\n",
      "23/04/18 18:12:34 WARN RandomBlockReplicationPolicy: Expecting 1 replicas with only 0 peer/s.\n",
      "23/04/18 18:12:34 WARN BlockManager: Block input-0-1681863154200 replicated to only 0 peer(s) instead of 1 peers\n",
      "23/04/18 18:12:34 WARN RandomBlockReplicationPolicy: Expecting 1 replicas with only 0 peer/s.\n",
      "23/04/18 18:12:34 WARN BlockManager: Block input-0-1681863154400 replicated to only 0 peer(s) instead of 1 peers\n",
      "23/04/18 18:12:35 WARN RandomBlockReplicationPolicy: Expecting 1 replicas with only 0 peer/s.\n",
      "23/04/18 18:12:35 WARN BlockManager: Block input-0-1681863154800 replicated to only 0 peer(s) instead of 1 peers\n",
      "23/04/18 18:12:35 WARN RandomBlockReplicationPolicy: Expecting 1 replicas with only 0 peer/s.\n",
      "23/04/18 18:12:35 WARN BlockManager: Block input-0-1681863155000 replicated to only 0 peer(s) instead of 1 peers\n",
      "23/04/18 18:12:35 WARN RandomBlockReplicationPolicy: Expecting 1 replicas with only 0 peer/s.\n",
      "23/04/18 18:12:35 WARN BlockManager: Block input-0-1681863155600 replicated to only 0 peer(s) instead of 1 peers\n"
     ]
    },
    {
     "name": "stderr",
     "output_type": "stream",
     "text": [
      "[Stage 0:>                  (0 + 1) / 1][Stage 1:===============> (13 + 1) / 14]\r"
     ]
    },
    {
     "name": "stdout",
     "output_type": "stream",
     "text": [
      "23/04/18 18:12:36 WARN RandomBlockReplicationPolicy: Expecting 1 replicas with only 0 peer/s.\n",
      "23/04/18 18:12:36 WARN BlockManager: Block input-0-1681863156200 replicated to only 0 peer(s) instead of 1 peers\n",
      "\n",
      "Top 10 Hashtags:\n",
      "39 (2)\n"
     ]
    },
    {
     "name": "stderr",
     "output_type": "stream",
     "text": [
      "[Stage 0:>                                                          (0 + 1) / 1]\r"
     ]
    },
    {
     "name": "stdout",
     "output_type": "stream",
     "text": [
      "23/04/18 18:12:37 WARN RandomBlockReplicationPolicy: Expecting 1 replicas with only 0 peer/s.\n",
      "23/04/18 18:12:37 WARN BlockManager: Block input-0-1681863157200 replicated to only 0 peer(s) instead of 1 peers\n",
      "23/04/18 18:12:40 WARN RandomBlockReplicationPolicy: Expecting 1 replicas with only 0 peer/s.\n",
      "23/04/18 18:12:40 WARN BlockManager: Block input-0-1681863160600 replicated to only 0 peer(s) instead of 1 peers\n",
      "23/04/18 18:12:41 WARN RandomBlockReplicationPolicy: Expecting 1 replicas with only 0 peer/s.\n",
      "23/04/18 18:12:41 WARN BlockManager: Block input-0-1681863161000 replicated to only 0 peer(s) instead of 1 peers\n",
      "23/04/18 18:12:41 WARN RandomBlockReplicationPolicy: Expecting 1 replicas with only 0 peer/s.\n",
      "23/04/18 18:12:41 WARN BlockManager: Block input-0-1681863161200 replicated to only 0 peer(s) instead of 1 peers\n",
      "23/04/18 18:12:42 WARN RandomBlockReplicationPolicy: Expecting 1 replicas with only 0 peer/s.\n",
      "23/04/18 18:12:42 WARN BlockManager: Block input-0-1681863161800 replicated to only 0 peer(s) instead of 1 peers\n",
      "23/04/18 18:12:44 WARN RandomBlockReplicationPolicy: Expecting 1 replicas with only 0 peer/s.\n",
      "23/04/18 18:12:44 WARN BlockManager: Block input-0-1681863163800 replicated to only 0 peer(s) instead of 1 peers\n",
      "23/04/18 18:12:44 WARN RandomBlockReplicationPolicy: Expecting 1 replicas with only 0 peer/s.\n",
      "23/04/18 18:12:44 WARN BlockManager: Block input-0-1681863164200 replicated to only 0 peer(s) instead of 1 peers\n"
     ]
    },
    {
     "name": "stderr",
     "output_type": "stream",
     "text": [
      "                                                                                \r"
     ]
    },
    {
     "name": "stdout",
     "output_type": "stream",
     "text": [
      "\n",
      "Top 10 Hashtags:\n",
      "39 (7)\n",
      "23/04/18 18:12:46 WARN RandomBlockReplicationPolicy: Expecting 1 replicas with only 0 peer/s.\n",
      "23/04/18 18:12:46 WARN BlockManager: Block input-0-1681863166200 replicated to only 0 peer(s) instead of 1 peers\n"
     ]
    },
    {
     "name": "stderr",
     "output_type": "stream",
     "text": [
      "[Stage 0:>                                                          (0 + 1) / 1]\r"
     ]
    },
    {
     "name": "stdout",
     "output_type": "stream",
     "text": [
      "23/04/18 18:12:48 WARN RandomBlockReplicationPolicy: Expecting 1 replicas with only 0 peer/s.\n",
      "23/04/18 18:12:48 WARN BlockManager: Block input-0-1681863167800 replicated to only 0 peer(s) instead of 1 peers\n",
      "23/04/18 18:12:48 WARN RandomBlockReplicationPolicy: Expecting 1 replicas with only 0 peer/s.\n",
      "23/04/18 18:12:48 WARN BlockManager: Block input-0-1681863168000 replicated to only 0 peer(s) instead of 1 peers\n",
      "23/04/18 18:12:48 WARN RandomBlockReplicationPolicy: Expecting 1 replicas with only 0 peer/s.\n",
      "23/04/18 18:12:48 WARN BlockManager: Block input-0-1681863168200 replicated to only 0 peer(s) instead of 1 peers\n",
      "23/04/18 18:12:48 WARN RandomBlockReplicationPolicy: Expecting 1 replicas with only 0 peer/s.\n",
      "23/04/18 18:12:48 WARN BlockManager: Block input-0-1681863168400 replicated to only 0 peer(s) instead of 1 peers\n",
      "23/04/18 18:12:49 WARN RandomBlockReplicationPolicy: Expecting 1 replicas with only 0 peer/s.\n",
      "23/04/18 18:12:49 WARN BlockManager: Block input-0-1681863169000 replicated to only 0 peer(s) instead of 1 peers\n",
      "23/04/18 18:12:49 WARN RandomBlockReplicationPolicy: Expecting 1 replicas with only 0 peer/s.\n",
      "23/04/18 18:12:49 WARN BlockManager: Block input-0-1681863169200 replicated to only 0 peer(s) instead of 1 peers\n",
      "23/04/18 18:12:49 WARN RandomBlockReplicationPolicy: Expecting 1 replicas with only 0 peer/s.\n",
      "23/04/18 18:12:49 WARN BlockManager: Block input-0-1681863169600 replicated to only 0 peer(s) instead of 1 peers\n",
      "23/04/18 18:12:50 WARN RandomBlockReplicationPolicy: Expecting 1 replicas with only 0 peer/s.\n",
      "23/04/18 18:12:50 WARN BlockManager: Block input-0-1681863170200 replicated to only 0 peer(s) instead of 1 peers\n",
      "23/04/18 18:12:50 WARN RandomBlockReplicationPolicy: Expecting 1 replicas with only 0 peer/s.\n",
      "23/04/18 18:12:50 WARN BlockManager: Block input-0-1681863170400 replicated to only 0 peer(s) instead of 1 peers\n",
      "23/04/18 18:12:50 WARN RandomBlockReplicationPolicy: Expecting 1 replicas with only 0 peer/s.\n",
      "23/04/18 18:12:50 WARN BlockManager: Block input-0-1681863170600 replicated to only 0 peer(s) instead of 1 peers\n",
      "23/04/18 18:12:51 WARN RandomBlockReplicationPolicy: Expecting 1 replicas with only 0 peer/s.\n",
      "23/04/18 18:12:51 WARN BlockManager: Block input-0-1681863170800 replicated to only 0 peer(s) instead of 1 peers\n",
      "23/04/18 18:12:52 WARN RandomBlockReplicationPolicy: Expecting 1 replicas with only 0 peer/s.\n",
      "23/04/18 18:12:52 WARN BlockManager: Block input-0-1681863172000 replicated to only 0 peer(s) instead of 1 peers\n",
      "23/04/18 18:12:52 WARN RandomBlockReplicationPolicy: Expecting 1 replicas with only 0 peer/s.\n",
      "23/04/18 18:12:52 WARN BlockManager: Block input-0-1681863172200 replicated to only 0 peer(s) instead of 1 peers\n",
      "23/04/18 18:12:52 WARN RandomBlockReplicationPolicy: Expecting 1 replicas with only 0 peer/s.\n",
      "23/04/18 18:12:52 WARN BlockManager: Block input-0-1681863172400 replicated to only 0 peer(s) instead of 1 peers\n",
      "23/04/18 18:12:52 WARN RandomBlockReplicationPolicy: Expecting 1 replicas with only 0 peer/s.\n",
      "23/04/18 18:12:52 WARN BlockManager: Block input-0-1681863172600 replicated to only 0 peer(s) instead of 1 peers\n",
      "23/04/18 18:12:53 WARN RandomBlockReplicationPolicy: Expecting 1 replicas with only 0 peer/s.\n",
      "23/04/18 18:12:53 WARN BlockManager: Block input-0-1681863172800 replicated to only 0 peer(s) instead of 1 peers\n",
      "23/04/18 18:12:53 WARN RandomBlockReplicationPolicy: Expecting 1 replicas with only 0 peer/s.\n",
      "23/04/18 18:12:53 WARN BlockManager: Block input-0-1681863173200 replicated to only 0 peer(s) instead of 1 peers\n",
      "23/04/18 18:12:53 WARN RandomBlockReplicationPolicy: Expecting 1 replicas with only 0 peer/s.\n",
      "23/04/18 18:12:53 WARN BlockManager: Block input-0-1681863173400 replicated to only 0 peer(s) instead of 1 peers\n",
      "23/04/18 18:12:53 WARN RandomBlockReplicationPolicy: Expecting 1 replicas with only 0 peer/s.\n",
      "23/04/18 18:12:53 WARN BlockManager: Block input-0-1681863173600 replicated to only 0 peer(s) instead of 1 peers\n",
      "23/04/18 18:12:54 WARN RandomBlockReplicationPolicy: Expecting 1 replicas with only 0 peer/s.\n",
      "23/04/18 18:12:54 WARN BlockManager: Block input-0-1681863173800 replicated to only 0 peer(s) instead of 1 peers\n",
      "23/04/18 18:12:54 WARN RandomBlockReplicationPolicy: Expecting 1 replicas with only 0 peer/s.\n",
      "23/04/18 18:12:54 WARN BlockManager: Block input-0-1681863174200 replicated to only 0 peer(s) instead of 1 peers\n"
     ]
    },
    {
     "name": "stderr",
     "output_type": "stream",
     "text": [
      "[Stage 0:>                  (0 + 1) / 1][Stage 5:=========>       (27 + 3) / 47]\r"
     ]
    },
    {
     "name": "stdout",
     "output_type": "stream",
     "text": [
      "23/04/18 18:12:55 WARN RandomBlockReplicationPolicy: Expecting 1 replicas with only 0 peer/s.\n",
      "23/04/18 18:12:55 WARN BlockManager: Block input-0-1681863175600 replicated to only 0 peer(s) instead of 1 peers\n"
     ]
    },
    {
     "name": "stderr",
     "output_type": "stream",
     "text": [
      "[Stage 0:>                  (0 + 1) / 1][Stage 5:=============>   (37 + 3) / 47]\r"
     ]
    },
    {
     "name": "stdout",
     "output_type": "stream",
     "text": [
      "23/04/18 18:12:56 WARN RandomBlockReplicationPolicy: Expecting 1 replicas with only 0 peer/s.\n",
      "23/04/18 18:12:56 WARN BlockManager: Block input-0-1681863176000 replicated to only 0 peer(s) instead of 1 peers\n"
     ]
    },
    {
     "name": "stderr",
     "output_type": "stream",
     "text": [
      "                                                                                \r"
     ]
    },
    {
     "name": "stdout",
     "output_type": "stream",
     "text": [
      "\n",
      "Top 10 Hashtags:\n",
      "39 (9)\n",
      "photography (1)\n",
      "Nightsky (1)\n",
      "AuroraBorealis (1)\n",
      "stars (1)\n",
      "23/04/18 18:12:56 WARN RandomBlockReplicationPolicy: Expecting 1 replicas with only 0 peer/s.\n",
      "23/04/18 18:12:56 WARN BlockManager: Block input-0-1681863176600 replicated to only 0 peer(s) instead of 1 peers\n",
      "23/04/18 18:12:57 WARN RandomBlockReplicationPolicy: Expecting 1 replicas with only 0 peer/s.\n",
      "23/04/18 18:12:57 WARN BlockManager: Block input-0-1681863176800 replicated to only 0 peer(s) instead of 1 peers\n"
     ]
    },
    {
     "name": "stderr",
     "output_type": "stream",
     "text": [
      "[Stage 0:>                                                          (0 + 1) / 1]\r"
     ]
    },
    {
     "name": "stdout",
     "output_type": "stream",
     "text": [
      "23/04/18 18:12:58 WARN RandomBlockReplicationPolicy: Expecting 1 replicas with only 0 peer/s.\n",
      "23/04/18 18:12:58 WARN BlockManager: Block input-0-1681863178600 replicated to only 0 peer(s) instead of 1 peers\n",
      "23/04/18 18:13:02 WARN RandomBlockReplicationPolicy: Expecting 1 replicas with only 0 peer/s.\n",
      "23/04/18 18:13:02 WARN BlockManager: Block input-0-1681863181800 replicated to only 0 peer(s) instead of 1 peers\n",
      "23/04/18 18:13:02 WARN RandomBlockReplicationPolicy: Expecting 1 replicas with only 0 peer/s.\n",
      "23/04/18 18:13:02 WARN BlockManager: Block input-0-1681863182600 replicated to only 0 peer(s) instead of 1 peers\n",
      "23/04/18 18:13:03 WARN RandomBlockReplicationPolicy: Expecting 1 replicas with only 0 peer/s.\n",
      "23/04/18 18:13:03 WARN BlockManager: Block input-0-1681863183400 replicated to only 0 peer(s) instead of 1 peers\n",
      "23/04/18 18:13:04 WARN RandomBlockReplicationPolicy: Expecting 1 replicas with only 0 peer/s.\n",
      "23/04/18 18:13:04 WARN BlockManager: Block input-0-1681863184200 replicated to only 0 peer(s) instead of 1 peers\n",
      "23/04/18 18:13:04 WARN RandomBlockReplicationPolicy: Expecting 1 replicas with only 0 peer/s.\n",
      "23/04/18 18:13:04 WARN BlockManager: Block input-0-1681863184600 replicated to only 0 peer(s) instead of 1 peers\n",
      "23/04/18 18:13:05 WARN RandomBlockReplicationPolicy: Expecting 1 replicas with only 0 peer/s.\n",
      "23/04/18 18:13:05 WARN BlockManager: Block input-0-1681863185000 replicated to only 0 peer(s) instead of 1 peers\n"
     ]
    },
    {
     "name": "stderr",
     "output_type": "stream",
     "text": [
      "[Stage 0:>                  (0 + 1) / 1][Stage 7:============>    (42 + 3) / 57]\r"
     ]
    },
    {
     "name": "stdout",
     "output_type": "stream",
     "text": [
      "23/04/18 18:13:05 WARN RandomBlockReplicationPolicy: Expecting 1 replicas with only 0 peer/s.\n",
      "23/04/18 18:13:05 WARN BlockManager: Block input-0-1681863185600 replicated to only 0 peer(s) instead of 1 peers\n",
      "23/04/18 18:13:06 WARN RandomBlockReplicationPolicy: Expecting 1 replicas with only 0 peer/s.\n",
      "23/04/18 18:13:06 WARN BlockManager: Block input-0-1681863185800 replicated to only 0 peer(s) instead of 1 peers\n"
     ]
    },
    {
     "name": "stderr",
     "output_type": "stream",
     "text": [
      "[Stage 0:>                                                          (0 + 1) / 1]\r"
     ]
    },
    {
     "name": "stdout",
     "output_type": "stream",
     "text": [
      "23/04/18 18:13:06 WARN RandomBlockReplicationPolicy: Expecting 1 replicas with only 0 peer/s.\n",
      "23/04/18 18:13:06 WARN BlockManager: Block input-0-1681863186200 replicated to only 0 peer(s) instead of 1 peers\n",
      "23/04/18 18:13:06 WARN RandomBlockReplicationPolicy: Expecting 1 replicas with only 0 peer/s.\n",
      "23/04/18 18:13:06 WARN BlockManager: Block input-0-1681863186400 replicated to only 0 peer(s) instead of 1 peers\n"
     ]
    },
    {
     "name": "stderr",
     "output_type": "stream",
     "text": [
      "                                                                                \r"
     ]
    },
    {
     "name": "stdout",
     "output_type": "stream",
     "text": [
      "\n",
      "Top 10 Hashtags:\n",
      "39 (9)\n",
      "photography (1)\n",
      "Nightsky (1)\n",
      "AuroraBorealis (1)\n",
      "stars (1)\n"
     ]
    },
    {
     "name": "stderr",
     "output_type": "stream",
     "text": [
      "[Stage 0:>                                                          (0 + 1) / 1]\r"
     ]
    },
    {
     "name": "stdout",
     "output_type": "stream",
     "text": [
      "23/04/18 18:13:07 WARN RandomBlockReplicationPolicy: Expecting 1 replicas with only 0 peer/s.\n",
      "23/04/18 18:13:07 WARN BlockManager: Block input-0-1681863187200 replicated to only 0 peer(s) instead of 1 peers\n",
      "23/04/18 18:13:08 WARN RandomBlockReplicationPolicy: Expecting 1 replicas with only 0 peer/s.\n",
      "23/04/18 18:13:08 WARN BlockManager: Block input-0-1681863188600 replicated to only 0 peer(s) instead of 1 peers\n",
      "23/04/18 18:13:09 WARN RandomBlockReplicationPolicy: Expecting 1 replicas with only 0 peer/s.\n",
      "23/04/18 18:13:09 WARN BlockManager: Block input-0-1681863188800 replicated to only 0 peer(s) instead of 1 peers\n",
      "23/04/18 18:13:09 WARN RandomBlockReplicationPolicy: Expecting 1 replicas with only 0 peer/s.\n",
      "23/04/18 18:13:09 WARN BlockManager: Block input-0-1681863189000 replicated to only 0 peer(s) instead of 1 peers\n",
      "23/04/18 18:13:09 WARN RandomBlockReplicationPolicy: Expecting 1 replicas with only 0 peer/s.\n",
      "23/04/18 18:13:09 WARN BlockManager: Block input-0-1681863189400 replicated to only 0 peer(s) instead of 1 peers\n",
      "23/04/18 18:13:10 WARN RandomBlockReplicationPolicy: Expecting 1 replicas with only 0 peer/s.\n",
      "23/04/18 18:13:10 WARN BlockManager: Block input-0-1681863190000 replicated to only 0 peer(s) instead of 1 peers\n",
      "23/04/18 18:13:10 WARN RandomBlockReplicationPolicy: Expecting 1 replicas with only 0 peer/s.\n",
      "23/04/18 18:13:10 WARN BlockManager: Block input-0-1681863190400 replicated to only 0 peer(s) instead of 1 peers\n",
      "23/04/18 18:13:11 WARN RandomBlockReplicationPolicy: Expecting 1 replicas with only 0 peer/s.\n",
      "23/04/18 18:13:11 WARN BlockManager: Block input-0-1681863191400 replicated to only 0 peer(s) instead of 1 peers\n",
      "23/04/18 18:13:12 WARN RandomBlockReplicationPolicy: Expecting 1 replicas with only 0 peer/s.\n",
      "23/04/18 18:13:12 WARN BlockManager: Block input-0-1681863191800 replicated to only 0 peer(s) instead of 1 peers\n",
      "23/04/18 18:13:12 WARN RandomBlockReplicationPolicy: Expecting 1 replicas with only 0 peer/s.\n",
      "23/04/18 18:13:12 WARN BlockManager: Block input-0-1681863192400 replicated to only 0 peer(s) instead of 1 peers\n",
      "23/04/18 18:13:13 WARN RandomBlockReplicationPolicy: Expecting 1 replicas with only 0 peer/s.\n",
      "23/04/18 18:13:13 WARN BlockManager: Block input-0-1681863192800 replicated to only 0 peer(s) instead of 1 peers\n",
      "23/04/18 18:13:13 WARN RandomBlockReplicationPolicy: Expecting 1 replicas with only 0 peer/s.\n",
      "23/04/18 18:13:13 WARN BlockManager: Block input-0-1681863193400 replicated to only 0 peer(s) instead of 1 peers\n",
      "23/04/18 18:13:15 WARN RandomBlockReplicationPolicy: Expecting 1 replicas with only 0 peer/s.\n",
      "23/04/18 18:13:15 WARN BlockManager: Block input-0-1681863195400 replicated to only 0 peer(s) instead of 1 peers\n",
      "23/04/18 18:13:15 WARN RandomBlockReplicationPolicy: Expecting 1 replicas with only 0 peer/s.\n",
      "23/04/18 18:13:15 WARN BlockManager: Block input-0-1681863195600 replicated to only 0 peer(s) instead of 1 peers\n"
     ]
    },
    {
     "name": "stderr",
     "output_type": "stream",
     "text": [
      "[Stage 0:>                  (0 + 1) / 1][Stage 9:========>        (37 + 3) / 74]\r"
     ]
    },
    {
     "name": "stdout",
     "output_type": "stream",
     "text": [
      "23/04/18 18:13:16 WARN RandomBlockReplicationPolicy: Expecting 1 replicas with only 0 peer/s.\n",
      "23/04/18 18:13:16 WARN BlockManager: Block input-0-1681863195800 replicated to only 0 peer(s) instead of 1 peers\n",
      "23/04/18 18:13:16 WARN RandomBlockReplicationPolicy: Expecting 1 replicas with only 0 peer/s.\n",
      "23/04/18 18:13:16 WARN BlockManager: Block input-0-1681863196000 replicated to only 0 peer(s) instead of 1 peers\n"
     ]
    },
    {
     "name": "stderr",
     "output_type": "stream",
     "text": [
      "[Stage 0:>                  (0 + 1) / 1][Stage 9:=============>   (59 + 3) / 74]\r"
     ]
    },
    {
     "name": "stdout",
     "output_type": "stream",
     "text": [
      "23/04/18 18:13:16 WARN RandomBlockReplicationPolicy: Expecting 1 replicas with only 0 peer/s.\n",
      "23/04/18 18:13:16 WARN BlockManager: Block input-0-1681863196200 replicated to only 0 peer(s) instead of 1 peers\n"
     ]
    },
    {
     "name": "stderr",
     "output_type": "stream",
     "text": [
      "                                                                                \r"
     ]
    },
    {
     "name": "stdout",
     "output_type": "stream",
     "text": [
      "\n",
      "Top 10 Hashtags:\n",
      "39 (9)\n",
      "m (2)\n",
      "photography (1)\n",
      "Nightsky (1)\n",
      "AuroraBorealis (1)\n",
      "stars (1)\n",
      "23/04/18 18:13:17 WARN RandomBlockReplicationPolicy: Expecting 1 replicas with only 0 peer/s.\n",
      "23/04/18 18:13:17 WARN BlockManager: Block input-0-1681863197200 replicated to only 0 peer(s) instead of 1 peers\n"
     ]
    },
    {
     "name": "stderr",
     "output_type": "stream",
     "text": [
      "[Stage 0:>                                                          (0 + 1) / 1]\r"
     ]
    },
    {
     "name": "stdout",
     "output_type": "stream",
     "text": [
      "23/04/18 18:13:18 WARN RandomBlockReplicationPolicy: Expecting 1 replicas with only 0 peer/s.\n",
      "23/04/18 18:13:18 WARN BlockManager: Block input-0-1681863197800 replicated to only 0 peer(s) instead of 1 peers\n",
      "23/04/18 18:13:18 WARN RandomBlockReplicationPolicy: Expecting 1 replicas with only 0 peer/s.\n",
      "23/04/18 18:13:18 WARN BlockManager: Block input-0-1681863198400 replicated to only 0 peer(s) instead of 1 peers\n",
      "23/04/18 18:13:20 WARN RandomBlockReplicationPolicy: Expecting 1 replicas with only 0 peer/s.\n",
      "23/04/18 18:13:20 WARN BlockManager: Block input-0-1681863200000 replicated to only 0 peer(s) instead of 1 peers\n",
      "23/04/18 18:13:20 WARN RandomBlockReplicationPolicy: Expecting 1 replicas with only 0 peer/s.\n",
      "23/04/18 18:13:20 WARN BlockManager: Block input-0-1681863200200 replicated to only 0 peer(s) instead of 1 peers\n",
      "23/04/18 18:13:21 WARN RandomBlockReplicationPolicy: Expecting 1 replicas with only 0 peer/s.\n",
      "23/04/18 18:13:21 WARN BlockManager: Block input-0-1681863201400 replicated to only 0 peer(s) instead of 1 peers\n",
      "23/04/18 18:13:22 WARN RandomBlockReplicationPolicy: Expecting 1 replicas with only 0 peer/s.\n",
      "23/04/18 18:13:22 WARN BlockManager: Block input-0-1681863202000 replicated to only 0 peer(s) instead of 1 peers\n",
      "23/04/18 18:13:22 WARN RandomBlockReplicationPolicy: Expecting 1 replicas with only 0 peer/s.\n",
      "23/04/18 18:13:22 WARN BlockManager: Block input-0-1681863202200 replicated to only 0 peer(s) instead of 1 peers\n",
      "23/04/18 18:13:22 WARN RandomBlockReplicationPolicy: Expecting 1 replicas with only 0 peer/s.\n",
      "23/04/18 18:13:22 WARN BlockManager: Block input-0-1681863202600 replicated to only 0 peer(s) instead of 1 peers\n",
      "23/04/18 18:13:23 WARN RandomBlockReplicationPolicy: Expecting 1 replicas with only 0 peer/s.\n",
      "23/04/18 18:13:23 WARN BlockManager: Block input-0-1681863203000 replicated to only 0 peer(s) instead of 1 peers\n",
      "23/04/18 18:13:24 WARN RandomBlockReplicationPolicy: Expecting 1 replicas with only 0 peer/s.\n",
      "23/04/18 18:13:24 WARN BlockManager: Block input-0-1681863204000 replicated to only 0 peer(s) instead of 1 peers\n",
      "23/04/18 18:13:24 WARN RandomBlockReplicationPolicy: Expecting 1 replicas with only 0 peer/s.\n",
      "23/04/18 18:13:24 WARN BlockManager: Block input-0-1681863204200 replicated to only 0 peer(s) instead of 1 peers\n",
      "23/04/18 18:13:24 WARN RandomBlockReplicationPolicy: Expecting 1 replicas with only 0 peer/s.\n",
      "23/04/18 18:13:24 WARN BlockManager: Block input-0-1681863204400 replicated to only 0 peer(s) instead of 1 peers\n",
      "23/04/18 18:13:25 WARN RandomBlockReplicationPolicy: Expecting 1 replicas with only 0 peer/s.\n",
      "23/04/18 18:13:25 WARN BlockManager: Block input-0-1681863204800 replicated to only 0 peer(s) instead of 1 peers\n",
      "23/04/18 18:13:25 WARN RandomBlockReplicationPolicy: Expecting 1 replicas with only 0 peer/s.\n",
      "23/04/18 18:13:25 WARN BlockManager: Block input-0-1681863205000 replicated to only 0 peer(s) instead of 1 peers\n",
      "23/04/18 18:13:25 WARN RandomBlockReplicationPolicy: Expecting 1 replicas with only 0 peer/s.\n",
      "23/04/18 18:13:25 WARN BlockManager: Block input-0-1681863205200 replicated to only 0 peer(s) instead of 1 peers\n"
     ]
    },
    {
     "name": "stderr",
     "output_type": "stream",
     "text": [
      "[Stage 0:>                  (0 + 1) / 1][Stage 11:=======>        (43 + 3) / 92]\r"
     ]
    },
    {
     "name": "stdout",
     "output_type": "stream",
     "text": [
      "23/04/18 18:13:25 WARN RandomBlockReplicationPolicy: Expecting 1 replicas with only 0 peer/s.\n",
      "23/04/18 18:13:25 WARN BlockManager: Block input-0-1681863205600 replicated to only 0 peer(s) instead of 1 peers\n"
     ]
    },
    {
     "name": "stderr",
     "output_type": "stream",
     "text": [
      "[Stage 0:>                  (0 + 1) / 1][Stage 11:==============> (81 + 3) / 92]\r"
     ]
    },
    {
     "name": "stdout",
     "output_type": "stream",
     "text": [
      "23/04/18 18:13:26 WARN RandomBlockReplicationPolicy: Expecting 1 replicas with only 0 peer/s.\n",
      "23/04/18 18:13:26 WARN BlockManager: Block input-0-1681863206400 replicated to only 0 peer(s) instead of 1 peers\n"
     ]
    },
    {
     "name": "stderr",
     "output_type": "stream",
     "text": [
      "[Stage 0:>                                                          (0 + 1) / 1]\r"
     ]
    },
    {
     "name": "stdout",
     "output_type": "stream",
     "text": [
      "23/04/18 18:13:27 WARN RandomBlockReplicationPolicy: Expecting 1 replicas with only 0 peer/s.\n",
      "23/04/18 18:13:27 WARN BlockManager: Block input-0-1681863206800 replicated to only 0 peer(s) instead of 1 peers\n"
     ]
    },
    {
     "name": "stderr",
     "output_type": "stream",
     "text": [
      "                                                                                \r"
     ]
    },
    {
     "name": "stdout",
     "output_type": "stream",
     "text": [
      "\n",
      "Top 10 Hashtags:\n",
      "39 (9)\n",
      "m (2)\n",
      "photography (1)\n",
      "Nightsky (1)\n",
      "outdoors (1)\n",
      "AuroraBorealis (1)\n",
      "stars (1)\n",
      "nature (1)\n",
      "california (1)\n",
      "pasoRobles (1)\n",
      "23/04/18 18:13:27 WARN RandomBlockReplicationPolicy: Expecting 1 replicas with only 0 peer/s.\n",
      "23/04/18 18:13:27 WARN BlockManager: Block input-0-1681863207200 replicated to only 0 peer(s) instead of 1 peers\n",
      "23/04/18 18:13:27 WARN RandomBlockReplicationPolicy: Expecting 1 replicas with only 0 peer/s.\n",
      "23/04/18 18:13:27 WARN BlockManager: Block input-0-1681863207400 replicated to only 0 peer(s) instead of 1 peers\n",
      "23/04/18 18:13:27 WARN RandomBlockReplicationPolicy: Expecting 1 replicas with only 0 peer/s.\n",
      "23/04/18 18:13:27 WARN BlockManager: Block input-0-1681863207600 replicated to only 0 peer(s) instead of 1 peers\n"
     ]
    },
    {
     "name": "stderr",
     "output_type": "stream",
     "text": [
      "[Stage 0:>                                                          (0 + 1) / 1]\r"
     ]
    },
    {
     "name": "stdout",
     "output_type": "stream",
     "text": [
      "23/04/18 18:13:28 WARN RandomBlockReplicationPolicy: Expecting 1 replicas with only 0 peer/s.\n",
      "23/04/18 18:13:28 WARN BlockManager: Block input-0-1681863208200 replicated to only 0 peer(s) instead of 1 peers\n",
      "23/04/18 18:13:28 WARN RandomBlockReplicationPolicy: Expecting 1 replicas with only 0 peer/s.\n",
      "23/04/18 18:13:28 WARN BlockManager: Block input-0-1681863208400 replicated to only 0 peer(s) instead of 1 peers\n",
      "23/04/18 18:13:29 WARN RandomBlockReplicationPolicy: Expecting 1 replicas with only 0 peer/s.\n",
      "23/04/18 18:13:29 WARN BlockManager: Block input-0-1681863209400 replicated to only 0 peer(s) instead of 1 peers\n",
      "23/04/18 18:13:29 WARN RandomBlockReplicationPolicy: Expecting 1 replicas with only 0 peer/s.\n",
      "23/04/18 18:13:29 WARN BlockManager: Block input-0-1681863209600 replicated to only 0 peer(s) instead of 1 peers\n",
      "23/04/18 18:13:30 WARN RandomBlockReplicationPolicy: Expecting 1 replicas with only 0 peer/s.\n",
      "23/04/18 18:13:30 WARN BlockManager: Block input-0-1681863210400 replicated to only 0 peer(s) instead of 1 peers\n",
      "23/04/18 18:13:31 WARN RandomBlockReplicationPolicy: Expecting 1 replicas with only 0 peer/s.\n",
      "23/04/18 18:13:31 WARN BlockManager: Block input-0-1681863211000 replicated to only 0 peer(s) instead of 1 peers\n",
      "23/04/18 18:13:32 WARN RandomBlockReplicationPolicy: Expecting 1 replicas with only 0 peer/s.\n",
      "23/04/18 18:13:32 WARN BlockManager: Block input-0-1681863212000 replicated to only 0 peer(s) instead of 1 peers\n",
      "23/04/18 18:13:32 WARN RandomBlockReplicationPolicy: Expecting 1 replicas with only 0 peer/s.\n",
      "23/04/18 18:13:32 WARN BlockManager: Block input-0-1681863212600 replicated to only 0 peer(s) instead of 1 peers\n",
      "23/04/18 18:13:33 WARN RandomBlockReplicationPolicy: Expecting 1 replicas with only 0 peer/s.\n",
      "23/04/18 18:13:33 WARN BlockManager: Block input-0-1681863213400 replicated to only 0 peer(s) instead of 1 peers\n",
      "23/04/18 18:13:34 WARN RandomBlockReplicationPolicy: Expecting 1 replicas with only 0 peer/s.\n",
      "23/04/18 18:13:34 WARN BlockManager: Block input-0-1681863214000 replicated to only 0 peer(s) instead of 1 peers\n",
      "23/04/18 18:13:34 WARN RandomBlockReplicationPolicy: Expecting 1 replicas with only 0 peer/s.\n",
      "23/04/18 18:13:34 WARN BlockManager: Block input-0-1681863214200 replicated to only 0 peer(s) instead of 1 peers\n"
     ]
    },
    {
     "name": "stderr",
     "output_type": "stream",
     "text": [
      "[Stage 0:>                  (0 + 1) / 1][Stage 13:============> (100 + 3) / 112]\r"
     ]
    },
    {
     "name": "stdout",
     "output_type": "stream",
     "text": [
      "23/04/18 18:13:36 WARN RandomBlockReplicationPolicy: Expecting 1 replicas with only 0 peer/s.\n",
      "23/04/18 18:13:36 WARN BlockManager: Block input-0-1681863216600 replicated to only 0 peer(s) instead of 1 peers\n",
      "23/04/18 18:13:37 WARN RandomBlockReplicationPolicy: Expecting 1 replicas with only 0 peer/s.\n",
      "23/04/18 18:13:37 WARN BlockManager: Block input-0-1681863216800 replicated to only 0 peer(s) instead of 1 peers\n"
     ]
    },
    {
     "name": "stderr",
     "output_type": "stream",
     "text": [
      "                                                                                \r"
     ]
    },
    {
     "name": "stdout",
     "output_type": "stream",
     "text": [
      "\n",
      "Top 10 Hashtags:\n",
      "39 (9)\n",
      "m (2)\n",
      "photography (1)\n",
      "Nightsky (1)\n",
      "outdoors (1)\n",
      "AuroraBorealis (1)\n",
      "stars (1)\n",
      "nature (1)\n",
      "california (1)\n",
      "pasoRobles (1)\n",
      "23/04/18 18:13:37 WARN RandomBlockReplicationPolicy: Expecting 1 replicas with only 0 peer/s.\n",
      "23/04/18 18:13:37 WARN BlockManager: Block input-0-1681863217600 replicated to only 0 peer(s) instead of 1 peers\n"
     ]
    },
    {
     "name": "stderr",
     "output_type": "stream",
     "text": [
      "[Stage 0:>                                                          (0 + 1) / 1]\r"
     ]
    },
    {
     "name": "stdout",
     "output_type": "stream",
     "text": [
      "23/04/18 18:13:38 WARN RandomBlockReplicationPolicy: Expecting 1 replicas with only 0 peer/s.\n",
      "23/04/18 18:13:38 WARN BlockManager: Block input-0-1681863218000 replicated to only 0 peer(s) instead of 1 peers\n",
      "23/04/18 18:13:39 WARN RandomBlockReplicationPolicy: Expecting 1 replicas with only 0 peer/s.\n",
      "23/04/18 18:13:39 WARN BlockManager: Block input-0-1681863219200 replicated to only 0 peer(s) instead of 1 peers\n",
      "23/04/18 18:13:39 WARN RandomBlockReplicationPolicy: Expecting 1 replicas with only 0 peer/s.\n",
      "23/04/18 18:13:39 WARN BlockManager: Block input-0-1681863219600 replicated to only 0 peer(s) instead of 1 peers\n",
      "23/04/18 18:13:40 WARN RandomBlockReplicationPolicy: Expecting 1 replicas with only 0 peer/s.\n",
      "23/04/18 18:13:40 WARN BlockManager: Block input-0-1681863219800 replicated to only 0 peer(s) instead of 1 peers\n",
      "23/04/18 18:13:41 WARN RandomBlockReplicationPolicy: Expecting 1 replicas with only 0 peer/s.\n",
      "23/04/18 18:13:41 WARN BlockManager: Block input-0-1681863220800 replicated to only 0 peer(s) instead of 1 peers\n",
      "23/04/18 18:13:41 WARN RandomBlockReplicationPolicy: Expecting 1 replicas with only 0 peer/s.\n",
      "23/04/18 18:13:41 WARN BlockManager: Block input-0-1681863221000 replicated to only 0 peer(s) instead of 1 peers\n",
      "23/04/18 18:13:41 WARN RandomBlockReplicationPolicy: Expecting 1 replicas with only 0 peer/s.\n",
      "23/04/18 18:13:41 WARN BlockManager: Block input-0-1681863221200 replicated to only 0 peer(s) instead of 1 peers\n",
      "23/04/18 18:13:41 WARN RandomBlockReplicationPolicy: Expecting 1 replicas with only 0 peer/s.\n",
      "23/04/18 18:13:41 WARN BlockManager: Block input-0-1681863221400 replicated to only 0 peer(s) instead of 1 peers\n",
      "23/04/18 18:13:42 WARN RandomBlockReplicationPolicy: Expecting 1 replicas with only 0 peer/s.\n",
      "23/04/18 18:13:42 WARN BlockManager: Block input-0-1681863221800 replicated to only 0 peer(s) instead of 1 peers\n",
      "23/04/18 18:13:43 WARN RandomBlockReplicationPolicy: Expecting 1 replicas with only 0 peer/s.\n",
      "23/04/18 18:13:43 WARN BlockManager: Block input-0-1681863223000 replicated to only 0 peer(s) instead of 1 peers\n",
      "23/04/18 18:13:43 WARN RandomBlockReplicationPolicy: Expecting 1 replicas with only 0 peer/s.\n",
      "23/04/18 18:13:43 WARN BlockManager: Block input-0-1681863223200 replicated to only 0 peer(s) instead of 1 peers\n",
      "23/04/18 18:13:44 WARN RandomBlockReplicationPolicy: Expecting 1 replicas with only 0 peer/s.\n",
      "23/04/18 18:13:44 WARN BlockManager: Block input-0-1681863223800 replicated to only 0 peer(s) instead of 1 peers\n",
      "23/04/18 18:13:44 WARN RandomBlockReplicationPolicy: Expecting 1 replicas with only 0 peer/s.\n",
      "23/04/18 18:13:44 WARN BlockManager: Block input-0-1681863224000 replicated to only 0 peer(s) instead of 1 peers\n",
      "23/04/18 18:13:44 WARN RandomBlockReplicationPolicy: Expecting 1 replicas with only 0 peer/s.\n",
      "23/04/18 18:13:44 WARN BlockManager: Block input-0-1681863224600 replicated to only 0 peer(s) instead of 1 peers\n",
      "23/04/18 18:13:45 WARN RandomBlockReplicationPolicy: Expecting 1 replicas with only 0 peer/s.\n",
      "23/04/18 18:13:45 WARN BlockManager: Block input-0-1681863225000 replicated to only 0 peer(s) instead of 1 peers\n"
     ]
    },
    {
     "name": "stderr",
     "output_type": "stream",
     "text": [
      "[Stage 0:>                  (0 + 1) / 1][Stage 15:=====>         (48 + 3) / 129]\r"
     ]
    },
    {
     "name": "stdout",
     "output_type": "stream",
     "text": [
      "23/04/18 18:13:46 WARN RandomBlockReplicationPolicy: Expecting 1 replicas with only 0 peer/s.\n",
      "23/04/18 18:13:46 WARN BlockManager: Block input-0-1681863226000 replicated to only 0 peer(s) instead of 1 peers\n",
      "23/04/18 18:13:46 WARN RandomBlockReplicationPolicy: Expecting 1 replicas with only 0 peer/s.\n",
      "23/04/18 18:13:46 WARN BlockManager: Block input-0-1681863226200 replicated to only 0 peer(s) instead of 1 peers\n"
     ]
    },
    {
     "name": "stderr",
     "output_type": "stream",
     "text": [
      "[Stage 0:>                  (0 + 1) / 1][Stage 15:========>      (72 + 3) / 129]\r"
     ]
    },
    {
     "name": "stdout",
     "output_type": "stream",
     "text": [
      "23/04/18 18:13:46 WARN RandomBlockReplicationPolicy: Expecting 1 replicas with only 0 peer/s.\n",
      "23/04/18 18:13:46 WARN BlockManager: Block input-0-1681863226400 replicated to only 0 peer(s) instead of 1 peers\n"
     ]
    },
    {
     "name": "stderr",
     "output_type": "stream",
     "text": [
      "[Stage 0:>                  (0 + 1) / 1][Stage 15:===========>  (103 + 3) / 129]\r"
     ]
    },
    {
     "name": "stdout",
     "output_type": "stream",
     "text": [
      "23/04/18 18:13:47 WARN RandomBlockReplicationPolicy: Expecting 1 replicas with only 0 peer/s.\n",
      "23/04/18 18:13:47 WARN BlockManager: Block input-0-1681863226800 replicated to only 0 peer(s) instead of 1 peers\n"
     ]
    },
    {
     "name": "stderr",
     "output_type": "stream",
     "text": [
      "                                                                                \r"
     ]
    },
    {
     "name": "stdout",
     "output_type": "stream",
     "text": [
      "\n",
      "Top 10 Hashtags:\n",
      "39 (9)\n",
      "m (4)\n",
      "photography (1)\n",
      "Nightsky (1)\n",
      "outdoors (1)\n",
      "AuroraBorealis (1)\n",
      "stars (1)\n",
      "nature (1)\n",
      "california (1)\n",
      "pasoRobles (1)\n"
     ]
    },
    {
     "name": "stderr",
     "output_type": "stream",
     "text": [
      "[Stage 0:>                                                          (0 + 1) / 1]\r"
     ]
    },
    {
     "name": "stdout",
     "output_type": "stream",
     "text": [
      "23/04/18 18:13:48 WARN RandomBlockReplicationPolicy: Expecting 1 replicas with only 0 peer/s.\n",
      "23/04/18 18:13:48 WARN BlockManager: Block input-0-1681863228400 replicated to only 0 peer(s) instead of 1 peers\n",
      "23/04/18 18:13:48 WARN RandomBlockReplicationPolicy: Expecting 1 replicas with only 0 peer/s.\n",
      "23/04/18 18:13:48 WARN BlockManager: Block input-0-1681863228600 replicated to only 0 peer(s) instead of 1 peers\n",
      "23/04/18 18:13:50 WARN RandomBlockReplicationPolicy: Expecting 1 replicas with only 0 peer/s.\n",
      "23/04/18 18:13:50 WARN BlockManager: Block input-0-1681863229800 replicated to only 0 peer(s) instead of 1 peers\n",
      "23/04/18 18:13:50 WARN RandomBlockReplicationPolicy: Expecting 1 replicas with only 0 peer/s.\n",
      "23/04/18 18:13:50 WARN BlockManager: Block input-0-1681863230400 replicated to only 0 peer(s) instead of 1 peers\n",
      "23/04/18 18:13:51 WARN RandomBlockReplicationPolicy: Expecting 1 replicas with only 0 peer/s.\n",
      "23/04/18 18:13:51 WARN BlockManager: Block input-0-1681863231200 replicated to only 0 peer(s) instead of 1 peers\n",
      "23/04/18 18:13:52 WARN RandomBlockReplicationPolicy: Expecting 1 replicas with only 0 peer/s.\n",
      "23/04/18 18:13:52 WARN BlockManager: Block input-0-1681863231800 replicated to only 0 peer(s) instead of 1 peers\n",
      "23/04/18 18:13:52 WARN RandomBlockReplicationPolicy: Expecting 1 replicas with only 0 peer/s.\n",
      "23/04/18 18:13:52 WARN BlockManager: Block input-0-1681863232400 replicated to only 0 peer(s) instead of 1 peers\n",
      "23/04/18 18:13:52 WARN RandomBlockReplicationPolicy: Expecting 1 replicas with only 0 peer/s.\n",
      "23/04/18 18:13:52 WARN BlockManager: Block input-0-1681863232600 replicated to only 0 peer(s) instead of 1 peers\n",
      "23/04/18 18:13:53 WARN RandomBlockReplicationPolicy: Expecting 1 replicas with only 0 peer/s.\n",
      "23/04/18 18:13:53 WARN BlockManager: Block input-0-1681863232800 replicated to only 0 peer(s) instead of 1 peers\n",
      "23/04/18 18:13:53 WARN RandomBlockReplicationPolicy: Expecting 1 replicas with only 0 peer/s.\n",
      "23/04/18 18:13:53 WARN BlockManager: Block input-0-1681863233200 replicated to only 0 peer(s) instead of 1 peers\n"
     ]
    },
    {
     "name": "stderr",
     "output_type": "stream",
     "text": [
      "[Stage 0:>                  (0 + 1) / 1][Stage 17:=====>         (57 + 3) / 144]\r"
     ]
    },
    {
     "name": "stdout",
     "output_type": "stream",
     "text": [
      "23/04/18 18:13:56 WARN RandomBlockReplicationPolicy: Expecting 1 replicas with only 0 peer/s.\n",
      "23/04/18 18:13:56 WARN BlockManager: Block input-0-1681863236000 replicated to only 0 peer(s) instead of 1 peers\n"
     ]
    },
    {
     "name": "stderr",
     "output_type": "stream",
     "text": [
      "[Stage 0:>                  (0 + 1) / 1][Stage 17:========>      (81 + 3) / 144]\r"
     ]
    },
    {
     "name": "stdout",
     "output_type": "stream",
     "text": [
      "23/04/18 18:13:56 WARN RandomBlockReplicationPolicy: Expecting 1 replicas with only 0 peer/s.\n",
      "23/04/18 18:13:56 WARN BlockManager: Block input-0-1681863236400 replicated to only 0 peer(s) instead of 1 peers\n"
     ]
    },
    {
     "name": "stderr",
     "output_type": "stream",
     "text": [
      "[Stage 0:>                  (0 + 1) / 1][Stage 17:=========>     (93 + 3) / 144]\r"
     ]
    },
    {
     "name": "stdout",
     "output_type": "stream",
     "text": [
      "23/04/18 18:13:56 WARN RandomBlockReplicationPolicy: Expecting 1 replicas with only 0 peer/s.\n",
      "23/04/18 18:13:56 WARN BlockManager: Block input-0-1681863236600 replicated to only 0 peer(s) instead of 1 peers\n"
     ]
    },
    {
     "name": "stderr",
     "output_type": "stream",
     "text": [
      "                                                                                \r"
     ]
    },
    {
     "name": "stdout",
     "output_type": "stream",
     "text": [
      "\n",
      "Top 10 Hashtags:\n",
      "39 (11)\n",
      "m (4)\n",
      "photography (1)\n",
      "Nightsky (1)\n",
      "outdoors (1)\n",
      "AuroraBorealis (1)\n",
      "stars (1)\n",
      "nature (1)\n",
      "california (1)\n",
      "pasoRobles (1)\n"
     ]
    },
    {
     "name": "stderr",
     "output_type": "stream",
     "text": [
      "[Stage 0:>                                                          (0 + 1) / 1]\r"
     ]
    },
    {
     "name": "stdout",
     "output_type": "stream",
     "text": [
      "23/04/18 18:13:58 WARN RandomBlockReplicationPolicy: Expecting 1 replicas with only 0 peer/s.\n",
      "23/04/18 18:13:58 WARN BlockManager: Block input-0-1681863238400 replicated to only 0 peer(s) instead of 1 peers\n",
      "23/04/18 18:13:59 WARN RandomBlockReplicationPolicy: Expecting 1 replicas with only 0 peer/s.\n",
      "23/04/18 18:13:59 WARN BlockManager: Block input-0-1681863238800 replicated to only 0 peer(s) instead of 1 peers\n",
      "23/04/18 18:13:59 WARN RandomBlockReplicationPolicy: Expecting 1 replicas with only 0 peer/s.\n",
      "23/04/18 18:13:59 WARN BlockManager: Block input-0-1681863239400 replicated to only 0 peer(s) instead of 1 peers\n",
      "23/04/18 18:14:00 WARN RandomBlockReplicationPolicy: Expecting 1 replicas with only 0 peer/s.\n",
      "23/04/18 18:14:00 WARN BlockManager: Block input-0-1681863240200 replicated to only 0 peer(s) instead of 1 peers\n",
      "23/04/18 18:14:01 WARN RandomBlockReplicationPolicy: Expecting 1 replicas with only 0 peer/s.\n",
      "23/04/18 18:14:01 WARN BlockManager: Block input-0-1681863241400 replicated to only 0 peer(s) instead of 1 peers\n",
      "23/04/18 18:14:01 WARN RandomBlockReplicationPolicy: Expecting 1 replicas with only 0 peer/s.\n",
      "23/04/18 18:14:01 WARN BlockManager: Block input-0-1681863241600 replicated to only 0 peer(s) instead of 1 peers\n",
      "23/04/18 18:14:02 WARN RandomBlockReplicationPolicy: Expecting 1 replicas with only 0 peer/s.\n",
      "23/04/18 18:14:02 WARN BlockManager: Block input-0-1681863241800 replicated to only 0 peer(s) instead of 1 peers\n",
      "23/04/18 18:14:03 WARN RandomBlockReplicationPolicy: Expecting 1 replicas with only 0 peer/s.\n",
      "23/04/18 18:14:03 WARN BlockManager: Block input-0-1681863243200 replicated to only 0 peer(s) instead of 1 peers\n",
      "23/04/18 18:14:03 WARN RandomBlockReplicationPolicy: Expecting 1 replicas with only 0 peer/s.\n",
      "23/04/18 18:14:03 WARN BlockManager: Block input-0-1681863243400 replicated to only 0 peer(s) instead of 1 peers\n",
      "23/04/18 18:14:04 WARN RandomBlockReplicationPolicy: Expecting 1 replicas with only 0 peer/s.\n",
      "23/04/18 18:14:04 WARN BlockManager: Block input-0-1681863243800 replicated to only 0 peer(s) instead of 1 peers\n",
      "23/04/18 18:14:04 WARN RandomBlockReplicationPolicy: Expecting 1 replicas with only 0 peer/s.\n",
      "23/04/18 18:14:04 WARN BlockManager: Block input-0-1681863244000 replicated to only 0 peer(s) instead of 1 peers\n",
      "23/04/18 18:14:04 WARN RandomBlockReplicationPolicy: Expecting 1 replicas with only 0 peer/s.\n",
      "23/04/18 18:14:04 WARN BlockManager: Block input-0-1681863244400 replicated to only 0 peer(s) instead of 1 peers\n",
      "23/04/18 18:14:04 WARN RandomBlockReplicationPolicy: Expecting 1 replicas with only 0 peer/s.\n",
      "23/04/18 18:14:04 WARN BlockManager: Block input-0-1681863244600 replicated to only 0 peer(s) instead of 1 peers\n",
      "23/04/18 18:14:05 WARN RandomBlockReplicationPolicy: Expecting 1 replicas with only 0 peer/s.\n",
      "23/04/18 18:14:05 WARN BlockManager: Block input-0-1681863244800 replicated to only 0 peer(s) instead of 1 peers\n",
      "23/04/18 18:14:05 WARN RandomBlockReplicationPolicy: Expecting 1 replicas with only 0 peer/s.\n",
      "23/04/18 18:14:05 WARN BlockManager: Block input-0-1681863245400 replicated to only 0 peer(s) instead of 1 peers\n",
      "23/04/18 18:14:05 WARN RandomBlockReplicationPolicy: Expecting 1 replicas with only 0 peer/s.\n",
      "23/04/18 18:14:05 WARN BlockManager: Block input-0-1681863245600 replicated to only 0 peer(s) instead of 1 peers\n"
     ]
    },
    {
     "name": "stderr",
     "output_type": "stream",
     "text": [
      "[Stage 0:>                  (0 + 1) / 1][Stage 19:====>          (47 + 5) / 160]\r"
     ]
    },
    {
     "name": "stdout",
     "output_type": "stream",
     "text": [
      "23/04/18 18:14:06 WARN RandomBlockReplicationPolicy: Expecting 1 replicas with only 0 peer/s.\n",
      "23/04/18 18:14:06 WARN BlockManager: Block input-0-1681863246000 replicated to only 0 peer(s) instead of 1 peers\n",
      "23/04/18 18:14:06 WARN RandomBlockReplicationPolicy: Expecting 1 replicas with only 0 peer/s.\n",
      "23/04/18 18:14:06 WARN BlockManager: Block input-0-1681863246200 replicated to only 0 peer(s) instead of 1 peers\n"
     ]
    },
    {
     "name": "stderr",
     "output_type": "stream",
     "text": [
      "[Stage 0:>                  (0 + 1) / 1][Stage 19:======>        (73 + 3) / 160]\r"
     ]
    },
    {
     "name": "stdout",
     "output_type": "stream",
     "text": [
      "23/04/18 18:14:06 WARN RandomBlockReplicationPolicy: Expecting 1 replicas with only 0 peer/s.\n",
      "23/04/18 18:14:06 WARN BlockManager: Block input-0-1681863246400 replicated to only 0 peer(s) instead of 1 peers\n"
     ]
    },
    {
     "name": "stderr",
     "output_type": "stream",
     "text": [
      "[Stage 0:>                  (0 + 1) / 1][Stage 19:===========>  (133 + 3) / 160]\r"
     ]
    },
    {
     "name": "stdout",
     "output_type": "stream",
     "text": [
      "23/04/18 18:14:07 WARN RandomBlockReplicationPolicy: Expecting 1 replicas with only 0 peer/s.\n",
      "23/04/18 18:14:07 WARN BlockManager: Block input-0-1681863247400 replicated to only 0 peer(s) instead of 1 peers\n"
     ]
    },
    {
     "name": "stderr",
     "output_type": "stream",
     "text": [
      "[Stage 0:>                                                          (0 + 1) / 1]\r"
     ]
    },
    {
     "name": "stdout",
     "output_type": "stream",
     "text": [
      "23/04/18 18:14:08 WARN RandomBlockReplicationPolicy: Expecting 1 replicas with only 0 peer/s.\n",
      "23/04/18 18:14:08 WARN BlockManager: Block input-0-1681863248000 replicated to only 0 peer(s) instead of 1 peers\n",
      "\n",
      "Top 10 Hashtags:\n",
      "39 (11)\n",
      "m (6)\n",
      "photography (1)\n",
      "Nightsky (1)\n",
      "outdoors (1)\n",
      "AuroraBorealis (1)\n",
      "stars (1)\n",
      "nature (1)\n",
      "california (1)\n",
      "pasoRobles (1)\n"
     ]
    },
    {
     "name": "stderr",
     "output_type": "stream",
     "text": [
      "[Stage 0:>                                                          (0 + 1) / 1]\r"
     ]
    },
    {
     "name": "stdout",
     "output_type": "stream",
     "text": [
      "23/04/18 18:14:09 WARN RandomBlockReplicationPolicy: Expecting 1 replicas with only 0 peer/s.\n",
      "23/04/18 18:14:09 WARN BlockManager: Block input-0-1681863249600 replicated to only 0 peer(s) instead of 1 peers\n",
      "23/04/18 18:14:10 WARN RandomBlockReplicationPolicy: Expecting 1 replicas with only 0 peer/s.\n",
      "23/04/18 18:14:10 WARN BlockManager: Block input-0-1681863250600 replicated to only 0 peer(s) instead of 1 peers\n",
      "23/04/18 18:14:12 WARN RandomBlockReplicationPolicy: Expecting 1 replicas with only 0 peer/s.\n",
      "23/04/18 18:14:12 WARN BlockManager: Block input-0-1681863252000 replicated to only 0 peer(s) instead of 1 peers\n",
      "23/04/18 18:14:12 WARN RandomBlockReplicationPolicy: Expecting 1 replicas with only 0 peer/s.\n",
      "23/04/18 18:14:12 WARN BlockManager: Block input-0-1681863252200 replicated to only 0 peer(s) instead of 1 peers\n",
      "23/04/18 18:14:14 WARN RandomBlockReplicationPolicy: Expecting 1 replicas with only 0 peer/s.\n",
      "23/04/18 18:14:14 WARN BlockManager: Block input-0-1681863253800 replicated to only 0 peer(s) instead of 1 peers\n",
      "23/04/18 18:14:14 WARN RandomBlockReplicationPolicy: Expecting 1 replicas with only 0 peer/s.\n",
      "23/04/18 18:14:14 WARN BlockManager: Block input-0-1681863254000 replicated to only 0 peer(s) instead of 1 peers\n",
      "23/04/18 18:14:15 WARN RandomBlockReplicationPolicy: Expecting 1 replicas with only 0 peer/s.\n",
      "23/04/18 18:14:15 WARN BlockManager: Block input-0-1681863255200 replicated to only 0 peer(s) instead of 1 peers\n"
     ]
    },
    {
     "name": "stderr",
     "output_type": "stream",
     "text": [
      "[Stage 0:>                  (0 + 1) / 1][Stage 21:======>        (75 + 3) / 174]\r"
     ]
    },
    {
     "name": "stdout",
     "output_type": "stream",
     "text": [
      "23/04/18 18:14:16 WARN RandomBlockReplicationPolicy: Expecting 1 replicas with only 0 peer/s.\n",
      "23/04/18 18:14:16 WARN BlockManager: Block input-0-1681863256200 replicated to only 0 peer(s) instead of 1 peers\n"
     ]
    },
    {
     "name": "stderr",
     "output_type": "stream",
     "text": [
      "[Stage 0:>                  (0 + 1) / 1][Stage 21:===========>  (147 + 3) / 174]\r"
     ]
    },
    {
     "name": "stdout",
     "output_type": "stream",
     "text": [
      "23/04/18 18:14:17 WARN RandomBlockReplicationPolicy: Expecting 1 replicas with only 0 peer/s.\n",
      "23/04/18 18:14:17 WARN BlockManager: Block input-0-1681863257600 replicated to only 0 peer(s) instead of 1 peers\n"
     ]
    },
    {
     "name": "stderr",
     "output_type": "stream",
     "text": [
      "                                                                                \r"
     ]
    },
    {
     "name": "stdout",
     "output_type": "stream",
     "text": [
      "\n",
      "Top 10 Hashtags:\n",
      "39 (11)\n",
      "m (6)\n",
      "photography (1)\n",
      "Nightsky (1)\n",
      "outdoors (1)\n",
      "AuroraBorealis (1)\n",
      "stars (1)\n",
      "nature (1)\n",
      "california (1)\n",
      "pasoRobles (1)\n"
     ]
    },
    {
     "name": "stderr",
     "output_type": "stream",
     "text": [
      "[Stage 0:>                                                          (0 + 1) / 1]\r"
     ]
    },
    {
     "name": "stdout",
     "output_type": "stream",
     "text": [
      "23/04/18 18:14:20 WARN RandomBlockReplicationPolicy: Expecting 1 replicas with only 0 peer/s.\n",
      "23/04/18 18:14:20 WARN BlockManager: Block input-0-1681863260200 replicated to only 0 peer(s) instead of 1 peers\n",
      "23/04/18 18:14:21 WARN RandomBlockReplicationPolicy: Expecting 1 replicas with only 0 peer/s.\n",
      "23/04/18 18:14:21 WARN BlockManager: Block input-0-1681863260800 replicated to only 0 peer(s) instead of 1 peers\n",
      "23/04/18 18:14:21 WARN RandomBlockReplicationPolicy: Expecting 1 replicas with only 0 peer/s.\n",
      "23/04/18 18:14:21 WARN BlockManager: Block input-0-1681863261200 replicated to only 0 peer(s) instead of 1 peers\n",
      "23/04/18 18:14:21 WARN RandomBlockReplicationPolicy: Expecting 1 replicas with only 0 peer/s.\n",
      "23/04/18 18:14:21 WARN BlockManager: Block input-0-1681863261400 replicated to only 0 peer(s) instead of 1 peers\n",
      "23/04/18 18:14:22 WARN RandomBlockReplicationPolicy: Expecting 1 replicas with only 0 peer/s.\n",
      "23/04/18 18:14:22 WARN BlockManager: Block input-0-1681863261800 replicated to only 0 peer(s) instead of 1 peers\n",
      "23/04/18 18:14:22 WARN RandomBlockReplicationPolicy: Expecting 1 replicas with only 0 peer/s.\n",
      "23/04/18 18:14:22 WARN BlockManager: Block input-0-1681863262000 replicated to only 0 peer(s) instead of 1 peers\n",
      "23/04/18 18:14:24 WARN RandomBlockReplicationPolicy: Expecting 1 replicas with only 0 peer/s.\n",
      "23/04/18 18:14:24 WARN BlockManager: Block input-0-1681863264400 replicated to only 0 peer(s) instead of 1 peers\n",
      "23/04/18 18:14:24 WARN RandomBlockReplicationPolicy: Expecting 1 replicas with only 0 peer/s.\n",
      "23/04/18 18:14:24 WARN BlockManager: Block input-0-1681863264600 replicated to only 0 peer(s) instead of 1 peers\n"
     ]
    },
    {
     "name": "stderr",
     "output_type": "stream",
     "text": [
      "[Stage 0:>                  (0 + 1) / 1][Stage 23:======>        (75 + 3) / 185]\r"
     ]
    },
    {
     "name": "stdout",
     "output_type": "stream",
     "text": [
      "23/04/18 18:14:26 WARN RandomBlockReplicationPolicy: Expecting 1 replicas with only 0 peer/s.\n",
      "23/04/18 18:14:26 WARN BlockManager: Block input-0-1681863266000 replicated to only 0 peer(s) instead of 1 peers\n",
      "23/04/18 18:14:26 WARN RandomBlockReplicationPolicy: Expecting 1 replicas with only 0 peer/s.\n",
      "23/04/18 18:14:26 WARN BlockManager: Block input-0-1681863266200 replicated to only 0 peer(s) instead of 1 peers\n"
     ]
    },
    {
     "name": "stderr",
     "output_type": "stream",
     "text": [
      "[Stage 0:>                  (0 + 1) / 1][Stage 23:========>     (112 + 3) / 185]\r"
     ]
    },
    {
     "name": "stdout",
     "output_type": "stream",
     "text": [
      "23/04/18 18:14:26 WARN RandomBlockReplicationPolicy: Expecting 1 replicas with only 0 peer/s.\n",
      "23/04/18 18:14:26 WARN BlockManager: Block input-0-1681863266600 replicated to only 0 peer(s) instead of 1 peers\n",
      "23/04/18 18:14:27 WARN RandomBlockReplicationPolicy: Expecting 1 replicas with only 0 peer/s.\n",
      "23/04/18 18:14:27 WARN BlockManager: Block input-0-1681863266800 replicated to only 0 peer(s) instead of 1 peers\n"
     ]
    },
    {
     "name": "stderr",
     "output_type": "stream",
     "text": [
      "[Stage 0:>                  (0 + 1) / 1][Stage 23:==========>   (135 + 3) / 185]\r"
     ]
    },
    {
     "name": "stdout",
     "output_type": "stream",
     "text": [
      "23/04/18 18:14:27 WARN RandomBlockReplicationPolicy: Expecting 1 replicas with only 0 peer/s.\n",
      "23/04/18 18:14:27 WARN BlockManager: Block input-0-1681863267000 replicated to only 0 peer(s) instead of 1 peers\n"
     ]
    },
    {
     "name": "stderr",
     "output_type": "stream",
     "text": [
      "[Stage 0:>                  (0 + 1) / 1][Stage 23:============> (159 + 4) / 185]\r"
     ]
    },
    {
     "name": "stdout",
     "output_type": "stream",
     "text": [
      "23/04/18 18:14:27 WARN RandomBlockReplicationPolicy: Expecting 1 replicas with only 0 peer/s.\n",
      "23/04/18 18:14:27 WARN BlockManager: Block input-0-1681863267600 replicated to only 0 peer(s) instead of 1 peers\n"
     ]
    },
    {
     "name": "stderr",
     "output_type": "stream",
     "text": [
      "                                                                                \r"
     ]
    },
    {
     "name": "stdout",
     "output_type": "stream",
     "text": [
      "\n",
      "Top 10 Hashtags:\n",
      "39 (11)\n",
      "m (6)\n",
      "photography (1)\n",
      "Nightsky (1)\n",
      "outdoors (1)\n",
      "にゃんぷっぷーチャレンジ (1)\n",
      "AuroraBorealis (1)\n",
      "stars (1)\n",
      "nature (1)\n",
      "california (1)\n",
      "23/04/18 18:14:28 WARN RandomBlockReplicationPolicy: Expecting 1 replicas with only 0 peer/s.\n",
      "23/04/18 18:14:28 WARN BlockManager: Block input-0-1681863268400 replicated to only 0 peer(s) instead of 1 peers\n"
     ]
    },
    {
     "name": "stderr",
     "output_type": "stream",
     "text": [
      "[Stage 0:>                                                          (0 + 1) / 1]\r"
     ]
    },
    {
     "name": "stdout",
     "output_type": "stream",
     "text": [
      "23/04/18 18:14:29 WARN RandomBlockReplicationPolicy: Expecting 1 replicas with only 0 peer/s.\n",
      "23/04/18 18:14:29 WARN BlockManager: Block input-0-1681863269000 replicated to only 0 peer(s) instead of 1 peers\n",
      "23/04/18 18:14:29 WARN RandomBlockReplicationPolicy: Expecting 1 replicas with only 0 peer/s.\n",
      "23/04/18 18:14:29 WARN BlockManager: Block input-0-1681863269400 replicated to only 0 peer(s) instead of 1 peers\n",
      "23/04/18 18:14:30 WARN RandomBlockReplicationPolicy: Expecting 1 replicas with only 0 peer/s.\n",
      "23/04/18 18:14:30 WARN BlockManager: Block input-0-1681863269800 replicated to only 0 peer(s) instead of 1 peers\n",
      "23/04/18 18:14:30 WARN RandomBlockReplicationPolicy: Expecting 1 replicas with only 0 peer/s.\n",
      "23/04/18 18:14:30 WARN BlockManager: Block input-0-1681863270200 replicated to only 0 peer(s) instead of 1 peers\n",
      "23/04/18 18:14:31 WARN RandomBlockReplicationPolicy: Expecting 1 replicas with only 0 peer/s.\n",
      "23/04/18 18:14:31 WARN BlockManager: Block input-0-1681863271400 replicated to only 0 peer(s) instead of 1 peers\n",
      "23/04/18 18:14:31 WARN RandomBlockReplicationPolicy: Expecting 1 replicas with only 0 peer/s.\n",
      "23/04/18 18:14:31 WARN BlockManager: Block input-0-1681863271600 replicated to only 0 peer(s) instead of 1 peers\n",
      "23/04/18 18:14:32 WARN RandomBlockReplicationPolicy: Expecting 1 replicas with only 0 peer/s.\n",
      "23/04/18 18:14:32 WARN BlockManager: Block input-0-1681863272400 replicated to only 0 peer(s) instead of 1 peers\n",
      "23/04/18 18:14:32 WARN RandomBlockReplicationPolicy: Expecting 1 replicas with only 0 peer/s.\n",
      "23/04/18 18:14:32 WARN BlockManager: Block input-0-1681863272600 replicated to only 0 peer(s) instead of 1 peers\n",
      "23/04/18 18:14:33 WARN RandomBlockReplicationPolicy: Expecting 1 replicas with only 0 peer/s.\n",
      "23/04/18 18:14:33 WARN BlockManager: Block input-0-1681863272800 replicated to only 0 peer(s) instead of 1 peers\n",
      "23/04/18 18:14:33 WARN RandomBlockReplicationPolicy: Expecting 1 replicas with only 0 peer/s.\n",
      "23/04/18 18:14:33 WARN BlockManager: Block input-0-1681863273400 replicated to only 0 peer(s) instead of 1 peers\n",
      "23/04/18 18:14:34 WARN RandomBlockReplicationPolicy: Expecting 1 replicas with only 0 peer/s.\n",
      "23/04/18 18:14:34 WARN BlockManager: Block input-0-1681863274000 replicated to only 0 peer(s) instead of 1 peers\n",
      "23/04/18 18:14:35 WARN RandomBlockReplicationPolicy: Expecting 1 replicas with only 0 peer/s.\n",
      "23/04/18 18:14:35 WARN BlockManager: Block input-0-1681863275000 replicated to only 0 peer(s) instead of 1 peers\n",
      "23/04/18 18:14:35 WARN RandomBlockReplicationPolicy: Expecting 1 replicas with only 0 peer/s.\n",
      "23/04/18 18:14:35 WARN BlockManager: Block input-0-1681863275400 replicated to only 0 peer(s) instead of 1 peers\n",
      "23/04/18 18:14:35 WARN RandomBlockReplicationPolicy: Expecting 1 replicas with only 0 peer/s.\n",
      "23/04/18 18:14:35 WARN BlockManager: Block input-0-1681863275600 replicated to only 0 peer(s) instead of 1 peers\n"
     ]
    },
    {
     "name": "stderr",
     "output_type": "stream",
     "text": [
      "[Stage 0:>                  (0 + 1) / 1][Stage 25:=====>         (76 + 3) / 203]\r"
     ]
    },
    {
     "name": "stdout",
     "output_type": "stream",
     "text": [
      "23/04/18 18:14:36 WARN RandomBlockReplicationPolicy: Expecting 1 replicas with only 0 peer/s.\n",
      "23/04/18 18:14:36 WARN BlockManager: Block input-0-1681863276200 replicated to only 0 peer(s) instead of 1 peers\n"
     ]
    },
    {
     "name": "stderr",
     "output_type": "stream",
     "text": [
      "[Stage 0:>                  (0 + 1) / 1][Stage 25:======>       (100 + 3) / 203]\r"
     ]
    },
    {
     "name": "stdout",
     "output_type": "stream",
     "text": [
      "23/04/18 18:14:37 WARN RandomBlockReplicationPolicy: Expecting 1 replicas with only 0 peer/s.\n",
      "23/04/18 18:14:37 WARN BlockManager: Block input-0-1681863276800 replicated to only 0 peer(s) instead of 1 peers\n"
     ]
    },
    {
     "name": "stderr",
     "output_type": "stream",
     "text": [
      "[Stage 0:>                  (0 + 1) / 1][Stage 25:=============>(201 + 2) / 203]\r"
     ]
    },
    {
     "name": "stdout",
     "output_type": "stream",
     "text": [
      "23/04/18 18:14:38 WARN RandomBlockReplicationPolicy: Expecting 1 replicas with only 0 peer/s.\n",
      "23/04/18 18:14:38 WARN BlockManager: Block input-0-1681863278600 replicated to only 0 peer(s) instead of 1 peers\n",
      "\n",
      "Top 10 Hashtags:\n",
      "39 (11)\n",
      "m (6)\n",
      "Echobox (2)\n",
      "photography (1)\n",
      "Nightsky (1)\n",
      "outdoors (1)\n",
      "にゃんぷっぷーチャレンジ (1)\n",
      "4 (1)\n",
      "40 (1)\n",
      "AuroraBorealis (1)\n"
     ]
    },
    {
     "name": "stderr",
     "output_type": "stream",
     "text": [
      "[Stage 0:>                                                          (0 + 1) / 1]\r"
     ]
    },
    {
     "name": "stdout",
     "output_type": "stream",
     "text": [
      "23/04/18 18:14:40 WARN RandomBlockReplicationPolicy: Expecting 1 replicas with only 0 peer/s.\n",
      "23/04/18 18:14:40 WARN BlockManager: Block input-0-1681863279800 replicated to only 0 peer(s) instead of 1 peers\n",
      "23/04/18 18:14:41 WARN RandomBlockReplicationPolicy: Expecting 1 replicas with only 0 peer/s.\n",
      "23/04/18 18:14:41 WARN BlockManager: Block input-0-1681863281000 replicated to only 0 peer(s) instead of 1 peers\n",
      "23/04/18 18:14:41 WARN RandomBlockReplicationPolicy: Expecting 1 replicas with only 0 peer/s.\n",
      "23/04/18 18:14:41 WARN BlockManager: Block input-0-1681863281200 replicated to only 0 peer(s) instead of 1 peers\n",
      "23/04/18 18:14:41 WARN RandomBlockReplicationPolicy: Expecting 1 replicas with only 0 peer/s.\n",
      "23/04/18 18:14:41 WARN BlockManager: Block input-0-1681863281400 replicated to only 0 peer(s) instead of 1 peers\n",
      "23/04/18 18:14:42 WARN RandomBlockReplicationPolicy: Expecting 1 replicas with only 0 peer/s.\n",
      "23/04/18 18:14:42 WARN BlockManager: Block input-0-1681863281800 replicated to only 0 peer(s) instead of 1 peers\n",
      "23/04/18 18:14:43 WARN RandomBlockReplicationPolicy: Expecting 1 replicas with only 0 peer/s.\n",
      "23/04/18 18:14:43 WARN BlockManager: Block input-0-1681863283600 replicated to only 0 peer(s) instead of 1 peers\n",
      "23/04/18 18:14:44 WARN RandomBlockReplicationPolicy: Expecting 1 replicas with only 0 peer/s.\n",
      "23/04/18 18:14:44 WARN BlockManager: Block input-0-1681863283800 replicated to only 0 peer(s) instead of 1 peers\n",
      "23/04/18 18:14:44 WARN RandomBlockReplicationPolicy: Expecting 1 replicas with only 0 peer/s.\n",
      "23/04/18 18:14:44 WARN BlockManager: Block input-0-1681863284000 replicated to only 0 peer(s) instead of 1 peers\n",
      "23/04/18 18:14:44 WARN RandomBlockReplicationPolicy: Expecting 1 replicas with only 0 peer/s.\n",
      "23/04/18 18:14:44 WARN BlockManager: Block input-0-1681863284200 replicated to only 0 peer(s) instead of 1 peers\n",
      "23/04/18 18:14:44 WARN RandomBlockReplicationPolicy: Expecting 1 replicas with only 0 peer/s.\n",
      "23/04/18 18:14:44 WARN BlockManager: Block input-0-1681863284600 replicated to only 0 peer(s) instead of 1 peers\n",
      "23/04/18 18:14:45 WARN RandomBlockReplicationPolicy: Expecting 1 replicas with only 0 peer/s.\n",
      "23/04/18 18:14:45 WARN BlockManager: Block input-0-1681863285000 replicated to only 0 peer(s) instead of 1 peers\n"
     ]
    },
    {
     "name": "stderr",
     "output_type": "stream",
     "text": [
      "[Stage 0:>                  (0 + 1) / 1][Stage 27:==>            (30 + 3) / 219]\r"
     ]
    },
    {
     "name": "stdout",
     "output_type": "stream",
     "text": [
      "23/04/18 18:14:45 WARN RandomBlockReplicationPolicy: Expecting 1 replicas with only 0 peer/s.\n",
      "23/04/18 18:14:45 WARN BlockManager: Block input-0-1681863285600 replicated to only 0 peer(s) instead of 1 peers\n"
     ]
    },
    {
     "name": "stderr",
     "output_type": "stream",
     "text": [
      "[Stage 0:>                  (0 + 1) / 1][Stage 27:===>           (53 + 3) / 219]\r"
     ]
    },
    {
     "name": "stdout",
     "output_type": "stream",
     "text": [
      "23/04/18 18:14:46 WARN RandomBlockReplicationPolicy: Expecting 1 replicas with only 0 peer/s.\n",
      "23/04/18 18:14:46 WARN BlockManager: Block input-0-1681863285800 replicated to only 0 peer(s) instead of 1 peers\n"
     ]
    },
    {
     "name": "stderr",
     "output_type": "stream",
     "text": [
      "[Stage 0:>                  (0 + 1) / 1][Stage 27:=====>         (77 + 3) / 219]\r"
     ]
    },
    {
     "name": "stdout",
     "output_type": "stream",
     "text": [
      "23/04/18 18:14:46 WARN RandomBlockReplicationPolicy: Expecting 1 replicas with only 0 peer/s.\n",
      "23/04/18 18:14:46 WARN BlockManager: Block input-0-1681863286400 replicated to only 0 peer(s) instead of 1 peers\n"
     ]
    },
    {
     "name": "stderr",
     "output_type": "stream",
     "text": [
      "[Stage 0:>                  (0 + 1) / 1][Stage 27:========>     (128 + 3) / 219]\r"
     ]
    },
    {
     "name": "stdout",
     "output_type": "stream",
     "text": [
      "23/04/18 18:14:47 WARN RandomBlockReplicationPolicy: Expecting 1 replicas with only 0 peer/s.\n",
      "23/04/18 18:14:47 WARN BlockManager: Block input-0-1681863287200 replicated to only 0 peer(s) instead of 1 peers\n"
     ]
    },
    {
     "name": "stderr",
     "output_type": "stream",
     "text": [
      "[Stage 0:>                  (0 + 1) / 1][Stage 27:===========>  (175 + 3) / 219]\r"
     ]
    },
    {
     "name": "stdout",
     "output_type": "stream",
     "text": [
      "23/04/18 18:14:48 WARN RandomBlockReplicationPolicy: Expecting 1 replicas with only 0 peer/s.\n",
      "23/04/18 18:14:48 WARN BlockManager: Block input-0-1681863288200 replicated to only 0 peer(s) instead of 1 peers\n"
     ]
    },
    {
     "name": "stderr",
     "output_type": "stream",
     "text": [
      "                                                                                \r"
     ]
    },
    {
     "name": "stdout",
     "output_type": "stream",
     "text": [
      "\n",
      "Top 10 Hashtags:\n",
      "39 (12)\n",
      "m (6)\n",
      "Echobox (2)\n",
      "photography (1)\n",
      "Nightsky (1)\n",
      "outdoors (1)\n",
      "にゃんぷっぷーチャレンジ (1)\n",
      "4 (1)\n",
      "40 (1)\n",
      "AuroraBorealis (1)\n",
      "23/04/18 18:14:50 WARN RandomBlockReplicationPolicy: Expecting 1 replicas with only 0 peer/s.\n",
      "23/04/18 18:14:50 WARN BlockManager: Block input-0-1681863289800 replicated to only 0 peer(s) instead of 1 peers\n",
      "23/04/18 18:14:50 WARN RandomBlockReplicationPolicy: Expecting 1 replicas with only 0 peer/s.\n",
      "23/04/18 18:14:50 WARN BlockManager: Block input-0-1681863290000 replicated to only 0 peer(s) instead of 1 peers\n"
     ]
    },
    {
     "name": "stderr",
     "output_type": "stream",
     "text": [
      "[Stage 0:>                                                          (0 + 1) / 1]\r"
     ]
    },
    {
     "name": "stdout",
     "output_type": "stream",
     "text": [
      "23/04/18 18:14:50 WARN RandomBlockReplicationPolicy: Expecting 1 replicas with only 0 peer/s.\n",
      "23/04/18 18:14:50 WARN BlockManager: Block input-0-1681863290400 replicated to only 0 peer(s) instead of 1 peers\n",
      "23/04/18 18:14:50 WARN RandomBlockReplicationPolicy: Expecting 1 replicas with only 0 peer/s.\n",
      "23/04/18 18:14:50 WARN BlockManager: Block input-0-1681863290600 replicated to only 0 peer(s) instead of 1 peers\n",
      "23/04/18 18:14:51 WARN RandomBlockReplicationPolicy: Expecting 1 replicas with only 0 peer/s.\n",
      "23/04/18 18:14:51 WARN BlockManager: Block input-0-1681863291000 replicated to only 0 peer(s) instead of 1 peers\n",
      "23/04/18 18:14:51 WARN RandomBlockReplicationPolicy: Expecting 1 replicas with only 0 peer/s.\n",
      "23/04/18 18:14:51 WARN BlockManager: Block input-0-1681863291200 replicated to only 0 peer(s) instead of 1 peers\n",
      "23/04/18 18:14:52 WARN RandomBlockReplicationPolicy: Expecting 1 replicas with only 0 peer/s.\n",
      "23/04/18 18:14:52 WARN BlockManager: Block input-0-1681863292000 replicated to only 0 peer(s) instead of 1 peers\n",
      "23/04/18 18:14:52 WARN RandomBlockReplicationPolicy: Expecting 1 replicas with only 0 peer/s.\n",
      "23/04/18 18:14:52 WARN BlockManager: Block input-0-1681863292200 replicated to only 0 peer(s) instead of 1 peers\n",
      "23/04/18 18:14:53 WARN RandomBlockReplicationPolicy: Expecting 1 replicas with only 0 peer/s.\n",
      "23/04/18 18:14:53 WARN BlockManager: Block input-0-1681863293000 replicated to only 0 peer(s) instead of 1 peers\n",
      "23/04/18 18:14:53 WARN RandomBlockReplicationPolicy: Expecting 1 replicas with only 0 peer/s.\n",
      "23/04/18 18:14:53 WARN BlockManager: Block input-0-1681863293200 replicated to only 0 peer(s) instead of 1 peers\n",
      "23/04/18 18:14:53 WARN RandomBlockReplicationPolicy: Expecting 1 replicas with only 0 peer/s.\n",
      "23/04/18 18:14:53 WARN BlockManager: Block input-0-1681863293400 replicated to only 0 peer(s) instead of 1 peers\n",
      "23/04/18 18:14:54 WARN RandomBlockReplicationPolicy: Expecting 1 replicas with only 0 peer/s.\n",
      "23/04/18 18:14:54 WARN BlockManager: Block input-0-1681863294000 replicated to only 0 peer(s) instead of 1 peers\n",
      "23/04/18 18:14:54 WARN RandomBlockReplicationPolicy: Expecting 1 replicas with only 0 peer/s.\n",
      "23/04/18 18:14:54 WARN BlockManager: Block input-0-1681863294200 replicated to only 0 peer(s) instead of 1 peers\n",
      "23/04/18 18:14:55 WARN RandomBlockReplicationPolicy: Expecting 1 replicas with only 0 peer/s.\n",
      "23/04/18 18:14:55 WARN BlockManager: Block input-0-1681863294800 replicated to only 0 peer(s) instead of 1 peers\n",
      "23/04/18 18:14:55 WARN RandomBlockReplicationPolicy: Expecting 1 replicas with only 0 peer/s.\n",
      "23/04/18 18:14:55 WARN BlockManager: Block input-0-1681863295200 replicated to only 0 peer(s) instead of 1 peers\n",
      "23/04/18 18:14:55 WARN RandomBlockReplicationPolicy: Expecting 1 replicas with only 0 peer/s.\n",
      "23/04/18 18:14:55 WARN BlockManager: Block input-0-1681863295400 replicated to only 0 peer(s) instead of 1 peers\n"
     ]
    },
    {
     "name": "stderr",
     "output_type": "stream",
     "text": [
      "[Stage 0:>                  (0 + 1) / 1][Stage 29:====>          (72 + 3) / 238]\r"
     ]
    },
    {
     "name": "stdout",
     "output_type": "stream",
     "text": [
      "23/04/18 18:14:56 WARN RandomBlockReplicationPolicy: Expecting 1 replicas with only 0 peer/s.\n",
      "23/04/18 18:14:56 WARN BlockManager: Block input-0-1681863296000 replicated to only 0 peer(s) instead of 1 peers\n",
      "23/04/18 18:14:56 WARN RandomBlockReplicationPolicy: Expecting 1 replicas with only 0 peer/s.\n",
      "23/04/18 18:14:56 WARN BlockManager: Block input-0-1681863296200 replicated to only 0 peer(s) instead of 1 peers\n",
      "23/04/18 18:14:56 WARN RandomBlockReplicationPolicy: Expecting 1 replicas with only 0 peer/s.\n",
      "23/04/18 18:14:56 WARN BlockManager: Block input-0-1681863296400 replicated to only 0 peer(s) instead of 1 peers\n"
     ]
    },
    {
     "name": "stderr",
     "output_type": "stream",
     "text": [
      "[Stage 0:>                  (0 + 1) / 1][Stage 29:========>     (144 + 3) / 238]\r"
     ]
    },
    {
     "name": "stdout",
     "output_type": "stream",
     "text": [
      "23/04/18 18:14:57 WARN RandomBlockReplicationPolicy: Expecting 1 replicas with only 0 peer/s.\n",
      "23/04/18 18:14:57 WARN BlockManager: Block input-0-1681863297400 replicated to only 0 peer(s) instead of 1 peers\n"
     ]
    },
    {
     "name": "stderr",
     "output_type": "stream",
     "text": [
      "[Stage 0:>                  (0 + 1) / 1][Stage 29:===========>  (192 + 3) / 238]\r"
     ]
    },
    {
     "name": "stdout",
     "output_type": "stream",
     "text": [
      "23/04/18 18:14:58 WARN RandomBlockReplicationPolicy: Expecting 1 replicas with only 0 peer/s.\n",
      "23/04/18 18:14:58 WARN BlockManager: Block input-0-1681863298000 replicated to only 0 peer(s) instead of 1 peers\n"
     ]
    },
    {
     "name": "stderr",
     "output_type": "stream",
     "text": [
      "[Stage 0:>                  (0 + 1) / 1][Stage 29:============> (216 + 3) / 238]\r"
     ]
    },
    {
     "name": "stdout",
     "output_type": "stream",
     "text": [
      "23/04/18 18:14:58 WARN RandomBlockReplicationPolicy: Expecting 1 replicas with only 0 peer/s.\n",
      "23/04/18 18:14:58 WARN BlockManager: Block input-0-1681863298600 replicated to only 0 peer(s) instead of 1 peers\n"
     ]
    },
    {
     "name": "stderr",
     "output_type": "stream",
     "text": [
      "                                                                                \r"
     ]
    },
    {
     "name": "stdout",
     "output_type": "stream",
     "text": [
      "\n",
      "Top 10 Hashtags:\n",
      "39 (12)\n",
      "m (6)\n",
      "Echobox (2)\n",
      "photography (1)\n",
      "Nightsky (1)\n",
      "outdoors (1)\n",
      "にゃんぷっぷーチャレンジ (1)\n",
      "4 (1)\n",
      "40 (1)\n",
      "AuroraBorealis (1)\n",
      "23/04/18 18:15:00 WARN RandomBlockReplicationPolicy: Expecting 1 replicas with only 0 peer/s.\n",
      "23/04/18 18:15:00 WARN BlockManager: Block input-0-1681863300000 replicated to only 0 peer(s) instead of 1 peers\n"
     ]
    },
    {
     "name": "stderr",
     "output_type": "stream",
     "text": [
      "[Stage 0:>                                                          (0 + 1) / 1]\r"
     ]
    },
    {
     "name": "stdout",
     "output_type": "stream",
     "text": [
      "23/04/18 18:15:00 WARN RandomBlockReplicationPolicy: Expecting 1 replicas with only 0 peer/s.\n",
      "23/04/18 18:15:00 WARN BlockManager: Block input-0-1681863300400 replicated to only 0 peer(s) instead of 1 peers\n",
      "23/04/18 18:15:00 WARN RandomBlockReplicationPolicy: Expecting 1 replicas with only 0 peer/s.\n",
      "23/04/18 18:15:00 WARN BlockManager: Block input-0-1681863300600 replicated to only 0 peer(s) instead of 1 peers\n",
      "23/04/18 18:15:01 WARN RandomBlockReplicationPolicy: Expecting 1 replicas with only 0 peer/s.\n",
      "23/04/18 18:15:01 WARN BlockManager: Block input-0-1681863301400 replicated to only 0 peer(s) instead of 1 peers\n",
      "23/04/18 18:15:02 WARN RandomBlockReplicationPolicy: Expecting 1 replicas with only 0 peer/s.\n",
      "23/04/18 18:15:02 WARN BlockManager: Block input-0-1681863302600 replicated to only 0 peer(s) instead of 1 peers\n",
      "23/04/18 18:15:03 WARN RandomBlockReplicationPolicy: Expecting 1 replicas with only 0 peer/s.\n",
      "23/04/18 18:15:03 WARN BlockManager: Block input-0-1681863303200 replicated to only 0 peer(s) instead of 1 peers\n",
      "23/04/18 18:15:04 WARN RandomBlockReplicationPolicy: Expecting 1 replicas with only 0 peer/s.\n",
      "23/04/18 18:15:04 WARN BlockManager: Block input-0-1681863303800 replicated to only 0 peer(s) instead of 1 peers\n",
      "23/04/18 18:15:04 WARN RandomBlockReplicationPolicy: Expecting 1 replicas with only 0 peer/s.\n",
      "23/04/18 18:15:04 WARN BlockManager: Block input-0-1681863304000 replicated to only 0 peer(s) instead of 1 peers\n",
      "23/04/18 18:15:04 WARN RandomBlockReplicationPolicy: Expecting 1 replicas with only 0 peer/s.\n",
      "23/04/18 18:15:04 WARN BlockManager: Block input-0-1681863304200 replicated to only 0 peer(s) instead of 1 peers\n"
     ]
    },
    {
     "name": "stderr",
     "output_type": "stream",
     "text": [
      "[Stage 0:>                  (0 + 1) / 1][Stage 31:==>            (39 + 3) / 256]\r"
     ]
    },
    {
     "name": "stdout",
     "output_type": "stream",
     "text": [
      "23/04/18 18:15:05 WARN RandomBlockReplicationPolicy: Expecting 1 replicas with only 0 peer/s.\n",
      "23/04/18 18:15:05 WARN BlockManager: Block input-0-1681863305600 replicated to only 0 peer(s) instead of 1 peers\n",
      "23/04/18 18:15:06 WARN RandomBlockReplicationPolicy: Expecting 1 replicas with only 0 peer/s.\n",
      "23/04/18 18:15:06 WARN BlockManager: Block input-0-1681863305800 replicated to only 0 peer(s) instead of 1 peers\n"
     ]
    },
    {
     "name": "stderr",
     "output_type": "stream",
     "text": [
      "[Stage 0:>                  (0 + 1) / 1][Stage 31:===>           (64 + 3) / 256]\r"
     ]
    },
    {
     "name": "stdout",
     "output_type": "stream",
     "text": [
      "23/04/18 18:15:06 WARN RandomBlockReplicationPolicy: Expecting 1 replicas with only 0 peer/s.\n",
      "23/04/18 18:15:06 WARN BlockManager: Block input-0-1681863306000 replicated to only 0 peer(s) instead of 1 peers\n"
     ]
    },
    {
     "name": "stderr",
     "output_type": "stream",
     "text": [
      "[Stage 0:>                  (0 + 1) / 1][Stage 31:=====>         (88 + 3) / 256]\r"
     ]
    },
    {
     "name": "stdout",
     "output_type": "stream",
     "text": [
      "23/04/18 18:15:06 WARN RandomBlockReplicationPolicy: Expecting 1 replicas with only 0 peer/s.\n",
      "23/04/18 18:15:06 WARN BlockManager: Block input-0-1681863306400 replicated to only 0 peer(s) instead of 1 peers\n",
      "23/04/18 18:15:06 WARN RandomBlockReplicationPolicy: Expecting 1 replicas with only 0 peer/s.\n",
      "23/04/18 18:15:06 WARN BlockManager: Block input-0-1681863306600 replicated to only 0 peer(s) instead of 1 peers\n"
     ]
    },
    {
     "name": "stderr",
     "output_type": "stream",
     "text": [
      "[Stage 0:>                  (0 + 1) / 1][Stage 31:=======>      (136 + 3) / 256]\r"
     ]
    },
    {
     "name": "stdout",
     "output_type": "stream",
     "text": [
      "23/04/18 18:15:07 WARN RandomBlockReplicationPolicy: Expecting 1 replicas with only 0 peer/s.\n",
      "23/04/18 18:15:07 WARN BlockManager: Block input-0-1681863307200 replicated to only 0 peer(s) instead of 1 peers\n",
      "23/04/18 18:15:07 WARN RandomBlockReplicationPolicy: Expecting 1 replicas with only 0 peer/s.\n",
      "23/04/18 18:15:07 WARN BlockManager: Block input-0-1681863307400 replicated to only 0 peer(s) instead of 1 peers\n"
     ]
    },
    {
     "name": "stderr",
     "output_type": "stream",
     "text": [
      "[Stage 0:>                  (0 + 1) / 1][Stage 31:==========>   (195 + 3) / 256]\r"
     ]
    },
    {
     "name": "stdout",
     "output_type": "stream",
     "text": [
      "23/04/18 18:15:08 WARN RandomBlockReplicationPolicy: Expecting 1 replicas with only 0 peer/s.\n",
      "23/04/18 18:15:08 WARN BlockManager: Block input-0-1681863308200 replicated to only 0 peer(s) instead of 1 peers\n"
     ]
    },
    {
     "name": "stderr",
     "output_type": "stream",
     "text": [
      "[Stage 0:>                  (0 + 1) / 1][Stage 31:===========>  (219 + 3) / 256]\r"
     ]
    },
    {
     "name": "stdout",
     "output_type": "stream",
     "text": [
      "23/04/18 18:15:08 WARN RandomBlockReplicationPolicy: Expecting 1 replicas with only 0 peer/s.\n",
      "23/04/18 18:15:08 WARN BlockManager: Block input-0-1681863308600 replicated to only 0 peer(s) instead of 1 peers\n",
      "23/04/18 18:15:09 WARN RandomBlockReplicationPolicy: Expecting 1 replicas with only 0 peer/s.\n",
      "23/04/18 18:15:09 WARN BlockManager: Block input-0-1681863308800 replicated to only 0 peer(s) instead of 1 peers\n"
     ]
    },
    {
     "name": "stderr",
     "output_type": "stream",
     "text": [
      "[Stage 0:>                  (0 + 1) / 1][Stage 31:=============>(253 + 3) / 256]\r"
     ]
    },
    {
     "name": "stdout",
     "output_type": "stream",
     "text": [
      "23/04/18 18:15:09 WARN RandomBlockReplicationPolicy: Expecting 1 replicas with only 0 peer/s.\n",
      "23/04/18 18:15:09 WARN BlockManager: Block input-0-1681863309400 replicated to only 0 peer(s) instead of 1 peers\n",
      "23/04/18 18:15:09 WARN RandomBlockReplicationPolicy: Expecting 1 replicas with only 0 peer/s.\n",
      "23/04/18 18:15:09 WARN BlockManager: Block input-0-1681863309600 replicated to only 0 peer(s) instead of 1 peers\n"
     ]
    },
    {
     "name": "stderr",
     "output_type": "stream",
     "text": [
      "                                                                                \r"
     ]
    },
    {
     "name": "stdout",
     "output_type": "stream",
     "text": [
      "\n",
      "Top 10 Hashtags:\n",
      "39 (12)\n",
      "m (6)\n",
      "Echobox (2)\n",
      "photography (1)\n",
      "Nightsky (1)\n",
      "outdoors (1)\n",
      "にゃんぷっぷーチャレンジ (1)\n",
      "4 (1)\n",
      "40 (1)\n",
      "AuroraBorealis (1)\n",
      "23/04/18 18:15:10 WARN RandomBlockReplicationPolicy: Expecting 1 replicas with only 0 peer/s.\n",
      "23/04/18 18:15:10 WARN BlockManager: Block input-0-1681863309800 replicated to only 0 peer(s) instead of 1 peers\n",
      "23/04/18 18:15:10 WARN RandomBlockReplicationPolicy: Expecting 1 replicas with only 0 peer/s.\n",
      "23/04/18 18:15:10 WARN BlockManager: Block input-0-1681863310000 replicated to only 0 peer(s) instead of 1 peers\n",
      "23/04/18 18:15:10 WARN RandomBlockReplicationPolicy: Expecting 1 replicas with only 0 peer/s.\n",
      "23/04/18 18:15:10 WARN BlockManager: Block input-0-1681863310200 replicated to only 0 peer(s) instead of 1 peers\n"
     ]
    },
    {
     "name": "stderr",
     "output_type": "stream",
     "text": [
      "[Stage 0:>                                                          (0 + 1) / 1]\r"
     ]
    },
    {
     "name": "stdout",
     "output_type": "stream",
     "text": [
      "23/04/18 18:15:10 WARN RandomBlockReplicationPolicy: Expecting 1 replicas with only 0 peer/s.\n",
      "23/04/18 18:15:10 WARN BlockManager: Block input-0-1681863310400 replicated to only 0 peer(s) instead of 1 peers\n",
      "23/04/18 18:15:11 WARN RandomBlockReplicationPolicy: Expecting 1 replicas with only 0 peer/s.\n",
      "23/04/18 18:15:11 WARN BlockManager: Block input-0-1681863310800 replicated to only 0 peer(s) instead of 1 peers\n",
      "23/04/18 18:15:11 WARN RandomBlockReplicationPolicy: Expecting 1 replicas with only 0 peer/s.\n",
      "23/04/18 18:15:11 WARN BlockManager: Block input-0-1681863311000 replicated to only 0 peer(s) instead of 1 peers\n",
      "23/04/18 18:15:11 WARN RandomBlockReplicationPolicy: Expecting 1 replicas with only 0 peer/s.\n",
      "23/04/18 18:15:11 WARN BlockManager: Block input-0-1681863311200 replicated to only 0 peer(s) instead of 1 peers\n",
      "23/04/18 18:15:11 WARN RandomBlockReplicationPolicy: Expecting 1 replicas with only 0 peer/s.\n",
      "23/04/18 18:15:11 WARN BlockManager: Block input-0-1681863311400 replicated to only 0 peer(s) instead of 1 peers\n",
      "23/04/18 18:15:11 WARN RandomBlockReplicationPolicy: Expecting 1 replicas with only 0 peer/s.\n",
      "23/04/18 18:15:11 WARN BlockManager: Block input-0-1681863311600 replicated to only 0 peer(s) instead of 1 peers\n",
      "23/04/18 18:15:12 WARN RandomBlockReplicationPolicy: Expecting 1 replicas with only 0 peer/s.\n",
      "23/04/18 18:15:12 WARN BlockManager: Block input-0-1681863311800 replicated to only 0 peer(s) instead of 1 peers\n",
      "23/04/18 18:15:12 WARN RandomBlockReplicationPolicy: Expecting 1 replicas with only 0 peer/s.\n",
      "23/04/18 18:15:12 WARN BlockManager: Block input-0-1681863312000 replicated to only 0 peer(s) instead of 1 peers\n",
      "23/04/18 18:15:12 WARN RandomBlockReplicationPolicy: Expecting 1 replicas with only 0 peer/s.\n",
      "23/04/18 18:15:12 WARN BlockManager: Block input-0-1681863312200 replicated to only 0 peer(s) instead of 1 peers\n",
      "23/04/18 18:15:14 WARN RandomBlockReplicationPolicy: Expecting 1 replicas with only 0 peer/s.\n",
      "23/04/18 18:15:14 WARN BlockManager: Block input-0-1681863314000 replicated to only 0 peer(s) instead of 1 peers\n",
      "23/04/18 18:15:14 WARN RandomBlockReplicationPolicy: Expecting 1 replicas with only 0 peer/s.\n",
      "23/04/18 18:15:14 WARN BlockManager: Block input-0-1681863314200 replicated to only 0 peer(s) instead of 1 peers\n",
      "23/04/18 18:15:15 WARN RandomBlockReplicationPolicy: Expecting 1 replicas with only 0 peer/s.\n",
      "23/04/18 18:15:15 WARN BlockManager: Block input-0-1681863314800 replicated to only 0 peer(s) instead of 1 peers\n",
      "23/04/18 18:15:15 WARN RandomBlockReplicationPolicy: Expecting 1 replicas with only 0 peer/s.\n",
      "23/04/18 18:15:15 WARN BlockManager: Block input-0-1681863315200 replicated to only 0 peer(s) instead of 1 peers\n",
      "23/04/18 18:15:15 WARN RandomBlockReplicationPolicy: Expecting 1 replicas with only 0 peer/s.\n",
      "23/04/18 18:15:15 WARN BlockManager: Block input-0-1681863315400 replicated to only 0 peer(s) instead of 1 peers\n"
     ]
    },
    {
     "name": "stderr",
     "output_type": "stream",
     "text": [
      "[Stage 0:>                  (0 + 1) / 1][Stage 33:===>           (74 + 3) / 283]\r"
     ]
    },
    {
     "name": "stdout",
     "output_type": "stream",
     "text": [
      "23/04/18 18:15:16 WARN RandomBlockReplicationPolicy: Expecting 1 replicas with only 0 peer/s.\n",
      "23/04/18 18:15:16 WARN BlockManager: Block input-0-1681863316200 replicated to only 0 peer(s) instead of 1 peers\n",
      "23/04/18 18:15:16 WARN RandomBlockReplicationPolicy: Expecting 1 replicas with only 0 peer/s.\n",
      "23/04/18 18:15:16 WARN BlockManager: Block input-0-1681863316400 replicated to only 0 peer(s) instead of 1 peers\n"
     ]
    },
    {
     "name": "stderr",
     "output_type": "stream",
     "text": [
      "[Stage 0:>                  (0 + 1) / 1][Stage 33:=====>         (98 + 3) / 283]\r"
     ]
    },
    {
     "name": "stdout",
     "output_type": "stream",
     "text": [
      "23/04/18 18:15:17 WARN RandomBlockReplicationPolicy: Expecting 1 replicas with only 0 peer/s.\n",
      "23/04/18 18:15:17 WARN BlockManager: Block input-0-1681863316800 replicated to only 0 peer(s) instead of 1 peers\n"
     ]
    },
    {
     "name": "stderr",
     "output_type": "stream",
     "text": [
      "[Stage 0:>                  (0 + 1) / 1][Stage 33:========>     (169 + 3) / 283]\r"
     ]
    },
    {
     "name": "stdout",
     "output_type": "stream",
     "text": [
      "23/04/18 18:15:18 WARN RandomBlockReplicationPolicy: Expecting 1 replicas with only 0 peer/s.\n",
      "23/04/18 18:15:18 WARN BlockManager: Block input-0-1681863317800 replicated to only 0 peer(s) instead of 1 peers\n",
      "23/04/18 18:15:18 WARN RandomBlockReplicationPolicy: Expecting 1 replicas with only 0 peer/s.\n",
      "23/04/18 18:15:18 WARN BlockManager: Block input-0-1681863318000 replicated to only 0 peer(s) instead of 1 peers\n"
     ]
    },
    {
     "name": "stderr",
     "output_type": "stream",
     "text": [
      "[Stage 0:>                  (0 + 1) / 1][Stage 33:=========>    (193 + 3) / 283]\r"
     ]
    },
    {
     "name": "stdout",
     "output_type": "stream",
     "text": [
      "23/04/18 18:15:18 WARN RandomBlockReplicationPolicy: Expecting 1 replicas with only 0 peer/s.\n",
      "23/04/18 18:15:18 WARN BlockManager: Block input-0-1681863318400 replicated to only 0 peer(s) instead of 1 peers\n"
     ]
    },
    {
     "name": "stderr",
     "output_type": "stream",
     "text": [
      "[Stage 0:>                  (0 + 1) / 1][Stage 33:==========>   (214 + 3) / 283]\r"
     ]
    },
    {
     "name": "stdout",
     "output_type": "stream",
     "text": [
      "23/04/18 18:15:19 WARN RandomBlockReplicationPolicy: Expecting 1 replicas with only 0 peer/s.\n",
      "23/04/18 18:15:19 WARN BlockManager: Block input-0-1681863318800 replicated to only 0 peer(s) instead of 1 peers\n",
      "23/04/18 18:15:19 WARN RandomBlockReplicationPolicy: Expecting 1 replicas with only 0 peer/s.\n",
      "23/04/18 18:15:19 WARN BlockManager: Block input-0-1681863319000 replicated to only 0 peer(s) instead of 1 peers\n"
     ]
    },
    {
     "name": "stderr",
     "output_type": "stream",
     "text": [
      "[Stage 0:>                  (0 + 1) / 1][Stage 33:============> (259 + 3) / 283]\r"
     ]
    },
    {
     "name": "stdout",
     "output_type": "stream",
     "text": [
      "23/04/18 18:15:19 WARN RandomBlockReplicationPolicy: Expecting 1 replicas with only 0 peer/s.\n",
      "23/04/18 18:15:19 WARN BlockManager: Block input-0-1681863319400 replicated to only 0 peer(s) instead of 1 peers\n"
     ]
    },
    {
     "name": "stderr",
     "output_type": "stream",
     "text": [
      "[Stage 0:>                  (0 + 1) / 1][Stage 33:=============>(265 + 3) / 283]\r"
     ]
    },
    {
     "name": "stdout",
     "output_type": "stream",
     "text": [
      "23/04/18 18:15:20 WARN RandomBlockReplicationPolicy: Expecting 1 replicas with only 0 peer/s.\n",
      "23/04/18 18:15:20 WARN BlockManager: Block input-0-1681863319800 replicated to only 0 peer(s) instead of 1 peers\n",
      "23/04/18 18:15:20 WARN RandomBlockReplicationPolicy: Expecting 1 replicas with only 0 peer/s.\n",
      "23/04/18 18:15:20 WARN BlockManager: Block input-0-1681863320000 replicated to only 0 peer(s) instead of 1 peers\n"
     ]
    },
    {
     "name": "stderr",
     "output_type": "stream",
     "text": [
      "[Stage 0:>                  (0 + 1) / 1][Stage 33:=============>(277 + 3) / 283]\r"
     ]
    },
    {
     "name": "stdout",
     "output_type": "stream",
     "text": [
      "23/04/18 18:15:20 WARN RandomBlockReplicationPolicy: Expecting 1 replicas with only 0 peer/s.\n",
      "23/04/18 18:15:20 WARN BlockManager: Block input-0-1681863320200 replicated to only 0 peer(s) instead of 1 peers\n",
      "\n",
      "Top 10 Hashtags:\n",
      "39 (13)\n",
      "m (6)\n",
      "Echobox (4)\n",
      "photography (1)\n",
      "Nightsky (1)\n",
      "outdoors (1)\n",
      "にゃんぷっぷーチャレンジ (1)\n",
      "4 (1)\n",
      "40 (1)\n",
      "AuroraBorealis (1)\n"
     ]
    },
    {
     "name": "stderr",
     "output_type": "stream",
     "text": [
      "                                                                                \r"
     ]
    },
    {
     "name": "stdout",
     "output_type": "stream",
     "text": [
      "23/04/18 18:15:21 WARN RandomBlockReplicationPolicy: Expecting 1 replicas with only 0 peer/s.\n",
      "23/04/18 18:15:21 WARN BlockManager: Block input-0-1681863320800 replicated to only 0 peer(s) instead of 1 peers\n"
     ]
    },
    {
     "name": "stderr",
     "output_type": "stream",
     "text": [
      "[Stage 0:>                                                          (0 + 1) / 1]\r"
     ]
    },
    {
     "name": "stdout",
     "output_type": "stream",
     "text": [
      "23/04/18 18:15:21 WARN RandomBlockReplicationPolicy: Expecting 1 replicas with only 0 peer/s.\n",
      "23/04/18 18:15:21 WARN BlockManager: Block input-0-1681863321000 replicated to only 0 peer(s) instead of 1 peers\n",
      "23/04/18 18:15:21 WARN RandomBlockReplicationPolicy: Expecting 1 replicas with only 0 peer/s.\n",
      "23/04/18 18:15:21 WARN BlockManager: Block input-0-1681863321600 replicated to only 0 peer(s) instead of 1 peers\n",
      "23/04/18 18:15:23 WARN RandomBlockReplicationPolicy: Expecting 1 replicas with only 0 peer/s.\n",
      "23/04/18 18:15:23 WARN BlockManager: Block input-0-1681863322800 replicated to only 0 peer(s) instead of 1 peers\n",
      "23/04/18 18:15:23 WARN RandomBlockReplicationPolicy: Expecting 1 replicas with only 0 peer/s.\n",
      "23/04/18 18:15:23 WARN BlockManager: Block input-0-1681863323400 replicated to only 0 peer(s) instead of 1 peers\n",
      "23/04/18 18:15:23 WARN RandomBlockReplicationPolicy: Expecting 1 replicas with only 0 peer/s.\n",
      "23/04/18 18:15:23 WARN BlockManager: Block input-0-1681863323600 replicated to only 0 peer(s) instead of 1 peers\n",
      "23/04/18 18:15:24 WARN RandomBlockReplicationPolicy: Expecting 1 replicas with only 0 peer/s.\n",
      "23/04/18 18:15:24 WARN BlockManager: Block input-0-1681863323800 replicated to only 0 peer(s) instead of 1 peers\n",
      "23/04/18 18:15:24 WARN RandomBlockReplicationPolicy: Expecting 1 replicas with only 0 peer/s.\n",
      "23/04/18 18:15:24 WARN BlockManager: Block input-0-1681863324600 replicated to only 0 peer(s) instead of 1 peers\n",
      "23/04/18 18:15:25 WARN RandomBlockReplicationPolicy: Expecting 1 replicas with only 0 peer/s.\n",
      "23/04/18 18:15:25 WARN BlockManager: Block input-0-1681863325400 replicated to only 0 peer(s) instead of 1 peers\n",
      "23/04/18 18:15:25 WARN RandomBlockReplicationPolicy: Expecting 1 replicas with only 0 peer/s.\n",
      "23/04/18 18:15:25 WARN BlockManager: Block input-0-1681863325600 replicated to only 0 peer(s) instead of 1 peers\n"
     ]
    },
    {
     "name": "stderr",
     "output_type": "stream",
     "text": [
      "[Stage 0:>                  (0 + 1) / 1][Stage 35:==>            (45 + 3) / 305]\r"
     ]
    },
    {
     "name": "stdout",
     "output_type": "stream",
     "text": [
      "23/04/18 18:15:26 WARN RandomBlockReplicationPolicy: Expecting 1 replicas with only 0 peer/s.\n",
      "23/04/18 18:15:26 WARN BlockManager: Block input-0-1681863325800 replicated to only 0 peer(s) instead of 1 peers\n"
     ]
    },
    {
     "name": "stderr",
     "output_type": "stream",
     "text": [
      "[Stage 0:>                  (0 + 1) / 1][Stage 35:====>          (90 + 3) / 305]\r"
     ]
    },
    {
     "name": "stdout",
     "output_type": "stream",
     "text": [
      "23/04/18 18:15:26 WARN RandomBlockReplicationPolicy: Expecting 1 replicas with only 0 peer/s.\n",
      "23/04/18 18:15:26 WARN BlockManager: Block input-0-1681863326600 replicated to only 0 peer(s) instead of 1 peers\n"
     ]
    },
    {
     "name": "stderr",
     "output_type": "stream",
     "text": [
      "[Stage 0:>                  (0 + 1) / 1][Stage 35:======>       (138 + 3) / 305]\r"
     ]
    },
    {
     "name": "stdout",
     "output_type": "stream",
     "text": [
      "23/04/18 18:15:27 WARN RandomBlockReplicationPolicy: Expecting 1 replicas with only 0 peer/s.\n",
      "23/04/18 18:15:27 WARN BlockManager: Block input-0-1681863327400 replicated to only 0 peer(s) instead of 1 peers\n"
     ]
    },
    {
     "name": "stderr",
     "output_type": "stream",
     "text": [
      "[Stage 0:>                  (0 + 1) / 1][Stage 35:=======>      (159 + 3) / 305]\r"
     ]
    },
    {
     "name": "stdout",
     "output_type": "stream",
     "text": [
      "23/04/18 18:15:28 WARN RandomBlockReplicationPolicy: Expecting 1 replicas with only 0 peer/s.\n",
      "23/04/18 18:15:28 WARN BlockManager: Block input-0-1681863327800 replicated to only 0 peer(s) instead of 1 peers\n"
     ]
    },
    {
     "name": "stderr",
     "output_type": "stream",
     "text": [
      "[Stage 0:>                  (0 + 1) / 1][Stage 35:========>     (184 + 3) / 305]\r"
     ]
    },
    {
     "name": "stdout",
     "output_type": "stream",
     "text": [
      "23/04/18 18:15:28 WARN RandomBlockReplicationPolicy: Expecting 1 replicas with only 0 peer/s.\n",
      "23/04/18 18:15:28 WARN BlockManager: Block input-0-1681863328200 replicated to only 0 peer(s) instead of 1 peers\n"
     ]
    },
    {
     "name": "stderr",
     "output_type": "stream",
     "text": [
      "[Stage 0:>                  (0 + 1) / 1][Stage 35:==========>   (231 + 3) / 305]\r"
     ]
    },
    {
     "name": "stdout",
     "output_type": "stream",
     "text": [
      "23/04/18 18:15:29 WARN RandomBlockReplicationPolicy: Expecting 1 replicas with only 0 peer/s.\n",
      "23/04/18 18:15:29 WARN BlockManager: Block input-0-1681863328800 replicated to only 0 peer(s) instead of 1 peers\n",
      "23/04/18 18:15:29 WARN RandomBlockReplicationPolicy: Expecting 1 replicas with only 0 peer/s.\n",
      "23/04/18 18:15:29 WARN BlockManager: Block input-0-1681863329000 replicated to only 0 peer(s) instead of 1 peers\n"
     ]
    },
    {
     "name": "stderr",
     "output_type": "stream",
     "text": [
      "                                                                                \r"
     ]
    },
    {
     "name": "stdout",
     "output_type": "stream",
     "text": [
      "23/04/18 18:15:30 WARN RandomBlockReplicationPolicy: Expecting 1 replicas with only 0 peer/s.\n",
      "23/04/18 18:15:30 WARN BlockManager: Block input-0-1681863330600 replicated to only 0 peer(s) instead of 1 peers\n",
      "\n",
      "Top 10 Hashtags:\n",
      "39 (13)\n",
      "m (6)\n",
      "Echobox (4)\n",
      "422512 (2)\n",
      "photography (1)\n",
      "Nightsky (1)\n",
      "outdoors (1)\n",
      "にゃんぷっぷーチャレンジ (1)\n",
      "4 (1)\n",
      "40 (1)\n",
      "23/04/18 18:15:31 WARN RandomBlockReplicationPolicy: Expecting 1 replicas with only 0 peer/s.\n",
      "23/04/18 18:15:31 WARN BlockManager: Block input-0-1681863330800 replicated to only 0 peer(s) instead of 1 peers\n",
      "23/04/18 18:15:31 WARN RandomBlockReplicationPolicy: Expecting 1 replicas with only 0 peer/s.\n",
      "23/04/18 18:15:31 WARN BlockManager: Block input-0-1681863331200 replicated to only 0 peer(s) instead of 1 peers\n"
     ]
    },
    {
     "name": "stderr",
     "output_type": "stream",
     "text": [
      "[Stage 0:>                                                          (0 + 1) / 1]\r"
     ]
    },
    {
     "name": "stdout",
     "output_type": "stream",
     "text": [
      "23/04/18 18:15:32 WARN RandomBlockReplicationPolicy: Expecting 1 replicas with only 0 peer/s.\n",
      "23/04/18 18:15:32 WARN BlockManager: Block input-0-1681863332000 replicated to only 0 peer(s) instead of 1 peers\n",
      "23/04/18 18:15:32 WARN RandomBlockReplicationPolicy: Expecting 1 replicas with only 0 peer/s.\n",
      "23/04/18 18:15:32 WARN BlockManager: Block input-0-1681863332600 replicated to only 0 peer(s) instead of 1 peers\n",
      "23/04/18 18:15:33 WARN RandomBlockReplicationPolicy: Expecting 1 replicas with only 0 peer/s.\n",
      "23/04/18 18:15:33 WARN BlockManager: Block input-0-1681863333200 replicated to only 0 peer(s) instead of 1 peers\n",
      "23/04/18 18:15:33 WARN RandomBlockReplicationPolicy: Expecting 1 replicas with only 0 peer/s.\n",
      "23/04/18 18:15:33 WARN BlockManager: Block input-0-1681863333400 replicated to only 0 peer(s) instead of 1 peers\n",
      "23/04/18 18:15:34 WARN RandomBlockReplicationPolicy: Expecting 1 replicas with only 0 peer/s.\n",
      "23/04/18 18:15:34 WARN BlockManager: Block input-0-1681863334400 replicated to only 0 peer(s) instead of 1 peers\n",
      "23/04/18 18:15:35 WARN RandomBlockReplicationPolicy: Expecting 1 replicas with only 0 peer/s.\n",
      "23/04/18 18:15:35 WARN BlockManager: Block input-0-1681863335200 replicated to only 0 peer(s) instead of 1 peers\n",
      "23/04/18 18:15:35 WARN RandomBlockReplicationPolicy: Expecting 1 replicas with only 0 peer/s.\n",
      "23/04/18 18:15:35 WARN BlockManager: Block input-0-1681863335400 replicated to only 0 peer(s) instead of 1 peers\n"
     ]
    },
    {
     "name": "stderr",
     "output_type": "stream",
     "text": [
      "[Stage 0:>                  (0 + 1) / 1][Stage 37:==>            (49 + 3) / 322]\r"
     ]
    },
    {
     "name": "stdout",
     "output_type": "stream",
     "text": [
      "23/04/18 18:15:35 WARN RandomBlockReplicationPolicy: Expecting 1 replicas with only 0 peer/s.\n",
      "23/04/18 18:15:35 WARN BlockManager: Block input-0-1681863335600 replicated to only 0 peer(s) instead of 1 peers\n",
      "23/04/18 18:15:36 WARN RandomBlockReplicationPolicy: Expecting 1 replicas with only 0 peer/s.\n",
      "23/04/18 18:15:36 WARN BlockManager: Block input-0-1681863335800 replicated to only 0 peer(s) instead of 1 peers\n"
     ]
    },
    {
     "name": "stderr",
     "output_type": "stream",
     "text": [
      "[Stage 0:>                  (0 + 1) / 1][Stage 37:===>           (73 + 3) / 322]\r"
     ]
    },
    {
     "name": "stdout",
     "output_type": "stream",
     "text": [
      "23/04/18 18:15:36 WARN RandomBlockReplicationPolicy: Expecting 1 replicas with only 0 peer/s.\n",
      "23/04/18 18:15:36 WARN BlockManager: Block input-0-1681863336200 replicated to only 0 peer(s) instead of 1 peers\n"
     ]
    },
    {
     "name": "stderr",
     "output_type": "stream",
     "text": [
      "[Stage 0:>                  (0 + 1) / 1][Stage 37:=====>        (122 + 3) / 322]\r"
     ]
    },
    {
     "name": "stdout",
     "output_type": "stream",
     "text": [
      "23/04/18 18:15:37 WARN RandomBlockReplicationPolicy: Expecting 1 replicas with only 0 peer/s.\n",
      "23/04/18 18:15:37 WARN BlockManager: Block input-0-1681863336800 replicated to only 0 peer(s) instead of 1 peers\n",
      "23/04/18 18:15:37 WARN RandomBlockReplicationPolicy: Expecting 1 replicas with only 0 peer/s.\n",
      "23/04/18 18:15:37 WARN BlockManager: Block input-0-1681863337000 replicated to only 0 peer(s) instead of 1 peers\n",
      "23/04/18 18:15:37 WARN RandomBlockReplicationPolicy: Expecting 1 replicas with only 0 peer/s.\n",
      "23/04/18 18:15:37 WARN BlockManager: Block input-0-1681863337200 replicated to only 0 peer(s) instead of 1 peers\n"
     ]
    },
    {
     "name": "stderr",
     "output_type": "stream",
     "text": [
      "[Stage 0:>                  (0 + 1) / 1][Stage 37:========>     (196 + 3) / 322]\r"
     ]
    },
    {
     "name": "stdout",
     "output_type": "stream",
     "text": [
      "23/04/18 18:15:38 WARN RandomBlockReplicationPolicy: Expecting 1 replicas with only 0 peer/s.\n",
      "23/04/18 18:15:38 WARN BlockManager: Block input-0-1681863338000 replicated to only 0 peer(s) instead of 1 peers\n"
     ]
    },
    {
     "name": "stderr",
     "output_type": "stream",
     "text": [
      "[Stage 0:>                  (0 + 1) / 1][Stage 37:========>     (205 + 3) / 322]\r"
     ]
    },
    {
     "name": "stdout",
     "output_type": "stream",
     "text": [
      "23/04/18 18:15:38 WARN RandomBlockReplicationPolicy: Expecting 1 replicas with only 0 peer/s.\n",
      "23/04/18 18:15:38 WARN BlockManager: Block input-0-1681863338400 replicated to only 0 peer(s) instead of 1 peers\n",
      "23/04/18 18:15:38 WARN RandomBlockReplicationPolicy: Expecting 1 replicas with only 0 peer/s.\n",
      "23/04/18 18:15:38 WARN BlockManager: Block input-0-1681863338600 replicated to only 0 peer(s) instead of 1 peers\n"
     ]
    },
    {
     "name": "stderr",
     "output_type": "stream",
     "text": [
      "[Stage 0:>                  (0 + 1) / 1][Stage 37:============> (281 + 3) / 322]\r"
     ]
    },
    {
     "name": "stdout",
     "output_type": "stream",
     "text": [
      "23/04/18 18:15:39 WARN RandomBlockReplicationPolicy: Expecting 1 replicas with only 0 peer/s.\n",
      "23/04/18 18:15:39 WARN BlockManager: Block input-0-1681863339600 replicated to only 0 peer(s) instead of 1 peers\n"
     ]
    },
    {
     "name": "stderr",
     "output_type": "stream",
     "text": [
      "[Stage 0:>                  (0 + 1) / 1][Stage 37:=============>(308 + 3) / 322]\r"
     ]
    },
    {
     "name": "stdout",
     "output_type": "stream",
     "text": [
      "23/04/18 18:15:40 WARN RandomBlockReplicationPolicy: Expecting 1 replicas with only 0 peer/s.\n",
      "23/04/18 18:15:40 WARN BlockManager: Block input-0-1681863340000 replicated to only 0 peer(s) instead of 1 peers\n"
     ]
    },
    {
     "name": "stderr",
     "output_type": "stream",
     "text": [
      "[Stage 0:>                  (0 + 1) / 1][Stage 37:=============>(320 + 2) / 322]\r"
     ]
    },
    {
     "name": "stdout",
     "output_type": "stream",
     "text": [
      "23/04/18 18:15:40 WARN RandomBlockReplicationPolicy: Expecting 1 replicas with only 0 peer/s.\n",
      "23/04/18 18:15:40 WARN BlockManager: Block input-0-1681863340400 replicated to only 0 peer(s) instead of 1 peers\n"
     ]
    },
    {
     "name": "stderr",
     "output_type": "stream",
     "text": [
      "                                                                                \r"
     ]
    },
    {
     "name": "stdout",
     "output_type": "stream",
     "text": [
      "\n",
      "Top 10 Hashtags:\n",
      "39 (13)\n",
      "m (6)\n",
      "Echobox (4)\n",
      "422512 (2)\n",
      "photography (1)\n",
      "Nightsky (1)\n",
      "outdoors (1)\n",
      "にゃんぷっぷーチャレンジ (1)\n",
      "4 (1)\n",
      "40 (1)\n",
      "23/04/18 18:15:41 WARN RandomBlockReplicationPolicy: Expecting 1 replicas with only 0 peer/s.\n",
      "23/04/18 18:15:41 WARN BlockManager: Block input-0-1681863340800 replicated to only 0 peer(s) instead of 1 peers\n",
      "23/04/18 18:15:41 WARN RandomBlockReplicationPolicy: Expecting 1 replicas with only 0 peer/s.\n",
      "23/04/18 18:15:41 WARN BlockManager: Block input-0-1681863341200 replicated to only 0 peer(s) instead of 1 peers\n"
     ]
    },
    {
     "name": "stderr",
     "output_type": "stream",
     "text": [
      "[Stage 0:>                                                          (0 + 1) / 1]\r"
     ]
    },
    {
     "name": "stdout",
     "output_type": "stream",
     "text": [
      "23/04/18 18:15:42 WARN RandomBlockReplicationPolicy: Expecting 1 replicas with only 0 peer/s.\n",
      "23/04/18 18:15:42 WARN BlockManager: Block input-0-1681863341800 replicated to only 0 peer(s) instead of 1 peers\n",
      "23/04/18 18:15:42 WARN RandomBlockReplicationPolicy: Expecting 1 replicas with only 0 peer/s.\n",
      "23/04/18 18:15:42 WARN BlockManager: Block input-0-1681863342200 replicated to only 0 peer(s) instead of 1 peers\n",
      "23/04/18 18:15:42 WARN RandomBlockReplicationPolicy: Expecting 1 replicas with only 0 peer/s.\n",
      "23/04/18 18:15:42 WARN BlockManager: Block input-0-1681863342600 replicated to only 0 peer(s) instead of 1 peers\n",
      "23/04/18 18:15:43 WARN RandomBlockReplicationPolicy: Expecting 1 replicas with only 0 peer/s.\n",
      "23/04/18 18:15:43 WARN BlockManager: Block input-0-1681863342800 replicated to only 0 peer(s) instead of 1 peers\n",
      "23/04/18 18:15:43 WARN RandomBlockReplicationPolicy: Expecting 1 replicas with only 0 peer/s.\n",
      "23/04/18 18:15:43 WARN BlockManager: Block input-0-1681863343600 replicated to only 0 peer(s) instead of 1 peers\n",
      "23/04/18 18:15:44 WARN RandomBlockReplicationPolicy: Expecting 1 replicas with only 0 peer/s.\n",
      "23/04/18 18:15:44 WARN BlockManager: Block input-0-1681863344200 replicated to only 0 peer(s) instead of 1 peers\n",
      "23/04/18 18:15:45 WARN RandomBlockReplicationPolicy: Expecting 1 replicas with only 0 peer/s.\n",
      "23/04/18 18:15:45 WARN BlockManager: Block input-0-1681863344800 replicated to only 0 peer(s) instead of 1 peers\n",
      "23/04/18 18:15:45 WARN RandomBlockReplicationPolicy: Expecting 1 replicas with only 0 peer/s.\n",
      "23/04/18 18:15:45 WARN BlockManager: Block input-0-1681863345400 replicated to only 0 peer(s) instead of 1 peers\n"
     ]
    },
    {
     "name": "stderr",
     "output_type": "stream",
     "text": [
      "[Stage 0:>                  (0 + 1) / 1][Stage 39:===>           (78 + 3) / 344]\r"
     ]
    },
    {
     "name": "stdout",
     "output_type": "stream",
     "text": [
      "23/04/18 18:15:46 WARN RandomBlockReplicationPolicy: Expecting 1 replicas with only 0 peer/s.\n",
      "23/04/18 18:15:46 WARN BlockManager: Block input-0-1681863346400 replicated to only 0 peer(s) instead of 1 peers\n"
     ]
    },
    {
     "name": "stderr",
     "output_type": "stream",
     "text": [
      "[Stage 0:>                  (0 + 1) / 1][Stage 39:======>       (148 + 3) / 344]\r"
     ]
    },
    {
     "name": "stdout",
     "output_type": "stream",
     "text": [
      "23/04/18 18:15:47 WARN RandomBlockReplicationPolicy: Expecting 1 replicas with only 0 peer/s.\n",
      "23/04/18 18:15:47 WARN BlockManager: Block input-0-1681863347400 replicated to only 0 peer(s) instead of 1 peers\n"
     ]
    },
    {
     "name": "stderr",
     "output_type": "stream",
     "text": [
      "[Stage 0:>                  (0 + 1) / 1][Stage 39:========>     (206 + 3) / 344]\r"
     ]
    },
    {
     "name": "stdout",
     "output_type": "stream",
     "text": [
      "23/04/18 18:15:48 WARN RandomBlockReplicationPolicy: Expecting 1 replicas with only 0 peer/s.\n",
      "23/04/18 18:15:48 WARN BlockManager: Block input-0-1681863348600 replicated to only 0 peer(s) instead of 1 peers\n",
      "23/04/18 18:15:49 WARN RandomBlockReplicationPolicy: Expecting 1 replicas with only 0 peer/s.\n",
      "23/04/18 18:15:49 WARN BlockManager: Block input-0-1681863348800 replicated to only 0 peer(s) instead of 1 peers\n"
     ]
    },
    {
     "name": "stderr",
     "output_type": "stream",
     "text": [
      "[Stage 0:>                  (0 + 1) / 1][Stage 39:=========>    (242 + 3) / 344]\r"
     ]
    },
    {
     "name": "stdout",
     "output_type": "stream",
     "text": [
      "23/04/18 18:15:49 WARN RandomBlockReplicationPolicy: Expecting 1 replicas with only 0 peer/s.\n",
      "23/04/18 18:15:49 WARN BlockManager: Block input-0-1681863349200 replicated to only 0 peer(s) instead of 1 peers\n"
     ]
    },
    {
     "name": "stderr",
     "output_type": "stream",
     "text": [
      "[Stage 0:>                  (0 + 1) / 1][Stage 39:===========>  (279 + 3) / 344]\r"
     ]
    },
    {
     "name": "stdout",
     "output_type": "stream",
     "text": [
      "23/04/18 18:15:49 WARN RandomBlockReplicationPolicy: Expecting 1 replicas with only 0 peer/s.\n",
      "23/04/18 18:15:49 WARN BlockManager: Block input-0-1681863349600 replicated to only 0 peer(s) instead of 1 peers\n",
      "23/04/18 18:15:50 WARN RandomBlockReplicationPolicy: Expecting 1 replicas with only 0 peer/s.\n",
      "23/04/18 18:15:50 WARN BlockManager: Block input-0-1681863349800 replicated to only 0 peer(s) instead of 1 peers\n"
     ]
    },
    {
     "name": "stderr",
     "output_type": "stream",
     "text": [
      "[Stage 0:>                  (0 + 1) / 1][Stage 39:============> (304 + 3) / 344]\r"
     ]
    },
    {
     "name": "stdout",
     "output_type": "stream",
     "text": [
      "23/04/18 18:15:50 WARN RandomBlockReplicationPolicy: Expecting 1 replicas with only 0 peer/s.\n",
      "23/04/18 18:15:50 WARN BlockManager: Block input-0-1681863350000 replicated to only 0 peer(s) instead of 1 peers\n"
     ]
    },
    {
     "name": "stderr",
     "output_type": "stream",
     "text": [
      "[Stage 0:>                  (0 + 1) / 1][Stage 39:============> (316 + 3) / 344]\r"
     ]
    },
    {
     "name": "stdout",
     "output_type": "stream",
     "text": [
      "23/04/18 18:15:50 WARN RandomBlockReplicationPolicy: Expecting 1 replicas with only 0 peer/s.\n",
      "23/04/18 18:15:50 WARN BlockManager: Block input-0-1681863350400 replicated to only 0 peer(s) instead of 1 peers\n"
     ]
    },
    {
     "name": "stderr",
     "output_type": "stream",
     "text": [
      "                                                                                \r"
     ]
    },
    {
     "name": "stdout",
     "output_type": "stream",
     "text": [
      "\n",
      "Top 10 Hashtags:\n",
      "39 (13)\n",
      "m (6)\n",
      "Echobox (4)\n",
      "422512 (2)\n",
      "photography (1)\n",
      "Nightsky (1)\n",
      "outdoors (1)\n",
      "にゃんぷっぷーチャレンジ (1)\n",
      "4 (1)\n",
      "40 (1)\n",
      "23/04/18 18:15:51 WARN RandomBlockReplicationPolicy: Expecting 1 replicas with only 0 peer/s.\n",
      "23/04/18 18:15:51 WARN BlockManager: Block input-0-1681863351400 replicated to only 0 peer(s) instead of 1 peers\n",
      "23/04/18 18:15:51 WARN RandomBlockReplicationPolicy: Expecting 1 replicas with only 0 peer/s.\n",
      "23/04/18 18:15:51 WARN BlockManager: Block input-0-1681863351600 replicated to only 0 peer(s) instead of 1 peers\n",
      "23/04/18 18:15:52 WARN RandomBlockReplicationPolicy: Expecting 1 replicas with only 0 peer/s.\n",
      "23/04/18 18:15:52 WARN BlockManager: Block input-0-1681863351800 replicated to only 0 peer(s) instead of 1 peers\n"
     ]
    },
    {
     "name": "stderr",
     "output_type": "stream",
     "text": [
      "[Stage 0:>                                                          (0 + 1) / 1]\r"
     ]
    },
    {
     "name": "stdout",
     "output_type": "stream",
     "text": [
      "23/04/18 18:15:52 WARN RandomBlockReplicationPolicy: Expecting 1 replicas with only 0 peer/s.\n",
      "23/04/18 18:15:52 WARN BlockManager: Block input-0-1681863352200 replicated to only 0 peer(s) instead of 1 peers\n",
      "23/04/18 18:15:52 WARN RandomBlockReplicationPolicy: Expecting 1 replicas with only 0 peer/s.\n",
      "23/04/18 18:15:52 WARN BlockManager: Block input-0-1681863352600 replicated to only 0 peer(s) instead of 1 peers\n",
      "23/04/18 18:15:54 WARN RandomBlockReplicationPolicy: Expecting 1 replicas with only 0 peer/s.\n",
      "23/04/18 18:15:54 WARN BlockManager: Block input-0-1681863354000 replicated to only 0 peer(s) instead of 1 peers\n",
      "23/04/18 18:15:54 WARN RandomBlockReplicationPolicy: Expecting 1 replicas with only 0 peer/s.\n",
      "23/04/18 18:15:54 WARN BlockManager: Block input-0-1681863354400 replicated to only 0 peer(s) instead of 1 peers\n",
      "23/04/18 18:15:55 WARN RandomBlockReplicationPolicy: Expecting 1 replicas with only 0 peer/s.\n",
      "23/04/18 18:15:55 WARN BlockManager: Block input-0-1681863354800 replicated to only 0 peer(s) instead of 1 peers\n",
      "23/04/18 18:15:55 WARN RandomBlockReplicationPolicy: Expecting 1 replicas with only 0 peer/s.\n",
      "23/04/18 18:15:55 WARN BlockManager: Block input-0-1681863355400 replicated to only 0 peer(s) instead of 1 peers\n"
     ]
    },
    {
     "name": "stderr",
     "output_type": "stream",
     "text": [
      "[Stage 0:>                  (0 + 1) / 1][Stage 41:=>             (48 + 3) / 362]\r"
     ]
    },
    {
     "name": "stdout",
     "output_type": "stream",
     "text": [
      "23/04/18 18:15:55 WARN RandomBlockReplicationPolicy: Expecting 1 replicas with only 0 peer/s.\n",
      "23/04/18 18:15:55 WARN BlockManager: Block input-0-1681863355600 replicated to only 0 peer(s) instead of 1 peers\n"
     ]
    },
    {
     "name": "stderr",
     "output_type": "stream",
     "text": [
      "[Stage 0:>                  (0 + 1) / 1][Stage 41:===>           (84 + 3) / 362]\r"
     ]
    },
    {
     "name": "stdout",
     "output_type": "stream",
     "text": [
      "23/04/18 18:15:56 WARN RandomBlockReplicationPolicy: Expecting 1 replicas with only 0 peer/s.\n",
      "23/04/18 18:15:56 WARN BlockManager: Block input-0-1681863356200 replicated to only 0 peer(s) instead of 1 peers\n",
      "23/04/18 18:15:56 WARN RandomBlockReplicationPolicy: Expecting 1 replicas with only 0 peer/s.\n",
      "23/04/18 18:15:56 WARN BlockManager: Block input-0-1681863356400 replicated to only 0 peer(s) instead of 1 peers\n"
     ]
    },
    {
     "name": "stderr",
     "output_type": "stream",
     "text": [
      "[Stage 0:>                  (0 + 1) / 1][Stage 41:=====>        (154 + 3) / 362]\r"
     ]
    },
    {
     "name": "stdout",
     "output_type": "stream",
     "text": [
      "23/04/18 18:15:57 WARN RandomBlockReplicationPolicy: Expecting 1 replicas with only 0 peer/s.\n",
      "23/04/18 18:15:57 WARN BlockManager: Block input-0-1681863357600 replicated to only 0 peer(s) instead of 1 peers\n"
     ]
    },
    {
     "name": "stderr",
     "output_type": "stream",
     "text": [
      "[Stage 0:>                  (0 + 1) / 1][Stage 41:======>       (178 + 3) / 362]\r"
     ]
    },
    {
     "name": "stdout",
     "output_type": "stream",
     "text": [
      "23/04/18 18:15:58 WARN RandomBlockReplicationPolicy: Expecting 1 replicas with only 0 peer/s.\n",
      "23/04/18 18:15:58 WARN BlockManager: Block input-0-1681863358000 replicated to only 0 peer(s) instead of 1 peers\n"
     ]
    },
    {
     "name": "stderr",
     "output_type": "stream",
     "text": [
      "[Stage 0:>                  (0 + 1) / 1][Stage 41:==========>   (263 + 3) / 362]\r"
     ]
    },
    {
     "name": "stdout",
     "output_type": "stream",
     "text": [
      "23/04/18 18:15:59 WARN RandomBlockReplicationPolicy: Expecting 1 replicas with only 0 peer/s.\n",
      "23/04/18 18:15:59 WARN BlockManager: Block input-0-1681863359200 replicated to only 0 peer(s) instead of 1 peers\n",
      "23/04/18 18:15:59 WARN RandomBlockReplicationPolicy: Expecting 1 replicas with only 0 peer/s.\n",
      "23/04/18 18:15:59 WARN BlockManager: Block input-0-1681863359400 replicated to only 0 peer(s) instead of 1 peers\n"
     ]
    },
    {
     "name": "stderr",
     "output_type": "stream",
     "text": [
      "[Stage 0:>                  (0 + 1) / 1][Stage 41:===========>  (285 + 3) / 362]\r"
     ]
    },
    {
     "name": "stdout",
     "output_type": "stream",
     "text": [
      "23/04/18 18:16:00 WARN RandomBlockReplicationPolicy: Expecting 1 replicas with only 0 peer/s.\n",
      "23/04/18 18:16:00 WARN BlockManager: Block input-0-1681863359800 replicated to only 0 peer(s) instead of 1 peers\n"
     ]
    },
    {
     "name": "stderr",
     "output_type": "stream",
     "text": [
      "[Stage 0:>                  (0 + 1) / 1][Stage 41:============> (322 + 3) / 362]\r"
     ]
    },
    {
     "name": "stdout",
     "output_type": "stream",
     "text": [
      "23/04/18 18:16:00 WARN RandomBlockReplicationPolicy: Expecting 1 replicas with only 0 peer/s.\n",
      "23/04/18 18:16:00 WARN BlockManager: Block input-0-1681863360200 replicated to only 0 peer(s) instead of 1 peers\n"
     ]
    },
    {
     "name": "stderr",
     "output_type": "stream",
     "text": [
      "[Stage 0:>                  (0 + 1) / 1][Stage 41:=============>(343 + 3) / 362]\r"
     ]
    },
    {
     "name": "stdout",
     "output_type": "stream",
     "text": [
      "23/04/18 18:16:00 WARN RandomBlockReplicationPolicy: Expecting 1 replicas with only 0 peer/s.\n",
      "23/04/18 18:16:00 WARN BlockManager: Block input-0-1681863360600 replicated to only 0 peer(s) instead of 1 peers\n"
     ]
    },
    {
     "name": "stderr",
     "output_type": "stream",
     "text": [
      "                                                                                \r"
     ]
    },
    {
     "name": "stdout",
     "output_type": "stream",
     "text": [
      "\n",
      "Top 10 Hashtags:\n",
      "39 (15)\n",
      "m (6)\n",
      "Echobox (4)\n",
      "422512 (2)\n",
      "photography (1)\n",
      "Nightsky (1)\n",
      "outdoors (1)\n",
      "にゃんぷっぷーチャレンジ (1)\n",
      "4 (1)\n",
      "40 (1)\n"
     ]
    },
    {
     "name": "stderr",
     "output_type": "stream",
     "text": [
      "[Stage 0:>                                                          (0 + 1) / 1]\r"
     ]
    },
    {
     "name": "stdout",
     "output_type": "stream",
     "text": [
      "23/04/18 18:16:02 WARN RandomBlockReplicationPolicy: Expecting 1 replicas with only 0 peer/s.\n",
      "23/04/18 18:16:02 WARN BlockManager: Block input-0-1681863362400 replicated to only 0 peer(s) instead of 1 peers\n",
      "23/04/18 18:16:02 WARN RandomBlockReplicationPolicy: Expecting 1 replicas with only 0 peer/s.\n",
      "23/04/18 18:16:02 WARN BlockManager: Block input-0-1681863362600 replicated to only 0 peer(s) instead of 1 peers\n",
      "23/04/18 18:16:03 WARN RandomBlockReplicationPolicy: Expecting 1 replicas with only 0 peer/s.\n",
      "23/04/18 18:16:03 WARN BlockManager: Block input-0-1681863363000 replicated to only 0 peer(s) instead of 1 peers\n",
      "23/04/18 18:16:03 WARN RandomBlockReplicationPolicy: Expecting 1 replicas with only 0 peer/s.\n",
      "23/04/18 18:16:03 WARN BlockManager: Block input-0-1681863363200 replicated to only 0 peer(s) instead of 1 peers\n",
      "23/04/18 18:16:03 WARN RandomBlockReplicationPolicy: Expecting 1 replicas with only 0 peer/s.\n",
      "23/04/18 18:16:03 WARN BlockManager: Block input-0-1681863363400 replicated to only 0 peer(s) instead of 1 peers\n",
      "23/04/18 18:16:03 WARN RandomBlockReplicationPolicy: Expecting 1 replicas with only 0 peer/s.\n",
      "23/04/18 18:16:03 WARN BlockManager: Block input-0-1681863363600 replicated to only 0 peer(s) instead of 1 peers\n",
      "23/04/18 18:16:04 WARN RandomBlockReplicationPolicy: Expecting 1 replicas with only 0 peer/s.\n",
      "23/04/18 18:16:04 WARN BlockManager: Block input-0-1681863364000 replicated to only 0 peer(s) instead of 1 peers\n",
      "23/04/18 18:16:04 WARN RandomBlockReplicationPolicy: Expecting 1 replicas with only 0 peer/s.\n",
      "23/04/18 18:16:04 WARN BlockManager: Block input-0-1681863364400 replicated to only 0 peer(s) instead of 1 peers\n",
      "23/04/18 18:16:05 WARN RandomBlockReplicationPolicy: Expecting 1 replicas with only 0 peer/s.\n",
      "23/04/18 18:16:05 WARN BlockManager: Block input-0-1681863365400 replicated to only 0 peer(s) instead of 1 peers\n",
      "23/04/18 18:16:05 WARN RandomBlockReplicationPolicy: Expecting 1 replicas with only 0 peer/s.\n",
      "23/04/18 18:16:05 WARN BlockManager: Block input-0-1681863365600 replicated to only 0 peer(s) instead of 1 peers\n"
     ]
    },
    {
     "name": "stderr",
     "output_type": "stream",
     "text": [
      "[Stage 0:>                  (0 + 1) / 1][Stage 43:=>             (48 + 3) / 382]\r"
     ]
    },
    {
     "name": "stdout",
     "output_type": "stream",
     "text": [
      "23/04/18 18:16:06 WARN RandomBlockReplicationPolicy: Expecting 1 replicas with only 0 peer/s.\n",
      "23/04/18 18:16:06 WARN BlockManager: Block input-0-1681863365800 replicated to only 0 peer(s) instead of 1 peers\n",
      "23/04/18 18:16:06 WARN RandomBlockReplicationPolicy: Expecting 1 replicas with only 0 peer/s.\n",
      "23/04/18 18:16:06 WARN BlockManager: Block input-0-1681863366000 replicated to only 0 peer(s) instead of 1 peers\n"
     ]
    },
    {
     "name": "stderr",
     "output_type": "stream",
     "text": [
      "[Stage 0:>                  (0 + 1) / 1][Stage 43:====>         (135 + 3) / 382]\r"
     ]
    },
    {
     "name": "stdout",
     "output_type": "stream",
     "text": [
      "23/04/18 18:16:07 WARN RandomBlockReplicationPolicy: Expecting 1 replicas with only 0 peer/s.\n",
      "23/04/18 18:16:07 WARN BlockManager: Block input-0-1681863367200 replicated to only 0 peer(s) instead of 1 peers\n"
     ]
    },
    {
     "name": "stderr",
     "output_type": "stream",
     "text": [
      "[Stage 0:>                  (0 + 1) / 1][Stage 43:======>       (183 + 3) / 382]\r"
     ]
    },
    {
     "name": "stdout",
     "output_type": "stream",
     "text": [
      "23/04/18 18:16:08 WARN RandomBlockReplicationPolicy: Expecting 1 replicas with only 0 peer/s.\n",
      "23/04/18 18:16:08 WARN BlockManager: Block input-0-1681863368000 replicated to only 0 peer(s) instead of 1 peers\n",
      "23/04/18 18:16:08 WARN RandomBlockReplicationPolicy: Expecting 1 replicas with only 0 peer/s.\n",
      "23/04/18 18:16:08 WARN BlockManager: Block input-0-1681863368200 replicated to only 0 peer(s) instead of 1 peers\n"
     ]
    },
    {
     "name": "stderr",
     "output_type": "stream",
     "text": [
      "[Stage 0:>                  (0 + 1) / 1][Stage 43:=======>      (217 + 3) / 382]\r"
     ]
    },
    {
     "name": "stdout",
     "output_type": "stream",
     "text": [
      "23/04/18 18:16:08 WARN RandomBlockReplicationPolicy: Expecting 1 replicas with only 0 peer/s.\n",
      "23/04/18 18:16:08 WARN BlockManager: Block input-0-1681863368600 replicated to only 0 peer(s) instead of 1 peers\n"
     ]
    },
    {
     "name": "stderr",
     "output_type": "stream",
     "text": [
      "[Stage 0:>                  (0 + 1) / 1][Stage 43:========>     (230 + 3) / 382]\r"
     ]
    },
    {
     "name": "stdout",
     "output_type": "stream",
     "text": [
      "23/04/18 18:16:09 WARN RandomBlockReplicationPolicy: Expecting 1 replicas with only 0 peer/s.\n",
      "23/04/18 18:16:09 WARN BlockManager: Block input-0-1681863369000 replicated to only 0 peer(s) instead of 1 peers\n",
      "23/04/18 18:16:09 WARN RandomBlockReplicationPolicy: Expecting 1 replicas with only 0 peer/s.\n",
      "23/04/18 18:16:09 WARN BlockManager: Block input-0-1681863369200 replicated to only 0 peer(s) instead of 1 peers\n"
     ]
    },
    {
     "name": "stderr",
     "output_type": "stream",
     "text": [
      "[Stage 0:>                  (0 + 1) / 1][Stage 43:=========>    (254 + 3) / 382]\r"
     ]
    },
    {
     "name": "stdout",
     "output_type": "stream",
     "text": [
      "23/04/18 18:16:09 WARN RandomBlockReplicationPolicy: Expecting 1 replicas with only 0 peer/s.\n",
      "23/04/18 18:16:09 WARN BlockManager: Block input-0-1681863369400 replicated to only 0 peer(s) instead of 1 peers\n",
      "23/04/18 18:16:09 WARN RandomBlockReplicationPolicy: Expecting 1 replicas with only 0 peer/s.\n",
      "23/04/18 18:16:09 WARN BlockManager: Block input-0-1681863369600 replicated to only 0 peer(s) instead of 1 peers\n"
     ]
    },
    {
     "name": "stderr",
     "output_type": "stream",
     "text": [
      "[Stage 0:>                  (0 + 1) / 1][Stage 43:===========>  (316 + 3) / 382]\r"
     ]
    },
    {
     "name": "stdout",
     "output_type": "stream",
     "text": [
      "23/04/18 18:16:10 WARN RandomBlockReplicationPolicy: Expecting 1 replicas with only 0 peer/s.\n",
      "23/04/18 18:16:10 WARN BlockManager: Block input-0-1681863370200 replicated to only 0 peer(s) instead of 1 peers\n"
     ]
    },
    {
     "name": "stderr",
     "output_type": "stream",
     "text": [
      "[Stage 0:>                  (0 + 1) / 1][Stage 43:=============>(368 + 3) / 382]\r"
     ]
    },
    {
     "name": "stdout",
     "output_type": "stream",
     "text": [
      "23/04/18 18:16:11 WARN RandomBlockReplicationPolicy: Expecting 1 replicas with only 0 peer/s.\n",
      "23/04/18 18:16:11 WARN BlockManager: Block input-0-1681863371200 replicated to only 0 peer(s) instead of 1 peers\n",
      "23/04/18 18:16:11 WARN RandomBlockReplicationPolicy: Expecting 1 replicas with only 0 peer/s.\n",
      "23/04/18 18:16:11 WARN BlockManager: Block input-0-1681863371400 replicated to only 0 peer(s) instead of 1 peers\n"
     ]
    },
    {
     "name": "stderr",
     "output_type": "stream",
     "text": [
      "                                                                                \r"
     ]
    },
    {
     "name": "stdout",
     "output_type": "stream",
     "text": [
      "\n",
      "Top 10 Hashtags:\n",
      "39 (15)\n",
      "m (6)\n",
      "Echobox (4)\n",
      "422512 (2)\n",
      "photography (1)\n",
      "Nightsky (1)\n",
      "outdoors (1)\n",
      "にゃんぷっぷーチャレンジ (1)\n",
      "4 (1)\n",
      "40 (1)\n",
      "23/04/18 18:16:12 WARN RandomBlockReplicationPolicy: Expecting 1 replicas with only 0 peer/s.\n",
      "23/04/18 18:16:12 WARN BlockManager: Block input-0-1681863372000 replicated to only 0 peer(s) instead of 1 peers\n"
     ]
    },
    {
     "name": "stderr",
     "output_type": "stream",
     "text": [
      "[Stage 0:>                                                          (0 + 1) / 1]\r"
     ]
    },
    {
     "name": "stdout",
     "output_type": "stream",
     "text": [
      "23/04/18 18:16:13 WARN RandomBlockReplicationPolicy: Expecting 1 replicas with only 0 peer/s.\n",
      "23/04/18 18:16:13 WARN BlockManager: Block input-0-1681863372800 replicated to only 0 peer(s) instead of 1 peers\n",
      "23/04/18 18:16:13 WARN RandomBlockReplicationPolicy: Expecting 1 replicas with only 0 peer/s.\n",
      "23/04/18 18:16:13 WARN BlockManager: Block input-0-1681863373000 replicated to only 0 peer(s) instead of 1 peers\n",
      "23/04/18 18:16:13 WARN RandomBlockReplicationPolicy: Expecting 1 replicas with only 0 peer/s.\n",
      "23/04/18 18:16:13 WARN BlockManager: Block input-0-1681863373600 replicated to only 0 peer(s) instead of 1 peers\n",
      "23/04/18 18:16:15 WARN RandomBlockReplicationPolicy: Expecting 1 replicas with only 0 peer/s.\n",
      "23/04/18 18:16:15 WARN BlockManager: Block input-0-1681863374800 replicated to only 0 peer(s) instead of 1 peers\n",
      "23/04/18 18:16:15 WARN RandomBlockReplicationPolicy: Expecting 1 replicas with only 0 peer/s.\n",
      "23/04/18 18:16:15 WARN BlockManager: Block input-0-1681863375000 replicated to only 0 peer(s) instead of 1 peers\n"
     ]
    },
    {
     "name": "stderr",
     "output_type": "stream",
     "text": [
      "[Stage 0:>                  (0 + 1) / 1][Stage 45:==>            (78 + 3) / 401]\r"
     ]
    },
    {
     "name": "stdout",
     "output_type": "stream",
     "text": [
      "23/04/18 18:16:16 WARN RandomBlockReplicationPolicy: Expecting 1 replicas with only 0 peer/s.\n",
      "23/04/18 18:16:16 WARN BlockManager: Block input-0-1681863376200 replicated to only 0 peer(s) instead of 1 peers\n"
     ]
    },
    {
     "name": "stderr",
     "output_type": "stream",
     "text": [
      "[Stage 0:>                  (0 + 1) / 1][Stage 45:=======>      (209 + 3) / 401]\r"
     ]
    },
    {
     "name": "stdout",
     "output_type": "stream",
     "text": [
      "23/04/18 18:16:18 WARN RandomBlockReplicationPolicy: Expecting 1 replicas with only 0 peer/s.\n",
      "23/04/18 18:16:18 WARN BlockManager: Block input-0-1681863378400 replicated to only 0 peer(s) instead of 1 peers\n"
     ]
    },
    {
     "name": "stderr",
     "output_type": "stream",
     "text": [
      "[Stage 0:>                  (0 + 1) / 1][Stage 45:========>     (233 + 3) / 401]\r"
     ]
    },
    {
     "name": "stdout",
     "output_type": "stream",
     "text": [
      "23/04/18 18:16:19 WARN RandomBlockReplicationPolicy: Expecting 1 replicas with only 0 peer/s.\n",
      "23/04/18 18:16:19 WARN BlockManager: Block input-0-1681863378800 replicated to only 0 peer(s) instead of 1 peers\n"
     ]
    },
    {
     "name": "stderr",
     "output_type": "stream",
     "text": [
      "[Stage 0:>                  (0 + 1) / 1][Stage 45:=========>    (282 + 3) / 401]\r"
     ]
    },
    {
     "name": "stdout",
     "output_type": "stream",
     "text": [
      "23/04/18 18:16:19 WARN RandomBlockReplicationPolicy: Expecting 1 replicas with only 0 peer/s.\n",
      "23/04/18 18:16:19 WARN BlockManager: Block input-0-1681863379600 replicated to only 0 peer(s) instead of 1 peers\n",
      "23/04/18 18:16:20 WARN RandomBlockReplicationPolicy: Expecting 1 replicas with only 0 peer/s.\n",
      "23/04/18 18:16:20 WARN BlockManager: Block input-0-1681863379800 replicated to only 0 peer(s) instead of 1 peers\n",
      "23/04/18 18:16:20 WARN RandomBlockReplicationPolicy: Expecting 1 replicas with only 0 peer/s.\n",
      "23/04/18 18:16:20 WARN BlockManager: Block input-0-1681863380000 replicated to only 0 peer(s) instead of 1 peers\n"
     ]
    },
    {
     "name": "stderr",
     "output_type": "stream",
     "text": [
      "[Stage 0:>                  (0 + 1) / 1][Stage 45:===========>  (331 + 3) / 401]\r"
     ]
    },
    {
     "name": "stdout",
     "output_type": "stream",
     "text": [
      "23/04/18 18:16:20 WARN RandomBlockReplicationPolicy: Expecting 1 replicas with only 0 peer/s.\n",
      "23/04/18 18:16:20 WARN BlockManager: Block input-0-1681863380600 replicated to only 0 peer(s) instead of 1 peers\n"
     ]
    },
    {
     "name": "stderr",
     "output_type": "stream",
     "text": [
      "[Stage 0:>                  (0 + 1) / 1][Stage 45:============> (355 + 3) / 401]\r"
     ]
    },
    {
     "name": "stdout",
     "output_type": "stream",
     "text": [
      "23/04/18 18:16:21 WARN RandomBlockReplicationPolicy: Expecting 1 replicas with only 0 peer/s.\n",
      "23/04/18 18:16:21 WARN BlockManager: Block input-0-1681863381000 replicated to only 0 peer(s) instead of 1 peers\n",
      "23/04/18 18:16:21 WARN RandomBlockReplicationPolicy: Expecting 1 replicas with only 0 peer/s.\n",
      "23/04/18 18:16:21 WARN BlockManager: Block input-0-1681863381200 replicated to only 0 peer(s) instead of 1 peers\n"
     ]
    },
    {
     "name": "stderr",
     "output_type": "stream",
     "text": [
      "[Stage 0:>                  (0 + 1) / 1][Stage 45:=============>(379 + 3) / 401]\r"
     ]
    },
    {
     "name": "stdout",
     "output_type": "stream",
     "text": [
      "23/04/18 18:16:21 WARN RandomBlockReplicationPolicy: Expecting 1 replicas with only 0 peer/s.\n",
      "23/04/18 18:16:21 WARN BlockManager: Block input-0-1681863381400 replicated to only 0 peer(s) instead of 1 peers\n",
      "23/04/18 18:16:21 WARN RandomBlockReplicationPolicy: Expecting 1 replicas with only 0 peer/s.\n",
      "23/04/18 18:16:21 WARN BlockManager: Block input-0-1681863381600 replicated to only 0 peer(s) instead of 1 peers\n"
     ]
    },
    {
     "name": "stderr",
     "output_type": "stream",
     "text": [
      "[Stage 0:>                  (0 + 1) / 1][Stage 45:=============>(392 + 3) / 401]\r"
     ]
    },
    {
     "name": "stdout",
     "output_type": "stream",
     "text": [
      "23/04/18 18:16:22 WARN RandomBlockReplicationPolicy: Expecting 1 replicas with only 0 peer/s.\n",
      "23/04/18 18:16:22 WARN BlockManager: Block input-0-1681863381800 replicated to only 0 peer(s) instead of 1 peers\n"
     ]
    },
    {
     "name": "stderr",
     "output_type": "stream",
     "text": [
      "                                                                                \r"
     ]
    },
    {
     "name": "stdout",
     "output_type": "stream",
     "text": [
      "\n",
      "Top 10 Hashtags:\n",
      "39 (18)\n",
      "m (6)\n",
      "Echobox (4)\n",
      "422512 (2)\n",
      "photography (1)\n",
      "Nightsky (1)\n",
      "outdoors (1)\n",
      "にゃんぷっぷーチャレンジ (1)\n",
      "4 (1)\n",
      "40 (1)\n"
     ]
    },
    {
     "name": "stderr",
     "output_type": "stream",
     "text": [
      "[Stage 0:>                                                          (0 + 1) / 1]\r"
     ]
    },
    {
     "name": "stdout",
     "output_type": "stream",
     "text": [
      "23/04/18 18:16:23 WARN RandomBlockReplicationPolicy: Expecting 1 replicas with only 0 peer/s.\n",
      "23/04/18 18:16:23 WARN BlockManager: Block input-0-1681863382800 replicated to only 0 peer(s) instead of 1 peers\n",
      "23/04/18 18:16:23 WARN RandomBlockReplicationPolicy: Expecting 1 replicas with only 0 peer/s.\n",
      "23/04/18 18:16:23 WARN BlockManager: Block input-0-1681863383000 replicated to only 0 peer(s) instead of 1 peers\n",
      "23/04/18 18:16:23 WARN RandomBlockReplicationPolicy: Expecting 1 replicas with only 0 peer/s.\n",
      "23/04/18 18:16:23 WARN BlockManager: Block input-0-1681863383200 replicated to only 0 peer(s) instead of 1 peers\n",
      "23/04/18 18:16:24 WARN RandomBlockReplicationPolicy: Expecting 1 replicas with only 0 peer/s.\n",
      "23/04/18 18:16:24 WARN BlockManager: Block input-0-1681863384000 replicated to only 0 peer(s) instead of 1 peers\n",
      "23/04/18 18:16:24 WARN RandomBlockReplicationPolicy: Expecting 1 replicas with only 0 peer/s.\n",
      "23/04/18 18:16:24 WARN BlockManager: Block input-0-1681863384200 replicated to only 0 peer(s) instead of 1 peers\n",
      "23/04/18 18:16:24 WARN RandomBlockReplicationPolicy: Expecting 1 replicas with only 0 peer/s.\n",
      "23/04/18 18:16:24 WARN BlockManager: Block input-0-1681863384400 replicated to only 0 peer(s) instead of 1 peers\n",
      "23/04/18 18:16:24 WARN RandomBlockReplicationPolicy: Expecting 1 replicas with only 0 peer/s.\n",
      "23/04/18 18:16:24 WARN BlockManager: Block input-0-1681863384600 replicated to only 0 peer(s) instead of 1 peers\n",
      "23/04/18 18:16:25 WARN RandomBlockReplicationPolicy: Expecting 1 replicas with only 0 peer/s.\n",
      "23/04/18 18:16:25 WARN BlockManager: Block input-0-1681863384800 replicated to only 0 peer(s) instead of 1 peers\n"
     ]
    },
    {
     "name": "stderr",
     "output_type": "stream",
     "text": [
      "[Stage 0:>                  (0 + 1) / 1][Stage 47:==>            (84 + 3) / 422]\r"
     ]
    },
    {
     "name": "stdout",
     "output_type": "stream",
     "text": [
      "23/04/18 18:16:26 WARN RandomBlockReplicationPolicy: Expecting 1 replicas with only 0 peer/s.\n",
      "23/04/18 18:16:26 WARN BlockManager: Block input-0-1681863386200 replicated to only 0 peer(s) instead of 1 peers\n",
      "23/04/18 18:16:26 WARN RandomBlockReplicationPolicy: Expecting 1 replicas with only 0 peer/s.\n",
      "23/04/18 18:16:26 WARN BlockManager: Block input-0-1681863386400 replicated to only 0 peer(s) instead of 1 peers\n"
     ]
    },
    {
     "name": "stderr",
     "output_type": "stream",
     "text": [
      "[Stage 0:>                  (0 + 1) / 1][Stage 47:===>          (108 + 3) / 422]\r"
     ]
    },
    {
     "name": "stdout",
     "output_type": "stream",
     "text": [
      "23/04/18 18:16:26 WARN RandomBlockReplicationPolicy: Expecting 1 replicas with only 0 peer/s.\n",
      "23/04/18 18:16:26 WARN BlockManager: Block input-0-1681863386600 replicated to only 0 peer(s) instead of 1 peers\n",
      "23/04/18 18:16:27 WARN RandomBlockReplicationPolicy: Expecting 1 replicas with only 0 peer/s.\n",
      "23/04/18 18:16:27 WARN BlockManager: Block input-0-1681863386800 replicated to only 0 peer(s) instead of 1 peers\n"
     ]
    },
    {
     "name": "stderr",
     "output_type": "stream",
     "text": [
      "[Stage 0:>                  (0 + 1) / 1][Stage 47:====>         (132 + 3) / 422]\r"
     ]
    },
    {
     "name": "stdout",
     "output_type": "stream",
     "text": [
      "23/04/18 18:16:27 WARN RandomBlockReplicationPolicy: Expecting 1 replicas with only 0 peer/s.\n",
      "23/04/18 18:16:27 WARN BlockManager: Block input-0-1681863387000 replicated to only 0 peer(s) instead of 1 peers\n"
     ]
    },
    {
     "name": "stderr",
     "output_type": "stream",
     "text": [
      "[Stage 0:>                  (0 + 1) / 1][Stage 47:======>       (204 + 3) / 422]\r"
     ]
    },
    {
     "name": "stdout",
     "output_type": "stream",
     "text": [
      "23/04/18 18:16:28 WARN RandomBlockReplicationPolicy: Expecting 1 replicas with only 0 peer/s.\n",
      "23/04/18 18:16:28 WARN BlockManager: Block input-0-1681863388400 replicated to only 0 peer(s) instead of 1 peers\n"
     ]
    },
    {
     "name": "stderr",
     "output_type": "stream",
     "text": [
      "[Stage 0:>                  (0 + 1) / 1][Stage 47:=======>      (225 + 3) / 422]\r"
     ]
    },
    {
     "name": "stdout",
     "output_type": "stream",
     "text": [
      "23/04/18 18:16:28 WARN RandomBlockReplicationPolicy: Expecting 1 replicas with only 0 peer/s.\n",
      "23/04/18 18:16:28 WARN BlockManager: Block input-0-1681863388600 replicated to only 0 peer(s) instead of 1 peers\n"
     ]
    },
    {
     "name": "stderr",
     "output_type": "stream",
     "text": [
      "[Stage 0:>                  (0 + 1) / 1][Stage 47:========>     (249 + 3) / 422]\r"
     ]
    },
    {
     "name": "stdout",
     "output_type": "stream",
     "text": [
      "23/04/18 18:16:29 WARN RandomBlockReplicationPolicy: Expecting 1 replicas with only 0 peer/s.\n",
      "23/04/18 18:16:29 WARN BlockManager: Block input-0-1681863389200 replicated to only 0 peer(s) instead of 1 peers\n",
      "23/04/18 18:16:29 WARN RandomBlockReplicationPolicy: Expecting 1 replicas with only 0 peer/s.\n",
      "23/04/18 18:16:29 WARN BlockManager: Block input-0-1681863389400 replicated to only 0 peer(s) instead of 1 peers\n"
     ]
    },
    {
     "name": "stderr",
     "output_type": "stream",
     "text": [
      "[Stage 0:>                  (0 + 1) / 1][Stage 47:============> (370 + 3) / 422]\r"
     ]
    },
    {
     "name": "stdout",
     "output_type": "stream",
     "text": [
      "23/04/18 18:16:31 WARN RandomBlockReplicationPolicy: Expecting 1 replicas with only 0 peer/s.\n",
      "23/04/18 18:16:31 WARN BlockManager: Block input-0-1681863391200 replicated to only 0 peer(s) instead of 1 peers\n",
      "23/04/18 18:16:31 WARN RandomBlockReplicationPolicy: Expecting 1 replicas with only 0 peer/s.\n",
      "23/04/18 18:16:31 WARN BlockManager: Block input-0-1681863391400 replicated to only 0 peer(s) instead of 1 peers\n"
     ]
    },
    {
     "name": "stderr",
     "output_type": "stream",
     "text": [
      "[Stage 0:>                  (0 + 1) / 1][Stage 47:=============>(401 + 3) / 422]\r"
     ]
    },
    {
     "name": "stdout",
     "output_type": "stream",
     "text": [
      "23/04/18 18:16:32 WARN RandomBlockReplicationPolicy: Expecting 1 replicas with only 0 peer/s.\n",
      "23/04/18 18:16:32 WARN BlockManager: Block input-0-1681863391800 replicated to only 0 peer(s) instead of 1 peers\n"
     ]
    },
    {
     "name": "stderr",
     "output_type": "stream",
     "text": [
      "[Stage 0:>                  (0 + 1) / 1][Stage 47:=============>(413 + 4) / 422]\r"
     ]
    },
    {
     "name": "stdout",
     "output_type": "stream",
     "text": [
      "23/04/18 18:16:32 WARN RandomBlockReplicationPolicy: Expecting 1 replicas with only 0 peer/s.\n",
      "23/04/18 18:16:32 WARN BlockManager: Block input-0-1681863392200 replicated to only 0 peer(s) instead of 1 peers\n"
     ]
    },
    {
     "name": "stderr",
     "output_type": "stream",
     "text": [
      "                                                                                \r"
     ]
    },
    {
     "name": "stdout",
     "output_type": "stream",
     "text": [
      "\n",
      "Top 10 Hashtags:\n",
      "39 (18)\n",
      "m (6)\n",
      "Echobox (4)\n",
      "422512 (2)\n",
      "photography (1)\n",
      "Nightsky (1)\n",
      "outdoors (1)\n",
      "にゃんぷっぷーチャレンジ (1)\n",
      "4 (1)\n",
      "40 (1)\n",
      "23/04/18 18:16:33 WARN RandomBlockReplicationPolicy: Expecting 1 replicas with only 0 peer/s.\n",
      "23/04/18 18:16:33 WARN BlockManager: Block input-0-1681863392800 replicated to only 0 peer(s) instead of 1 peers\n"
     ]
    },
    {
     "name": "stderr",
     "output_type": "stream",
     "text": [
      "[Stage 0:>                                                          (0 + 1) / 1]\r"
     ]
    },
    {
     "name": "stdout",
     "output_type": "stream",
     "text": [
      "23/04/18 18:16:33 WARN RandomBlockReplicationPolicy: Expecting 1 replicas with only 0 peer/s.\n",
      "23/04/18 18:16:33 WARN BlockManager: Block input-0-1681863393200 replicated to only 0 peer(s) instead of 1 peers\n",
      "23/04/18 18:16:33 WARN RandomBlockReplicationPolicy: Expecting 1 replicas with only 0 peer/s.\n",
      "23/04/18 18:16:33 WARN BlockManager: Block input-0-1681863393600 replicated to only 0 peer(s) instead of 1 peers\n",
      "23/04/18 18:16:34 WARN RandomBlockReplicationPolicy: Expecting 1 replicas with only 0 peer/s.\n",
      "23/04/18 18:16:34 WARN BlockManager: Block input-0-1681863394000 replicated to only 0 peer(s) instead of 1 peers\n",
      "23/04/18 18:16:34 WARN RandomBlockReplicationPolicy: Expecting 1 replicas with only 0 peer/s.\n",
      "23/04/18 18:16:34 WARN BlockManager: Block input-0-1681863394400 replicated to only 0 peer(s) instead of 1 peers\n",
      "23/04/18 18:16:34 WARN RandomBlockReplicationPolicy: Expecting 1 replicas with only 0 peer/s.\n",
      "23/04/18 18:16:34 WARN BlockManager: Block input-0-1681863394600 replicated to only 0 peer(s) instead of 1 peers\n",
      "23/04/18 18:16:35 WARN RandomBlockReplicationPolicy: Expecting 1 replicas with only 0 peer/s.\n",
      "23/04/18 18:16:35 WARN BlockManager: Block input-0-1681863395000 replicated to only 0 peer(s) instead of 1 peers\n",
      "23/04/18 18:16:35 WARN RandomBlockReplicationPolicy: Expecting 1 replicas with only 0 peer/s.\n",
      "23/04/18 18:16:35 WARN BlockManager: Block input-0-1681863395200 replicated to only 0 peer(s) instead of 1 peers\n"
     ]
    },
    {
     "name": "stderr",
     "output_type": "stream",
     "text": [
      "[Stage 0:>                  (0 + 1) / 1][Stage 49:=>             (48 + 3) / 442]\r"
     ]
    },
    {
     "name": "stdout",
     "output_type": "stream",
     "text": [
      "23/04/18 18:16:36 WARN RandomBlockReplicationPolicy: Expecting 1 replicas with only 0 peer/s.\n",
      "23/04/18 18:16:36 WARN BlockManager: Block input-0-1681863395800 replicated to only 0 peer(s) instead of 1 peers\n"
     ]
    },
    {
     "name": "stderr",
     "output_type": "stream",
     "text": [
      "[Stage 0:>                  (0 + 1) / 1][Stage 49:==>            (72 + 3) / 442]\r"
     ]
    },
    {
     "name": "stdout",
     "output_type": "stream",
     "text": [
      "23/04/18 18:16:36 WARN RandomBlockReplicationPolicy: Expecting 1 replicas with only 0 peer/s.\n",
      "23/04/18 18:16:36 WARN BlockManager: Block input-0-1681863396200 replicated to only 0 peer(s) instead of 1 peers\n",
      "23/04/18 18:16:36 WARN RandomBlockReplicationPolicy: Expecting 1 replicas with only 0 peer/s.\n",
      "23/04/18 18:16:36 WARN BlockManager: Block input-0-1681863396400 replicated to only 0 peer(s) instead of 1 peers\n"
     ]
    },
    {
     "name": "stderr",
     "output_type": "stream",
     "text": [
      "[Stage 0:>                  (0 + 1) / 1][Stage 49:====>         (144 + 3) / 442]\r"
     ]
    },
    {
     "name": "stdout",
     "output_type": "stream",
     "text": [
      "23/04/18 18:16:37 WARN RandomBlockReplicationPolicy: Expecting 1 replicas with only 0 peer/s.\n",
      "23/04/18 18:16:37 WARN BlockManager: Block input-0-1681863397200 replicated to only 0 peer(s) instead of 1 peers\n"
     ]
    },
    {
     "name": "stderr",
     "output_type": "stream",
     "text": [
      "[Stage 0:>                  (0 + 1) / 1][Stage 49:======>       (204 + 3) / 442]\r"
     ]
    },
    {
     "name": "stdout",
     "output_type": "stream",
     "text": [
      "23/04/18 18:16:38 WARN RandomBlockReplicationPolicy: Expecting 1 replicas with only 0 peer/s.\n",
      "23/04/18 18:16:38 WARN BlockManager: Block input-0-1681863398400 replicated to only 0 peer(s) instead of 1 peers\n"
     ]
    },
    {
     "name": "stderr",
     "output_type": "stream",
     "text": [
      "[Stage 0:>                  (0 + 1) / 1][Stage 49:=======>      (222 + 3) / 442]\r"
     ]
    },
    {
     "name": "stdout",
     "output_type": "stream",
     "text": [
      "23/04/18 18:16:39 WARN RandomBlockReplicationPolicy: Expecting 1 replicas with only 0 peer/s.\n",
      "23/04/18 18:16:39 WARN BlockManager: Block input-0-1681863398800 replicated to only 0 peer(s) instead of 1 peers\n",
      "23/04/18 18:16:39 WARN RandomBlockReplicationPolicy: Expecting 1 replicas with only 0 peer/s.\n",
      "23/04/18 18:16:39 WARN BlockManager: Block input-0-1681863399000 replicated to only 0 peer(s) instead of 1 peers\n"
     ]
    },
    {
     "name": "stderr",
     "output_type": "stream",
     "text": [
      "[Stage 0:>                  (0 + 1) / 1][Stage 49:=======>      (244 + 3) / 442]\r"
     ]
    },
    {
     "name": "stdout",
     "output_type": "stream",
     "text": [
      "23/04/18 18:16:39 WARN RandomBlockReplicationPolicy: Expecting 1 replicas with only 0 peer/s.\n",
      "23/04/18 18:16:39 WARN BlockManager: Block input-0-1681863399400 replicated to only 0 peer(s) instead of 1 peers\n"
     ]
    },
    {
     "name": "stderr",
     "output_type": "stream",
     "text": [
      "[Stage 0:>                  (0 + 1) / 1][Stage 49:========>     (268 + 3) / 442]\r"
     ]
    },
    {
     "name": "stdout",
     "output_type": "stream",
     "text": [
      "23/04/18 18:16:40 WARN RandomBlockReplicationPolicy: Expecting 1 replicas with only 0 peer/s.\n",
      "23/04/18 18:16:40 WARN BlockManager: Block input-0-1681863399800 replicated to only 0 peer(s) instead of 1 peers\n"
     ]
    },
    {
     "name": "stderr",
     "output_type": "stream",
     "text": [
      "[Stage 0:>                  (0 + 1) / 1][Stage 49:=========>    (288 + 4) / 442]\r"
     ]
    },
    {
     "name": "stdout",
     "output_type": "stream",
     "text": [
      "23/04/18 18:16:40 WARN RandomBlockReplicationPolicy: Expecting 1 replicas with only 0 peer/s.\n",
      "23/04/18 18:16:40 WARN BlockManager: Block input-0-1681863400000 replicated to only 0 peer(s) instead of 1 peers\n"
     ]
    },
    {
     "name": "stderr",
     "output_type": "stream",
     "text": [
      "[Stage 0:>                  (0 + 1) / 1][Stage 49:==========>   (327 + 3) / 442]\r"
     ]
    },
    {
     "name": "stdout",
     "output_type": "stream",
     "text": [
      "23/04/18 18:16:40 WARN RandomBlockReplicationPolicy: Expecting 1 replicas with only 0 peer/s.\n",
      "23/04/18 18:16:40 WARN BlockManager: Block input-0-1681863400600 replicated to only 0 peer(s) instead of 1 peers\n"
     ]
    },
    {
     "name": "stderr",
     "output_type": "stream",
     "text": [
      "[Stage 0:>                  (0 + 1) / 1][Stage 49:===========>  (349 + 3) / 442]\r"
     ]
    },
    {
     "name": "stdout",
     "output_type": "stream",
     "text": [
      "23/04/18 18:16:41 WARN RandomBlockReplicationPolicy: Expecting 1 replicas with only 0 peer/s.\n",
      "23/04/18 18:16:41 WARN BlockManager: Block input-0-1681863401000 replicated to only 0 peer(s) instead of 1 peers\n",
      "23/04/18 18:16:41 WARN RandomBlockReplicationPolicy: Expecting 1 replicas with only 0 peer/s.\n",
      "23/04/18 18:16:41 WARN BlockManager: Block input-0-1681863401200 replicated to only 0 peer(s) instead of 1 peers\n"
     ]
    },
    {
     "name": "stderr",
     "output_type": "stream",
     "text": [
      "[Stage 0:>                  (0 + 1) / 1][Stage 49:============> (387 + 3) / 442]\r"
     ]
    },
    {
     "name": "stdout",
     "output_type": "stream",
     "text": [
      "23/04/18 18:16:41 WARN RandomBlockReplicationPolicy: Expecting 1 replicas with only 0 peer/s.\n",
      "23/04/18 18:16:41 WARN BlockManager: Block input-0-1681863401600 replicated to only 0 peer(s) instead of 1 peers\n"
     ]
    },
    {
     "name": "stderr",
     "output_type": "stream",
     "text": [
      "[Stage 0:>                  (0 + 1) / 1][Stage 49:=============>(412 + 3) / 442]\r"
     ]
    },
    {
     "name": "stdout",
     "output_type": "stream",
     "text": [
      "23/04/18 18:16:42 WARN RandomBlockReplicationPolicy: Expecting 1 replicas with only 0 peer/s.\n",
      "23/04/18 18:16:42 WARN BlockManager: Block input-0-1681863402000 replicated to only 0 peer(s) instead of 1 peers\n"
     ]
    },
    {
     "name": "stderr",
     "output_type": "stream",
     "text": [
      "[Stage 0:>                  (0 + 1) / 1][Stage 49:=============>(428 + 3) / 442]\r"
     ]
    },
    {
     "name": "stdout",
     "output_type": "stream",
     "text": [
      "23/04/18 18:16:42 WARN RandomBlockReplicationPolicy: Expecting 1 replicas with only 0 peer/s.\n",
      "23/04/18 18:16:42 WARN BlockManager: Block input-0-1681863402400 replicated to only 0 peer(s) instead of 1 peers\n"
     ]
    },
    {
     "name": "stderr",
     "output_type": "stream",
     "text": [
      "                                                                                \r"
     ]
    },
    {
     "name": "stdout",
     "output_type": "stream",
     "text": [
      "\n",
      "Top 10 Hashtags:\n",
      "39 (18)\n",
      "m (6)\n",
      "Echobox (4)\n",
      "422512 (2)\n",
      "photography (1)\n",
      "Nightsky (1)\n",
      "outdoors (1)\n",
      "にゃんぷっぷーチャレンジ (1)\n",
      "4 (1)\n",
      "40 (1)\n"
     ]
    },
    {
     "name": "stderr",
     "output_type": "stream",
     "text": [
      "[Stage 0:>                                                          (0 + 1) / 1]\r"
     ]
    },
    {
     "name": "stdout",
     "output_type": "stream",
     "text": [
      "23/04/18 18:16:44 WARN RandomBlockReplicationPolicy: Expecting 1 replicas with only 0 peer/s.\n",
      "23/04/18 18:16:44 WARN BlockManager: Block input-0-1681863403800 replicated to only 0 peer(s) instead of 1 peers\n",
      "23/04/18 18:16:44 WARN RandomBlockReplicationPolicy: Expecting 1 replicas with only 0 peer/s.\n",
      "23/04/18 18:16:44 WARN BlockManager: Block input-0-1681863404400 replicated to only 0 peer(s) instead of 1 peers\n",
      "23/04/18 18:16:45 WARN RandomBlockReplicationPolicy: Expecting 1 replicas with only 0 peer/s.\n",
      "23/04/18 18:16:45 WARN BlockManager: Block input-0-1681863405000 replicated to only 0 peer(s) instead of 1 peers\n",
      "23/04/18 18:16:45 WARN RandomBlockReplicationPolicy: Expecting 1 replicas with only 0 peer/s.\n",
      "23/04/18 18:16:45 WARN BlockManager: Block input-0-1681863405200 replicated to only 0 peer(s) instead of 1 peers\n",
      "23/04/18 18:16:45 WARN RandomBlockReplicationPolicy: Expecting 1 replicas with only 0 peer/s.\n",
      "23/04/18 18:16:45 WARN BlockManager: Block input-0-1681863405400 replicated to only 0 peer(s) instead of 1 peers\n"
     ]
    },
    {
     "name": "stderr",
     "output_type": "stream",
     "text": [
      "[Stage 0:>                  (0 + 1) / 1][Stage 51:=>             (49 + 3) / 462]\r"
     ]
    },
    {
     "name": "stdout",
     "output_type": "stream",
     "text": [
      "23/04/18 18:16:45 WARN RandomBlockReplicationPolicy: Expecting 1 replicas with only 0 peer/s.\n",
      "23/04/18 18:16:45 WARN BlockManager: Block input-0-1681863405600 replicated to only 0 peer(s) instead of 1 peers\n",
      "23/04/18 18:16:46 WARN RandomBlockReplicationPolicy: Expecting 1 replicas with only 0 peer/s.\n",
      "23/04/18 18:16:46 WARN BlockManager: Block input-0-1681863405800 replicated to only 0 peer(s) instead of 1 peers\n"
     ]
    },
    {
     "name": "stderr",
     "output_type": "stream",
     "text": [
      "[Stage 0:>                  (0 + 1) / 1][Stage 51:==>            (86 + 3) / 462]\r"
     ]
    },
    {
     "name": "stdout",
     "output_type": "stream",
     "text": [
      "23/04/18 18:16:46 WARN RandomBlockReplicationPolicy: Expecting 1 replicas with only 0 peer/s.\n",
      "23/04/18 18:16:46 WARN BlockManager: Block input-0-1681863406200 replicated to only 0 peer(s) instead of 1 peers\n",
      "23/04/18 18:16:46 WARN RandomBlockReplicationPolicy: Expecting 1 replicas with only 0 peer/s.\n",
      "23/04/18 18:16:46 WARN BlockManager: Block input-0-1681863406400 replicated to only 0 peer(s) instead of 1 peers\n"
     ]
    },
    {
     "name": "stderr",
     "output_type": "stream",
     "text": [
      "[Stage 0:>                  (0 + 1) / 1][Stage 51:====>         (142 + 3) / 462]\r"
     ]
    },
    {
     "name": "stdout",
     "output_type": "stream",
     "text": [
      "23/04/18 18:16:48 WARN RandomBlockReplicationPolicy: Expecting 1 replicas with only 0 peer/s.\n",
      "23/04/18 18:16:48 WARN BlockManager: Block input-0-1681863408000 replicated to only 0 peer(s) instead of 1 peers\n"
     ]
    },
    {
     "name": "stderr",
     "output_type": "stream",
     "text": [
      "[Stage 0:>                  (0 + 1) / 1][Stage 51:====>         (162 + 3) / 462]\r"
     ]
    },
    {
     "name": "stdout",
     "output_type": "stream",
     "text": [
      "23/04/18 18:16:48 WARN RandomBlockReplicationPolicy: Expecting 1 replicas with only 0 peer/s.\n",
      "23/04/18 18:16:48 WARN BlockManager: Block input-0-1681863408400 replicated to only 0 peer(s) instead of 1 peers\n"
     ]
    },
    {
     "name": "stderr",
     "output_type": "stream",
     "text": [
      "[Stage 0:>                  (0 + 1) / 1][Stage 51:======>       (211 + 3) / 462]\r"
     ]
    },
    {
     "name": "stdout",
     "output_type": "stream",
     "text": [
      "23/04/18 18:16:49 WARN RandomBlockReplicationPolicy: Expecting 1 replicas with only 0 peer/s.\n",
      "23/04/18 18:16:49 WARN BlockManager: Block input-0-1681863409000 replicated to only 0 peer(s) instead of 1 peers\n"
     ]
    },
    {
     "name": "stderr",
     "output_type": "stream",
     "text": [
      "[Stage 0:>                  (0 + 1) / 1][Stage 51:=======>      (248 + 3) / 462]\r"
     ]
    },
    {
     "name": "stdout",
     "output_type": "stream",
     "text": [
      "23/04/18 18:16:49 WARN RandomBlockReplicationPolicy: Expecting 1 replicas with only 0 peer/s.\n",
      "23/04/18 18:16:49 WARN BlockManager: Block input-0-1681863409600 replicated to only 0 peer(s) instead of 1 peers\n"
     ]
    },
    {
     "name": "stderr",
     "output_type": "stream",
     "text": [
      "[Stage 0:>                  (0 + 1) / 1][Stage 51:========>     (271 + 4) / 462]\r"
     ]
    },
    {
     "name": "stdout",
     "output_type": "stream",
     "text": [
      "23/04/18 18:16:50 WARN RandomBlockReplicationPolicy: Expecting 1 replicas with only 0 peer/s.\n",
      "23/04/18 18:16:50 WARN BlockManager: Block input-0-1681863410200 replicated to only 0 peer(s) instead of 1 peers\n"
     ]
    },
    {
     "name": "stderr",
     "output_type": "stream",
     "text": [
      "[Stage 0:>                  (0 + 1) / 1][Stage 51:==========>   (341 + 4) / 462]\r"
     ]
    },
    {
     "name": "stdout",
     "output_type": "stream",
     "text": [
      "23/04/18 18:16:51 WARN RandomBlockReplicationPolicy: Expecting 1 replicas with only 0 peer/s.\n",
      "23/04/18 18:16:51 WARN BlockManager: Block input-0-1681863411200 replicated to only 0 peer(s) instead of 1 peers\n"
     ]
    },
    {
     "name": "stderr",
     "output_type": "stream",
     "text": [
      "[Stage 0:>                  (0 + 1) / 1][Stage 51:===========>  (363 + 3) / 462]\r"
     ]
    },
    {
     "name": "stdout",
     "output_type": "stream",
     "text": [
      "23/04/18 18:16:51 WARN RandomBlockReplicationPolicy: Expecting 1 replicas with only 0 peer/s.\n",
      "23/04/18 18:16:51 WARN BlockManager: Block input-0-1681863411600 replicated to only 0 peer(s) instead of 1 peers\n"
     ]
    },
    {
     "name": "stderr",
     "output_type": "stream",
     "text": [
      "[Stage 0:>                  (0 + 1) / 1][Stage 51:===========>  (381 + 3) / 462]\r"
     ]
    },
    {
     "name": "stdout",
     "output_type": "stream",
     "text": [
      "23/04/18 18:16:52 WARN RandomBlockReplicationPolicy: Expecting 1 replicas with only 0 peer/s.\n",
      "23/04/18 18:16:52 WARN BlockManager: Block input-0-1681863412200 replicated to only 0 peer(s) instead of 1 peers\n",
      "23/04/18 18:16:52 WARN RandomBlockReplicationPolicy: Expecting 1 replicas with only 0 peer/s.\n",
      "23/04/18 18:16:52 WARN BlockManager: Block input-0-1681863412400 replicated to only 0 peer(s) instead of 1 peers\n"
     ]
    },
    {
     "name": "stderr",
     "output_type": "stream",
     "text": [
      "[Stage 0:>                  (0 + 1) / 1][Stage 51:=============>(442 + 3) / 462]\r"
     ]
    },
    {
     "name": "stdout",
     "output_type": "stream",
     "text": [
      "23/04/18 18:16:53 WARN RandomBlockReplicationPolicy: Expecting 1 replicas with only 0 peer/s.\n",
      "23/04/18 18:16:53 WARN BlockManager: Block input-0-1681863413200 replicated to only 0 peer(s) instead of 1 peers\n"
     ]
    },
    {
     "name": "stderr",
     "output_type": "stream",
     "text": [
      "[Stage 0:>                  (0 + 1) / 1][Stage 51:=============>(448 + 3) / 462]\r"
     ]
    },
    {
     "name": "stdout",
     "output_type": "stream",
     "text": [
      "23/04/18 18:16:53 WARN RandomBlockReplicationPolicy: Expecting 1 replicas with only 0 peer/s.\n",
      "23/04/18 18:16:53 WARN BlockManager: Block input-0-1681863413600 replicated to only 0 peer(s) instead of 1 peers\n"
     ]
    },
    {
     "name": "stderr",
     "output_type": "stream",
     "text": [
      "                                                                                \r"
     ]
    },
    {
     "name": "stdout",
     "output_type": "stream",
     "text": [
      "\n",
      "Top 10 Hashtags:\n",
      "39 (18)\n",
      "m (6)\n",
      "Echobox (4)\n",
      "422512 (2)\n",
      "photography (1)\n",
      "Nightsky (1)\n",
      "outdoors (1)\n",
      "にゃんぷっぷーチャレンジ (1)\n",
      "4 (1)\n",
      "40 (1)\n"
     ]
    },
    {
     "name": "stderr",
     "output_type": "stream",
     "text": [
      "[Stage 0:>                  (0 + 1) / 1][Stage 53:=>             (60 + 3) / 480]\r"
     ]
    },
    {
     "name": "stdout",
     "output_type": "stream",
     "text": [
      "23/04/18 18:16:56 WARN RandomBlockReplicationPolicy: Expecting 1 replicas with only 0 peer/s.\n",
      "23/04/18 18:16:56 WARN BlockManager: Block input-0-1681863416200 replicated to only 0 peer(s) instead of 1 peers\n",
      "23/04/18 18:16:56 WARN RandomBlockReplicationPolicy: Expecting 1 replicas with only 0 peer/s.\n",
      "23/04/18 18:16:56 WARN BlockManager: Block input-0-1681863416400 replicated to only 0 peer(s) instead of 1 peers\n"
     ]
    },
    {
     "name": "stderr",
     "output_type": "stream",
     "text": [
      "[Stage 0:>                  (0 + 1) / 1][Stage 53:=====>        (202 + 3) / 480]\r"
     ]
    },
    {
     "name": "stdout",
     "output_type": "stream",
     "text": [
      "23/04/18 18:16:59 WARN RandomBlockReplicationPolicy: Expecting 1 replicas with only 0 peer/s.\n",
      "23/04/18 18:16:59 WARN BlockManager: Block input-0-1681863419000 replicated to only 0 peer(s) instead of 1 peers\n"
     ]
    },
    {
     "name": "stderr",
     "output_type": "stream",
     "text": [
      "[Stage 0:>                  (0 + 1) / 1][Stage 53:======>       (226 + 3) / 480]\r"
     ]
    },
    {
     "name": "stdout",
     "output_type": "stream",
     "text": [
      "23/04/18 18:16:59 WARN RandomBlockReplicationPolicy: Expecting 1 replicas with only 0 peer/s.\n",
      "23/04/18 18:16:59 WARN BlockManager: Block input-0-1681863419400 replicated to only 0 peer(s) instead of 1 peers\n"
     ]
    },
    {
     "name": "stderr",
     "output_type": "stream",
     "text": [
      "[Stage 0:>                  (0 + 1) / 1][Stage 53:=======>      (245 + 3) / 480]\r"
     ]
    },
    {
     "name": "stdout",
     "output_type": "stream",
     "text": [
      "23/04/18 18:17:00 WARN RandomBlockReplicationPolicy: Expecting 1 replicas with only 0 peer/s.\n",
      "23/04/18 18:17:00 WARN BlockManager: Block input-0-1681863419800 replicated to only 0 peer(s) instead of 1 peers\n"
     ]
    },
    {
     "name": "stderr",
     "output_type": "stream",
     "text": [
      "[Stage 0:>                  (0 + 1) / 1][Stage 53:=======>      (269 + 3) / 480]\r"
     ]
    },
    {
     "name": "stdout",
     "output_type": "stream",
     "text": [
      "23/04/18 18:17:00 WARN RandomBlockReplicationPolicy: Expecting 1 replicas with only 0 peer/s.\n",
      "23/04/18 18:17:00 WARN BlockManager: Block input-0-1681863420200 replicated to only 0 peer(s) instead of 1 peers\n"
     ]
    },
    {
     "name": "stderr",
     "output_type": "stream",
     "text": [
      "[Stage 0:>                  (0 + 1) / 1][Stage 53:=========>    (334 + 3) / 480]\r"
     ]
    },
    {
     "name": "stdout",
     "output_type": "stream",
     "text": [
      "23/04/18 18:17:01 WARN RandomBlockReplicationPolicy: Expecting 1 replicas with only 0 peer/s.\n",
      "23/04/18 18:17:01 WARN BlockManager: Block input-0-1681863421400 replicated to only 0 peer(s) instead of 1 peers\n",
      "23/04/18 18:17:01 WARN RandomBlockReplicationPolicy: Expecting 1 replicas with only 0 peer/s.\n",
      "23/04/18 18:17:01 WARN BlockManager: Block input-0-1681863421600 replicated to only 0 peer(s) instead of 1 peers\n"
     ]
    },
    {
     "name": "stderr",
     "output_type": "stream",
     "text": [
      "[Stage 0:>                  (0 + 1) / 1][Stage 53:===========>  (379 + 3) / 480]\r"
     ]
    },
    {
     "name": "stdout",
     "output_type": "stream",
     "text": [
      "23/04/18 18:17:02 WARN RandomBlockReplicationPolicy: Expecting 1 replicas with only 0 peer/s.\n",
      "23/04/18 18:17:02 WARN BlockManager: Block input-0-1681863422000 replicated to only 0 peer(s) instead of 1 peers\n",
      "23/04/18 18:17:02 WARN RandomBlockReplicationPolicy: Expecting 1 replicas with only 0 peer/s.\n",
      "23/04/18 18:17:02 WARN BlockManager: Block input-0-1681863422200 replicated to only 0 peer(s) instead of 1 peers\n"
     ]
    },
    {
     "name": "stderr",
     "output_type": "stream",
     "text": [
      "[Stage 0:>                  (0 + 1) / 1][Stage 53:============> (426 + 3) / 480]\r"
     ]
    },
    {
     "name": "stdout",
     "output_type": "stream",
     "text": [
      "23/04/18 18:17:03 WARN RandomBlockReplicationPolicy: Expecting 1 replicas with only 0 peer/s.\n",
      "23/04/18 18:17:03 WARN BlockManager: Block input-0-1681863423000 replicated to only 0 peer(s) instead of 1 peers\n",
      "23/04/18 18:17:03 WARN RandomBlockReplicationPolicy: Expecting 1 replicas with only 0 peer/s.\n",
      "23/04/18 18:17:03 WARN BlockManager: Block input-0-1681863423200 replicated to only 0 peer(s) instead of 1 peers\n"
     ]
    },
    {
     "name": "stderr",
     "output_type": "stream",
     "text": [
      "                                                                                \r"
     ]
    },
    {
     "name": "stdout",
     "output_type": "stream",
     "text": [
      "\n",
      "Top 10 Hashtags:\n",
      "39 (18)\n",
      "m (6)\n",
      "Echobox (4)\n",
      "422512 (2)\n",
      "1日1回パンケーキチャレンジ (2)\n",
      "photography (1)\n",
      "Nightsky (1)\n",
      "outdoors (1)\n",
      "にゃんぷっぷーチャレンジ (1)\n",
      "4 (1)\n"
     ]
    },
    {
     "name": "stderr",
     "output_type": "stream",
     "text": [
      "[Stage 0:>                  (0 + 1) / 1][Stage 55:=>             (45 + 3) / 492]\r"
     ]
    },
    {
     "name": "stdout",
     "output_type": "stream",
     "text": [
      "23/04/18 18:17:06 WARN RandomBlockReplicationPolicy: Expecting 1 replicas with only 0 peer/s.\n",
      "23/04/18 18:17:06 WARN BlockManager: Block input-0-1681863425800 replicated to only 0 peer(s) instead of 1 peers\n"
     ]
    },
    {
     "name": "stderr",
     "output_type": "stream",
     "text": [
      "[Stage 0:>                  (0 + 1) / 1][Stage 55:====>         (163 + 3) / 492]\r"
     ]
    },
    {
     "name": "stdout",
     "output_type": "stream",
     "text": [
      "23/04/18 18:17:08 WARN RandomBlockReplicationPolicy: Expecting 1 replicas with only 0 peer/s.\n",
      "23/04/18 18:17:08 WARN BlockManager: Block input-0-1681863427800 replicated to only 0 peer(s) instead of 1 peers\n"
     ]
    },
    {
     "name": "stderr",
     "output_type": "stream",
     "text": [
      "[Stage 0:>                  (0 + 1) / 1][Stage 55:=====>        (208 + 3) / 492]\r"
     ]
    },
    {
     "name": "stdout",
     "output_type": "stream",
     "text": [
      "23/04/18 18:17:08 WARN RandomBlockReplicationPolicy: Expecting 1 replicas with only 0 peer/s.\n",
      "23/04/18 18:17:08 WARN BlockManager: Block input-0-1681863428400 replicated to only 0 peer(s) instead of 1 peers\n"
     ]
    },
    {
     "name": "stderr",
     "output_type": "stream",
     "text": [
      "[Stage 0:>                  (0 + 1) / 1][Stage 55:======>       (233 + 3) / 492]\r"
     ]
    },
    {
     "name": "stdout",
     "output_type": "stream",
     "text": [
      "23/04/18 18:17:09 WARN RandomBlockReplicationPolicy: Expecting 1 replicas with only 0 peer/s.\n",
      "23/04/18 18:17:09 WARN BlockManager: Block input-0-1681863428800 replicated to only 0 peer(s) instead of 1 peers\n",
      "23/04/18 18:17:09 WARN RandomBlockReplicationPolicy: Expecting 1 replicas with only 0 peer/s.\n",
      "23/04/18 18:17:09 WARN BlockManager: Block input-0-1681863429000 replicated to only 0 peer(s) instead of 1 peers\n"
     ]
    },
    {
     "name": "stderr",
     "output_type": "stream",
     "text": [
      "[Stage 0:>                  (0 + 1) / 1][Stage 55:=======>      (258 + 3) / 492]\r"
     ]
    },
    {
     "name": "stdout",
     "output_type": "stream",
     "text": [
      "23/04/18 18:17:09 WARN RandomBlockReplicationPolicy: Expecting 1 replicas with only 0 peer/s.\n",
      "23/04/18 18:17:09 WARN BlockManager: Block input-0-1681863429400 replicated to only 0 peer(s) instead of 1 peers\n"
     ]
    },
    {
     "name": "stderr",
     "output_type": "stream",
     "text": [
      "[Stage 0:>                  (0 + 1) / 1][Stage 55:=========>    (331 + 3) / 492]\r"
     ]
    },
    {
     "name": "stdout",
     "output_type": "stream",
     "text": [
      "23/04/18 18:17:10 WARN RandomBlockReplicationPolicy: Expecting 1 replicas with only 0 peer/s.\n",
      "23/04/18 18:17:10 WARN BlockManager: Block input-0-1681863430600 replicated to only 0 peer(s) instead of 1 peers\n"
     ]
    },
    {
     "name": "stderr",
     "output_type": "stream",
     "text": [
      "[Stage 0:>                  (0 + 1) / 1][Stage 55:==========>   (355 + 3) / 492]\r"
     ]
    },
    {
     "name": "stdout",
     "output_type": "stream",
     "text": [
      "23/04/18 18:17:11 WARN RandomBlockReplicationPolicy: Expecting 1 replicas with only 0 peer/s.\n",
      "23/04/18 18:17:11 WARN BlockManager: Block input-0-1681863431000 replicated to only 0 peer(s) instead of 1 peers\n"
     ]
    },
    {
     "name": "stderr",
     "output_type": "stream",
     "text": [
      "[Stage 0:>                  (0 + 1) / 1][Stage 55:===========>  (404 + 3) / 492]\r"
     ]
    },
    {
     "name": "stdout",
     "output_type": "stream",
     "text": [
      "23/04/18 18:17:11 WARN RandomBlockReplicationPolicy: Expecting 1 replicas with only 0 peer/s.\n",
      "23/04/18 18:17:11 WARN BlockManager: Block input-0-1681863431600 replicated to only 0 peer(s) instead of 1 peers\n",
      "23/04/18 18:17:12 WARN RandomBlockReplicationPolicy: Expecting 1 replicas with only 0 peer/s.\n",
      "23/04/18 18:17:12 WARN BlockManager: Block input-0-1681863431800 replicated to only 0 peer(s) instead of 1 peers\n"
     ]
    },
    {
     "name": "stderr",
     "output_type": "stream",
     "text": [
      "[Stage 0:>                  (0 + 1) / 1][Stage 55:============> (429 + 3) / 492]\r"
     ]
    },
    {
     "name": "stdout",
     "output_type": "stream",
     "text": [
      "23/04/18 18:17:12 WARN RandomBlockReplicationPolicy: Expecting 1 replicas with only 0 peer/s.\n",
      "23/04/18 18:17:12 WARN BlockManager: Block input-0-1681863432200 replicated to only 0 peer(s) instead of 1 peers\n"
     ]
    },
    {
     "name": "stderr",
     "output_type": "stream",
     "text": [
      "[Stage 0:>                  (0 + 1) / 1][Stage 55:============> (455 + 3) / 492]\r"
     ]
    },
    {
     "name": "stdout",
     "output_type": "stream",
     "text": [
      "23/04/18 18:17:12 WARN RandomBlockReplicationPolicy: Expecting 1 replicas with only 0 peer/s.\n",
      "23/04/18 18:17:12 WARN BlockManager: Block input-0-1681863432600 replicated to only 0 peer(s) instead of 1 peers\n",
      "23/04/18 18:17:13 WARN RandomBlockReplicationPolicy: Expecting 1 replicas with only 0 peer/s.\n",
      "23/04/18 18:17:13 WARN BlockManager: Block input-0-1681863432800 replicated to only 0 peer(s) instead of 1 peers\n"
     ]
    },
    {
     "name": "stderr",
     "output_type": "stream",
     "text": [
      "[Stage 0:>                  (0 + 1) / 1][Stage 55:=============>(479 + 3) / 492]\r"
     ]
    },
    {
     "name": "stdout",
     "output_type": "stream",
     "text": [
      "23/04/18 18:17:13 WARN RandomBlockReplicationPolicy: Expecting 1 replicas with only 0 peer/s.\n",
      "23/04/18 18:17:13 WARN BlockManager: Block input-0-1681863433000 replicated to only 0 peer(s) instead of 1 peers\n"
     ]
    },
    {
     "name": "stderr",
     "output_type": "stream",
     "text": [
      "                                                                                \r"
     ]
    },
    {
     "name": "stdout",
     "output_type": "stream",
     "text": [
      "\n",
      "Top 10 Hashtags:\n",
      "39 (21)\n",
      "m (6)\n",
      "Echobox (4)\n",
      "422512 (2)\n",
      "1日1回パンケーキチャレンジ (2)\n",
      "photography (1)\n",
      "Nightsky (1)\n",
      "outdoors (1)\n",
      "にゃんぷっぷーチャレンジ (1)\n",
      "4 (1)\n",
      "23/04/18 18:17:13 WARN RandomBlockReplicationPolicy: Expecting 1 replicas with only 0 peer/s.\n",
      "23/04/18 18:17:13 WARN BlockManager: Block input-0-1681863433600 replicated to only 0 peer(s) instead of 1 peers\n",
      "23/04/18 18:17:14 WARN RandomBlockReplicationPolicy: Expecting 1 replicas with only 0 peer/s.\n",
      "23/04/18 18:17:14 WARN BlockManager: Block input-0-1681863433800 replicated to only 0 peer(s) instead of 1 peers\n",
      "23/04/18 18:17:14 WARN RandomBlockReplicationPolicy: Expecting 1 replicas with only 0 peer/s.\n",
      "23/04/18 18:17:14 WARN BlockManager: Block input-0-1681863434200 replicated to only 0 peer(s) instead of 1 peers\n"
     ]
    },
    {
     "name": "stderr",
     "output_type": "stream",
     "text": [
      "[Stage 0:>                  (0 + 1) / 1][Stage 57:===>          (111 + 3) / 509]\r"
     ]
    },
    {
     "name": "stdout",
     "output_type": "stream",
     "text": [
      "23/04/18 18:17:17 WARN RandomBlockReplicationPolicy: Expecting 1 replicas with only 0 peer/s.\n",
      "23/04/18 18:17:17 WARN BlockManager: Block input-0-1681863436800 replicated to only 0 peer(s) instead of 1 peers\n"
     ]
    },
    {
     "name": "stderr",
     "output_type": "stream",
     "text": [
      "[Stage 0:>                  (0 + 1) / 1][Stage 57:=====>        (194 + 3) / 509]\r"
     ]
    },
    {
     "name": "stdout",
     "output_type": "stream",
     "text": [
      "23/04/18 18:17:18 WARN RandomBlockReplicationPolicy: Expecting 1 replicas with only 0 peer/s.\n",
      "23/04/18 18:17:18 WARN BlockManager: Block input-0-1681863438200 replicated to only 0 peer(s) instead of 1 peers\n"
     ]
    },
    {
     "name": "stderr",
     "output_type": "stream",
     "text": [
      "[Stage 0:>                  (0 + 1) / 1][Stage 57:=====>        (217 + 3) / 509]\r"
     ]
    },
    {
     "name": "stdout",
     "output_type": "stream",
     "text": [
      "23/04/18 18:17:19 WARN RandomBlockReplicationPolicy: Expecting 1 replicas with only 0 peer/s.\n",
      "23/04/18 18:17:19 WARN BlockManager: Block input-0-1681863438800 replicated to only 0 peer(s) instead of 1 peers\n"
     ]
    },
    {
     "name": "stderr",
     "output_type": "stream",
     "text": [
      "[Stage 0:>                  (0 + 1) / 1][Stage 57:======>       (240 + 3) / 509]\r"
     ]
    },
    {
     "name": "stdout",
     "output_type": "stream",
     "text": [
      "23/04/18 18:17:19 WARN RandomBlockReplicationPolicy: Expecting 1 replicas with only 0 peer/s.\n",
      "23/04/18 18:17:19 WARN BlockManager: Block input-0-1681863439200 replicated to only 0 peer(s) instead of 1 peers\n"
     ]
    },
    {
     "name": "stderr",
     "output_type": "stream",
     "text": [
      "[Stage 0:>                  (0 + 1) / 1][Stage 57:========>     (324 + 4) / 509]\r"
     ]
    },
    {
     "name": "stdout",
     "output_type": "stream",
     "text": [
      "23/04/18 18:17:20 WARN RandomBlockReplicationPolicy: Expecting 1 replicas with only 0 peer/s.\n",
      "23/04/18 18:17:20 WARN BlockManager: Block input-0-1681863440600 replicated to only 0 peer(s) instead of 1 peers\n"
     ]
    },
    {
     "name": "stderr",
     "output_type": "stream",
     "text": [
      "[Stage 0:>                  (0 + 1) / 1][Stage 57:=========>    (361 + 3) / 509]\r"
     ]
    },
    {
     "name": "stdout",
     "output_type": "stream",
     "text": [
      "23/04/18 18:17:21 WARN RandomBlockReplicationPolicy: Expecting 1 replicas with only 0 peer/s.\n",
      "23/04/18 18:17:21 WARN BlockManager: Block input-0-1681863441200 replicated to only 0 peer(s) instead of 1 peers\n"
     ]
    },
    {
     "name": "stderr",
     "output_type": "stream",
     "text": [
      "[Stage 0:>                  (0 + 1) / 1][Stage 57:==========>   (384 + 3) / 509]\r"
     ]
    },
    {
     "name": "stdout",
     "output_type": "stream",
     "text": [
      "23/04/18 18:17:21 WARN RandomBlockReplicationPolicy: Expecting 1 replicas with only 0 peer/s.\n",
      "23/04/18 18:17:21 WARN BlockManager: Block input-0-1681863441600 replicated to only 0 peer(s) instead of 1 peers\n",
      "23/04/18 18:17:22 WARN RandomBlockReplicationPolicy: Expecting 1 replicas with only 0 peer/s.\n",
      "23/04/18 18:17:22 WARN BlockManager: Block input-0-1681863441800 replicated to only 0 peer(s) instead of 1 peers\n"
     ]
    },
    {
     "name": "stderr",
     "output_type": "stream",
     "text": [
      "[Stage 0:>                  (0 + 1) / 1][Stage 57:===========>  (429 + 3) / 509]\r"
     ]
    },
    {
     "name": "stdout",
     "output_type": "stream",
     "text": [
      "23/04/18 18:17:22 WARN RandomBlockReplicationPolicy: Expecting 1 replicas with only 0 peer/s.\n",
      "23/04/18 18:17:22 WARN BlockManager: Block input-0-1681863442400 replicated to only 0 peer(s) instead of 1 peers\n"
     ]
    },
    {
     "name": "stderr",
     "output_type": "stream",
     "text": [
      "[Stage 0:>                  (0 + 1) / 1][Stage 57:============> (453 + 3) / 509]\r"
     ]
    },
    {
     "name": "stdout",
     "output_type": "stream",
     "text": [
      "23/04/18 18:17:23 WARN RandomBlockReplicationPolicy: Expecting 1 replicas with only 0 peer/s.\n",
      "23/04/18 18:17:23 WARN BlockManager: Block input-0-1681863442800 replicated to only 0 peer(s) instead of 1 peers\n",
      "23/04/18 18:17:23 WARN RandomBlockReplicationPolicy: Expecting 1 replicas with only 0 peer/s.\n",
      "23/04/18 18:17:23 WARN BlockManager: Block input-0-1681863443000 replicated to only 0 peer(s) instead of 1 peers\n"
     ]
    },
    {
     "name": "stderr",
     "output_type": "stream",
     "text": [
      "[Stage 0:>                  (0 + 1) / 1][Stage 57:=============>(477 + 3) / 509]\r"
     ]
    },
    {
     "name": "stdout",
     "output_type": "stream",
     "text": [
      "23/04/18 18:17:23 WARN RandomBlockReplicationPolicy: Expecting 1 replicas with only 0 peer/s.\n",
      "23/04/18 18:17:23 WARN BlockManager: Block input-0-1681863443400 replicated to only 0 peer(s) instead of 1 peers\n",
      "23/04/18 18:17:23 WARN RandomBlockReplicationPolicy: Expecting 1 replicas with only 0 peer/s.\n",
      "23/04/18 18:17:23 WARN BlockManager: Block input-0-1681863443600 replicated to only 0 peer(s) instead of 1 peers\n"
     ]
    },
    {
     "name": "stderr",
     "output_type": "stream",
     "text": [
      "[Stage 0:>                  (0 + 1) / 1][Stage 57:=============>(501 + 3) / 509]\r"
     ]
    },
    {
     "name": "stdout",
     "output_type": "stream",
     "text": [
      "23/04/18 18:17:24 WARN RandomBlockReplicationPolicy: Expecting 1 replicas with only 0 peer/s.\n",
      "23/04/18 18:17:24 WARN BlockManager: Block input-0-1681863443800 replicated to only 0 peer(s) instead of 1 peers\n"
     ]
    },
    {
     "name": "stderr",
     "output_type": "stream",
     "text": [
      "                                                                                \r"
     ]
    },
    {
     "name": "stdout",
     "output_type": "stream",
     "text": [
      "\n",
      "Top 10 Hashtags:\n",
      "39 (21)\n",
      "m (6)\n",
      "Echobox (4)\n",
      "422512 (2)\n",
      "1日1回パンケーキチャレンジ (2)\n",
      "photography (1)\n",
      "Nightsky (1)\n",
      "outdoors (1)\n",
      "にゃんぷっぷーチャレンジ (1)\n",
      "4 (1)\n",
      "23/04/18 18:17:24 WARN RandomBlockReplicationPolicy: Expecting 1 replicas with only 0 peer/s.\n",
      "23/04/18 18:17:24 WARN BlockManager: Block input-0-1681863444400 replicated to only 0 peer(s) instead of 1 peers\n",
      "23/04/18 18:17:24 WARN RandomBlockReplicationPolicy: Expecting 1 replicas with only 0 peer/s.\n",
      "23/04/18 18:17:24 WARN BlockManager: Block input-0-1681863444600 replicated to only 0 peer(s) instead of 1 peers\n",
      "23/04/18 18:17:25 WARN RandomBlockReplicationPolicy: Expecting 1 replicas with only 0 peer/s.\n",
      "23/04/18 18:17:25 WARN BlockManager: Block input-0-1681863444800 replicated to only 0 peer(s) instead of 1 peers\n"
     ]
    },
    {
     "name": "stderr",
     "output_type": "stream",
     "text": [
      "[Stage 0:>                                                          (0 + 1) / 1]\r"
     ]
    },
    {
     "name": "stdout",
     "output_type": "stream",
     "text": [
      "23/04/18 18:17:25 WARN RandomBlockReplicationPolicy: Expecting 1 replicas with only 0 peer/s.\n",
      "23/04/18 18:17:25 WARN BlockManager: Block input-0-1681863445200 replicated to only 0 peer(s) instead of 1 peers\n",
      "23/04/18 18:17:25 WARN RandomBlockReplicationPolicy: Expecting 1 replicas with only 0 peer/s.\n",
      "23/04/18 18:17:25 WARN BlockManager: Block input-0-1681863445400 replicated to only 0 peer(s) instead of 1 peers\n"
     ]
    },
    {
     "name": "stderr",
     "output_type": "stream",
     "text": [
      "[Stage 0:>                  (0 + 1) / 1][Stage 59:======>       (241 + 3) / 525]\r"
     ]
    },
    {
     "name": "stdout",
     "output_type": "stream",
     "text": [
      "23/04/18 18:17:29 WARN RandomBlockReplicationPolicy: Expecting 1 replicas with only 0 peer/s.\n",
      "23/04/18 18:17:29 WARN BlockManager: Block input-0-1681863449600 replicated to only 0 peer(s) instead of 1 peers\n"
     ]
    },
    {
     "name": "stderr",
     "output_type": "stream",
     "text": [
      "[Stage 0:>                  (0 + 1) / 1][Stage 59:======>       (259 + 3) / 525]\r"
     ]
    },
    {
     "name": "stdout",
     "output_type": "stream",
     "text": [
      "23/04/18 18:17:30 WARN RandomBlockReplicationPolicy: Expecting 1 replicas with only 0 peer/s.\n",
      "23/04/18 18:17:30 WARN BlockManager: Block input-0-1681863450000 replicated to only 0 peer(s) instead of 1 peers\n",
      "23/04/18 18:17:30 WARN RandomBlockReplicationPolicy: Expecting 1 replicas with only 0 peer/s.\n",
      "23/04/18 18:17:30 WARN BlockManager: Block input-0-1681863450200 replicated to only 0 peer(s) instead of 1 peers\n"
     ]
    },
    {
     "name": "stderr",
     "output_type": "stream",
     "text": [
      "[Stage 0:>                  (0 + 1) / 1][Stage 59:=======>      (280 + 4) / 525]\r"
     ]
    },
    {
     "name": "stdout",
     "output_type": "stream",
     "text": [
      "23/04/18 18:17:30 WARN RandomBlockReplicationPolicy: Expecting 1 replicas with only 0 peer/s.\n",
      "23/04/18 18:17:30 WARN BlockManager: Block input-0-1681863450400 replicated to only 0 peer(s) instead of 1 peers\n",
      "23/04/18 18:17:30 WARN RandomBlockReplicationPolicy: Expecting 1 replicas with only 0 peer/s.\n",
      "23/04/18 18:17:30 WARN BlockManager: Block input-0-1681863450600 replicated to only 0 peer(s) instead of 1 peers\n"
     ]
    },
    {
     "name": "stderr",
     "output_type": "stream",
     "text": [
      "[Stage 0:>                  (0 + 1) / 1][Stage 59:=======>      (299 + 3) / 525]\r"
     ]
    },
    {
     "name": "stdout",
     "output_type": "stream",
     "text": [
      "23/04/18 18:17:31 WARN RandomBlockReplicationPolicy: Expecting 1 replicas with only 0 peer/s.\n",
      "23/04/18 18:17:31 WARN BlockManager: Block input-0-1681863450800 replicated to only 0 peer(s) instead of 1 peers\n"
     ]
    },
    {
     "name": "stderr",
     "output_type": "stream",
     "text": [
      "[Stage 0:>                  (0 + 1) / 1][Stage 59:========>     (321 + 3) / 525]\r"
     ]
    },
    {
     "name": "stdout",
     "output_type": "stream",
     "text": [
      "23/04/18 18:17:31 WARN RandomBlockReplicationPolicy: Expecting 1 replicas with only 0 peer/s.\n",
      "23/04/18 18:17:31 WARN BlockManager: Block input-0-1681863451000 replicated to only 0 peer(s) instead of 1 peers\n"
     ]
    },
    {
     "name": "stderr",
     "output_type": "stream",
     "text": [
      "[Stage 0:>                  (0 + 1) / 1][Stage 59:=========>    (354 + 3) / 525]\r"
     ]
    },
    {
     "name": "stdout",
     "output_type": "stream",
     "text": [
      "23/04/18 18:17:32 WARN RandomBlockReplicationPolicy: Expecting 1 replicas with only 0 peer/s.\n",
      "23/04/18 18:17:32 WARN BlockManager: Block input-0-1681863451800 replicated to only 0 peer(s) instead of 1 peers\n"
     ]
    },
    {
     "name": "stderr",
     "output_type": "stream",
     "text": [
      "[Stage 0:>                  (0 + 1) / 1][Stage 59:=========>    (374 + 3) / 525]\r"
     ]
    },
    {
     "name": "stdout",
     "output_type": "stream",
     "text": [
      "23/04/18 18:17:32 WARN RandomBlockReplicationPolicy: Expecting 1 replicas with only 0 peer/s.\n",
      "23/04/18 18:17:32 WARN BlockManager: Block input-0-1681863452200 replicated to only 0 peer(s) instead of 1 peers\n",
      "23/04/18 18:17:32 WARN RandomBlockReplicationPolicy: Expecting 1 replicas with only 0 peer/s.\n",
      "23/04/18 18:17:32 WARN BlockManager: Block input-0-1681863452400 replicated to only 0 peer(s) instead of 1 peers\n"
     ]
    },
    {
     "name": "stderr",
     "output_type": "stream",
     "text": [
      "[Stage 0:>                  (0 + 1) / 1][Stage 59:===========>  (421 + 3) / 525]\r"
     ]
    },
    {
     "name": "stdout",
     "output_type": "stream",
     "text": [
      "23/04/18 18:17:33 WARN RandomBlockReplicationPolicy: Expecting 1 replicas with only 0 peer/s.\n",
      "23/04/18 18:17:33 WARN BlockManager: Block input-0-1681863452800 replicated to only 0 peer(s) instead of 1 peers\n",
      "23/04/18 18:17:33 WARN RandomBlockReplicationPolicy: Expecting 1 replicas with only 0 peer/s.\n",
      "23/04/18 18:17:33 WARN BlockManager: Block input-0-1681863453000 replicated to only 0 peer(s) instead of 1 peers\n"
     ]
    },
    {
     "name": "stderr",
     "output_type": "stream",
     "text": [
      "[Stage 0:>                  (0 + 1) / 1][Stage 59:===========>  (443 + 3) / 525]\r"
     ]
    },
    {
     "name": "stdout",
     "output_type": "stream",
     "text": [
      "23/04/18 18:17:33 WARN RandomBlockReplicationPolicy: Expecting 1 replicas with only 0 peer/s.\n",
      "23/04/18 18:17:33 WARN BlockManager: Block input-0-1681863453400 replicated to only 0 peer(s) instead of 1 peers\n"
     ]
    },
    {
     "name": "stderr",
     "output_type": "stream",
     "text": [
      "[Stage 0:>                  (0 + 1) / 1][Stage 59:=============>(488 + 3) / 525]\r"
     ]
    },
    {
     "name": "stdout",
     "output_type": "stream",
     "text": [
      "23/04/18 18:17:34 WARN RandomBlockReplicationPolicy: Expecting 1 replicas with only 0 peer/s.\n",
      "23/04/18 18:17:34 WARN BlockManager: Block input-0-1681863454200 replicated to only 0 peer(s) instead of 1 peers\n"
     ]
    },
    {
     "name": "stderr",
     "output_type": "stream",
     "text": [
      "[Stage 0:>                  (0 + 1) / 1][Stage 59:=============>(521 + 3) / 525]\r"
     ]
    },
    {
     "name": "stdout",
     "output_type": "stream",
     "text": [
      "23/04/18 18:17:35 WARN RandomBlockReplicationPolicy: Expecting 1 replicas with only 0 peer/s.\n",
      "23/04/18 18:17:35 WARN BlockManager: Block input-0-1681863454800 replicated to only 0 peer(s) instead of 1 peers\n"
     ]
    },
    {
     "name": "stderr",
     "output_type": "stream",
     "text": [
      "                                                                                \r"
     ]
    },
    {
     "name": "stdout",
     "output_type": "stream",
     "text": [
      "\n",
      "Top 10 Hashtags:\n",
      "39 (24)\n",
      "m (6)\n",
      "Echobox (4)\n",
      "422512 (2)\n",
      "1日1回パンケーキチャレンジ (2)\n",
      "photography (1)\n",
      "Nightsky (1)\n",
      "outdoors (1)\n",
      "にゃんぷっぷーチャレンジ (1)\n",
      "4 (1)\n",
      "23/04/18 18:17:35 WARN RandomBlockReplicationPolicy: Expecting 1 replicas with only 0 peer/s.\n",
      "23/04/18 18:17:35 WARN BlockManager: Block input-0-1681863455600 replicated to only 0 peer(s) instead of 1 peers\n"
     ]
    },
    {
     "name": "stderr",
     "output_type": "stream",
     "text": [
      "[Stage 0:>                  (0 + 1) / 1][Stage 61:>              (35 + 3) / 528]\r"
     ]
    },
    {
     "name": "stdout",
     "output_type": "stream",
     "text": [
      "23/04/18 18:17:36 WARN RandomBlockReplicationPolicy: Expecting 1 replicas with only 0 peer/s.\n",
      "23/04/18 18:17:36 WARN BlockManager: Block input-0-1681863456000 replicated to only 0 peer(s) instead of 1 peers\n"
     ]
    },
    {
     "name": "stderr",
     "output_type": "stream",
     "text": [
      "[Stage 0:>                  (0 + 1) / 1][Stage 61:=>             (58 + 3) / 528]\r"
     ]
    },
    {
     "name": "stdout",
     "output_type": "stream",
     "text": [
      "23/04/18 18:17:36 WARN RandomBlockReplicationPolicy: Expecting 1 replicas with only 0 peer/s.\n",
      "23/04/18 18:17:36 WARN BlockManager: Block input-0-1681863456400 replicated to only 0 peer(s) instead of 1 peers\n",
      "23/04/18 18:17:36 WARN RandomBlockReplicationPolicy: Expecting 1 replicas with only 0 peer/s.\n",
      "23/04/18 18:17:36 WARN BlockManager: Block input-0-1681863456600 replicated to only 0 peer(s) instead of 1 peers\n"
     ]
    },
    {
     "name": "stderr",
     "output_type": "stream",
     "text": [
      "[Stage 0:>                  (0 + 1) / 1][Stage 61:==>           (103 + 3) / 528]\r"
     ]
    },
    {
     "name": "stdout",
     "output_type": "stream",
     "text": [
      "23/04/18 18:17:37 WARN RandomBlockReplicationPolicy: Expecting 1 replicas with only 0 peer/s.\n",
      "23/04/18 18:17:37 WARN BlockManager: Block input-0-1681863457000 replicated to only 0 peer(s) instead of 1 peers\n"
     ]
    }
   ],
   "source": [
    "ssc.start()"
   ]
  },
  {
   "cell_type": "code",
   "execution_count": 6,
   "metadata": {},
   "outputs": [
    {
     "name": "stderr",
     "output_type": "stream",
     "text": [
      "[Stage 0:>                  (0 + 1) / 1][Stage 61:===>          (125 + 4) / 528]\r"
     ]
    },
    {
     "name": "stdout",
     "output_type": "stream",
     "text": [
      "23/04/18 18:17:37 WARN RandomBlockReplicationPolicy: Expecting 1 replicas with only 0 peer/s.\n",
      "23/04/18 18:17:37 WARN BlockManager: Block input-0-1681863457400 replicated to only 0 peer(s) instead of 1 peers\n",
      "23/04/18 18:17:37 ERROR ReceiverTracker: Deregistered receiver for stream 0: Stopped by driver\n",
      "23/04/18 18:17:37 WARN SocketReceiver: Error receiving data\n",
      "java.net.SocketException: Socket closed\n",
      "\tat java.base/java.net.SocketInputStream.socketRead0(Native Method)\n",
      "\tat java.base/java.net.SocketInputStream.socketRead(SocketInputStream.java:115)\n",
      "\tat java.base/java.net.SocketInputStream.read(SocketInputStream.java:168)\n",
      "\tat java.base/java.net.SocketInputStream.read(SocketInputStream.java:140)\n",
      "\tat java.base/sun.nio.cs.StreamDecoder.readBytes(StreamDecoder.java:284)\n",
      "\tat java.base/sun.nio.cs.StreamDecoder.implRead(StreamDecoder.java:326)\n",
      "\tat java.base/sun.nio.cs.StreamDecoder.read(StreamDecoder.java:178)\n",
      "\tat java.base/java.io.InputStreamReader.read(InputStreamReader.java:181)\n",
      "\tat java.base/java.io.BufferedReader.fill(BufferedReader.java:161)\n",
      "\tat java.base/java.io.BufferedReader.readLine(BufferedReader.java:326)\n",
      "\tat java.base/java.io.BufferedReader.readLine(BufferedReader.java:392)\n",
      "\tat org.apache.spark.streaming.dstream.SocketReceiver$$anon$2.getNext(SocketInputDStream.scala:121)\n",
      "\tat org.apache.spark.streaming.dstream.SocketReceiver$$anon$2.getNext(SocketInputDStream.scala:119)\n",
      "\tat org.apache.spark.util.NextIterator.hasNext(NextIterator.scala:73)\n",
      "\tat org.apache.spark.streaming.dstream.SocketReceiver.receive(SocketInputDStream.scala:91)\n",
      "\tat org.apache.spark.streaming.dstream.SocketReceiver$$anon$1.run(SocketInputDStream.scala:72)\n",
      "23/04/18 18:17:37 WARN ReceiverSupervisorImpl: Restarting receiver with delay 2000 ms: Error receiving data\n",
      "java.net.SocketException: Socket closed\n",
      "\tat java.base/java.net.SocketInputStream.socketRead0(Native Method)\n",
      "\tat java.base/java.net.SocketInputStream.socketRead(SocketInputStream.java:115)\n",
      "\tat java.base/java.net.SocketInputStream.read(SocketInputStream.java:168)\n",
      "\tat java.base/java.net.SocketInputStream.read(SocketInputStream.java:140)\n",
      "\tat java.base/sun.nio.cs.StreamDecoder.readBytes(StreamDecoder.java:284)\n",
      "\tat java.base/sun.nio.cs.StreamDecoder.implRead(StreamDecoder.java:326)\n",
      "\tat java.base/sun.nio.cs.StreamDecoder.read(StreamDecoder.java:178)\n",
      "\tat java.base/java.io.InputStreamReader.read(InputStreamReader.java:181)\n",
      "\tat java.base/java.io.BufferedReader.fill(BufferedReader.java:161)\n",
      "\tat java.base/java.io.BufferedReader.readLine(BufferedReader.java:326)\n",
      "\tat java.base/java.io.BufferedReader.readLine(BufferedReader.java:392)\n",
      "\tat org.apache.spark.streaming.dstream.SocketReceiver$$anon$2.getNext(SocketInputDStream.scala:121)\n",
      "\tat org.apache.spark.streaming.dstream.SocketReceiver$$anon$2.getNext(SocketInputDStream.scala:119)\n",
      "\tat org.apache.spark.util.NextIterator.hasNext(NextIterator.scala:73)\n",
      "\tat org.apache.spark.streaming.dstream.SocketReceiver.receive(SocketInputDStream.scala:91)\n",
      "\tat org.apache.spark.streaming.dstream.SocketReceiver$$anon$1.run(SocketInputDStream.scala:72)\n",
      "23/04/18 18:17:37 WARN ReceiverSupervisorImpl: Receiver has been stopped\n"
     ]
    },
    {
     "name": "stderr",
     "output_type": "stream",
     "text": [
      "Exception in thread \"receiver-supervisor-future-0\" java.lang.InterruptedException: sleep interrupted\n",
      "\tat java.base/java.lang.Thread.sleep(Native Method)\n",
      "\tat org.apache.spark.streaming.receiver.ReceiverSupervisor.$anonfun$restartReceiver$1(ReceiverSupervisor.scala:196)\n",
      "\tat scala.runtime.java8.JFunction0$mcV$sp.apply(JFunction0$mcV$sp.java:23)\n",
      "\tat scala.concurrent.Future$.$anonfun$apply$1(Future.scala:659)\n",
      "\tat scala.util.Success.$anonfun$map$1(Try.scala:255)\n",
      "\tat scala.util.Success.map(Try.scala:213)\n",
      "\tat scala.concurrent.Future.$anonfun$map$1(Future.scala:292)\n",
      "\tat scala.concurrent.impl.Promise.liftedTree1$1(Promise.scala:33)\n",
      "\tat scala.concurrent.impl.Promise.$anonfun$transform$1(Promise.scala:33)\n",
      "\tat scala.concurrent.impl.CallbackRunnable.run(Promise.scala:64)\n",
      "\tat java.base/java.util.concurrent.ThreadPoolExecutor.runWorker(ThreadPoolExecutor.java:1128)\n",
      "\tat java.base/java.util.concurrent.ThreadPoolExecutor$Worker.run(ThreadPoolExecutor.java:628)\n",
      "\tat java.base/java.lang.Thread.run(Thread.java:829)\n",
      "[Stage 61:===============>                                      (147 + 4) / 528]\r"
     ]
    },
    {
     "name": "stdout",
     "output_type": "stream",
     "text": [
      "23/04/18 18:17:38 WARN BatchedWriteAheadLog: BatchedWriteAheadLog Writer queue interrupted.\n"
     ]
    },
    {
     "name": "stderr",
     "output_type": "stream",
     "text": [
      "[Stage 61:=============================>                        (291 + 4) / 528]\r"
     ]
    },
    {
     "name": "stdout",
     "output_type": "stream",
     "text": [
      "23/04/18 18:17:40 ERROR TaskSchedulerImpl: Exception in statusUpdate\n",
      "java.util.concurrent.RejectedExecutionException: Task org.apache.spark.scheduler.TaskResultGetter$$anon$3@38c966c3 rejected from java.util.concurrent.ThreadPoolExecutor@3698bf7e[Terminated, pool size = 0, active threads = 0, queued tasks = 0, completed tasks = 8272]\n",
      "\tat java.base/java.util.concurrent.ThreadPoolExecutor$AbortPolicy.rejectedExecution(ThreadPoolExecutor.java:2055)\n",
      "\tat java.base/java.util.concurrent.ThreadPoolExecutor.reject(ThreadPoolExecutor.java:825)\n",
      "\tat java.base/java.util.concurrent.ThreadPoolExecutor.execute(ThreadPoolExecutor.java:1355)\n",
      "\tat org.apache.spark.scheduler.TaskResultGetter.enqueueSuccessfulTask(TaskResultGetter.scala:61)\n",
      "\tat org.apache.spark.scheduler.TaskSchedulerImpl.liftedTree2$1(TaskSchedulerImpl.scala:819)\n",
      "\tat org.apache.spark.scheduler.TaskSchedulerImpl.statusUpdate(TaskSchedulerImpl.scala:794)\n",
      "\tat org.apache.spark.scheduler.local.LocalEndpoint$$anonfun$receive$1.applyOrElse(LocalSchedulerBackend.scala:71)\n",
      "\tat org.apache.spark.rpc.netty.Inbox.$anonfun$process$1(Inbox.scala:115)\n",
      "\tat org.apache.spark.rpc.netty.Inbox.safelyCall(Inbox.scala:213)\n",
      "\tat org.apache.spark.rpc.netty.Inbox.process(Inbox.scala:100)\n",
      "\tat org.apache.spark.rpc.netty.MessageLoop.org$apache$spark$rpc$netty$MessageLoop$$receiveLoop(MessageLoop.scala:75)\n",
      "\tat org.apache.spark.rpc.netty.MessageLoop$$anon$1.run(MessageLoop.scala:41)\n",
      "\tat java.base/java.util.concurrent.ThreadPoolExecutor.runWorker(ThreadPoolExecutor.java:1128)\n",
      "\tat java.base/java.util.concurrent.ThreadPoolExecutor$Worker.run(ThreadPoolExecutor.java:628)\n",
      "\tat java.base/java.lang.Thread.run(Thread.java:829)\n",
      "23/04/18 18:17:40 ERROR Inbox: Ignoring error\n",
      "java.util.concurrent.RejectedExecutionException: Task org.apache.spark.executor.Executor$TaskRunner@5d135074 rejected from java.util.concurrent.ThreadPoolExecutor@2c683e12[Shutting down, pool size = 3, active threads = 3, queued tasks = 0, completed tasks = 8273]\n",
      "\tat java.base/java.util.concurrent.ThreadPoolExecutor$AbortPolicy.rejectedExecution(ThreadPoolExecutor.java:2055)\n",
      "\tat java.base/java.util.concurrent.ThreadPoolExecutor.reject(ThreadPoolExecutor.java:825)\n",
      "\tat java.base/java.util.concurrent.ThreadPoolExecutor.execute(ThreadPoolExecutor.java:1355)\n",
      "\tat org.apache.spark.executor.Executor.launchTask(Executor.scala:305)\n",
      "\tat org.apache.spark.scheduler.local.LocalEndpoint.$anonfun$reviveOffers$1(LocalSchedulerBackend.scala:93)\n",
      "\tat org.apache.spark.scheduler.local.LocalEndpoint.$anonfun$reviveOffers$1$adapted(LocalSchedulerBackend.scala:91)\n",
      "\tat scala.collection.Iterator.foreach(Iterator.scala:943)\n",
      "\tat scala.collection.Iterator.foreach$(Iterator.scala:943)\n",
      "\tat scala.collection.AbstractIterator.foreach(Iterator.scala:1431)\n",
      "\tat scala.collection.IterableLike.foreach(IterableLike.scala:74)\n",
      "\tat scala.collection.IterableLike.foreach$(IterableLike.scala:73)\n",
      "\tat scala.collection.AbstractIterable.foreach(Iterable.scala:56)\n",
      "\tat org.apache.spark.scheduler.local.LocalEndpoint.reviveOffers(LocalSchedulerBackend.scala:91)\n",
      "\tat org.apache.spark.scheduler.local.LocalEndpoint$$anonfun$receive$1.applyOrElse(LocalSchedulerBackend.scala:74)\n",
      "\tat org.apache.spark.rpc.netty.Inbox.$anonfun$process$1(Inbox.scala:115)\n",
      "\tat org.apache.spark.rpc.netty.Inbox.safelyCall(Inbox.scala:213)\n",
      "\tat org.apache.spark.rpc.netty.Inbox.process(Inbox.scala:100)\n",
      "\tat org.apache.spark.rpc.netty.MessageLoop.org$apache$spark$rpc$netty$MessageLoop$$receiveLoop(MessageLoop.scala:75)\n",
      "\tat org.apache.spark.rpc.netty.MessageLoop$$anon$1.run(MessageLoop.scala:41)\n",
      "\tat java.base/java.util.concurrent.ThreadPoolExecutor.runWorker(ThreadPoolExecutor.java:1128)\n",
      "\tat java.base/java.util.concurrent.ThreadPoolExecutor$Worker.run(ThreadPoolExecutor.java:628)\n",
      "\tat java.base/java.lang.Thread.run(Thread.java:829)\n",
      "23/04/18 18:17:40 ERROR TaskSchedulerImpl: Exception in statusUpdate\n",
      "java.util.concurrent.RejectedExecutionException: Task org.apache.spark.scheduler.TaskResultGetter$$anon$3@399075bb rejected from java.util.concurrent.ThreadPoolExecutor@3698bf7e[Terminated, pool size = 0, active threads = 0, queued tasks = 0, completed tasks = 8272]\n",
      "\tat java.base/java.util.concurrent.ThreadPoolExecutor$AbortPolicy.rejectedExecution(ThreadPoolExecutor.java:2055)\n",
      "\tat java.base/java.util.concurrent.ThreadPoolExecutor.reject(ThreadPoolExecutor.java:825)\n",
      "\tat java.base/java.util.concurrent.ThreadPoolExecutor.execute(ThreadPoolExecutor.java:1355)\n",
      "\tat org.apache.spark.scheduler.TaskResultGetter.enqueueSuccessfulTask(TaskResultGetter.scala:61)\n",
      "\tat org.apache.spark.scheduler.TaskSchedulerImpl.liftedTree2$1(TaskSchedulerImpl.scala:819)\n",
      "\tat org.apache.spark.scheduler.TaskSchedulerImpl.statusUpdate(TaskSchedulerImpl.scala:794)\n",
      "\tat org.apache.spark.scheduler.local.LocalEndpoint$$anonfun$receive$1.applyOrElse(LocalSchedulerBackend.scala:71)\n",
      "\tat org.apache.spark.rpc.netty.Inbox.$anonfun$process$1(Inbox.scala:115)\n",
      "\tat org.apache.spark.rpc.netty.Inbox.safelyCall(Inbox.scala:213)\n",
      "\tat org.apache.spark.rpc.netty.Inbox.process(Inbox.scala:100)\n",
      "\tat org.apache.spark.rpc.netty.MessageLoop.org$apache$spark$rpc$netty$MessageLoop$$receiveLoop(MessageLoop.scala:75)\n",
      "\tat org.apache.spark.rpc.netty.MessageLoop$$anon$1.run(MessageLoop.scala:41)\n",
      "\tat java.base/java.util.concurrent.ThreadPoolExecutor.runWorker(ThreadPoolExecutor.java:1128)\n",
      "\tat java.base/java.util.concurrent.ThreadPoolExecutor$Worker.run(ThreadPoolExecutor.java:628)\n",
      "\tat java.base/java.lang.Thread.run(Thread.java:829)\n",
      "23/04/18 18:17:40 ERROR Inbox: Ignoring error\n",
      "java.util.concurrent.RejectedExecutionException: Task org.apache.spark.executor.Executor$TaskRunner@3068ce94 rejected from java.util.concurrent.ThreadPoolExecutor@2c683e12[Shutting down, pool size = 2, active threads = 2, queued tasks = 0, completed tasks = 8274]\n",
      "\tat java.base/java.util.concurrent.ThreadPoolExecutor$AbortPolicy.rejectedExecution(ThreadPoolExecutor.java:2055)\n",
      "\tat java.base/java.util.concurrent.ThreadPoolExecutor.reject(ThreadPoolExecutor.java:825)\n",
      "\tat java.base/java.util.concurrent.ThreadPoolExecutor.execute(ThreadPoolExecutor.java:1355)\n",
      "\tat org.apache.spark.executor.Executor.launchTask(Executor.scala:305)\n",
      "\tat org.apache.spark.scheduler.local.LocalEndpoint.$anonfun$reviveOffers$1(LocalSchedulerBackend.scala:93)\n",
      "\tat org.apache.spark.scheduler.local.LocalEndpoint.$anonfun$reviveOffers$1$adapted(LocalSchedulerBackend.scala:91)\n",
      "\tat scala.collection.Iterator.foreach(Iterator.scala:943)\n",
      "\tat scala.collection.Iterator.foreach$(Iterator.scala:943)\n",
      "\tat scala.collection.AbstractIterator.foreach(Iterator.scala:1431)\n",
      "\tat scala.collection.IterableLike.foreach(IterableLike.scala:74)\n",
      "\tat scala.collection.IterableLike.foreach$(IterableLike.scala:73)\n",
      "\tat scala.collection.AbstractIterable.foreach(Iterable.scala:56)\n",
      "\tat org.apache.spark.scheduler.local.LocalEndpoint.reviveOffers(LocalSchedulerBackend.scala:91)\n",
      "\tat org.apache.spark.scheduler.local.LocalEndpoint$$anonfun$receive$1.applyOrElse(LocalSchedulerBackend.scala:74)\n",
      "\tat org.apache.spark.rpc.netty.Inbox.$anonfun$process$1(Inbox.scala:115)\n",
      "\tat org.apache.spark.rpc.netty.Inbox.safelyCall(Inbox.scala:213)\n",
      "\tat org.apache.spark.rpc.netty.Inbox.process(Inbox.scala:100)\n",
      "\tat org.apache.spark.rpc.netty.MessageLoop.org$apache$spark$rpc$netty$MessageLoop$$receiveLoop(MessageLoop.scala:75)\n",
      "\tat org.apache.spark.rpc.netty.MessageLoop$$anon$1.run(MessageLoop.scala:41)\n",
      "\tat java.base/java.util.concurrent.ThreadPoolExecutor.runWorker(ThreadPoolExecutor.java:1128)\n",
      "\tat java.base/java.util.concurrent.ThreadPoolExecutor$Worker.run(ThreadPoolExecutor.java:628)\n",
      "\tat java.base/java.lang.Thread.run(Thread.java:829)\n",
      "23/04/18 18:17:40 ERROR TaskSchedulerImpl: Exception in statusUpdate\n",
      "java.util.concurrent.RejectedExecutionException: Task org.apache.spark.scheduler.TaskResultGetter$$anon$3@3d7259e7 rejected from java.util.concurrent.ThreadPoolExecutor@3698bf7e[Terminated, pool size = 0, active threads = 0, queued tasks = 0, completed tasks = 8272]\n",
      "\tat java.base/java.util.concurrent.ThreadPoolExecutor$AbortPolicy.rejectedExecution(ThreadPoolExecutor.java:2055)\n",
      "\tat java.base/java.util.concurrent.ThreadPoolExecutor.reject(ThreadPoolExecutor.java:825)\n",
      "\tat java.base/java.util.concurrent.ThreadPoolExecutor.execute(ThreadPoolExecutor.java:1355)\n",
      "\tat org.apache.spark.scheduler.TaskResultGetter.enqueueSuccessfulTask(TaskResultGetter.scala:61)\n",
      "\tat org.apache.spark.scheduler.TaskSchedulerImpl.liftedTree2$1(TaskSchedulerImpl.scala:819)\n",
      "\tat org.apache.spark.scheduler.TaskSchedulerImpl.statusUpdate(TaskSchedulerImpl.scala:794)\n",
      "\tat org.apache.spark.scheduler.local.LocalEndpoint$$anonfun$receive$1.applyOrElse(LocalSchedulerBackend.scala:71)\n",
      "\tat org.apache.spark.rpc.netty.Inbox.$anonfun$process$1(Inbox.scala:115)\n",
      "\tat org.apache.spark.rpc.netty.Inbox.safelyCall(Inbox.scala:213)\n",
      "\tat org.apache.spark.rpc.netty.Inbox.process(Inbox.scala:100)\n",
      "\tat org.apache.spark.rpc.netty.MessageLoop.org$apache$spark$rpc$netty$MessageLoop$$receiveLoop(MessageLoop.scala:75)\n",
      "\tat org.apache.spark.rpc.netty.MessageLoop$$anon$1.run(MessageLoop.scala:41)\n",
      "\tat java.base/java.util.concurrent.ThreadPoolExecutor.runWorker(ThreadPoolExecutor.java:1128)\n",
      "\tat java.base/java.util.concurrent.ThreadPoolExecutor$Worker.run(ThreadPoolExecutor.java:628)\n",
      "\tat java.base/java.lang.Thread.run(Thread.java:829)\n",
      "23/04/18 18:17:40 ERROR Inbox: Ignoring error\n",
      "java.util.concurrent.RejectedExecutionException: Task org.apache.spark.executor.Executor$TaskRunner@783b910b rejected from java.util.concurrent.ThreadPoolExecutor@2c683e12[Shutting down, pool size = 1, active threads = 1, queued tasks = 0, completed tasks = 8275]\n",
      "\tat java.base/java.util.concurrent.ThreadPoolExecutor$AbortPolicy.rejectedExecution(ThreadPoolExecutor.java:2055)\n",
      "\tat java.base/java.util.concurrent.ThreadPoolExecutor.reject(ThreadPoolExecutor.java:825)\n",
      "\tat java.base/java.util.concurrent.ThreadPoolExecutor.execute(ThreadPoolExecutor.java:1355)\n",
      "\tat org.apache.spark.executor.Executor.launchTask(Executor.scala:305)\n",
      "\tat org.apache.spark.scheduler.local.LocalEndpoint.$anonfun$reviveOffers$1(LocalSchedulerBackend.scala:93)\n",
      "\tat org.apache.spark.scheduler.local.LocalEndpoint.$anonfun$reviveOffers$1$adapted(LocalSchedulerBackend.scala:91)\n",
      "\tat scala.collection.Iterator.foreach(Iterator.scala:943)\n",
      "\tat scala.collection.Iterator.foreach$(Iterator.scala:943)\n",
      "\tat scala.collection.AbstractIterator.foreach(Iterator.scala:1431)\n",
      "\tat scala.collection.IterableLike.foreach(IterableLike.scala:74)\n",
      "\tat scala.collection.IterableLike.foreach$(IterableLike.scala:73)\n",
      "\tat scala.collection.AbstractIterable.foreach(Iterable.scala:56)\n",
      "\tat org.apache.spark.scheduler.local.LocalEndpoint.reviveOffers(LocalSchedulerBackend.scala:91)\n",
      "\tat org.apache.spark.scheduler.local.LocalEndpoint$$anonfun$receive$1.applyOrElse(LocalSchedulerBackend.scala:74)\n",
      "\tat org.apache.spark.rpc.netty.Inbox.$anonfun$process$1(Inbox.scala:115)\n",
      "\tat org.apache.spark.rpc.netty.Inbox.safelyCall(Inbox.scala:213)\n",
      "\tat org.apache.spark.rpc.netty.Inbox.process(Inbox.scala:100)\n",
      "\tat org.apache.spark.rpc.netty.MessageLoop.org$apache$spark$rpc$netty$MessageLoop$$receiveLoop(MessageLoop.scala:75)\n",
      "\tat org.apache.spark.rpc.netty.MessageLoop$$anon$1.run(MessageLoop.scala:41)\n",
      "\tat java.base/java.util.concurrent.ThreadPoolExecutor.runWorker(ThreadPoolExecutor.java:1128)\n",
      "\tat java.base/java.util.concurrent.ThreadPoolExecutor$Worker.run(ThreadPoolExecutor.java:628)\n",
      "\tat java.base/java.lang.Thread.run(Thread.java:829)\n",
      "23/04/18 18:17:40 ERROR Executor: Exception in task 294.0 in stage 61.0 (TID 8275): Python worker exited unexpectedly (crashed)\n"
     ]
    }
   ],
   "source": [
    "ssc.stop()"
   ]
  },
  {
   "cell_type": "code",
   "execution_count": null,
   "metadata": {},
   "outputs": [],
   "source": []
  },
  {
   "cell_type": "code",
   "execution_count": null,
   "metadata": {},
   "outputs": [],
   "source": []
  },
  {
   "cell_type": "markdown",
   "metadata": {},
   "source": [
    "<div style=\"font-size:26px;color:#F1F8FC;background-color:#0095EA;padding:10px;\">Exersice 3 - Kafka </div><br>\n",
    "Go through the assignment guide for Kafka (see the pdf file in the assignment package). Once you are done reviewing the guide, complete this section.\n"
   ]
  },
  {
   "cell_type": "markdown",
   "metadata": {},
   "source": [
    "<div style=\"font-size:20px;background-color:#0B6713;color:#F1E6E7;padding:10px;\">\n",
    "    To-Do Number 1:\n",
    "</div>"
   ]
  },
  {
   "cell_type": "markdown",
   "metadata": {},
   "source": [
    "- Create 2 more consumers by right-clicking on the Consumer class and running it as we did before. \n",
    "- Stop the producer and run it again. \n",
    "- **Do consumers share the messages? Explain why?**"
   ]
  },
  {
   "cell_type": "raw",
   "metadata": {},
   "source": [
    "Answer Here.\n",
    "\n",
    "The consumers does not share the messages.\n",
    "\n",
    "When we are running the three conusmers and one producer with one partition, then only one consumer will receive the messages sent by the producer, the consumer which recevies the message can be random out of the three.\n",
    "\n",
    "When you stop the producer and run it again, then any of the consumer is choosen to display all the messages."
   ]
  },
  {
   "cell_type": "raw",
   "metadata": {},
   "source": [
    "## Paste the modified Producer Class Here\n",
    "import org.apache.kafka.clients.producer.KafkaProducer;\n",
    "import org.apache.kafka.clients.producer.ProducerRecord;\n",
    "\n",
    "import java.util.Properties;\n",
    "import java.time.Instant;\n",
    "public class Producer {\n",
    "\n",
    "    public static void main(String[] args){\n",
    "        Properties properties = new Properties();\n",
    "        properties.put(\"bootstrap.servers\", \"localhost:9092\");\n",
    "        properties.put(\"key.serializer\", \"org.apache.kafka.common.serialization.StringSerializer\");\n",
    "        properties.put(\"value.serializer\", \"org.apache.kafka.common.serialization.StringSerializer\");\n",
    "\n",
    "        KafkaProducer<String, String> kafkaProducer = new KafkaProducer<String, String>(properties);\n",
    "        try{\n",
    "            long currentTimestamp;\n",
    "            for(int i = 0; i < 100; i++){\n",
    "                kafkaProducer.send(new ProducerRecord<String, String>(\"testtopic\", Integer.toString(i), \"test message - \" + i ));\n",
    "            }\n",
    "        }catch (Exception e){\n",
    "            e.printStackTrace();\n",
    "        }finally {\n",
    "            kafkaProducer.close();\n",
    "        }\n",
    "    }\n",
    "}"
   ]
  },
  {
   "cell_type": "raw",
   "metadata": {},
   "source": [
    "## Paste the modified Consumer Class Here\n",
    "\n",
    "import org.apache.kafka.clients.consumer.ConsumerRecord;\n",
    "import org.apache.kafka.clients.consumer.ConsumerRecords;\n",
    "import org.apache.kafka.clients.consumer.KafkaConsumer;\n",
    "\n",
    "import java.time.Instant;\n",
    "import java.util.ArrayList;\n",
    "import java.util.List;\n",
    "import java.util.Properties;\n",
    "import java.time.Instant;\n",
    "\n",
    "public class Consumer {\n",
    "\n",
    "    public static void main(String[] args) {\n",
    "        Properties properties = new Properties();\n",
    "        properties.put(\"bootstrap.servers\", \"localhost:9092\");\n",
    "        properties.put(\"key.deserializer\", \"org.apache.kafka.common.serialization.StringDeserializer\");\n",
    "        properties.put(\"value.deserializer\", \"org.apache.kafka.common.serialization.StringDeserializer\");\n",
    "        properties.put(\"group.id\", \"test-group\");\n",
    "\n",
    "        KafkaConsumer<String, String> kafkaConsumer = new KafkaConsumer<String, String>(properties);\n",
    "        List<String> topics = new ArrayList<String>();\n",
    "        topics.add(\"testtopic\");\n",
    "        kafkaConsumer.subscribe(topics);\n",
    "        long currentTimestamp;\n",
    "        try{\n",
    "            while (true){\n",
    "                ConsumerRecords<String, String> records = kafkaConsumer.poll(10);\n",
    "                for (ConsumerRecord<String, String> record: records){\n",
    "                    currentTimestamp = Instant.now().toEpochMilli();\n",
    "                    System.out.println(\"Key: \" + record.key());\n",
    "                    System.out.println(\"Value: Message # \" + record.value());\n",
    "                    System.out.println(\"Value: Timestamp: \" + currentTimestamp);\n",
    "                    System.out.println(\"Offset: \" + record.offset());\n",
    "                    System.out.println(\"Topic: \" + record.topic());\n",
    "                    System.out.println();\n",
    "                    System.out.println();\n",
    "                    System.out.println(\"-----------------------\");\n",
    "                }\n",
    "            }\n",
    "        }catch (Exception e){\n",
    "            System.out.println(e.getMessage());\n",
    "        }finally {\n",
    "            kafkaConsumer.close();\n",
    "        }\n",
    "    }\n",
    "}"
   ]
  },
  {
   "cell_type": "markdown",
   "metadata": {},
   "source": [
    "<div style=\"font-size:20px;background-color:#0B6713;color:#F1E6E7;padding:10px;\">\n",
    "    To-Do Number 2:\n",
    "</div>"
   ]
  },
  {
   "cell_type": "markdown",
   "metadata": {},
   "source": [
    "- Create a new topic (name it topicnew) with replication factor 1 and 3 partitions. \n",
    "- Modify the Consumer and Producer classes to read/send messages from/to the *topicnew* rather than the topictest.\n",
    "- Again, create 3 consumers (run the consumer class 3 times without stopping any of them) and run the producer. \n",
    "- **Do consumers share the messages? Explain why?**"
   ]
  },
  {
   "cell_type": "raw",
   "metadata": {},
   "source": [
    "Answer Here.\n",
    "\n",
    "Yes, the consumers will share the messages. \n",
    "In this case we will have 3 partitions where the message sent by the single producer will be displayed all the three consumers randomly. "
   ]
  },
  {
   "cell_type": "raw",
   "metadata": {},
   "source": [
    "## Paste the modified Producer Class Here\n",
    "import org.apache.kafka.clients.producer.KafkaProducer;\n",
    "import org.apache.kafka.clients.producer.ProducerRecord;\n",
    "\n",
    "import java.util.Properties;\n",
    "import java.time.Instant;\n",
    "public class Producer {\n",
    "\n",
    "    public static void main(String[] args){\n",
    "        Properties properties = new Properties();\n",
    "        properties.put(\"bootstrap.servers\", \"localhost:9092\");\n",
    "        properties.put(\"key.serializer\", \"org.apache.kafka.common.serialization.StringSerializer\");\n",
    "        properties.put(\"value.serializer\", \"org.apache.kafka.common.serialization.StringSerializer\");\n",
    "\n",
    "        KafkaProducer<String, String> kafkaProducer = new KafkaProducer<String, String>(properties);\n",
    "        try{\n",
    "            long currentTimestamp;\n",
    "            for(int i = 0; i < 100; i++){\n",
    "                kafkaProducer.send(new ProducerRecord<String, String>(\"topicnew\", Integer.toString(i), \"test message - \" + i ));\n",
    "            }\n",
    "        }catch (Exception e){\n",
    "            e.printStackTrace();\n",
    "        }finally {\n",
    "            kafkaProducer.close();\n",
    "        }\n",
    "    }\n",
    "}"
   ]
  },
  {
   "cell_type": "raw",
   "metadata": {},
   "source": [
    "## Paste the modified Consumer Class Here\n",
    "\n",
    "import org.apache.kafka.clients.consumer.ConsumerRecord;\n",
    "import org.apache.kafka.clients.consumer.ConsumerRecords;\n",
    "import org.apache.kafka.clients.consumer.KafkaConsumer;\n",
    "\n",
    "import java.time.Instant;\n",
    "import java.util.ArrayList;\n",
    "import java.util.List;\n",
    "import java.util.Properties;\n",
    "import java.time.Instant;\n",
    "\n",
    "public class Consumer {\n",
    "\n",
    "    public static void main(String[] args) {\n",
    "        Properties properties = new Properties();\n",
    "        properties.put(\"bootstrap.servers\", \"localhost:9092\");\n",
    "        properties.put(\"key.deserializer\", \"org.apache.kafka.common.serialization.StringDeserializer\");\n",
    "        properties.put(\"value.deserializer\", \"org.apache.kafka.common.serialization.StringDeserializer\");\n",
    "        properties.put(\"group.id\", \"test-group\");\n",
    "\n",
    "        KafkaConsumer<String, String> kafkaConsumer = new KafkaConsumer<String, String>(properties);\n",
    "        List<String> topics = new ArrayList<String>();\n",
    "        topics.add(\"topicnew\");\n",
    "        kafkaConsumer.subscribe(topics);\n",
    "        long currentTimestamp;\n",
    "        try{\n",
    "            while (true){\n",
    "                ConsumerRecords<String, String> records = kafkaConsumer.poll(10);\n",
    "                for (ConsumerRecord<String, String> record: records){\n",
    "                    currentTimestamp = Instant.now().toEpochMilli();\n",
    "                    System.out.println(\"Key: \" + record.key());\n",
    "                    System.out.println(\"Value: Message # \" + record.value());\n",
    "                    System.out.println(\"Value: Timestamp: \" + currentTimestamp);\n",
    "                    System.out.println(\"Offset: \" + record.offset());\n",
    "                    System.out.println(\"Topic: \" + record.topic());\n",
    "                    System.out.println();\n",
    "                    System.out.println();\n",
    "                    System.out.println(\"-----------------------\");\n",
    "                }\n",
    "            }\n",
    "        }catch (Exception e){\n",
    "            System.out.println(e.getMessage());\n",
    "        }finally {\n",
    "            kafkaConsumer.close();\n",
    "        }\n",
    "    }\n",
    "}"
   ]
  },
  {
   "cell_type": "markdown",
   "metadata": {},
   "source": [
    "<div style=\"font-size:20px;background-color:#0B6713;color:#F1E6E7;padding:10px;\">\n",
    "    To-Do Number 3:\n",
    "</div>"
   ]
  },
  {
   "cell_type": "markdown",
   "metadata": {},
   "source": [
    "- Kill one of the consumers and run the producer again. \n",
    "- **What will happen?**\n",
    "- **Do the two active consumers receive all 10 messages?**"
   ]
  },
  {
   "cell_type": "raw",
   "metadata": {},
   "source": [
    "Answer Here.\n",
    "\n",
    "When we kill one of the producer, the partitions that were previously assigned to that consumer by the kafka will be reassigned to the remaining two active consumers in the same consumer group. This process is also know as rebalancing process. "
   ]
  },
  {
   "cell_type": "raw",
   "metadata": {},
   "source": [
    "Answer Here.\n",
    "\n",
    "Yes, the two active consumers will get all the 10 messages sent by the producer."
   ]
  }
 ],
 "metadata": {
  "kernelspec": {
   "display_name": "Python 3 (ipykernel)",
   "language": "python",
   "name": "python3"
  },
  "language_info": {
   "codemirror_mode": {
    "name": "ipython",
    "version": 3
   },
   "file_extension": ".py",
   "mimetype": "text/x-python",
   "name": "python",
   "nbconvert_exporter": "python",
   "pygments_lexer": "ipython3",
   "version": "3.11.7"
  }
 },
 "nbformat": 4,
 "nbformat_minor": 4
}
