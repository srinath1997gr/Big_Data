{
 "cells": [
  {
   "cell_type": "markdown",
   "metadata": {},
   "source": [
    "<hr style=\"border-top: 5px solid purple; margin-top: 1px; margin-bottom: 1px\"></hr>"
   ]
  },
  {
   "cell_type": "markdown",
   "metadata": {},
   "source": [
    "# <span style=\"color:#3665af\">SECTION 1: Time Series Analysis </span>\n",
    "<hr>"
   ]
  },
  {
   "cell_type": "markdown",
   "metadata": {},
   "source": [
    "###### Goal\n",
    "This assignment covers the topic of time series analysis using TimescaleDB. Make sure you have\n",
    "your system fully configured before starting this assignment. Refer to the Assignment document to do so."
   ]
  },
  {
   "cell_type": "markdown",
   "metadata": {},
   "source": [
    "<div style=\"font-size:20px;color:#F1F8FC;background-color:#0095EA;padding:10px;\">Connect to PostgreSQL</div>"
   ]
  },
  {
   "cell_type": "markdown",
   "metadata": {},
   "source": [
    "This section includes a reminder of how to connect to PostgreSQL.<br>\n",
    "Open PostgreSQL and open the nyc_data database:\n",
    "\n",
    "```\n",
    "psql -U postgres -h localhost -d nyc_data\n",
    "```\n",
    "\n",
    "Then use the following command to see the list of tables:\n",
    "\n",
    "```\n",
    "\\dt\n",
    "```"
   ]
  },
  {
   "cell_type": "markdown",
   "metadata": {},
   "source": [
    "<img src=\"img/img1.png\" style=\"width:800px;\">"
   ]
  },
  {
   "cell_type": "markdown",
   "metadata": {},
   "source": [
    "Now use the following command to see the columns of rides table (you can press q for going back to the terminal):\n",
    "```\n",
    "\\d rides\n",
    "```"
   ]
  },
  {
   "cell_type": "markdown",
   "metadata": {},
   "source": [
    "<img src=\"img/img2.png\" style=\"width:600px;\">"
   ]
  },
  {
   "cell_type": "markdown",
   "metadata": {},
   "source": [
    "<div style=\"font-size:20px;color:#F1F8FC;background-color:#0095EA;padding:10px;\">Run and Study Query Examples</div>"
   ]
  },
  {
   "cell_type": "markdown",
   "metadata": {},
   "source": [
    "## Example 1\n",
    "\n",
    "Find the average fare of rides with 2+ passengers per day until '2016-01-08':"
   ]
  },
  {
   "cell_type": "markdown",
   "metadata": {},
   "source": [
    "```\n",
    "SELECT date_trunc('day', pickup_datetime) as day, avg(fare_amount)\n",
    "FROM rides\n",
    "WHERE passenger_count > 1 AND pickup_datetime < '2016-01-08'\n",
    "GROUP BY day\n",
    "ORDER BY day;\n",
    "```"
   ]
  },
  {
   "cell_type": "markdown",
   "metadata": {},
   "source": [
    "<img src=\"img/img3.png\" style=\"width:600px;\">"
   ]
  },
  {
   "cell_type": "markdown",
   "metadata": {},
   "source": [
    "## Example 2\n",
    "Total number of rides by day for first 5 days"
   ]
  },
  {
   "cell_type": "markdown",
   "metadata": {},
   "source": [
    "```\n",
    "SELECT date_trunc('day', pickup_datetime) as day, COUNT(*) FROM rides\n",
    "GROUP BY day\n",
    "ORDER BY day\n",
    "LIMIT 5;\n",
    "```"
   ]
  },
  {
   "cell_type": "markdown",
   "metadata": {},
   "source": [
    "<img src=\"img/img4.png\" style=\"width:600px;\">"
   ]
  },
  {
   "cell_type": "markdown",
   "metadata": {},
   "source": [
    "Note: The following query is not supported by PostgreSQL itself and time_bucket is provided by timescaledb."
   ]
  },
  {
   "cell_type": "markdown",
   "metadata": {},
   "source": [
    "## Example 3\n",
    "Find the number of rides by 5-minute intervals on 2016-01-01 using the TimescaleDB \"<i>time_bucket</i>\" function"
   ]
  },
  {
   "cell_type": "markdown",
   "metadata": {},
   "source": [
    "```\n",
    "SELECT time_bucket('5 minute', pickup_datetime) as five_min, count(*)\n",
    "FROM rides\n",
    "WHERE pickup_datetime < '2016-01-01 02:00'\n",
    "GROUP BY five_min\n",
    "ORDER BY five_min;\n",
    "```"
   ]
  },
  {
   "cell_type": "markdown",
   "metadata": {},
   "source": [
    "<img src=\"img/img5.png\" style=\"width:600px;\">"
   ]
  },
  {
   "cell_type": "markdown",
   "metadata": {},
   "source": [
    "## Example 4\n",
    "Analyze rides by rate type:"
   ]
  },
  {
   "cell_type": "markdown",
   "metadata": {},
   "source": [
    "```\n",
    "SELECT rate_code, COUNT(vendor_id) as num_trips FROM rides\n",
    "WHERE pickup_datetime < '2016-01-08'\n",
    "GROUP BY rate_code\n",
    "ORDER BY rate_code;\n",
    "```"
   ]
  },
  {
   "cell_type": "markdown",
   "metadata": {},
   "source": [
    "<img src=\"img/img6.png\" style=\"width:600px;\">"
   ]
  },
  {
   "cell_type": "markdown",
   "metadata": {},
   "source": [
    "<i>rate_code</i> doesn't really tell us what these groups represent, and it doesn't look like there is any other\n",
    "info on rates in the rides table. However, there is a separate rates table and TimescaleDB supports JOINs\n",
    "between tables:"
   ]
  },
  {
   "cell_type": "markdown",
   "metadata": {},
   "source": [
    "```\n",
    "SELECT rates.description, COUNT(vendor_id) as num_trips\n",
    "FROM rides JOIN rates on rides.rate_code = rates.rate_code\n",
    "WHERE pickup_datetime < '2016-01-08'\n",
    "GROUP BY rates.description ORDER BY rates.description;\n",
    "```"
   ]
  },
  {
   "cell_type": "markdown",
   "metadata": {},
   "source": [
    "<img src=\"img/img7.png\" style=\"width:600px;\">"
   ]
  },
  {
   "cell_type": "markdown",
   "metadata": {},
   "source": [
    "Now we have something that is human readable. In particular, two of these rate types correspond to local airports (JFK, Newark). Let's take a closer look at those two:"
   ]
  },
  {
   "cell_type": "markdown",
   "metadata": {},
   "source": [
    "```\n",
    "SELECT rates.description, COUNT(vendor_id) as num_trips,\n",
    "        AVG(dropoff_datetime - pickup_datetime) as avg_trip_duration,\n",
    "        AVG(total_amount) as avg_total,\n",
    "        AVG(tip_amount) as avg_tip, MIN(trip_distance) as min_distance,\n",
    "        AVG(trip_distance) as avg_distance, MAX(trip_distance) as\n",
    "        max_distance,\n",
    "        AVG(passenger_count) as avg_passengers\n",
    "FROM rides JOIN rates on rides.rate_code = rates.rate_code\n",
    "WHERE rides.rate_code in (2,3) AND pickup_datetime < '2016-02-01'\n",
    "GROUP BY rates.description\n",
    "ORDER BY rates.description;\n",
    "```"
   ]
  },
  {
   "cell_type": "markdown",
   "metadata": {},
   "source": [
    "<div style=\"font-size:30px;color:#3665af;background-color:#e1dfb1;padding:10px;\">Exercise - Write Queries</div>"
   ]
  },
  {
   "cell_type": "markdown",
   "metadata": {},
   "source": [
    "<div style=\"font-size:20px;color:#F1F8FC;background-color:#557aba;padding:10px;\">Query 1</div>\n"
   ]
  },
  {
   "cell_type": "markdown",
   "metadata": {},
   "source": [
    "Write a query to find the total number of rides, total distance, and total fare for each day and rate_code. Order the result based on day and then rate_code. Do you see any unexpected number(s) in the result suggesting inaccuracy in the dataset?\n",
    "\n",
    "Include your query and its result (copy and paste) into the text file. Do this for Q2 and Q3 as well. Output format should be as follows:"
   ]
  },
  {
   "cell_type": "markdown",
   "metadata": {},
   "source": [
    "<img src=\"img/img8.png\" style=\"width:600px;\">"
   ]
  },
  {
   "cell_type": "markdown",
   "metadata": {},
   "source": [
    "<i>Note that this result is computed over a different dataset. Your result would be different but should follow\n",
    "the same format</i>"
   ]
  },
  {
   "cell_type": "raw",
   "metadata": {},
   "source": [
    "** Write your query here **\n",
    "\n",
    "SELECT date_trunc('day', pickup_datetime) as day, rate_code,\n",
    "       COUNT(*) as num_rides,\n",
    "       SUM(trip_distance) as total_distance,\n",
    "       SUM(fare_amount) as total_fare\n",
    "FROM rides\n",
    "GROUP BY day, rate_code\n",
    "ORDER BY day, rate_code;\n",
    "\n",
    "\n",
    "output\n",
    "\n",
    "         day         | rate_code | num_rides | total_distance | total_fare \n",
    "---------------------+-----------+-----------+----------------+------------\n",
    " 2016-01-01 00:00:00 |         1 |    146749 |       424881.8 |  1712187.0\n",
    " 2016-01-01 00:00:00 |         2 |      2908 |        49985.9 |  150973.20\n",
    " 2016-01-01 00:00:00 |         3 |       326 |         5210.2 |    20100.0\n",
    " 2016-01-01 00:00:00 |         4 |        77 |         1267.8 |     4639.5\n",
    " 2016-01-01 00:00:00 |         5 |       704 |         3950.7 |   37528.87\n",
    " 2016-01-01 00:00:00 |         6 |         5 |           16.9 |     718.07\n",
    " 2016-01-01 00:00:00 |        99 |         5 |           16.6 |     516.64\n",
    " 2016-01-02 00:00:00 |         1 |    128219 |       330120.6 | 1407919.96\n",
    " 2016-01-02 00:00:00 |         2 |      3358 |        58474.5 |   174569.8\n",
    " 2016-01-02 00:00:00 |         3 |       336 |         5631.2 |    21637.5\n",
    " 2016-01-02 00:00:00 |         4 |        41 |          640.2 |     2460.0\n",
    " 2016-01-02 00:00:00 |         5 |       369 |         2676.2 |   19446.43\n",
    " 2016-01-02 00:00:00 |        99 |         4 |           36.7 |     147.05\n",
    " 2016-01-03 00:00:00 |         1 |    135955 |       383444.8 |  1535781.0\n",
    " 2016-01-03 00:00:00 |         2 |      4290 |        74086.2 |   222905.0\n",
    " 2016-01-03 00:00:00 |         3 |       371 |         5930.2 |    23254.5\n",
    " 2016-01-03 00:00:00 |         4 |        85 |         1438.3 |    5091.65\n",
    " 2016-01-03 00:00:00 |         5 |       518 |         3484.6 |   26147.34\n",
    " 2016-01-03 00:00:00 |         6 |         3 |            4.7 |        7.5\n",
    " 2016-01-03 00:00:00 |        99 |         1 |              0 |        8.3\n",
    " 2016-01-04 00:00:00 |         1 |    145228 |      8995628.6 | 1550750.63\n",
    " 2016-01-04 00:00:00 |         2 |      3907 |        67245.8 |     203164\n",
    " 2016-01-04 00:00:00 |         3 |       265 |         4024.8 |    15951.5\n",
    " 2016-01-04 00:00:00 |         4 |        83 |         1298.1 |     4611.0\n",
    " 2016-01-04 00:00:00 |         5 |       426 |         2938.2 |   21586.00\n",
    " 2016-01-04 00:00:00 |         6 |         3 |            0.5 |        8.5\n",
    " 2016-01-04 00:00:00 |        99 |         7 |            1.0 |     155.18\n",
    " 2016-01-05 00:00:00 |         1 |    157397 |      2062761.2 |  1697599.2\n",
    " 2016-01-05 00:00:00 |         2 |      3175 |        55005.5 |   164903.8\n",
    " 2016-01-05 00:00:00 |         3 |       223 |         3382.5 |    13512.0\n",
    " 2016-01-05 00:00:00 |         4 |        79 |         1343.0 |    4946.09\n",
    " 2016-01-05 00:00:00 |         5 |       418 |         2961.7 |   25313.27\n",
    " 2016-01-05 00:00:00 |         6 |         2 |              0 |        5.0\n",
    " 2016-01-05 00:00:00 |        99 |        12 |           15.5 |     280.20\n",
    " 2016-01-06 00:00:00 |         1 |    160025 |       386788.6 | 1746327.83\n",
    " 2016-01-06 00:00:00 |         2 |      2973 |        51232.3 |     154555\n",
    " 2016-01-06 00:00:00 |         3 |       210 |         3087.4 |    12353.5\n",
    " 2016-01-06 00:00:00 |         4 |        57 |          976.5 |     3479.5\n",
    " 2016-01-06 00:00:00 |         5 |       446 |         2670.3 |   20699.24\n",
    " 2016-01-06 00:00:00 |         6 |         2 |              0 |        8.0\n",
    " 2016-01-06 00:00:00 |        99 |         7 |            4.1 |       58.1\n",
    " 2016-01-07 00:00:00 |         1 |    141004 |       333106.7 | 1544280.85\n",
    " 2016-01-07 00:00:00 |         2 |      2487 |        42863.8 |     129324\n",
    " 2016-01-07 00:00:00 |         3 |       224 |         3550.9 |    13955.5\n",
    " 2016-01-07 00:00:00 |         4 |        47 |          827.4 |     3252.0\n",
    " 2016-01-07 00:00:00 |         5 |       327 |         1964.9 |   16909.70\n",
    " 2016-01-07 00:00:00 |        99 |         2 |           10.4 |         30\n",
    " 2016-01-08 00:00:00 |         1 |         9 |           10.6 |       60.5\n",
    " 2016-01-29 00:00:00 |         1 |      5105 |        11487.5 |    61429.0\n",
    " 2016-01-29 00:00:00 |         2 |        84 |         1479.9 |       4368\n",
    " 2016-01-29 00:00:00 |         3 |        10 |          201.3 |      756.5\n",
    " 2016-01-29 00:00:00 |         4 |         1 |            8.8 |         39\n",
    " 2016-01-29 00:00:00 |         5 |         7 |           97.6 |     528.62\n",
    "(53 rows)\n",
    "\n",
    "Yes, there are some unexpected tresultes in the above output. One of the inaccuracy is on 2016-01-04 for rate code 1 the total distance and total fare are not matching if you campare the same fields with others fields.\n",
    "Example - On 2016-01-04 and rate code 1, the total distance is very high 8995628.6 comapraed to others of same rate code and different codes but the total_fare is in and around others."
   ]
  },
  {
   "cell_type": "markdown",
   "metadata": {},
   "source": [
    "<div style=\"font-size:20px;color:#F1F8FC;background-color:#557aba;padding:10px;\">Query 2</div>"
   ]
  },
  {
   "cell_type": "markdown",
   "metadata": {},
   "source": [
    "Find the change in the number of rides for each rate_code/hour between 2016-01-01 and 2016-01-02.\n",
    "\n",
    "For example, if there are 10 rides for rate_code <font color='blue'>99</font> between <font color='orange'>2pm</font> and 3pm on 2016-01-01 and there are 5 rides for the same time and rate_code on 2016-01-02, the result must contain <font color='orange'>2</font>, <font color='blue'>99</font>, -5.\n"
   ]
  },
  {
   "cell_type": "markdown",
   "metadata": {},
   "source": [
    "You might find the following functions useful:\n",
    "- extract(field from timestamp) extracts hour from date\n",
    "    - extract(hour from timestamp '2001-02-16 20:38:40') returns 20\n",
    "- date(datetime) extracts date from datetime\n",
    "    - date('2001-02-16 20:38:40') = '2001-02-16'"
   ]
  },
  {
   "cell_type": "raw",
   "metadata": {},
   "source": [
    "** Write your query here **\n",
    "\n",
    "WITH rides_hourly AS (\n",
    "  SELECT rate_code, \n",
    "         date(pickup_datetime) as day,\n",
    "         extract(hour from pickup_datetime) as hour,\n",
    "         COUNT(*) as num_rides\n",
    "  FROM rides\n",
    "  WHERE pickup_datetime >= '2016-01-01' AND pickup_datetime < '2016-01-03'\n",
    "  GROUP BY rate_code, day, hour\n",
    ")\n",
    "SELECT r1.rate_code, r1.hour, (r2.num_rides - r1.num_rides) as change_in_rides\n",
    "FROM rides_hourly r1\n",
    "JOIN rides_hourly r2 ON r1.rate_code = r2.rate_code AND r1.hour = r2.hour\n",
    "WHERE r1.day = '2016-01-01' AND r2.day = '2016-01-02'\n",
    "ORDER BY r1.rate_code, r1.hour;\n",
    "\n",
    "\n",
    "output \n",
    "\n",
    "\n",
    " rate_code | hour | change_in_rides \n",
    "-----------+------+-----------------\n",
    "         1 |    0 |           -6859\n",
    "         1 |    1 |           -9370\n",
    "         1 |    2 |           -8749\n",
    "         1 |    3 |           -7238\n",
    "         1 |    4 |           -5031\n",
    "         1 |    5 |           -2365\n",
    "         1 |    6 |           -1020\n",
    "         1 |    7 |            -277\n",
    "         1 |    8 |             683\n",
    "         1 |    9 |            1672\n",
    "         1 |   10 |            1935\n",
    "         1 |   11 |            1678\n",
    "         1 |   12 |            1715\n",
    "         1 |   13 |            1348\n",
    "         1 |   14 |            1183\n",
    "         1 |   15 |            1540\n",
    "         1 |   16 |            1770\n",
    "         1 |   17 |            1953\n",
    "         1 |   18 |            2227\n",
    "         1 |   19 |            -191\n",
    "         1 |   20 |           -4028\n",
    "         1 |   21 |            2597\n",
    "         1 |   22 |            3047\n",
    "         1 |   23 |            3250\n",
    "         2 |    0 |              49\n",
    "         2 |    1 |              20\n",
    "         2 |    2 |              -3\n",
    "         2 |    3 |               2\n",
    "         2 |    4 |              13\n",
    "         2 |    5 |              35\n",
    "         2 |    6 |              74\n",
    "         2 |    7 |              78\n",
    "         2 |    8 |              46\n",
    "         2 |    9 |              19\n",
    "         2 |   10 |              43\n",
    "         2 |   11 |              22\n",
    "         2 |   12 |              21\n",
    "         2 |   13 |             -17\n",
    "         2 |   14 |              29\n",
    "         2 |   15 |              28\n",
    "         2 |   16 |              21\n",
    "         2 |   17 |              55\n",
    "         2 |   18 |              30\n",
    "         2 |   19 |             -45\n",
    "         2 |   20 |            -120\n",
    "         2 |   21 |              46\n",
    "         2 |   22 |             -27\n",
    "         2 |   23 |              31\n",
    "         3 |    0 |              -2\n",
    "         3 |    1 |               0\n",
    "         3 |    2 |               8\n",
    "         3 |    3 |               2\n",
    "         3 |    4 |              11\n",
    "         3 |    5 |              16\n",
    "         3 |    6 |               1\n",
    "         3 |    7 |              -4\n",
    "         3 |    8 |              -1\n",
    "         3 |    9 |               6\n",
    "         3 |   10 |              -7\n",
    "         3 |   11 |              -3\n",
    "         3 |   12 |              -7\n",
    "         3 |   13 |              -7\n",
    "         3 |   14 |             -15\n",
    "         3 |   15 |             -11\n",
    "         3 |   16 |              17\n",
    "         3 |   17 |              -1\n",
    "         3 |   18 |               6\n",
    "         3 |   19 |               0\n",
    "         3 |   20 |              -3\n",
    "         3 |   21 |               5\n",
    "         3 |   22 |               0\n",
    "         3 |   23 |              -1\n",
    "         4 |    1 |              -4\n",
    "         4 |    4 |              -2\n",
    "         4 |    5 |              -4\n",
    "         4 |    6 |               2\n",
    "         4 |    7 |               0\n",
    "         4 |    9 |              -1\n",
    "         4 |   10 |              -1\n",
    "         4 |   12 |              -2\n",
    "         4 |   13 |               0\n",
    "         4 |   14 |              -2\n",
    "         4 |   15 |              -1\n",
    "         4 |   16 |               1\n",
    "         4 |   17 |              -2\n",
    "         4 |   18 |              -1\n",
    "         4 |   19 |               0\n",
    "         4 |   21 |               0"
   ]
  },
  {
   "cell_type": "markdown",
   "metadata": {},
   "source": [
    "<div style=\"font-size:20px;color:#F1F8FC;background-color:#557aba;padding:10px;\">Query 3</div>"
   ]
  },
  {
   "cell_type": "markdown",
   "metadata": {},
   "source": [
    "Write a query to find the most expensive <i>rate_code (i.e., the highest avg(fare_amount))</i> for each hour of the day on 2016-01-01. The result should contain the date and hour (e.g., 2016-01-01 01:00:00), rate_code, and the average fare for that rate_code. Please note that <b>only</b> the most expensive rate code for each hour must be included in the result. For example, if rate_code 1 is the most expensive between 1pm and 2pm, other rate_codes must not appear in the result for 1-2pm."
   ]
  },
  {
   "cell_type": "raw",
   "metadata": {},
   "source": [
    "** Write your query here **\n",
    "\n",
    "WITH hourly_avg_fare AS (\n",
    "  SELECT\n",
    "    date_trunc('hour', pickup_datetime) AS hour,\n",
    "    rate_code,\n",
    "    AVG(fare_amount) as avg_fare\n",
    "  FROM rides\n",
    "  WHERE date(pickup_datetime) = '2016-01-01'\n",
    "  GROUP BY hour, rate_code\n",
    "),\n",
    "max_hourly_avg_fare AS (\n",
    "  SELECT\n",
    "    hour,\n",
    "    MAX(avg_fare) AS max_avg_fare\n",
    "  FROM hourly_avg_fare\n",
    "  GROUP BY hour\n",
    ")\n",
    "SELECT\n",
    "  haf.hour,\n",
    "  haf.rate_code,\n",
    "  haf.avg_fare\n",
    "FROM hourly_avg_fare haf\n",
    "JOIN max_hourly_avg_fare mhaf ON haf.hour = mhaf.hour AND haf.avg_fare = mhaf.max_avg_fare\n",
    "ORDER BY haf.hour;\n",
    "\n",
    "\n",
    "output\n",
    "\n",
    "\n",
    "        hour         | rate_code |       avg_fare       \n",
    "---------------------+-----------+----------------------\n",
    " 2016-01-01 00:00:00 |         4 |  56.8571428571428571\n",
    " 2016-01-01 01:00:00 |         6 | 655.3500000000000000\n",
    " 2016-01-01 02:00:00 |        99 | 104.5000000000000000\n",
    " 2016-01-01 03:00:00 |        99 | 225.3000000000000000\n",
    " 2016-01-01 04:00:00 |         5 |  69.8482075471698113\n",
    " 2016-01-01 05:00:00 |         3 |  67.2000000000000000\n",
    " 2016-01-01 06:00:00 |         4 |  91.0000000000000000\n",
    " 2016-01-01 07:00:00 |         4 |  71.6666666666666667\n",
    " 2016-01-01 08:00:00 |         3 |  55.5666666666666667\n",
    " 2016-01-01 09:00:00 |         3 |  68.0769230769230769\n",
    " 2016-01-01 10:00:00 |         3 |  59.9375000000000000\n",
    " 2016-01-01 11:00:00 |         4 |  73.7500000000000000\n",
    " 2016-01-01 12:00:00 |         3 |  61.4848484848484848\n",
    " 2016-01-01 13:00:00 |         4 |  84.0000000000000000\n",
    " 2016-01-01 14:00:00 |         3 |  66.7162162162162162\n",
    " 2016-01-01 15:00:00 |         3 |  65.1184210526315789\n",
    " 2016-01-01 16:00:00 |         3 |  58.0227272727272727\n",
    " 2016-01-01 17:00:00 |         4 |  85.7000000000000000\n",
    " 2016-01-01 18:00:00 |         3 |  64.3125000000000000\n",
    " 2016-01-01 19:00:00 |         2 |  52.0000000000000000\n",
    " 2016-01-01 20:00:00 |         4 |  56.0000000000000000\n",
    " 2016-01-01 21:00:00 |         4 | 104.0000000000000000\n",
    " 2016-01-01 22:00:00 |         4 |  71.0000000000000000\n",
    " 2016-01-01 23:00:00 |         4 | 193.0000000000000000\n",
    "(24 rows)\n"
   ]
  },
  {
   "cell_type": "markdown",
   "metadata": {},
   "source": [
    "<hr style=\"border-top: 5px solid purple; margin-top: 1px; margin-bottom: 1px\"></hr>"
   ]
  },
  {
   "cell_type": "markdown",
   "metadata": {},
   "source": [
    "<br>\n",
    "\n",
    "# <span style=\"color:#3665af\">SECTION 2: Big Graph Processing with GraphLab </span>\n",
    "<hr>\n",
    "\n",
    "###### Goal\n",
    "In this assignment, we will learn how to work with a graph-based distributed computation framework to read graph data and calculate graph properties including triangle counts connected components and PageRank.\n",
    "\n"
   ]
  },
  {
   "cell_type": "code",
   "execution_count": 1,
   "metadata": {},
   "outputs": [
    {
     "name": "stdout",
     "output_type": "stream",
     "text": [
      "Requirement already satisfied: turicreate in ./.local/lib/python3.8/site-packages (6.4.1)\n",
      "Requirement already satisfied: numpy in ./.local/lib/python3.8/site-packages (from turicreate) (1.24.2)\n",
      "Requirement already satisfied: six>=1.10.0 in /usr/lib/python3/dist-packages (from turicreate) (1.14.0)\n",
      "Requirement already satisfied: numba<0.51.0 in ./.local/lib/python3.8/site-packages (from turicreate) (0.50.1)\n",
      "Requirement already satisfied: scipy>=1.1.0 in ./.local/lib/python3.8/site-packages (from turicreate) (1.10.1)\n",
      "Requirement already satisfied: requests>=2.9.1 in /usr/lib/python3/dist-packages (from turicreate) (2.22.0)\n",
      "Requirement already satisfied: coremltools==4.0b3 in ./.local/lib/python3.8/site-packages (from turicreate) (4.0b3)\n",
      "Requirement already satisfied: prettytable==0.7.2 in ./.local/lib/python3.8/site-packages (from turicreate) (0.7.2)\n",
      "Requirement already satisfied: tensorflow>=2.0.0 in ./.local/lib/python3.8/site-packages (from turicreate) (2.12.0)\n",
      "Requirement already satisfied: pillow>=5.2.0 in /usr/lib/python3/dist-packages (from turicreate) (7.0.0)\n",
      "Requirement already satisfied: pandas>=0.23.2 in ./.local/lib/python3.8/site-packages (from turicreate) (2.0.0)\n",
      "Requirement already satisfied: resampy==0.2.1 in ./.local/lib/python3.8/site-packages (from turicreate) (0.2.1)\n",
      "Requirement already satisfied: decorator>=4.0.9 in ./.local/lib/python3.8/site-packages (from turicreate) (5.1.1)\n",
      "Requirement already satisfied: setuptools in /usr/lib/python3/dist-packages (from numba<0.51.0->turicreate) (45.2.0)\n",
      "Requirement already satisfied: llvmlite<0.34,>=0.33.0.dev0 in ./.local/lib/python3.8/site-packages (from numba<0.51.0->turicreate) (0.33.0)\n",
      "Requirement already satisfied: attr in ./.local/lib/python3.8/site-packages (from coremltools==4.0b3->turicreate) (0.3.2)\n",
      "Requirement already satisfied: protobuf>=3.1.0 in /usr/lib/python3/dist-packages (from coremltools==4.0b3->turicreate) (3.6.1)\n",
      "Requirement already satisfied: attrs in ./.local/lib/python3.8/site-packages (from coremltools==4.0b3->turicreate) (23.1.0)\n",
      "Requirement already satisfied: sympy in ./.local/lib/python3.8/site-packages (from coremltools==4.0b3->turicreate) (1.11.1)\n",
      "Requirement already satisfied: tqdm in ./.local/lib/python3.8/site-packages (from coremltools==4.0b3->turicreate) (4.65.0)\n",
      "Requirement already satisfied: typing-extensions>=3.6.6 in ./.local/lib/python3.8/site-packages (from tensorflow>=2.0.0->turicreate) (4.5.0)\n",
      "Requirement already satisfied: astunparse>=1.6.0 in ./.local/lib/python3.8/site-packages (from tensorflow>=2.0.0->turicreate) (1.6.3)\n",
      "Requirement already satisfied: opt-einsum>=2.3.2 in ./.local/lib/python3.8/site-packages (from tensorflow>=2.0.0->turicreate) (3.3.0)\n",
      "Requirement already satisfied: absl-py>=1.0.0 in ./.local/lib/python3.8/site-packages (from tensorflow>=2.0.0->turicreate) (1.4.0)\n",
      "Requirement already satisfied: packaging in ./.local/lib/python3.8/site-packages (from tensorflow>=2.0.0->turicreate) (23.1)\n",
      "Requirement already satisfied: tensorboard<2.13,>=2.12 in ./.local/lib/python3.8/site-packages (from tensorflow>=2.0.0->turicreate) (2.12.2)\n",
      "Requirement already satisfied: keras<2.13,>=2.12.0 in ./.local/lib/python3.8/site-packages (from tensorflow>=2.0.0->turicreate) (2.12.0)\n",
      "Requirement already satisfied: wrapt<1.15,>=1.11.0 in ./.local/lib/python3.8/site-packages (from tensorflow>=2.0.0->turicreate) (1.14.1)\n",
      "Requirement already satisfied: jax>=0.3.15 in ./.local/lib/python3.8/site-packages (from tensorflow>=2.0.0->turicreate) (0.4.8)\n",
      "Requirement already satisfied: gast<=0.4.0,>=0.2.1 in ./.local/lib/python3.8/site-packages (from tensorflow>=2.0.0->turicreate) (0.4.0)\n",
      "Requirement already satisfied: libclang>=13.0.0 in ./.local/lib/python3.8/site-packages (from tensorflow>=2.0.0->turicreate) (16.0.0)\n",
      "Requirement already satisfied: grpcio<2.0,>=1.24.3 in ./.local/lib/python3.8/site-packages (from tensorflow>=2.0.0->turicreate) (1.54.0)\n",
      "Requirement already satisfied: h5py>=2.9.0 in ./.local/lib/python3.8/site-packages (from tensorflow>=2.0.0->turicreate) (3.8.0)\n",
      "Requirement already satisfied: tensorflow-io-gcs-filesystem>=0.23.1; platform_machine != \"arm64\" or platform_system != \"Darwin\" in ./.local/lib/python3.8/site-packages (from tensorflow>=2.0.0->turicreate) (0.32.0)\n",
      "Requirement already satisfied: flatbuffers>=2.0 in ./.local/lib/python3.8/site-packages (from tensorflow>=2.0.0->turicreate) (23.3.3)\n",
      "Requirement already satisfied: tensorflow-estimator<2.13,>=2.12.0 in ./.local/lib/python3.8/site-packages (from tensorflow>=2.0.0->turicreate) (2.12.0)\n",
      "Requirement already satisfied: termcolor>=1.1.0 in ./.local/lib/python3.8/site-packages (from tensorflow>=2.0.0->turicreate) (2.2.0)\n",
      "Requirement already satisfied: google-pasta>=0.1.1 in ./.local/lib/python3.8/site-packages (from tensorflow>=2.0.0->turicreate) (0.2.0)\n",
      "Requirement already satisfied: pytz>=2020.1 in ./.local/lib/python3.8/site-packages (from pandas>=0.23.2->turicreate) (2023.3)\n",
      "Requirement already satisfied: tzdata>=2022.1 in ./.local/lib/python3.8/site-packages (from pandas>=0.23.2->turicreate) (2023.3)\n",
      "Requirement already satisfied: python-dateutil>=2.8.2 in ./.local/lib/python3.8/site-packages (from pandas>=0.23.2->turicreate) (2.8.2)\n",
      "Requirement already satisfied: mpmath>=0.19 in ./.local/lib/python3.8/site-packages (from sympy->coremltools==4.0b3->turicreate) (1.3.0)\n",
      "Requirement already satisfied: wheel<1.0,>=0.23.0 in /usr/lib/python3/dist-packages (from astunparse>=1.6.0->tensorflow>=2.0.0->turicreate) (0.34.2)\n",
      "Requirement already satisfied: tensorboard-plugin-wit>=1.6.0 in ./.local/lib/python3.8/site-packages (from tensorboard<2.13,>=2.12->tensorflow>=2.0.0->turicreate) (1.8.1)\n",
      "Requirement already satisfied: google-auth-oauthlib<1.1,>=0.5 in ./.local/lib/python3.8/site-packages (from tensorboard<2.13,>=2.12->tensorflow>=2.0.0->turicreate) (1.0.0)\n",
      "Requirement already satisfied: google-auth<3,>=1.6.3 in ./.local/lib/python3.8/site-packages (from tensorboard<2.13,>=2.12->tensorflow>=2.0.0->turicreate) (2.17.3)\n",
      "Requirement already satisfied: markdown>=2.6.8 in ./.local/lib/python3.8/site-packages (from tensorboard<2.13,>=2.12->tensorflow>=2.0.0->turicreate) (3.4.3)\n",
      "Requirement already satisfied: tensorboard-data-server<0.8.0,>=0.7.0 in ./.local/lib/python3.8/site-packages (from tensorboard<2.13,>=2.12->tensorflow>=2.0.0->turicreate) (0.7.0)\n",
      "Requirement already satisfied: werkzeug>=1.0.1 in ./.local/lib/python3.8/site-packages (from tensorboard<2.13,>=2.12->tensorflow>=2.0.0->turicreate) (2.2.3)\n",
      "Requirement already satisfied: ml-dtypes>=0.0.3 in ./.local/lib/python3.8/site-packages (from jax>=0.3.15->tensorflow>=2.0.0->turicreate) (0.1.0)\n",
      "Requirement already satisfied: requests-oauthlib>=0.7.0 in ./.local/lib/python3.8/site-packages (from google-auth-oauthlib<1.1,>=0.5->tensorboard<2.13,>=2.12->tensorflow>=2.0.0->turicreate) (1.3.1)\n",
      "Requirement already satisfied: rsa<5,>=3.1.4; python_version >= \"3.6\" in ./.local/lib/python3.8/site-packages (from google-auth<3,>=1.6.3->tensorboard<2.13,>=2.12->tensorflow>=2.0.0->turicreate) (4.9)\n",
      "Requirement already satisfied: pyasn1-modules>=0.2.1 in ./.local/lib/python3.8/site-packages (from google-auth<3,>=1.6.3->tensorboard<2.13,>=2.12->tensorflow>=2.0.0->turicreate) (0.3.0)\n",
      "Requirement already satisfied: cachetools<6.0,>=2.0.0 in ./.local/lib/python3.8/site-packages (from google-auth<3,>=1.6.3->tensorboard<2.13,>=2.12->tensorflow>=2.0.0->turicreate) (5.3.0)\n",
      "Requirement already satisfied: importlib-metadata>=4.4; python_version < \"3.10\" in ./.local/lib/python3.8/site-packages (from markdown>=2.6.8->tensorboard<2.13,>=2.12->tensorflow>=2.0.0->turicreate) (6.5.0)\n",
      "Requirement already satisfied: MarkupSafe>=2.1.1 in ./.local/lib/python3.8/site-packages (from werkzeug>=1.0.1->tensorboard<2.13,>=2.12->tensorflow>=2.0.0->turicreate) (2.1.2)\n",
      "Requirement already satisfied: oauthlib>=3.0.0 in /usr/lib/python3/dist-packages (from requests-oauthlib>=0.7.0->google-auth-oauthlib<1.1,>=0.5->tensorboard<2.13,>=2.12->tensorflow>=2.0.0->turicreate) (3.1.0)\n",
      "Requirement already satisfied: pyasn1>=0.1.3 in ./.local/lib/python3.8/site-packages (from rsa<5,>=3.1.4; python_version >= \"3.6\"->google-auth<3,>=1.6.3->tensorboard<2.13,>=2.12->tensorflow>=2.0.0->turicreate) (0.5.0)\n",
      "Requirement already satisfied: zipp>=0.5 in ./.local/lib/python3.8/site-packages (from importlib-metadata>=4.4; python_version < \"3.10\"->markdown>=2.6.8->tensorboard<2.13,>=2.12->tensorflow>=2.0.0->turicreate) (3.15.0)\r\n"
     ]
    }
   ],
   "source": [
    "#Please run this command to install turicreate\n",
    "!pip install turicreate"
   ]
  },
  {
   "cell_type": "code",
   "execution_count": 2,
   "metadata": {},
   "outputs": [],
   "source": [
    "import turicreate"
   ]
  },
  {
   "cell_type": "markdown",
   "metadata": {},
   "source": [
    "To facilitate graph-oriented data analysis, GraphLab offers an SGraph object, a scalable graph data structure backed by SFrames (https://turi.com/products/create/docs/generated/graphlab.SGraph.html).\n",
    "You will need to briefly read through https://apple.github.io/turicreate/docs/api/ to apply different functions for Section2\n",
    "\n"
   ]
  },
  {
   "cell_type": "markdown",
   "metadata": {},
   "source": [
    "First we create a graph. We can start with empty graph, then add vertices and edges in the form of lists of GraphLab."
   ]
  },
  {
   "cell_type": "code",
   "execution_count": 3,
   "metadata": {},
   "outputs": [
    {
     "name": "stdout",
     "output_type": "stream",
     "text": [
      "SGraph({'num_edges': 1, 'num_vertices': 3})\n"
     ]
    }
   ],
   "source": [
    "from turicreate import SGraph, Vertex, Edge\n",
    "g = SGraph()\n",
    "verts = [Vertex(0, attr={'breed': 'labrador'}),\n",
    "         Vertex(1, attr={'breed': 'Siberian Husky'}),\n",
    "         Vertex(2, attr={'breed': 'vizsla'})]\n",
    "g = g.add_vertices(verts)\n",
    "g = g.add_edges(Edge(1, 2))\n",
    "print(g)"
   ]
  },
  {
   "cell_type": "code",
   "execution_count": 4,
   "metadata": {},
   "outputs": [
    {
     "name": "stdout",
     "output_type": "stream",
     "text": [
      "{'num_edges': 1, 'num_vertices': 3}\n"
     ]
    }
   ],
   "source": [
    "#Inspecting SGraphs\n",
    "print(g.summary())"
   ]
  },
  {
   "cell_type": "markdown",
   "metadata": {},
   "source": [
    "Another way to create a graph is from an edge list stored in an SFrame\n",
    "https://apple.github.io/turicreate/docs/api/generated/turicreate.SFrame.html?highlight=sframe"
   ]
  },
  {
   "cell_type": "code",
   "execution_count": 6,
   "metadata": {},
   "outputs": [
    {
     "data": {
      "text/html": [
       "<pre>Finished parsing file /home/srinath/star-wars-network-edges.csv</pre>"
      ],
      "text/plain": [
       "Finished parsing file /home/srinath/star-wars-network-edges.csv"
      ]
     },
     "metadata": {},
     "output_type": "display_data"
    },
    {
     "name": "stdout",
     "output_type": "stream",
     "text": [
      "------------------------------------------------------\n",
      "Inferred types from first 100 line(s) of file as \n",
      "column_type_hints=[str,str,int]\n",
      "If parsing fails due to incorrect types, you can correct\n",
      "the inferred type list above and pass it to read_csv in\n",
      "the column_type_hints argument\n",
      "------------------------------------------------------\n"
     ]
    },
    {
     "data": {
      "text/html": [
       "<pre>Parsing completed. Parsed 60 lines in 0.129221 secs.</pre>"
      ],
      "text/plain": [
       "Parsing completed. Parsed 60 lines in 0.129221 secs."
      ]
     },
     "metadata": {},
     "output_type": "display_data"
    },
    {
     "data": {
      "text/html": [
       "<pre>Finished parsing file /home/srinath/star-wars-network-edges.csv</pre>"
      ],
      "text/plain": [
       "Finished parsing file /home/srinath/star-wars-network-edges.csv"
      ]
     },
     "metadata": {},
     "output_type": "display_data"
    },
    {
     "data": {
      "text/html": [
       "<pre>Parsing completed. Parsed 60 lines in 0.136262 secs.</pre>"
      ],
      "text/plain": [
       "Parsing completed. Parsed 60 lines in 0.136262 secs."
      ]
     },
     "metadata": {},
     "output_type": "display_data"
    },
    {
     "name": "stdout",
     "output_type": "stream",
     "text": [
      "SGraph({'num_edges': 60, 'num_vertices': 21})\n"
     ]
    }
   ],
   "source": [
    "from turicreate import SFrame\n",
    "edge_data = SFrame.read_csv(\n",
    "    'star-wars-network-edges.csv')\n",
    "\n",
    "g = SGraph()\n",
    "g = g.add_edges(edge_data, src_field='source', dst_field='target')\n",
    "print(g)"
   ]
  },
  {
   "cell_type": "markdown",
   "metadata": {},
   "source": [
    "Here we show how to save the SGraph in binary format to a new folder called \"star-wars-network-edges\" and re-load it with a different name:"
   ]
  },
  {
   "cell_type": "code",
   "execution_count": 9,
   "metadata": {},
   "outputs": [],
   "source": [
    "import turicreate as gl\n",
    "g.save('star-wars-network-edges')\n",
    "new_graph = gl.load_sgraph('star-wars-network-edges')"
   ]
  },
  {
   "cell_type": "markdown",
   "metadata": {},
   "source": [
    "***\n",
    "<div style=\"width:100%;\">\n",
    "    <div style=\"width:15%;float:left;font-size:20px;background-color:#557aba;color:#eff3f9;padding:6px;font-wight:bold;text-align:center;\">\n",
    "    Question 1\n",
    "    </div>\n",
    "    <div style=\"width:85%;float:right;font-size:16px;background-color:#dce4f2;font-wight:normal;color:black;padding:6px;\">\n",
    "    How many vertices and edges are in the graph? \n",
    "    </div>\n",
    "</div>"
   ]
  },
  {
   "cell_type": "code",
   "execution_count": 11,
   "metadata": {},
   "outputs": [
    {
     "name": "stdout",
     "output_type": "stream",
     "text": [
      "Number of vertices: 21\n",
      "Number of edges: 60\n"
     ]
    }
   ],
   "source": [
    "graph_summary = new_graph.summary()\n",
    "\n",
    "num_vertices = graph_summary[\"num_vertices\"]\n",
    "num_edges = graph_summary[\"num_edges\"]\n",
    "\n",
    "print(f\"Number of vertices: {num_vertices}\")\n",
    "print(f\"Number of edges: {num_edges}\")"
   ]
  },
  {
   "cell_type": "raw",
   "metadata": {},
   "source": [
    "## Place your answer Here\n",
    "The number of vertices = 21\n",
    "The number of edges = 60"
   ]
  },
  {
   "cell_type": "markdown",
   "metadata": {},
   "source": [
    "<div style=\"width:100%;\">\n",
    "    <div style=\"width:15%;float:left;font-size:20px;background-color:#557aba;color:#eff3f9;padding:6px;font-wight:bold;text-align:center;\">\n",
    "    Question 2\n",
    "    </div>\n",
    "    <div style=\"width:85%;float:right;font-size:16px;background-color:#dce4f2;font-wight:normal;color:black;padding:6px;\">\n",
    "    Which vertex has the highest degree? (highest number of edges).\n",
    "    </div>\n",
    "</div>"
   ]
  },
  {
   "cell_type": "code",
   "execution_count": 13,
   "metadata": {},
   "outputs": [
    {
     "name": "stdout",
     "output_type": "stream",
     "text": [
      "+------+--------+\n",
      "| __id | degree |\n",
      "+------+--------+\n",
      "| LUKE |   15   |\n",
      "+------+--------+\n",
      "[1 rows x 2 columns]\n",
      "\n"
     ]
    }
   ],
   "source": [
    "import turicreate as tc\n",
    "\n",
    "\n",
    "def count_degree(src, edge, dst):\n",
    "    src['degree'] += 1\n",
    "    dst['degree'] += 1\n",
    "    return (src, edge, dst)\n",
    "\n",
    "\n",
    "new_graph.vertices['degree'] = 0\n",
    "\n",
    "\n",
    "new_graph = new_graph.triple_apply(count_degree, mutated_fields=['degree'])\n",
    "\n",
    "\n",
    "highest_degree_vertex = new_graph.vertices.topk('degree', k=1)\n",
    "\n",
    "print(highest_degree_vertex)"
   ]
  },
  {
   "cell_type": "raw",
   "metadata": {},
   "source": [
    "## Place your answer Here\n",
    "The highest degree vertex is LUKE"
   ]
  },
  {
   "cell_type": "markdown",
   "metadata": {},
   "source": [
    "***\n",
    "For big graphs, we can print summary of statistics:"
   ]
  },
  {
   "cell_type": "code",
   "execution_count": 14,
   "metadata": {},
   "outputs": [
    {
     "name": "stdout",
     "output_type": "stream",
     "text": [
      "{'num_edges': 60, 'num_vertices': 21}\n"
     ]
    }
   ],
   "source": [
    "## Place your answer Here\n",
    "graph_summary = new_graph.summary()\n",
    "\n",
    "print(graph_summary)"
   ]
  },
  {
   "cell_type": "markdown",
   "metadata": {},
   "source": [
    "# Load graph data : Enron email network (edge indicated that email was exchanged, undirected edges)"
   ]
  },
  {
   "cell_type": "code",
   "execution_count": 15,
   "metadata": {},
   "outputs": [
    {
     "data": {
      "text/html": [
       "<pre>Downloading http://snap.stanford.edu/data/email-Enron.txt.gz to /var/tmp/turicreate-srinath/5477/a84c6251-22b1-412c-998d-d643fbfde46c.gz</pre>"
      ],
      "text/plain": [
       "Downloading http://snap.stanford.edu/data/email-Enron.txt.gz to /var/tmp/turicreate-srinath/5477/a84c6251-22b1-412c-998d-d643fbfde46c.gz"
      ]
     },
     "metadata": {},
     "output_type": "display_data"
    },
    {
     "data": {
      "text/html": [
       "<pre>Finished parsing file http://snap.stanford.edu/data/email-Enron.txt.gz</pre>"
      ],
      "text/plain": [
       "Finished parsing file http://snap.stanford.edu/data/email-Enron.txt.gz"
      ]
     },
     "metadata": {},
     "output_type": "display_data"
    },
    {
     "data": {
      "text/html": [
       "<pre>Parsing completed. Parsed 367662 lines in 0.193948 secs.</pre>"
      ],
      "text/plain": [
       "Parsing completed. Parsed 367662 lines in 0.193948 secs."
      ]
     },
     "metadata": {},
     "output_type": "display_data"
    }
   ],
   "source": [
    "g = gl.load_sgraph('http://snap.stanford.edu/data/email-Enron.txt.gz', 'snap')"
   ]
  },
  {
   "cell_type": "markdown",
   "metadata": {},
   "source": [
    "***\n",
    "<div style=\"width:100%;\">\n",
    "    <div style=\"width:15%;float:left;font-size:20px;background-color:#557aba;color:#eff3f9;padding:6px;font-wight:bold;text-align:center;\">\n",
    "    Question 3\n",
    "    </div>\n",
    "    <div style=\"width:85%;float:right;font-size:16px;background-color:#dce4f2;font-wight:normal;color:black;padding:6px;\">\n",
    "    Report number of vertices and edges.\n",
    "    </div>\n",
    "</div>"
   ]
  },
  {
   "cell_type": "code",
   "execution_count": 16,
   "metadata": {},
   "outputs": [
    {
     "name": "stdout",
     "output_type": "stream",
     "text": [
      "Number of vertices: 36692\n",
      "Number of edges: 367662\n"
     ]
    }
   ],
   "source": [
    "graph_summary = g.summary()\n",
    "\n",
    "num_vertices = graph_summary[\"num_vertices\"]\n",
    "num_edges = graph_summary[\"num_edges\"]\n",
    "\n",
    "print(f\"Number of vertices: {num_vertices}\")\n",
    "print(f\"Number of edges: {num_edges}\")"
   ]
  },
  {
   "cell_type": "raw",
   "metadata": {},
   "source": [
    "## Place your answer Here\n",
    "Number of vertices: 36692\n",
    "Number of edges: 367662"
   ]
  },
  {
   "cell_type": "markdown",
   "metadata": {},
   "source": [
    "<div style=\"width:100%;\">\n",
    "    <div style=\"width:15%;float:left;font-size:20px;background-color:#557aba;color:#eff3f9;padding:6px;font-wight:bold;text-align:center;\">\n",
    "    Question 4\n",
    "    </div>\n",
    "    <div style=\"width:85%;float:right;font-size:16px;background-color:#dce4f2;font-wight:normal;color:black;padding:6px;\">\n",
    "    Calculate PageRank for vertex 47.\n",
    "    </div>\n",
    "</div>"
   ]
  },
  {
   "cell_type": "code",
   "execution_count": 17,
   "metadata": {},
   "outputs": [
    {
     "data": {
      "text/html": [
       "<pre>Counting out degree</pre>"
      ],
      "text/plain": [
       "Counting out degree"
      ]
     },
     "metadata": {},
     "output_type": "display_data"
    },
    {
     "data": {
      "text/html": [
       "<pre>Done counting out degree</pre>"
      ],
      "text/plain": [
       "Done counting out degree"
      ]
     },
     "metadata": {},
     "output_type": "display_data"
    },
    {
     "data": {
      "text/html": [
       "<pre>+-----------+-----------------------+</pre>"
      ],
      "text/plain": [
       "+-----------+-----------------------+"
      ]
     },
     "metadata": {},
     "output_type": "display_data"
    },
    {
     "data": {
      "text/html": [
       "<pre>| Iteration | L1 change in pagerank |</pre>"
      ],
      "text/plain": [
       "| Iteration | L1 change in pagerank |"
      ]
     },
     "metadata": {},
     "output_type": "display_data"
    },
    {
     "data": {
      "text/html": [
       "<pre>+-----------+-----------------------+</pre>"
      ],
      "text/plain": [
       "+-----------+-----------------------+"
      ]
     },
     "metadata": {},
     "output_type": "display_data"
    },
    {
     "data": {
      "text/html": [
       "<pre>| 1         | 35792.5               |</pre>"
      ],
      "text/plain": [
       "| 1         | 35792.5               |"
      ]
     },
     "metadata": {},
     "output_type": "display_data"
    },
    {
     "data": {
      "text/html": [
       "<pre>| 2         | 18598.7               |</pre>"
      ],
      "text/plain": [
       "| 2         | 18598.7               |"
      ]
     },
     "metadata": {},
     "output_type": "display_data"
    },
    {
     "data": {
      "text/html": [
       "<pre>| 3         | 9357.91               |</pre>"
      ],
      "text/plain": [
       "| 3         | 9357.91               |"
      ]
     },
     "metadata": {},
     "output_type": "display_data"
    },
    {
     "data": {
      "text/html": [
       "<pre>| 4         | 5833.51               |</pre>"
      ],
      "text/plain": [
       "| 4         | 5833.51               |"
      ]
     },
     "metadata": {},
     "output_type": "display_data"
    },
    {
     "data": {
      "text/html": [
       "<pre>| 5         | 3647.85               |</pre>"
      ],
      "text/plain": [
       "| 5         | 3647.85               |"
      ]
     },
     "metadata": {},
     "output_type": "display_data"
    },
    {
     "data": {
      "text/html": [
       "<pre>| 6         | 2553.11               |</pre>"
      ],
      "text/plain": [
       "| 6         | 2553.11               |"
      ]
     },
     "metadata": {},
     "output_type": "display_data"
    },
    {
     "data": {
      "text/html": [
       "<pre>| 7         | 1798.21               |</pre>"
      ],
      "text/plain": [
       "| 7         | 1798.21               |"
      ]
     },
     "metadata": {},
     "output_type": "display_data"
    },
    {
     "data": {
      "text/html": [
       "<pre>| 8         | 1342.69               |</pre>"
      ],
      "text/plain": [
       "| 8         | 1342.69               |"
      ]
     },
     "metadata": {},
     "output_type": "display_data"
    },
    {
     "data": {
      "text/html": [
       "<pre>| 9         | 1004.34               |</pre>"
      ],
      "text/plain": [
       "| 9         | 1004.34               |"
      ]
     },
     "metadata": {},
     "output_type": "display_data"
    },
    {
     "data": {
      "text/html": [
       "<pre>| 10        | 774.803               |</pre>"
      ],
      "text/plain": [
       "| 10        | 774.803               |"
      ]
     },
     "metadata": {},
     "output_type": "display_data"
    },
    {
     "data": {
      "text/html": [
       "<pre>| 11        | 597.425               |</pre>"
      ],
      "text/plain": [
       "| 11        | 597.425               |"
      ]
     },
     "metadata": {},
     "output_type": "display_data"
    },
    {
     "data": {
      "text/html": [
       "<pre>| 12        | 468.773               |</pre>"
      ],
      "text/plain": [
       "| 12        | 468.773               |"
      ]
     },
     "metadata": {},
     "output_type": "display_data"
    },
    {
     "data": {
      "text/html": [
       "<pre>| 13        | 367.483               |</pre>"
      ],
      "text/plain": [
       "| 13        | 367.483               |"
      ]
     },
     "metadata": {},
     "output_type": "display_data"
    },
    {
     "data": {
      "text/html": [
       "<pre>| 14        | 291.14                |</pre>"
      ],
      "text/plain": [
       "| 14        | 291.14                |"
      ]
     },
     "metadata": {},
     "output_type": "display_data"
    },
    {
     "data": {
      "text/html": [
       "<pre>| 15        | 230.524               |</pre>"
      ],
      "text/plain": [
       "| 15        | 230.524               |"
      ]
     },
     "metadata": {},
     "output_type": "display_data"
    },
    {
     "data": {
      "text/html": [
       "<pre>| 16        | 183.778               |</pre>"
      ],
      "text/plain": [
       "| 16        | 183.778               |"
      ]
     },
     "metadata": {},
     "output_type": "display_data"
    },
    {
     "data": {
      "text/html": [
       "<pre>| 17        | 146.495               |</pre>"
      ],
      "text/plain": [
       "| 17        | 146.495               |"
      ]
     },
     "metadata": {},
     "output_type": "display_data"
    },
    {
     "data": {
      "text/html": [
       "<pre>| 18        | 117.314               |</pre>"
      ],
      "text/plain": [
       "| 18        | 117.314               |"
      ]
     },
     "metadata": {},
     "output_type": "display_data"
    },
    {
     "data": {
      "text/html": [
       "<pre>| 19        | 93.9822               |</pre>"
      ],
      "text/plain": [
       "| 19        | 93.9822               |"
      ]
     },
     "metadata": {},
     "output_type": "display_data"
    },
    {
     "data": {
      "text/html": [
       "<pre>| 20        | 75.5275               |</pre>"
      ],
      "text/plain": [
       "| 20        | 75.5275               |"
      ]
     },
     "metadata": {},
     "output_type": "display_data"
    },
    {
     "data": {
      "text/html": [
       "<pre>+-----------+-----------------------+</pre>"
      ],
      "text/plain": [
       "+-----------+-----------------------+"
      ]
     },
     "metadata": {},
     "output_type": "display_data"
    },
    {
     "name": "stdout",
     "output_type": "stream",
     "text": [
      "PageRank for vertex 47: 0.30524878179512493\n"
     ]
    }
   ],
   "source": [
    "import turicreate as tc\n",
    "\n",
    "page_rank_result = tc.pagerank.create(g)\n",
    "\n",
    "\n",
    "page_rank_sframe = page_rank_result['pagerank']\n",
    "\n",
    "\n",
    "vertex_47_pagerank = page_rank_sframe[page_rank_sframe['__id'] == 47]['pagerank'][0]\n",
    "\n",
    "print(f\"PageRank for vertex 47: {vertex_47_pagerank}\")"
   ]
  },
  {
   "cell_type": "raw",
   "metadata": {},
   "source": [
    "## Place your answer Here\n",
    "\n",
    "PageRank for vertex 47: 0.30524878179512493"
   ]
  },
  {
   "cell_type": "markdown",
   "metadata": {},
   "source": [
    "***"
   ]
  },
  {
   "cell_type": "markdown",
   "metadata": {},
   "source": [
    "***\n",
    "<div style=\"width:100%;\">\n",
    "    <div style=\"width:15%;float:left;font-size:20px;background-color:#557aba;color:#eff3f9;padding:6px;font-wight:bold;text-align:center;\">\n",
    "    Question 5\n",
    "    </div>\n",
    "    <div style=\"width:85%;float:right;font-size:16px;background-color:#dce4f2;font-wight:normal;color:black;padding:6px;\">\n",
    "    Calculate the number of triangles in the graph. \n",
    "    </div>\n",
    "</div>  (A triangle is a complete subgraph with only three vertices.) "
   ]
  },
  {
   "cell_type": "code",
   "execution_count": 19,
   "metadata": {},
   "outputs": [
    {
     "data": {
      "text/html": [
       "<pre>Initializing vertex ids.</pre>"
      ],
      "text/plain": [
       "Initializing vertex ids."
      ]
     },
     "metadata": {},
     "output_type": "display_data"
    },
    {
     "data": {
      "text/html": [
       "<pre>Removing duplicate (bidirectional) edges.</pre>"
      ],
      "text/plain": [
       "Removing duplicate (bidirectional) edges."
      ]
     },
     "metadata": {},
     "output_type": "display_data"
    },
    {
     "data": {
      "text/html": [
       "<pre>Counting triangles...</pre>"
      ],
      "text/plain": [
       "Counting triangles..."
      ]
     },
     "metadata": {},
     "output_type": "display_data"
    },
    {
     "data": {
      "text/html": [
       "<pre>Finished in 2.8884 secs.</pre>"
      ],
      "text/plain": [
       "Finished in 2.8884 secs."
      ]
     },
     "metadata": {},
     "output_type": "display_data"
    },
    {
     "data": {
      "text/html": [
       "<pre>Total triangles in the graph : 727044</pre>"
      ],
      "text/plain": [
       "Total triangles in the graph : 727044"
      ]
     },
     "metadata": {},
     "output_type": "display_data"
    },
    {
     "name": "stdout",
     "output_type": "stream",
     "text": [
      "Total number of triangles in the graph: 727044\n"
     ]
    }
   ],
   "source": [
    "\n",
    "import turicreate as tc\n",
    "\n",
    "\n",
    "triangle_count_result = tc.triangle_counting.create(g)\n",
    "\n",
    "\n",
    "total_triangles = triangle_count_result['triangle_count']['triangle_count'].sum() // 3\n",
    "\n",
    "\n",
    "print(f\"Total number of triangles in the graph: {total_triangles}\")\n"
   ]
  },
  {
   "cell_type": "raw",
   "metadata": {},
   "source": [
    " The number of triangles - 727044.\n"
   ]
  },
  {
   "cell_type": "markdown",
   "metadata": {},
   "source": [
    "***"
   ]
  },
  {
   "cell_type": "markdown",
   "metadata": {},
   "source": [
    "***\n",
    "<div style=\"width:100%;\">\n",
    "    <div style=\"width:15%;float:left;font-size:20px;background-color:#557aba;color:#eff3f9;padding:6px;font-wight:bold;text-align:center;\">\n",
    "    Question 6\n",
    "    </div>\n",
    "    <div style=\"width:85%;float:right;font-size:16px;background-color:#dce4f2;font-wight:normal;color:black;padding:6px;\">\n",
    "    Calculate the number of connected components in the graph. A connected component of an undirected graph is a subgraph in which any two vertices are connected to  each other by paths.\n",
    "    </div>\n",
    "</div>  "
   ]
  },
  {
   "cell_type": "markdown",
   "metadata": {},
   "source": [
    "Reference \n",
    "https://apple.github.io/turicreate/docs/api/generated/turicreate.connected_components.ConnectedComponentsModel.html\n"
   ]
  },
  {
   "cell_type": "code",
   "execution_count": 24,
   "metadata": {},
   "outputs": [
    {
     "data": {
      "text/html": [
       "<pre>+-----------------------------+</pre>"
      ],
      "text/plain": [
       "+-----------------------------+"
      ]
     },
     "metadata": {},
     "output_type": "display_data"
    },
    {
     "data": {
      "text/html": [
       "<pre>| Number of components merged |</pre>"
      ],
      "text/plain": [
       "| Number of components merged |"
      ]
     },
     "metadata": {},
     "output_type": "display_data"
    },
    {
     "data": {
      "text/html": [
       "<pre>+-----------------------------+</pre>"
      ],
      "text/plain": [
       "+-----------------------------+"
      ]
     },
     "metadata": {},
     "output_type": "display_data"
    },
    {
     "data": {
      "text/html": [
       "<pre>| 153903                      |</pre>"
      ],
      "text/plain": [
       "| 153903                      |"
      ]
     },
     "metadata": {},
     "output_type": "display_data"
    },
    {
     "data": {
      "text/html": [
       "<pre>| 0                           |</pre>"
      ],
      "text/plain": [
       "| 0                           |"
      ]
     },
     "metadata": {},
     "output_type": "display_data"
    },
    {
     "data": {
      "text/html": [
       "<pre>+-----------------------------+</pre>"
      ],
      "text/plain": [
       "+-----------------------------+"
      ]
     },
     "metadata": {},
     "output_type": "display_data"
    },
    {
     "name": "stdout",
     "output_type": "stream",
     "text": [
      "Number of connected components in the graph: 1065\n"
     ]
    }
   ],
   "source": [
    "import turicreate as tc\n",
    "\n",
    "connected_components_result = tc.connected_components.create(g)\n",
    "\n",
    "connected_components_sframe = connected_components_result['component_id']\n",
    "\n",
    "num_connected_components = len(connected_components_sframe['component_id'].unique())\n",
    "\n",
    "print(f\"Number of connected components in the graph: {num_connected_components}\")\n"
   ]
  },
  {
   "cell_type": "markdown",
   "metadata": {},
   "source": [
    "***"
   ]
  },
  {
   "cell_type": "markdown",
   "metadata": {},
   "source": [
    "***\n",
    "<div style=\"width:100%;\">\n",
    "    <div style=\"width:15%;float:left;font-size:20px;background-color:#557aba;color:#eff3f9;padding:6px;font-wight:bold;text-align:center;\">\n",
    "    Question 7\n",
    "    </div>\n",
    "    <div style=\"width:85%;float:right;font-size:16px;background-color:#dce4f2;font-wight:normal;color:black;padding:6px;\">\n",
    "    Write component id for vertex 47.\n",
    "    </div>\n",
    "</div> "
   ]
  },
  {
   "cell_type": "code",
   "execution_count": 26,
   "metadata": {},
   "outputs": [
    {
     "name": "stdout",
     "output_type": "stream",
     "text": [
      "Component ID for vertex 47: 20\n"
     ]
    }
   ],
   "source": [
    "## Place your answer Here\n",
    "\n",
    "vertex_47_component_id = connected_components_sframe[connected_components_sframe['__id'] == 47]['component_id'][0]\n",
    "\n",
    "print(f\"Component ID for vertex 47: {vertex_47_component_id}\")\n"
   ]
  },
  {
   "cell_type": "markdown",
   "metadata": {},
   "source": [
    "<hr style=\"border-top: 5px solid purple; margin-top: 1px; margin-bottom: 1px\"></hr>"
   ]
  },
  {
   "cell_type": "code",
   "execution_count": null,
   "metadata": {},
   "outputs": [],
   "source": []
  }
 ],
 "metadata": {
  "kernelspec": {
   "display_name": "Python 3 (ipykernel)",
   "language": "python",
   "name": "python3"
  },
  "language_info": {
   "codemirror_mode": {
    "name": "ipython",
    "version": 3
   },
   "file_extension": ".py",
   "mimetype": "text/x-python",
   "name": "python",
   "nbconvert_exporter": "python",
   "pygments_lexer": "ipython3",
   "version": "3.11.7"
  }
 },
 "nbformat": 4,
 "nbformat_minor": 4
}
