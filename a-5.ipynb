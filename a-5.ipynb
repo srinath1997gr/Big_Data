{
 "cells": [
  {
   "cell_type": "markdown",
   "id": "0f4843ca",
   "metadata": {},
   "source": [
    "<div style=\"font-size:30px;color:#3665af;background-color:#E9E9F5;padding:10px;\">1. Deploy a Dataproc Cluster </div>\n"
   ]
  },
  {
   "cell_type": "markdown",
   "id": "d25b994d",
   "metadata": {},
   "source": [
    "* <p>Set up a small cluster loaded with Spark.</p>\n",
    "* <p>Connect to it</p>"
   ]
  },
  {
   "cell_type": "markdown",
   "id": "7bd3c807",
   "metadata": {},
   "source": [
    "Follow these instructions to deploy a Spark Dataproc Cluster. An example run of the command line steps are shown at\n",
    "the bottom of this section. The symbol <span style=\"background-color: #fff0fa\">$</span> in the following instructions represent your command line prompt, and does\n",
    "not need to be copied."
   ]
  },
  {
   "cell_type": "markdown",
   "id": "f095b51a",
   "metadata": {},
   "source": [
    "<div style=\"font-size:20px;color:#F1F8FC;background-color:#0095EA;padding:10px;\">1.1 To create your Dataproc Cluster, do the following:</div>\n",
    "\n",
    "<p style=\"font-size:15px; \"> <b>1.</b> We are assuming you still have a Project in Google Cloud. If you don't, <a href=\"https://cloud.google.com/resource-manager/docs/creating-managing-projects\">create one</a>.</p>\n",
    "<p style=\"font-size:15px; \"> <b>2.</b> If you haven't yet, download and install <a href=\"https://cloud.google.com/sdk/\">Google Cloud SDK</a>.</p>\n",
    "\n",
    "<p style=\"font-size:15px; \"> <b>3.</b> If you haven't yet, authenticate your Google SDK with your Google Cloud account.</p>\n",
    "\n",
    "<p style=\"background-color: #f2f2f2; font-size:20px\">$ gcloud auth login</p>\n",
    "\n",
    "<p style=\"font-size:15px; \"> <b>4.</b> If you haven't yet, associate your Google SDK with your Google Cloud project that you just created, using it's project name.</p>\n",
    "\n",
    "<p style=\"background-color: #f2f2f2; font-size:20px\">$ gcloud config set project [project name]</p>\n",
    "\n",
    "<p style=\"font-size:15px; \"> <b>5.</b> Create a storage bucket. Name your bucket whatever you want.</p>\n",
    "\n",
    "<p style=\"background-color: #f2f2f2; font-size:20px\">$ gsutil mb -c regional -l us-west1 gs://[bucket name] </p>\n",
    "\n",
    "<p style=\"font-size:15px; \"> <b>6.</b> We want to copy a public data set from Google BigQuery. We can use the <span style=\"background-color: #fff0fa\">bq</span> utility for this. Again, replace\n",
    "[bucket name] with your bucket's name. Since this is a very large file (1.2GB), we will use the wildcard format (*),\n",
    "which allows BigQuery to export it as multiple files to our bucket.</p>\n",
    "\n",
    "<p style=\"background-color: #f2f2f2; font-size:20px\">$ bq extract 'bigquery-public-data:chicago_crime.crime' 'gs://[bucket name]/crime-*.csv'</p>\n",
    "\n",
    "<p style=\"font-size:15px; \"> <b>7.</b> We will be requesting 3 workers with 2 cores per worker, so we can demonstrate the speedup of distribution. Ideally we'd want to use more cores to really see the speedup, but we're limited by the quotas set during the Google Cloud trial. \n",
    "Dataproc has a variety of initialization scripts that you can choose from. We will be using their Miniconda installation script, which\n",
    "will provide us with Python 3 PySpark (Python 3 is selected via the MINICONDA_VARIANT metadata argument)</p>\n",
    "\n"
   ]
  },
  {
   "cell_type": "markdown",
   "id": "ee718fc5",
   "metadata": {},
   "source": [
    "<p style=\"background-color: #f2f2f2; font-size:20px\">gcloud dataproc clusters create [cluster-name] \\    <br>\n",
    "&emsp;&emsp;--project '[project-name]' \\<br>\n",
    "&emsp;&emsp;--bucket '[bucket-name]' \\<br>\n",
    "&emsp;&emsp;--metadata \"MINICONDA_VARIANT=3\" \\<br>\n",
    "&emsp;&emsp;--num-workers 3 \\<br>\n",
    "&emsp;&emsp;--properties spark:spark.executorEnv.PYTHONHASHSEED=0,spark:spark.yarn.am.memory=1024m \\<br>\n",
    "&emsp;&emsp;--worker-machine-type=n1-standard-2 \\<br>\n",
    "&emsp;&emsp;--master-machine-type=n1-standard-2 \\<br>\n",
    "&emsp;&emsp;--region us-west1 \\<br>\n",
    "&emsp;&emsp;--master-boot-disk-size=200GB \\<br>\n",
    "&emsp;&emsp;--worker-boot-disk-size=200GB \n",
    "</p>"
   ]
  },
  {
   "cell_type": "markdown",
   "id": "8a65e3ca",
   "metadata": {},
   "source": [
    "This may take a few minutes to complete. If you get an error about exceeding your CPUs quota, make sure your REDIS instaces aren't still running (you can check under Computer Engine > VM Instances in the sidebar).\n",
    "\n",
    "<p style=\"font-size:15px; \"> <b>8.</b> Connect via SSH to the master node</p>\n",
    "\n",
    "* <p>Go to <a href=\"https://console.cloud.google.com/\">Google Cloud Console</a> </p>\n",
    "* <p>Click Compute Engine > VM Instances . You should see something like this:</p>\n",
    "\n",
    "![title](jupyter_connection.png \"Picture\")\n"
   ]
  },
  {
   "cell_type": "markdown",
   "id": "59039404",
   "metadata": {},
   "source": [
    "* Your master node has your [cluster-name] followed by an <span style=\"background-color: #fff0fa\">-m</span> . Click on the button labelled <span style=\"background-color: #fff0fa\">SSH</span> for your master\n",
    "node, under the \"Connect\" column. This will load a terminal."
   ]
  },
  {
   "cell_type": "markdown",
   "id": "59ff1a6c",
   "metadata": {},
   "source": [
    "<p style=\"font-size:15px; \"> <b>9.</b> Once your terminal fully loads, install numpy, then run a Python Spark REPL (command in the cell below) from the command line of the master\n",
    "node. The following command requests that PySpark is issued 16 cores from Yarn, which is the cluster manager\n",
    "used in Dataproc clusters.</p>"
   ]
  },
  {
   "cell_type": "markdown",
   "id": "c4e8ec96",
   "metadata": {},
   "source": [
    "<div class=\"alert alert-block alert-warning\">\n",
    "<b>NOTE: </b> Do not attempt this until your previous step has terminated.         \n",
    "</div>"
   ]
  },
  {
   "cell_type": "raw",
   "id": "0a75e758",
   "metadata": {},
   "source": [
    "# ssh terminal for the master node\n",
    "$ pyspark --master yarn --num-executors 3 --executor-cores 2 "
   ]
  },
  {
   "cell_type": "markdown",
   "id": "40caacb0",
   "metadata": {},
   "source": [
    "You're In!"
   ]
  },
  {
   "cell_type": "markdown",
   "id": "7ec4d928",
   "metadata": {},
   "source": [
    "<span style=\"font-size:35px\">Example:</span>"
   ]
  },
  {
   "cell_type": "raw",
   "id": "c87e5cab",
   "metadata": {},
   "source": [
    "# step 3\n",
    "$ glcoud auth login\n",
    "# This will open a link in your browser and ask for access to your google cloud porject.\n",
    "\n",
    "# step 4\n",
    "$ gcloud config set project big-data-course-197521\n",
    "\n",
    "# step 5\n",
    "$ gsutil mb -c regional -l us-west1 gs://my-bucket-20180406\n",
    "\n",
    "# step 6\n",
    "$ bq extract 'bigquery-public-data:chicago_crime.crime' 'gs://my-bucket-20180406/crime-*.csv'\n",
    "\n",
    "# step 7\n",
    "$ gcloud dataproc clusters create 'dataproc-20180406' \\\n",
    "--bucket 'my-bucket-20180406' \\\n",
    "--metadata \"MINICONDA_VARIANT=3\" \\\n",
    "--num-workers 3 \\\n",
    "--properties\n",
    "spark:spark.executorEnv.PYTHONHASHSEED=0,spark:spark.yarn.am.memory=1024m \\\n",
    "--worker-machine-type=n1-standard-2 \\\n",
    "--master-machine-type=n1-standard-2 \\\n",
    "--region us-west1 \\\n",
    "--master-boot-disk-size=200GB \\\n",
    "--worker-boot-disk-size=200GB\n",
    "\n",
    "# step 8 - within the terminal window for your master node\n",
    "$ pyspark --master yarn --num-executors 3 --executor-cores 2\n",
    "\n",
    ">>> # PySpark is running with 3x2 = 6 cores"
   ]
  },
  {
   "cell_type": "markdown",
   "id": "bf41f1ac",
   "metadata": {},
   "source": [
    "<hr style=\"border-top: 5px solid purple; margin-top: 1px; margin-bottom: 1px\"></hr>"
   ]
  },
  {
   "cell_type": "markdown",
   "id": "f61e14d5",
   "metadata": {},
   "source": [
    "<div style=\"font-size:30px;color:#3665af;background-color:#e1dfb1;padding:10px;\">Exercise </div>"
   ]
  },
  {
   "cell_type": "markdown",
   "id": "5ccfe9d2",
   "metadata": {},
   "source": [
    "<div style=\"font-size:30px;color:#3665af;background-color:#E9E9F5;padding:10px;\"> 2. Cluster Analysis of Crime Data</div>\n",
    "\n",
    "We have a large set of crime data from the city of Chicago, Illinois. We have been asked by the city to find the optimal\n",
    "placement of police stations based on this data, so that they can more quickly respond to violent crime. In order to\n",
    "achieve this, we will use the [K-Means](https://en.wikipedia.org/wiki/K-means_clustering) algorithm, to find the geographic centroids for some number of data clusters. Meanwhile you will also: \n",
    "\n",
    "- set up a k-means clustering algorithm using Spark\n",
    "- observe the runtime\n",
    "- observe the silhouette coeffienct value for different clusters\n",
    "- find a good k value"
   ]
  },
  {
   "cell_type": "markdown",
   "id": "8e933cf1",
   "metadata": {},
   "source": [
    "<div class=\"alert alert-block alert-warning\">\n",
    "<b>IMPORTANT</b> Use the seed value 0 for every KMeans algorithm you create. Example:\n",
    "        \n",
    "    Kmeans(seed = 0)\n",
    "\n",
    "</div>"
   ]
  },
  {
   "cell_type": "markdown",
   "id": "d1e8c4a7",
   "metadata": {},
   "source": [
    "<div style=\"font-size:20px;color:#F1F8FC;background-color:#0095EA;padding:10px;\">2.1 Setup</div>"
   ]
  },
  {
   "cell_type": "markdown",
   "id": "560d5c50",
   "metadata": {},
   "source": [
    "<div class=\"alert alert-block alert-success\">\n",
    "\n",
    "#### The following code can be pasted into your PySpark [REPL](https://en.wikipedia.org/wiki/Read%E2%80%93eval%E2%80%93print_loop), which appears as a python prompt >>> :\n",
    "\n",
    "```\n",
    "# library dependencies\n",
    "from datetime import datetime\n",
    "from pyspark.ml.linalg import Vectors\n",
    "from pyspark.ml.clustering import KMeans\n",
    "from pyspark.ml.feature import VectorAssembler\n",
    "```\n",
    "\n",
    "#### Substitute your [bucket name] and paste in this line:\n",
    "\n",
    "```\n",
    "data_url = \"gs://[bucket name]/crime-*.csv\"\n",
    "```\n",
    "\n",
    "#### These lines will load in your data that we copied from BigQuery:\n",
    "\n",
    "```\n",
    "# read in our csv as a Spark DataFrame\n",
    "raw_data = (\n",
    "spark\n",
    ".read\n",
    ".option(\"header\", \"true\") # the first line is used to create meaningful column names\n",
    ".option(\"inferschema\", \"true\") # infer the data types in each column\n",
    ".option(\"mode\", \"DROPMALFORMED\") # remove rows with values that are illegal\n",
    ".csv(data_url) # the wildcard-embedded URL pattern to use\n",
    ")#\n",
    "# One liner\n",
    "raw_data = (spark.read.option(\"header\", \"true\").option(\"inferschema\", \"true\").option(\"mode\", \"DROPMALFORMED\").csv(data_url))   \n",
    "#remove two outliers at position (0,0) - you're welcome! ;-)\n",
    "raw_data = raw_data.where((raw_data.x_coordinate != 0) | (raw_data.y_coordinate != 0))\n",
    "```\n",
    "    \n",
    "</div>"
   ]
  },
  {
   "cell_type": "markdown",
   "id": "064cfa04",
   "metadata": {},
   "source": [
    "<div style=\"font-size:20px;color:#F1F8FC;background-color:#0095EA;padding:10px;\">2.2 Create a Feature Column</div>"
   ]
  },
  {
   "cell_type": "markdown",
   "id": "d3c32987",
   "metadata": {},
   "source": [
    "<div class=\"alert alert-block alert-success\">\n",
    "    \n",
    "Spark requires us to collect our features into a single column. It supports many forms of [feature extraction](https://spark.apache.org/docs/latest/ml-features), for different data types and different algorithms. We will use a VectorAssembler to assemble our columns x_coordinate and y_coordinate into a 2D array on a new column named features.\n",
    "\n",
    "#### Create a feature column\n",
    "```\n",
    "# use pyspark.ml.feature.VectorAssembler() to create a feature column\n",
    "```\n",
    "    \n",
    "</div>"
   ]
  },
  {
   "cell_type": "raw",
   "id": "4a2b9282",
   "metadata": {},
   "source": [
    "## Place your code here\n",
    "\n",
    "from pyspark.ml.linalg import Vectors\n",
    "from pyspark.ml.feature import VectorAssembler\n",
    "\n",
    "assembler=  VectorAssembler( inputCols=[ \"x_coordinate\", \"y_coordinate\"], outputCol=\"features\")\n",
    "\n",
    "output= assembler.transform(raw_data) \n",
    "output.select(\"features\").show(truncate=False)\n",
    "\n",
    "\n",
    "## The output obtained is:\n",
    "+---------------------+                                                         \n",
    "|features             |\n",
    "+---------------------+\n",
    "|[1179795.0,1834569.0]|\n",
    "|[1177249.0,1835331.0]|\n",
    "|[1178141.0,1834245.0]|\n",
    "|[1177846.0,1836675.0]|\n",
    "|[1175837.0,1834300.0]|\n",
    "|[1178106.0,1835436.0]|\n",
    "|[1182951.0,1836828.0]|\n",
    "|[1177576.0,1836668.0]|\n",
    "|[1179299.0,1834096.0]|\n",
    "|[1184238.0,1836191.0]|\n",
    "|[1178459.0,1834463.0]|\n",
    "|[1176385.0,1833981.0]|\n",
    "|[1183417.0,1836085.0]|\n",
    "|[1176828.0,1834573.0]|\n",
    "|[1183749.0,1835984.0]|\n",
    "|[1176774.0,1836565.0]|\n",
    "|[1181783.0,1834986.0]|\n",
    "|[1177808.0,1834497.0]|\n",
    "|[1181402.0,1836611.0]|\n",
    "|[1178638.0,1836367.0]|\n",
    "+---------------------+\n",
    "only showing top 20 rows\n"
   ]
  },
  {
   "cell_type": "markdown",
   "id": "df1f93c1",
   "metadata": {},
   "source": [
    "<div style=\"font-size:20px;color:#F1F8FC;background-color:#0095EA;padding:10px;\">2.3 A test of K-Means</div>"
   ]
  },
  {
   "cell_type": "markdown",
   "id": "5cbb2acd",
   "metadata": {},
   "source": [
    "<div class=\"alert alert-block alert-success\">\n",
    "\n",
    "We can run Apache Spark's built-in [KMeans](https://spark.apache.org/docs/2.2.0/api/python/pyspark.mllib.html#pyspark.mllib.clustering.KMeans) algorithm to attempt to find any finite number of clusters. <b> Run a K-Means model with k=2 </b>. See the [documentation](http://spark.apache.org/docs/2.2.0/ml-clustering.html) for clustering in Apache Spark for an example. Again, please set your seed value to 0.\n",
    "    \n",
    "#### Show the cluster centers and wssse value below\n",
    "    \n",
    "</div>"
   ]
  },
  {
   "cell_type": "raw",
   "id": "90c75516",
   "metadata": {},
   "source": [
    "## Place your code and output here\n",
    "\n",
    "from pyspark.ml.clustering import KMeans\n",
    "from pyspark.ml.evaluation import ClusteringEvaluator\n",
    "\n",
    "kmeans = KMeans(k=2, seed=0) \n",
    "model= kmeans.fit(output)\n",
    "\n",
    "predictions= model.transform(output)\n",
    "\n",
    "centers= model.clusterCenters() \n",
    "print(\"Cluster Centers:\")\n",
    "for center in centers:\n",
    "    print(center)\n",
    "\n",
    "evaluator= ClusteringEvaluator() \n",
    "wssse = evaluator.evaluate(predictions) \n",
    "print(\"wssse - \" + wssse)\n",
    "\n",
    "\n",
    "## The output obtained is:\n",
    "Cluster Centers:\n",
    "[1156258.20523717 1911348.68653606]\n",
    "[1174251.97797544 1856376.8393929 ]\n",
    "wssse -0.7584027893996029\n"
   ]
  },
  {
   "cell_type": "markdown",
   "id": "eee5f1b3",
   "metadata": {},
   "source": [
    "<div style=\"font-size:20px;color:#F1F8FC;background-color:#0095EA;padding:10px;\">2.4 Exporting k with respect to runtime</div>"
   ]
  },
  {
   "cell_type": "markdown",
   "id": "ec939c8b",
   "metadata": {},
   "source": [
    "<div class=\"alert alert-block alert-success\">\n",
    "    \n",
    "As k increases, we increase the work required to train our model. We should expect the duration of model training to increase. How does running this on a compute cluster compare to running it on our own computer?\n",
    "\n",
    "<b>Run K-Means with k={2,102,202,302,402}. Run each k value a couple of times and average the result. Capture the runtime by surrounding only the model training code with calls to datetime.now()</b>. \n",
    "\n",
    "    Note: It may save you time to wrap your model in a for loop, iterating over a range() of k values.\n",
    "\n",
    "Here are time values for training at different k values on a local deployment of Apache Spark on a Quad Core i7 with 16GB RAM:\n",
    "\n",
    "</div>\n",
    "    \n",
    "| k | local runtime |\n",
    "| :-: | :-: |\n",
    "| 2 | 0:00:32.240732 |\n",
    "| 102 | 0:01:32.956807 |\n",
    "| 202 | 0:02:19.142536 |\n",
    "| 302 | 0:02:53.870777 |\n",
    "| 402 | 0:03:23.362213 |\n",
    "    \n"
   ]
  },
  {
   "cell_type": "markdown",
   "id": "b2e2ace4",
   "metadata": {},
   "source": [
    "<div class=\"alert alert-block alert-success\">\n",
    "    \n",
    "#### What runtimes did you observe for these values of k?\n",
    "    \n",
    "</div>"
   ]
  },
  {
   "cell_type": "raw",
   "id": "3bc294ef",
   "metadata": {},
   "source": [
    "## Place your code and output here\n",
    "\n",
    "from pyspark.ml.clustering import KMeans\n",
    "from pyspark.ml.evaluation import ClusteringEvaluator\n",
    "from datetime import datetime\n",
    "\t\n",
    "k_values = [2, 102, 202, 302, 402]\n",
    "for k in k_values:\n",
    "    total_runtime = 0.0\n",
    "    total_wssse = 0.0\n",
    "    num = 2\n",
    "    for i in range(num):        \n",
    "        start_time = datetime.now()\n",
    "        kmeans = KMeans(k=k, seed=0)\n",
    "        model = kmeans.fit(output)\n",
    "        end_time = datetime.now()\n",
    "        runtime = (end_time - start_time).total_seconds()\n",
    "        total_runtime += runtime\n",
    "        predictions = model.transform(output)\n",
    "        evaluator = ClusteringEvaluator()\n",
    "        wssse_1 = evaluator.evaluate(predictions)\n",
    "        total_wssse += wssse_1\n",
    "    avg_runtime = total_runtime / 2\n",
    "    avg_wssse = total_wssse / 2\n",
    "    print(f\"Avgerage runtime for k={k}: {avg_runtime} seconds\")\n",
    "    print(f\"Avgverage WSSSE for k={k}: {avg_wssse}\")\n",
    "    \n",
    "    \n",
    "    \n",
    "## The output obtained is:\n",
    "\n",
    "Avgerage runtime for k=2: 64.4277855 seconds                                    \n",
    "Avgverage WSSSE for k=2: 0.7584027893994371\n",
    "Avgerage runtime for k=102: 89.5685285 seconds                                  \n",
    "Avgverage WSSSE for k=102: 0.5392284707688696\n",
    "Avgerage runtime for k=202: 94.7059425 seconds                                  \n",
    "Avgverage WSSSE for k=202: 0.5266751426125835\n",
    "Avgerage runtime for k=302: 107.05844400000001 seconds                          \n",
    "Avgverage WSSSE for k=302: 0.5224924983907635\n",
    "Avgerage runtime for k=402: 167.0928975 seconds                                 \n",
    "Avgverage WSSSE for k=402: 0.5285289837653933\n"
   ]
  },
  {
   "cell_type": "markdown",
   "id": "00275ef8",
   "metadata": {},
   "source": [
    "<div class=\"alert alert-block alert-success\">\n",
    "\n",
    "<b>Informally describe the speedup you observed in this experiment</b>, with respect to\n",
    "the degree of parallelism, compared to the runtimes on the Quad Core i7. for example:\n",
    "\"speed improved on average by 8x when we increased the number of cores by 4x.\"\n",
    "    \n",
    "</div>"
   ]
  },
  {
   "cell_type": "raw",
   "id": "c4e4d5c9",
   "metadata": {},
   "source": [
    "## Place your description here\n",
    "When you are comapring the runtime of your system and the given values from quad core i7, we can infer that training time is decreasing as the K value  is increasing. K value means increasing the number of clusters to compute the same overload. In the above program we are measuring the running times from  k = 2 to 402 which has resulted in increase in speed of the execution due to high level of paralleslism in the higher value of K. FRom the output obtained above we can the speed of the operation by approximately 3x when we increased the number of cores by 4x when running my system. However this values may vary depending the on the systems."
   ]
  },
  {
   "cell_type": "markdown",
   "id": "f3f71706",
   "metadata": {},
   "source": [
    "<div style=\"font-size:20px;color:#F1F8FC;background-color:#0095EA;padding:10px;\">2.5 Solving the Problem</div>"
   ]
  },
  {
   "cell_type": "markdown",
   "id": "4098a8b9",
   "metadata": {},
   "source": [
    "<div class=\"alert alert-block alert-success\">\n",
    "\n",
    "Our approach is fine, but there is a flaw. We have not truly addressed the problem that was posed to us. The Chicago Police requested that we find ideal locations to help them respond to violent crime. How can we address this? Consider the [Illinois IUCR Categories for violent crime](https://home.chicagopolice.org/statistics-data/statistical-reports/), and filter our dataset to more appropriately address violent crime.\n",
    "    \n",
    "</div>"
   ]
  },
  {
   "cell_type": "markdown",
   "id": "a0e89e4f",
   "metadata": {},
   "source": [
    "<div class=\"alert alert-block alert-success\">\n",
    "    \n",
    "#### How did you choose to represent \"violent crime\"?\n",
    "    \n",
    "</div>"
   ]
  },
  {
   "cell_type": "raw",
   "id": "3c135d5f",
   "metadata": {},
   "source": [
    "## Place your description and code here\n",
    "\n",
    "## In the above program we were considering all the crimes, but now onwards we will considering the violent crimes according to ## the Illinois IUCR Categories for violent crime from the dataset which is given to us. The Illinois ICUR categories for        ## violent crime has classified which and all are violent crimes, based on the that in the program I have find out the unique    ## crimes present on the dataset and extracted violent crimes values data for future computations or execution. This is can be   ## seen on the below code. The violent crimes extracyted here are: Homicide, CRIM SEXUAL ASSAULT, ASSAULT and BATTERY.\n",
    " \n",
    "from pyspark.ml.linalg import Vectors\n",
    "from pyspark.ml.feature import VectorAssembler\n",
    "\n",
    "## The unique crimes in the dataset \n",
    "unique_primary_types = raw_data.select(\"Primary_Type\").distinct() \n",
    "unique_primary_types.show()\n",
    "\n",
    "outputl = raw_data.where((raw_data.primary_type == 'Homicide') | (raw_data.primary_type == 'CRIM SEXUAL ASSAULT') |(raw_data.primary_type == 'ASSAULT') | (raw_data.primary_type == 'BATTERY'))\n",
    "\n",
    "assembler = VectorAssembler( inputCols=[ \"x_coordinate\", \"y_coordinate\"], outputCol=\"features\")\n",
    "\n",
    "output2 = assembler.transform(outputl) \n",
    "output2.select(\"features\").show(truncate=False)\n",
    "\n",
    "\n",
    "\n",
    "## Output obtained is:\n",
    "\n",
    "## All the crimes in the dataset\n",
    "+--------------------+                                                          \n",
    "|        Primary_Type|\n",
    "+--------------------+\n",
    "|OFFENSE INVOLVING...|\n",
    "|CRIMINAL SEXUAL A...|\n",
    "|            STALKING|\n",
    "|PUBLIC PEACE VIOL...|\n",
    "|           OBSCENITY|\n",
    "|               ARSON|\n",
    "|NON-CRIMINAL (SUB...|\n",
    "|   DOMESTIC VIOLENCE|\n",
    "|            GAMBLING|\n",
    "|   CRIMINAL TRESPASS|\n",
    "|             ASSAULT|\n",
    "|      NON - CRIMINAL|\n",
    "|LIQUOR LAW VIOLATION|\n",
    "| MOTOR VEHICLE THEFT|\n",
    "|               THEFT|\n",
    "|             BATTERY|\n",
    "|             ROBBERY|\n",
    "|            HOMICIDE|\n",
    "|    PUBLIC INDECENCY|\n",
    "|           RITUALISM|\n",
    "+--------------------+\n",
    "only showing top 20 rows\n",
    "\n",
    "\n",
    "+---------------------+\n",
    "|features             |\n",
    "+---------------------+\n",
    "|[1179299.0,1834096.0]|\n",
    "|[1184238.0,1836191.0]|\n",
    "|[1178459.0,1834463.0]|\n",
    "|[1176385.0,1833981.0]|\n",
    "|[1183417.0,1836085.0]|\n",
    "|[1176828.0,1834573.0]|\n",
    "|[1183749.0,1835984.0]|\n",
    "|[1176774.0,1836565.0]|\n",
    "|[1181783.0,1834986.0]|\n",
    "|[1182361.0,1834642.0]|\n",
    "|[1177042.0,1833997.0]|\n",
    "|[1175890.0,1836626.0]|\n",
    "|[1176792.0,1835901.0]|\n",
    "|[1183450.0,1835033.0]|\n",
    "|[1178141.0,1834249.0]|\n",
    "|[1184238.0,1836191.0]|\n",
    "|[1183594.0,1835507.0]|\n",
    "|[1176774.0,1836565.0]|\n",
    "|[1176498.0,1834316.0]|\n",
    "|[1183408.0,1836404.0]|\n",
    "+---------------------+\n",
    "only showing top 20 rows\n"
   ]
  },
  {
   "cell_type": "markdown",
   "id": "06da7663",
   "metadata": {},
   "source": [
    "<div class=\"alert alert-block alert-success\">\n",
    "    \n",
    "#### What is the resulting size of our training set?\n",
    "    \n",
    "</div>"
   ]
  },
  {
   "cell_type": "raw",
   "id": "8d1348c5",
   "metadata": {},
   "source": [
    "## Place your output here\n",
    "\n",
    "outputl.count()\n",
    "\n",
    "## Output obtained is:\n",
    "1943881 \n"
   ]
  },
  {
   "cell_type": "markdown",
   "id": "578c10fb",
   "metadata": {},
   "source": [
    "<div style=\"font-size:20px;color:#F1F8FC;background-color:#0095EA;padding:10px;\">2.6 Finding a good value for k</div>"
   ]
  },
  {
   "cell_type": "markdown",
   "id": "5bc6d399",
   "metadata": {},
   "source": [
    "<div class=\"alert alert-block alert-success\">\n",
    "\n",
    "We can evaluate our Spark KMeans algorithm using a method called the silhouette method. From the [documentation](https://spark.apache.org/docs/latest/ml-clustering.html), the optimal k is usually one where there is an efficient silhouette coefficient value in the silhouette graph, where silhouette value is the output of evaluate(). Let's try exploring these silhouette coefficient values and see if we can find the best silhouette coefficient for different clusters. You can think of it visually as a range of values between [-1,1] where a high value indicates that the object is well matched to its own cluster and poorly matched to neighboring clusters. If most objects have a high value, then the clustering configuration is appropriate. <br>(https://scikit-learn.org/stable/auto_examples/cluster/plot_kmeans_silhouette_analysis.html) <br><br>\n",
    "\n",
    "To do this, capture the silhouette coefficient value for many successive values of k. You will have to explore to find a meaningful range for these k values. For each value, run KMeans() and fit() it, print() and visualize both k and silhouette coefficient values for each model. Use matplotlib to plot your output. Make sure to save your plot to a file, you'll need to transer this image from the DataProc cluster and submit it with your assignment. \n",
    "    \n",
    "</div>"
   ]
  },
  {
   "cell_type": "markdown",
   "id": "ccc5adfa",
   "metadata": {},
   "source": [
    "<div class=\"alert alert-block alert-success\">\n",
    "    \n",
    "#### What is the optimal k value that you have selected?\n",
    "    \n",
    "</div>"
   ]
  },
  {
   "cell_type": "raw",
   "id": "a6e881e3",
   "metadata": {},
   "source": [
    "## Place your code and output here\n",
    "\n",
    "import matplotlib.pyplot as plt\n",
    "from pyspark.ml.evaluation import ClusteringEvaluator \n",
    "\n",
    "k_values = range(2, 15)\n",
    "silhouette_scores=[]\n",
    "\n",
    "for k in k_values:\n",
    "    kmeans = KMeans(k=k, seed=0) \n",
    "    model= kmeans.fit(output2)\n",
    "    predictions= model.transform(output2) \n",
    "    evaluator= ClusteringEvaluator()\n",
    "    silhouette_score = evaluator.evaluate(predictions) \n",
    "    silhouette_scores.append(silhouette_score)\n",
    "    print(\"For k = {}, silhouette score= {}\".format(k, silhouette_score))\n",
    "\n",
    "plt.plot( k_values, silhouette_scores, 'bx-') \n",
    "plt.xlabel('k')\n",
    "plt.ylabel('Silhouette Score') \n",
    "plt.title('Silhouette Analysis vs KMeans') \n",
    "plt.savefig('silhouette_graph.png') \n",
    "plt.show()\n",
    "\n",
    "optimal_k = k_values[silhouette_scores.index(max(silhouette_scores))] \n",
    "print(f\"Optimal K: {optimal_k}\")\n",
    "\n",
    "\n",
    "## The output obtained is: \n",
    "\n",
    "For k = 2, silhouette score= 0.7702881455203331                                 \n",
    "For k = 3, silhouette score= 0.5844331703415084                                 \n",
    "For k = 4, silhouette score= 0.5206337284210234                                 \n",
    "For k = 5, silhouette score= 0.5421720204233162                                 \n",
    "For k = 6, silhouette score= 0.5434435234726557                                 \n",
    "For k = 7, silhouette score= 0.5611330106505781                                 \n",
    "For k = 8, silhouette score= 0.5457370571950959                                 \n",
    "For k = 9, silhouette score= 0.5523313247664056                                 \n",
    "For k = 10, silhouette score= 0.5483615358215022                                \n",
    "For k = 11, silhouette score= 0.5590669547754068                                \n",
    "For k = 12, silhouette score= 0.52932911563538                                  \n",
    "For k = 13, silhouette score= 0.5471762044813807                                \n",
    "For k = 14, silhouette score= 0.5345623910512725    \n",
    "Optimal K: 2\n"
   ]
  },
  {
   "cell_type": "markdown",
   "id": "63a824d7",
   "metadata": {},
   "source": [
    "<div class=\"alert alert-block alert-success\">\n",
    "    \n",
    "#### Please provide the cluster centers that you have found for your model with your chosen k.\n",
    "    \n",
    "</div>"
   ]
  },
  {
   "cell_type": "raw",
   "id": "03081837",
   "metadata": {},
   "source": [
    "## Place your results here\n",
    "\n",
    "from pyspark.ml.clustering import KMeans\n",
    "from pyspark.ml.evaluation import ClusteringEvaluator\n",
    "\n",
    "kmeans = KMeans(k=2, seed=0) \n",
    "model= kmeans.fit(output2)\n",
    "\n",
    "predictions= model.transform(output2)\n",
    "centers= model.clusterCenters() \n",
    "print(\"Cluster Centers:\")\n",
    "for center in centers:\n",
    "    print(center)\n",
    "\n",
    "## The output obtained is:\n",
    "\n",
    "[1154721.90296622 1910396.91825216]\n",
    "[1175172.72131887 1855862.59742184]"
   ]
  },
  {
   "cell_type": "markdown",
   "id": "0ca3aea2",
   "metadata": {},
   "source": [
    "<div class=\"alert alert-block alert-success\">\n",
    "        \n",
    "#### Please include your silhouette coefficient value plot.\n",
    "    \n",
    "</div>"
   ]
  },
  {
   "cell_type": "code",
   "execution_count": 1,
   "id": "c826a2cb",
   "metadata": {},
   "outputs": [
    {
     "data": {
      "image/png": "[encoded data removed]",
      "text/plain": [
       "<IPython.core.display.Image object>"
      ]
     },
     "execution_count": 1,
     "metadata": {},
     "output_type": "execute_result"
    }
   ],
   "source": [
    "## Include your plot with your submission on Canvas, and list the file name you used here. \n",
    "## You can use the \"Download File\" button in the Google Cloud SSH window to download your plot. \n",
    "\n",
    "from IPython.display import Image\n",
    "Image(filename='silhouette_graph.png')\n"
   ]
  },
  {
   "cell_type": "markdown",
   "id": "4d590f6f",
   "metadata": {},
   "source": [
    "<div class=\"alert alert-block alert-success\">\n",
    "    \n",
    "#### Be sure to share your new knowledge with any friends you have in Chicago.\n",
    "    \n",
    "</div>"
   ]
  },
  {
   "cell_type": "markdown",
   "id": "5027a35b",
   "metadata": {},
   "source": [
    "<div style=\"font-size:20px;color:#F1F8FC;background-color:#0095EA;padding:10px;\">2.7 Plot your cluster centers</div>"
   ]
  },
  {
   "cell_type": "markdown",
   "id": "689a4498",
   "metadata": {},
   "source": [
    "Export the cluster centers from your final model, and plot them in a scatter plot using Jupyter and matplotlib."
   ]
  },
  {
   "cell_type": "raw",
   "id": "0a30403c",
   "metadata": {},
   "source": [
    "## Place your code here.\n",
    "\n",
    "import pandas as pd\n",
    "from pyspark.sql import SparkSession\n",
    "import matplotlib.pyplot as plt\n",
    "\n",
    "df = pd.DataFrame(centers, columns=['X', 'Y'])\n",
    "\n",
    "\n",
    "## The below 3 lines are used to export the cluster values to the bucket. \n",
    "spark = SparkSession.builder.appName('clusters_output').getOrCreate()\n",
    "centers_dataframe = spark.createDataFrame(df)\n",
    "centers_dataframe.write.format(\"csv\").save(\"gs://assignment4-bucket/final_clusters\")\n",
    "\n",
    "data_url1 = \"gs://assignment4-bucket/final_clusters/part-00000-4796ce6e-367a-48fc-8c5e-49ca820084aa-c000.csv\"\n",
    "data_url2 = \"gs://assignment4-bucket/final_clusters/part-00001-4796ce6e-367a-48fc-8c5e-49ca820084aa-c000.csv\"\n",
    "\n",
    "data1 = spark.read.csv(data_url1, inferSchema=True)\n",
    "data1 = spark.read.csv(data_url2, inferSchema=True)\n",
    "\n",
    "data = data1.union(data2)\n",
    "\n",
    "df_rdd = data.rdd\n",
    "cluster_data = df_rdd.collect()\n",
    "\n",
    "x_coords = [center[0] for center in cluster_data]\n",
    "y_coords = [center[1] for center in cluster_data]\n",
    "\n",
    "\n",
    "plt.scatter(x_coords, y_coords, marker='x', s=200, linewidths=3, color='r')\n",
    "plt.title(\"Cluster Centers\")\n",
    "plt.xlabel(\"X Coordinate\")\n",
    "plt.ylabel(\"Y Coordinate\")\n",
    "plt.savefig('final_model_graph.png')\n",
    "plt.show()"
   ]
  },
  {
   "cell_type": "code",
   "execution_count": 2,
   "id": "fe847d4c",
   "metadata": {},
   "outputs": [
    {
     "data": {
      "image/png": "[encoded data removed]",
      "text/plain": [
       "<IPython.core.display.Image object>"
      ]
     },
     "execution_count": 2,
     "metadata": {},
     "output_type": "execute_result"
    }
   ],
   "source": [
    "from IPython.display import Image\n",
    "Image(filename='final_plot.png')"
   ]
  },
  {
   "cell_type": "raw",
   "id": "471d5957",
   "metadata": {},
   "source": [
    "## Include your plot with your submission on Canvas, and list the file name you used here. \n",
    "## You can use the \"Download File\" button in the Google Cloud SSH window to download your plot. \n",
    "\n",
    "## Description\n",
    "\n",
    "I have attached the exported files from the above code and both plots generated in the assignment under assignment 5 folder. "
   ]
  },
  {
   "cell_type": "markdown",
   "id": "08cecb33",
   "metadata": {},
   "source": [
    "<hr style=\"border-top: 5px solid purple; margin-top: 1px; margin-bottom: 1px\"></hr>"
   ]
  }
 ],
 "metadata": {
  "kernelspec": {
   "display_name": "Python 3 (ipykernel)",
   "language": "python",
   "name": "python3"
  },
  "language_info": {
   "codemirror_mode": {
    "name": "ipython",
    "version": 3
   },
   "file_extension": ".py",
   "mimetype": "text/x-python",
   "name": "python",
   "nbconvert_exporter": "python",
   "pygments_lexer": "ipython3",
   "version": "3.11.7"
  }
 },
 "nbformat": 4,
 "nbformat_minor": 5
}
